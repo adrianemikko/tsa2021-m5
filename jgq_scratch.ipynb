{
 "cells": [
  {
   "cell_type": "markdown",
   "metadata": {},
   "source": [
    "# Imports"
   ]
  },
  {
   "cell_type": "code",
   "execution_count": 2,
   "metadata": {},
   "outputs": [],
   "source": [
    "import numpy as np\r\n",
    "import pandas as pd\r\n",
    "import seaborn as sns\r\n",
    "import lightgbm as lgb\r\n",
    "import matplotlib.pyplot as plt\r\n",
    "\r\n",
    "from pandas.plotting import register_matplotlib_converters\r\n",
    "from IPython.display import display\r\n",
    "# from tsa_functions import *\r\n",
    "from tsa_tools import *  # See last cell\r\n",
    "\r\n",
    "register_matplotlib_converters()\r\n",
    "sns.set_style('darkgrid')\r\n",
    "\r\n",
    "np.set_printoptions(precision=4)\r\n",
    "pd.set_option('precision', 4)\r\n",
    "\r\n",
    "import statsmodels.api as sm\r\n",
    "from statsmodels.tsa.seasonal import STL\r\n",
    "from statsmodels.tsa.exponential_smoothing.ets import ETSModel"
   ]
  },
  {
   "cell_type": "markdown",
   "metadata": {},
   "source": [
    "# Loading the Data"
   ]
  },
  {
   "cell_type": "code",
   "execution_count": 68,
   "metadata": {},
   "outputs": [],
   "source": [
    "df_calendar = pd.read_csv('data/m5/calendar.csv')\r\n",
    "df_price = pd.read_csv('data/m5/sell_prices.csv')\r\n",
    "df_sales = pd.read_csv('data/m5/sales_train_validation.csv')"
   ]
  },
  {
   "cell_type": "code",
   "execution_count": 66,
   "metadata": {},
   "outputs": [
    {
     "ename": "ValueError",
     "evalue": "Length mismatch: Expected 1941 rows, received array of length 1969",
     "output_type": "error",
     "traceback": [
      "\u001b[1;31m---------------------------------------------------------------------------\u001b[0m",
      "\u001b[1;31mValueError\u001b[0m                                Traceback (most recent call last)",
      "\u001b[1;32m<ipython-input-66-7a012e8bda04>\u001b[0m in \u001b[0;36m<module>\u001b[1;34m\u001b[0m\n\u001b[1;32m----> 1\u001b[1;33m full_df = (df_sales.set_index([*df_sales.columns[5::-1]]).T\n\u001b[0m\u001b[0;32m      2\u001b[0m            .set_index(pd.DatetimeIndex(df_calendar.date)))\n",
      "\u001b[1;32m~\\Anaconda3\\lib\\site-packages\\pandas\\core\\frame.py\u001b[0m in \u001b[0;36mset_index\u001b[1;34m(self, keys, drop, append, inplace, verify_integrity)\u001b[0m\n\u001b[0;32m   4592\u001b[0m                 \u001b[1;31m# check newest element against length of calling frame, since\u001b[0m\u001b[1;33m\u001b[0m\u001b[1;33m\u001b[0m\u001b[1;33m\u001b[0m\u001b[0m\n\u001b[0;32m   4593\u001b[0m                 \u001b[1;31m# ensure_index_from_sequences would not raise for append=False.\u001b[0m\u001b[1;33m\u001b[0m\u001b[1;33m\u001b[0m\u001b[1;33m\u001b[0m\u001b[0m\n\u001b[1;32m-> 4594\u001b[1;33m                 raise ValueError(\n\u001b[0m\u001b[0;32m   4595\u001b[0m                     \u001b[1;34mf\"Length mismatch: Expected {len(self)} rows, \"\u001b[0m\u001b[1;33m\u001b[0m\u001b[1;33m\u001b[0m\u001b[0m\n\u001b[0;32m   4596\u001b[0m                     \u001b[1;34mf\"received array of length {len(arrays[-1])}\"\u001b[0m\u001b[1;33m\u001b[0m\u001b[1;33m\u001b[0m\u001b[0m\n",
      "\u001b[1;31mValueError\u001b[0m: Length mismatch: Expected 1941 rows, received array of length 1969"
     ]
    }
   ],
   "source": [
    "full_df = (df_sales.set_index([*df_sales.columns[5::-1]]).T\r\n",
    "           .set_index(pd.DatetimeIndex(df_calendar.date)))"
   ]
  },
  {
   "cell_type": "code",
   "execution_count": 67,
   "metadata": {},
   "outputs": [
    {
     "data": {
      "text/html": "<div>\n<style scoped>\n    .dataframe tbody tr th:only-of-type {\n        vertical-align: middle;\n    }\n\n    .dataframe tbody tr th {\n        vertical-align: top;\n    }\n\n    .dataframe thead th {\n        text-align: right;\n    }\n</style>\n<table border=\"1\" class=\"dataframe\">\n  <thead>\n    <tr style=\"text-align: right;\">\n      <th></th>\n      <th>date</th>\n      <th>wm_yr_wk</th>\n      <th>weekday</th>\n      <th>wday</th>\n      <th>month</th>\n      <th>year</th>\n      <th>d</th>\n      <th>event_name_1</th>\n      <th>event_type_1</th>\n      <th>event_name_2</th>\n      <th>event_type_2</th>\n      <th>snap_CA</th>\n      <th>snap_TX</th>\n      <th>snap_WI</th>\n    </tr>\n  </thead>\n  <tbody>\n    <tr>\n      <th>0</th>\n      <td>2011-01-29</td>\n      <td>11101</td>\n      <td>Saturday</td>\n      <td>1</td>\n      <td>1</td>\n      <td>2011</td>\n      <td>d_1</td>\n      <td>NaN</td>\n      <td>NaN</td>\n      <td>NaN</td>\n      <td>NaN</td>\n      <td>0</td>\n      <td>0</td>\n      <td>0</td>\n    </tr>\n    <tr>\n      <th>1</th>\n      <td>2011-01-30</td>\n      <td>11101</td>\n      <td>Sunday</td>\n      <td>2</td>\n      <td>1</td>\n      <td>2011</td>\n      <td>d_2</td>\n      <td>NaN</td>\n      <td>NaN</td>\n      <td>NaN</td>\n      <td>NaN</td>\n      <td>0</td>\n      <td>0</td>\n      <td>0</td>\n    </tr>\n    <tr>\n      <th>2</th>\n      <td>2011-01-31</td>\n      <td>11101</td>\n      <td>Monday</td>\n      <td>3</td>\n      <td>1</td>\n      <td>2011</td>\n      <td>d_3</td>\n      <td>NaN</td>\n      <td>NaN</td>\n      <td>NaN</td>\n      <td>NaN</td>\n      <td>0</td>\n      <td>0</td>\n      <td>0</td>\n    </tr>\n    <tr>\n      <th>3</th>\n      <td>2011-02-01</td>\n      <td>11101</td>\n      <td>Tuesday</td>\n      <td>4</td>\n      <td>2</td>\n      <td>2011</td>\n      <td>d_4</td>\n      <td>NaN</td>\n      <td>NaN</td>\n      <td>NaN</td>\n      <td>NaN</td>\n      <td>1</td>\n      <td>1</td>\n      <td>0</td>\n    </tr>\n    <tr>\n      <th>4</th>\n      <td>2011-02-02</td>\n      <td>11101</td>\n      <td>Wednesday</td>\n      <td>5</td>\n      <td>2</td>\n      <td>2011</td>\n      <td>d_5</td>\n      <td>NaN</td>\n      <td>NaN</td>\n      <td>NaN</td>\n      <td>NaN</td>\n      <td>1</td>\n      <td>0</td>\n      <td>1</td>\n    </tr>\n    <tr>\n      <th>...</th>\n      <td>...</td>\n      <td>...</td>\n      <td>...</td>\n      <td>...</td>\n      <td>...</td>\n      <td>...</td>\n      <td>...</td>\n      <td>...</td>\n      <td>...</td>\n      <td>...</td>\n      <td>...</td>\n      <td>...</td>\n      <td>...</td>\n      <td>...</td>\n    </tr>\n    <tr>\n      <th>1964</th>\n      <td>2016-06-15</td>\n      <td>11620</td>\n      <td>Wednesday</td>\n      <td>5</td>\n      <td>6</td>\n      <td>2016</td>\n      <td>d_1965</td>\n      <td>NaN</td>\n      <td>NaN</td>\n      <td>NaN</td>\n      <td>NaN</td>\n      <td>0</td>\n      <td>1</td>\n      <td>1</td>\n    </tr>\n    <tr>\n      <th>1965</th>\n      <td>2016-06-16</td>\n      <td>11620</td>\n      <td>Thursday</td>\n      <td>6</td>\n      <td>6</td>\n      <td>2016</td>\n      <td>d_1966</td>\n      <td>NaN</td>\n      <td>NaN</td>\n      <td>NaN</td>\n      <td>NaN</td>\n      <td>0</td>\n      <td>0</td>\n      <td>0</td>\n    </tr>\n    <tr>\n      <th>1966</th>\n      <td>2016-06-17</td>\n      <td>11620</td>\n      <td>Friday</td>\n      <td>7</td>\n      <td>6</td>\n      <td>2016</td>\n      <td>d_1967</td>\n      <td>NaN</td>\n      <td>NaN</td>\n      <td>NaN</td>\n      <td>NaN</td>\n      <td>0</td>\n      <td>0</td>\n      <td>0</td>\n    </tr>\n    <tr>\n      <th>1967</th>\n      <td>2016-06-18</td>\n      <td>11621</td>\n      <td>Saturday</td>\n      <td>1</td>\n      <td>6</td>\n      <td>2016</td>\n      <td>d_1968</td>\n      <td>NaN</td>\n      <td>NaN</td>\n      <td>NaN</td>\n      <td>NaN</td>\n      <td>0</td>\n      <td>0</td>\n      <td>0</td>\n    </tr>\n    <tr>\n      <th>1968</th>\n      <td>2016-06-19</td>\n      <td>11621</td>\n      <td>Sunday</td>\n      <td>2</td>\n      <td>6</td>\n      <td>2016</td>\n      <td>d_1969</td>\n      <td>NBAFinalsEnd</td>\n      <td>Sporting</td>\n      <td>Father's day</td>\n      <td>Cultural</td>\n      <td>0</td>\n      <td>0</td>\n      <td>0</td>\n    </tr>\n  </tbody>\n</table>\n<p>1969 rows × 14 columns</p>\n</div>",
      "text/plain": "            date  wm_yr_wk    weekday  wday  month  year       d  \\\n0     2011-01-29     11101   Saturday     1      1  2011     d_1   \n1     2011-01-30     11101     Sunday     2      1  2011     d_2   \n2     2011-01-31     11101     Monday     3      1  2011     d_3   \n3     2011-02-01     11101    Tuesday     4      2  2011     d_4   \n4     2011-02-02     11101  Wednesday     5      2  2011     d_5   \n...          ...       ...        ...   ...    ...   ...     ...   \n1964  2016-06-15     11620  Wednesday     5      6  2016  d_1965   \n1965  2016-06-16     11620   Thursday     6      6  2016  d_1966   \n1966  2016-06-17     11620     Friday     7      6  2016  d_1967   \n1967  2016-06-18     11621   Saturday     1      6  2016  d_1968   \n1968  2016-06-19     11621     Sunday     2      6  2016  d_1969   \n\n      event_name_1 event_type_1  event_name_2 event_type_2  snap_CA  snap_TX  \\\n0              NaN          NaN           NaN          NaN        0        0   \n1              NaN          NaN           NaN          NaN        0        0   \n2              NaN          NaN           NaN          NaN        0        0   \n3              NaN          NaN           NaN          NaN        1        1   \n4              NaN          NaN           NaN          NaN        1        0   \n...            ...          ...           ...          ...      ...      ...   \n1964           NaN          NaN           NaN          NaN        0        1   \n1965           NaN          NaN           NaN          NaN        0        0   \n1966           NaN          NaN           NaN          NaN        0        0   \n1967           NaN          NaN           NaN          NaN        0        0   \n1968  NBAFinalsEnd     Sporting  Father's day     Cultural        0        0   \n\n      snap_WI  \n0           0  \n1           0  \n2           0  \n3           0  \n4           1  \n...       ...  \n1964        1  \n1965        0  \n1966        0  \n1967        0  \n1968        0  \n\n[1969 rows x 14 columns]"
     },
     "execution_count": 67,
     "metadata": {},
     "output_type": "execute_result"
    }
   ],
   "source": [
    "df_calendar"
   ]
  },
  {
   "cell_type": "code",
   "execution_count": 58,
   "metadata": {},
   "outputs": [
    {
     "data": {
      "text/html": "<div>\n<style scoped>\n    .dataframe tbody tr th:only-of-type {\n        vertical-align: middle;\n    }\n\n    .dataframe tbody tr th {\n        vertical-align: top;\n    }\n\n    .dataframe thead tr th {\n        text-align: left;\n    }\n\n    .dataframe thead tr:last-of-type th {\n        text-align: right;\n    }\n</style>\n<table border=\"1\" class=\"dataframe\">\n  <thead>\n    <tr>\n      <th>state_id</th>\n      <th colspan=\"10\" halign=\"left\">CA</th>\n      <th>...</th>\n      <th colspan=\"10\" halign=\"left\">WI</th>\n    </tr>\n    <tr>\n      <th>store_id</th>\n      <th colspan=\"7\" halign=\"left\">CA_1</th>\n      <th colspan=\"3\" halign=\"left\">CA_2</th>\n      <th>...</th>\n      <th colspan=\"3\" halign=\"left\">WI_2</th>\n      <th colspan=\"7\" halign=\"left\">WI_3</th>\n    </tr>\n    <tr>\n      <th>cat_id</th>\n      <th colspan=\"2\" halign=\"left\">HOBBIES</th>\n      <th colspan=\"2\" halign=\"left\">HOUSEHOLD</th>\n      <th colspan=\"3\" halign=\"left\">FOODS</th>\n      <th colspan=\"2\" halign=\"left\">HOBBIES</th>\n      <th>HOUSEHOLD</th>\n      <th>...</th>\n      <th colspan=\"3\" halign=\"left\">FOODS</th>\n      <th colspan=\"2\" halign=\"left\">HOBBIES</th>\n      <th colspan=\"2\" halign=\"left\">HOUSEHOLD</th>\n      <th colspan=\"3\" halign=\"left\">FOODS</th>\n    </tr>\n    <tr>\n      <th>dept_id</th>\n      <th>HOBBIES_1</th>\n      <th>HOBBIES_2</th>\n      <th>HOUSEHOLD_1</th>\n      <th>HOUSEHOLD_2</th>\n      <th>FOODS_1</th>\n      <th>FOODS_2</th>\n      <th>FOODS_3</th>\n      <th>HOBBIES_1</th>\n      <th>HOBBIES_2</th>\n      <th>HOUSEHOLD_1</th>\n      <th>...</th>\n      <th>FOODS_1</th>\n      <th>FOODS_2</th>\n      <th>FOODS_3</th>\n      <th>HOBBIES_1</th>\n      <th>HOBBIES_2</th>\n      <th>HOUSEHOLD_1</th>\n      <th>HOUSEHOLD_2</th>\n      <th>FOODS_1</th>\n      <th>FOODS_2</th>\n      <th>FOODS_3</th>\n    </tr>\n    <tr>\n      <th>date</th>\n      <th></th>\n      <th></th>\n      <th></th>\n      <th></th>\n      <th></th>\n      <th></th>\n      <th></th>\n      <th></th>\n      <th></th>\n      <th></th>\n      <th></th>\n      <th></th>\n      <th></th>\n      <th></th>\n      <th></th>\n      <th></th>\n      <th></th>\n      <th></th>\n      <th></th>\n      <th></th>\n      <th></th>\n    </tr>\n  </thead>\n  <tbody>\n    <tr>\n      <th>2011-01-29</th>\n      <td>528</td>\n      <td>28</td>\n      <td>361</td>\n      <td>181</td>\n      <td>297</td>\n      <td>674</td>\n      <td>2268</td>\n      <td>522</td>\n      <td>16</td>\n      <td>529</td>\n      <td>...</td>\n      <td>191</td>\n      <td>155</td>\n      <td>1269</td>\n      <td>256</td>\n      <td>22</td>\n      <td>584</td>\n      <td>148</td>\n      <td>152</td>\n      <td>583</td>\n      <td>2293</td>\n    </tr>\n    <tr>\n      <th>2011-01-30</th>\n      <td>489</td>\n      <td>9</td>\n      <td>350</td>\n      <td>170</td>\n      <td>284</td>\n      <td>655</td>\n      <td>2198</td>\n      <td>381</td>\n      <td>16</td>\n      <td>461</td>\n      <td>...</td>\n      <td>184</td>\n      <td>128</td>\n      <td>1121</td>\n      <td>342</td>\n      <td>14</td>\n      <td>541</td>\n      <td>195</td>\n      <td>138</td>\n      <td>585</td>\n      <td>2383</td>\n    </tr>\n    <tr>\n      <th>2011-01-31</th>\n      <td>409</td>\n      <td>6</td>\n      <td>279</td>\n      <td>114</td>\n      <td>214</td>\n      <td>396</td>\n      <td>1398</td>\n      <td>352</td>\n      <td>16</td>\n      <td>306</td>\n      <td>...</td>\n      <td>154</td>\n      <td>199</td>\n      <td>1233</td>\n      <td>228</td>\n      <td>20</td>\n      <td>420</td>\n      <td>106</td>\n      <td>127</td>\n      <td>575</td>\n      <td>1841</td>\n    </tr>\n    <tr>\n      <th>2011-02-01</th>\n      <td>383</td>\n      <td>9</td>\n      <td>278</td>\n      <td>123</td>\n      <td>175</td>\n      <td>476</td>\n      <td>1607</td>\n      <td>344</td>\n      <td>6</td>\n      <td>270</td>\n      <td>...</td>\n      <td>205</td>\n      <td>244</td>\n      <td>1564</td>\n      <td>183</td>\n      <td>11</td>\n      <td>327</td>\n      <td>94</td>\n      <td>98</td>\n      <td>533</td>\n      <td>1965</td>\n    </tr>\n    <tr>\n      <th>2011-02-02</th>\n      <td>263</td>\n      <td>5</td>\n      <td>195</td>\n      <td>135</td>\n      <td>182</td>\n      <td>354</td>\n      <td>1496</td>\n      <td>283</td>\n      <td>13</td>\n      <td>217</td>\n      <td>...</td>\n      <td>96</td>\n      <td>147</td>\n      <td>724</td>\n      <td>70</td>\n      <td>4</td>\n      <td>151</td>\n      <td>53</td>\n      <td>87</td>\n      <td>340</td>\n      <td>1427</td>\n    </tr>\n    <tr>\n      <th>...</th>\n      <td>...</td>\n      <td>...</td>\n      <td>...</td>\n      <td>...</td>\n      <td>...</td>\n      <td>...</td>\n      <td>...</td>\n      <td>...</td>\n      <td>...</td>\n      <td>...</td>\n      <td>...</td>\n      <td>...</td>\n      <td>...</td>\n      <td>...</td>\n      <td>...</td>\n      <td>...</td>\n      <td>...</td>\n      <td>...</td>\n      <td>...</td>\n      <td>...</td>\n      <td>...</td>\n    </tr>\n    <tr>\n      <th>2016-04-20</th>\n      <td>333</td>\n      <td>30</td>\n      <td>665</td>\n      <td>204</td>\n      <td>287</td>\n      <td>423</td>\n      <td>1780</td>\n      <td>303</td>\n      <td>41</td>\n      <td>586</td>\n      <td>...</td>\n      <td>335</td>\n      <td>830</td>\n      <td>1840</td>\n      <td>202</td>\n      <td>42</td>\n      <td>535</td>\n      <td>148</td>\n      <td>180</td>\n      <td>473</td>\n      <td>1579</td>\n    </tr>\n    <tr>\n      <th>2016-04-21</th>\n      <td>380</td>\n      <td>30</td>\n      <td>580</td>\n      <td>186</td>\n      <td>297</td>\n      <td>365</td>\n      <td>1871</td>\n      <td>232</td>\n      <td>39</td>\n      <td>521</td>\n      <td>...</td>\n      <td>307</td>\n      <td>851</td>\n      <td>1920</td>\n      <td>182</td>\n      <td>21</td>\n      <td>573</td>\n      <td>142</td>\n      <td>227</td>\n      <td>411</td>\n      <td>1670</td>\n    </tr>\n    <tr>\n      <th>2016-04-22</th>\n      <td>471</td>\n      <td>56</td>\n      <td>695</td>\n      <td>205</td>\n      <td>331</td>\n      <td>489</td>\n      <td>2140</td>\n      <td>425</td>\n      <td>60</td>\n      <td>778</td>\n      <td>...</td>\n      <td>400</td>\n      <td>953</td>\n      <td>2066</td>\n      <td>264</td>\n      <td>32</td>\n      <td>701</td>\n      <td>166</td>\n      <td>261</td>\n      <td>507</td>\n      <td>1897</td>\n    </tr>\n    <tr>\n      <th>2016-04-23</th>\n      <td>621</td>\n      <td>49</td>\n      <td>933</td>\n      <td>319</td>\n      <td>419</td>\n      <td>590</td>\n      <td>2646</td>\n      <td>505</td>\n      <td>37</td>\n      <td>1096</td>\n      <td>...</td>\n      <td>408</td>\n      <td>939</td>\n      <td>2404</td>\n      <td>381</td>\n      <td>32</td>\n      <td>801</td>\n      <td>232</td>\n      <td>324</td>\n      <td>505</td>\n      <td>2411</td>\n    </tr>\n    <tr>\n      <th>2016-04-24</th>\n      <td>641</td>\n      <td>73</td>\n      <td>1022</td>\n      <td>324</td>\n      <td>329</td>\n      <td>734</td>\n      <td>2990</td>\n      <td>447</td>\n      <td>60</td>\n      <td>1131</td>\n      <td>...</td>\n      <td>347</td>\n      <td>932</td>\n      <td>2380</td>\n      <td>230</td>\n      <td>21</td>\n      <td>766</td>\n      <td>201</td>\n      <td>317</td>\n      <td>557</td>\n      <td>2233</td>\n    </tr>\n  </tbody>\n</table>\n<p>1913 rows × 70 columns</p>\n</div>",
      "text/plain": "state_id          CA                                                    \\\nstore_id        CA_1                                                     \ncat_id       HOBBIES             HOUSEHOLD               FOODS           \ndept_id    HOBBIES_1 HOBBIES_2 HOUSEHOLD_1 HOUSEHOLD_2 FOODS_1 FOODS_2   \ndate                                                                     \n2011-01-29       528        28         361         181     297     674   \n2011-01-30       489         9         350         170     284     655   \n2011-01-31       409         6         279         114     214     396   \n2011-02-01       383         9         278         123     175     476   \n2011-02-02       263         5         195         135     182     354   \n...              ...       ...         ...         ...     ...     ...   \n2016-04-20       333        30         665         204     287     423   \n2016-04-21       380        30         580         186     297     365   \n2016-04-22       471        56         695         205     331     489   \n2016-04-23       621        49         933         319     419     590   \n2016-04-24       641        73        1022         324     329     734   \n\nstate_id                                            ...      WI          \\\nstore_id                CA_2                        ...    WI_2           \ncat_id               HOBBIES             HOUSEHOLD  ...   FOODS           \ndept_id    FOODS_3 HOBBIES_1 HOBBIES_2 HOUSEHOLD_1  ... FOODS_1 FOODS_2   \ndate                                                ...                   \n2011-01-29    2268       522        16         529  ...     191     155   \n2011-01-30    2198       381        16         461  ...     184     128   \n2011-01-31    1398       352        16         306  ...     154     199   \n2011-02-01    1607       344         6         270  ...     205     244   \n2011-02-02    1496       283        13         217  ...      96     147   \n...            ...       ...       ...         ...  ...     ...     ...   \n2016-04-20    1780       303        41         586  ...     335     830   \n2016-04-21    1871       232        39         521  ...     307     851   \n2016-04-22    2140       425        60         778  ...     400     953   \n2016-04-23    2646       505        37        1096  ...     408     939   \n2016-04-24    2990       447        60        1131  ...     347     932   \n\nstate_id                                                                \\\nstore_id                WI_3                                             \ncat_id               HOBBIES             HOUSEHOLD               FOODS   \ndept_id    FOODS_3 HOBBIES_1 HOBBIES_2 HOUSEHOLD_1 HOUSEHOLD_2 FOODS_1   \ndate                                                                     \n2011-01-29    1269       256        22         584         148     152   \n2011-01-30    1121       342        14         541         195     138   \n2011-01-31    1233       228        20         420         106     127   \n2011-02-01    1564       183        11         327          94      98   \n2011-02-02     724        70         4         151          53      87   \n...            ...       ...       ...         ...         ...     ...   \n2016-04-20    1840       202        42         535         148     180   \n2016-04-21    1920       182        21         573         142     227   \n2016-04-22    2066       264        32         701         166     261   \n2016-04-23    2404       381        32         801         232     324   \n2016-04-24    2380       230        21         766         201     317   \n\nstate_id                    \nstore_id                    \ncat_id                      \ndept_id    FOODS_2 FOODS_3  \ndate                        \n2011-01-29     583    2293  \n2011-01-30     585    2383  \n2011-01-31     575    1841  \n2011-02-01     533    1965  \n2011-02-02     340    1427  \n...            ...     ...  \n2016-04-20     473    1579  \n2016-04-21     411    1670  \n2016-04-22     507    1897  \n2016-04-23     505    2411  \n2016-04-24     557    2233  \n\n[1913 rows x 70 columns]"
     },
     "execution_count": 58,
     "metadata": {},
     "output_type": "execute_result"
    }
   ],
   "source": [
    "lvl9 = full_df.sum(level=[0, 1, 2, 3], axis=1)"
   ]
  },
  {
   "cell_type": "markdown",
   "metadata": {},
   "source": [
    "# Pre-procesing"
   ]
  }
 ],
 "metadata": {
  "interpreter": {
   "hash": "b84722a2237ea4e76e3b068d2d807dd9d200e54df4e3f2dfc10ea86b09cc83b9"
  },
  "kernelspec": {
   "display_name": "Python 3.8.5 64-bit ('base': conda)",
   "name": "python3"
  },
  "language_info": {
   "codemirror_mode": {
    "name": "ipython",
    "version": 3
   },
   "file_extension": ".py",
   "mimetype": "text/x-python",
   "name": "python",
   "nbconvert_exporter": "python",
   "pygments_lexer": "ipython3",
   "version": "3.8.5"
  },
  "orig_nbformat": 2
 },
 "nbformat": 4,
 "nbformat_minor": 2
}