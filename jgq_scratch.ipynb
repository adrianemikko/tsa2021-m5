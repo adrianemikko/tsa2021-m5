{
 "cells": [
  {
   "cell_type": "markdown",
   "metadata": {},
   "source": [
    "# Imports"
   ]
  },
  {
   "cell_type": "code",
   "execution_count": 1,
   "metadata": {},
   "outputs": [],
   "source": [
    "import numpy as np\r\n",
    "import pandas as pd\r\n",
    "import seaborn as sns\r\n",
    "import lightgbm as lgb\r\n",
    "import matplotlib.pyplot as plt\r\n",
    "\r\n",
    "from pandas.plotting import register_matplotlib_converters\r\n",
    "from IPython.display import display\r\n",
    "from tqdm import tqdm\r\n",
    "# from tsa_functions import *\r\n",
    "from tsa_tools import *  # See last cell\r\n",
    "\r\n",
    "register_matplotlib_converters()\r\n",
    "sns.set_style('darkgrid')\r\n",
    "\r\n",
    "np.set_printoptions(precision=4)\r\n",
    "pd.set_option('precision', 4)\r\n",
    "\r\n",
    "import statsmodels.api as sm\r\n",
    "from statsmodels.tsa.seasonal import STL\r\n",
    "from statsmodels.tsa.exponential_smoothing.ets import ETSModel"
   ]
  },
  {
   "cell_type": "markdown",
   "metadata": {},
   "source": [
    "# Loading the Data"
   ]
  },
  {
   "cell_type": "code",
   "execution_count": 2,
   "metadata": {},
   "outputs": [],
   "source": [
    "df_calendar = pd.read_csv('../data/m5/calendar.csv')\r\n",
    "df_price = pd.read_csv('../data/m5/sell_prices.csv')\r\n",
    "df_sales = pd.read_csv('../data/m5/sales_train_validation.csv')\r\n",
    "df_sales1 = pd.read_csv('../data/m5/sales_train_evaluation.csv')\r\n",
    "df_weights = pd.read_csv('../data/m5/weights_validation.csv')"
   ]
  },
  {
   "cell_type": "code",
   "execution_count": 61,
   "metadata": {},
   "outputs": [],
   "source": [
    "full_df = (df_sales1.set_index([*df_sales.columns[5::-1]]).T\r\n",
    "           .set_index(pd.DatetimeIndex(df_calendar.date)[:1941]))"
   ]
  },
  {
   "cell_type": "code",
   "execution_count": 63,
   "metadata": {},
   "outputs": [
    {
     "data": {
      "text/html": "<div>\n<style scoped>\n    .dataframe tbody tr th:only-of-type {\n        vertical-align: middle;\n    }\n\n    .dataframe tbody tr th {\n        vertical-align: top;\n    }\n\n    .dataframe thead tr th {\n        text-align: left;\n    }\n\n    .dataframe thead tr:last-of-type th {\n        text-align: right;\n    }\n</style>\n<table border=\"1\" class=\"dataframe\">\n  <thead>\n    <tr>\n      <th>store_id</th>\n      <th colspan=\"7\" halign=\"left\">CA_1</th>\n      <th colspan=\"3\" halign=\"left\">CA_2</th>\n      <th>...</th>\n      <th colspan=\"3\" halign=\"left\">WI_2</th>\n      <th colspan=\"7\" halign=\"left\">WI_3</th>\n    </tr>\n    <tr>\n      <th>dept_id</th>\n      <th>HOBBIES_1</th>\n      <th>HOBBIES_2</th>\n      <th>HOUSEHOLD_1</th>\n      <th>HOUSEHOLD_2</th>\n      <th>FOODS_1</th>\n      <th>FOODS_2</th>\n      <th>FOODS_3</th>\n      <th>HOBBIES_1</th>\n      <th>HOBBIES_2</th>\n      <th>HOUSEHOLD_1</th>\n      <th>...</th>\n      <th>FOODS_1</th>\n      <th>FOODS_2</th>\n      <th>FOODS_3</th>\n      <th>HOBBIES_1</th>\n      <th>HOBBIES_2</th>\n      <th>HOUSEHOLD_1</th>\n      <th>HOUSEHOLD_2</th>\n      <th>FOODS_1</th>\n      <th>FOODS_2</th>\n      <th>FOODS_3</th>\n    </tr>\n    <tr>\n      <th>date</th>\n      <th></th>\n      <th></th>\n      <th></th>\n      <th></th>\n      <th></th>\n      <th></th>\n      <th></th>\n      <th></th>\n      <th></th>\n      <th></th>\n      <th></th>\n      <th></th>\n      <th></th>\n      <th></th>\n      <th></th>\n      <th></th>\n      <th></th>\n      <th></th>\n      <th></th>\n      <th></th>\n      <th></th>\n    </tr>\n  </thead>\n  <tbody>\n    <tr>\n      <th>2011-01-29</th>\n      <td>528</td>\n      <td>28</td>\n      <td>361</td>\n      <td>181</td>\n      <td>297</td>\n      <td>674</td>\n      <td>2268</td>\n      <td>522</td>\n      <td>16</td>\n      <td>529</td>\n      <td>...</td>\n      <td>191</td>\n      <td>155</td>\n      <td>1269</td>\n      <td>256</td>\n      <td>22</td>\n      <td>584</td>\n      <td>148</td>\n      <td>152</td>\n      <td>583</td>\n      <td>2293</td>\n    </tr>\n    <tr>\n      <th>2011-01-30</th>\n      <td>489</td>\n      <td>9</td>\n      <td>350</td>\n      <td>170</td>\n      <td>284</td>\n      <td>655</td>\n      <td>2198</td>\n      <td>381</td>\n      <td>16</td>\n      <td>461</td>\n      <td>...</td>\n      <td>184</td>\n      <td>128</td>\n      <td>1121</td>\n      <td>342</td>\n      <td>14</td>\n      <td>541</td>\n      <td>195</td>\n      <td>138</td>\n      <td>585</td>\n      <td>2383</td>\n    </tr>\n    <tr>\n      <th>2011-01-31</th>\n      <td>409</td>\n      <td>6</td>\n      <td>279</td>\n      <td>114</td>\n      <td>214</td>\n      <td>396</td>\n      <td>1398</td>\n      <td>352</td>\n      <td>16</td>\n      <td>306</td>\n      <td>...</td>\n      <td>154</td>\n      <td>199</td>\n      <td>1233</td>\n      <td>228</td>\n      <td>20</td>\n      <td>420</td>\n      <td>106</td>\n      <td>127</td>\n      <td>575</td>\n      <td>1841</td>\n    </tr>\n    <tr>\n      <th>2011-02-01</th>\n      <td>383</td>\n      <td>9</td>\n      <td>278</td>\n      <td>123</td>\n      <td>175</td>\n      <td>476</td>\n      <td>1607</td>\n      <td>344</td>\n      <td>6</td>\n      <td>270</td>\n      <td>...</td>\n      <td>205</td>\n      <td>244</td>\n      <td>1564</td>\n      <td>183</td>\n      <td>11</td>\n      <td>327</td>\n      <td>94</td>\n      <td>98</td>\n      <td>533</td>\n      <td>1965</td>\n    </tr>\n    <tr>\n      <th>2011-02-02</th>\n      <td>263</td>\n      <td>5</td>\n      <td>195</td>\n      <td>135</td>\n      <td>182</td>\n      <td>354</td>\n      <td>1496</td>\n      <td>283</td>\n      <td>13</td>\n      <td>217</td>\n      <td>...</td>\n      <td>96</td>\n      <td>147</td>\n      <td>724</td>\n      <td>70</td>\n      <td>4</td>\n      <td>151</td>\n      <td>53</td>\n      <td>87</td>\n      <td>340</td>\n      <td>1427</td>\n    </tr>\n  </tbody>\n</table>\n<p>5 rows × 70 columns</p>\n</div>",
      "text/plain": "store_id        CA_1                                                    \\\ndept_id    HOBBIES_1 HOBBIES_2 HOUSEHOLD_1 HOUSEHOLD_2 FOODS_1 FOODS_2   \ndate                                                                     \n2011-01-29       528        28         361         181     297     674   \n2011-01-30       489         9         350         170     284     655   \n2011-01-31       409         6         279         114     214     396   \n2011-02-01       383         9         278         123     175     476   \n2011-02-02       263         5         195         135     182     354   \n\nstore_id                CA_2                        ...    WI_2          \\\ndept_id    FOODS_3 HOBBIES_1 HOBBIES_2 HOUSEHOLD_1  ... FOODS_1 FOODS_2   \ndate                                                ...                   \n2011-01-29    2268       522        16         529  ...     191     155   \n2011-01-30    2198       381        16         461  ...     184     128   \n2011-01-31    1398       352        16         306  ...     154     199   \n2011-02-01    1607       344         6         270  ...     205     244   \n2011-02-02    1496       283        13         217  ...      96     147   \n\nstore_id                WI_3                                            \\\ndept_id    FOODS_3 HOBBIES_1 HOBBIES_2 HOUSEHOLD_1 HOUSEHOLD_2 FOODS_1   \ndate                                                                     \n2011-01-29    1269       256        22         584         148     152   \n2011-01-30    1121       342        14         541         195     138   \n2011-01-31    1233       228        20         420         106     127   \n2011-02-01    1564       183        11         327          94      98   \n2011-02-02     724        70         4         151          53      87   \n\nstore_id                    \ndept_id    FOODS_2 FOODS_3  \ndate                        \n2011-01-29     583    2293  \n2011-01-30     585    2383  \n2011-01-31     575    1841  \n2011-02-01     533    1965  \n2011-02-02     340    1427  \n\n[5 rows x 70 columns]"
     },
     "execution_count": 63,
     "metadata": {},
     "output_type": "execute_result"
    }
   ],
   "source": [
    "lvl9 = full_df.sum(level=[\"store_id\", \"dept_id\"], axis=1)\r\n",
    "lvl9.head()"
   ]
  },
  {
   "cell_type": "markdown",
   "metadata": {},
   "source": [
    "# Pre-procesing"
   ]
  },
  {
   "cell_type": "markdown",
   "metadata": {},
   "source": [
    "## Pre-processing Full Dataset"
   ]
  },
  {
   "cell_type": "code",
   "execution_count": 40,
   "metadata": {},
   "outputs": [],
   "source": [
    "# full_df_prep = (full_dflvl9.apply(lambda x: np.where(x < 10,  np.nan, x))\r\n",
    "#                 .interpolate(method='linear', axis=0)).fillna(method='bfill')"
   ]
  },
  {
   "cell_type": "markdown",
   "metadata": {},
   "source": [
    "## Pre-processing Lvl9"
   ]
  },
  {
   "cell_type": "code",
   "execution_count": 64,
   "metadata": {},
   "outputs": [
    {
     "data": {
      "text/plain": "2403"
     },
     "execution_count": 64,
     "metadata": {},
     "output_type": "execute_result"
    }
   ],
   "source": [
    "# No of values with less than 10 sales per day\r\n",
    "lvl9[lvl9 < 10].count(axis=0).sum()"
   ]
  },
  {
   "cell_type": "code",
   "execution_count": 65,
   "metadata": {},
   "outputs": [],
   "source": [
    "df_lvl9 = (lvl9.apply(lambda x: np.where(x < 10,  np.nan, x))\r\n",
    "            .interpolate(method='linear', axis=0)).fillna(method='bfill')"
   ]
  },
  {
   "cell_type": "code",
   "execution_count": 66,
   "metadata": {},
   "outputs": [
    {
     "data": {
      "text/plain": "0"
     },
     "execution_count": 66,
     "metadata": {},
     "output_type": "execute_result"
    }
   ],
   "source": [
    "# To check if there are still values less than 10\r\n",
    "df_lvl9[df_lvl9 < 10].count(axis=0).sum()"
   ]
  },
  {
   "cell_type": "markdown",
   "metadata": {},
   "source": [
    "# Q1. Baseline Methods"
   ]
  },
  {
   "cell_type": "code",
   "execution_count": 67,
   "metadata": {},
   "outputs": [],
   "source": [
    "train = df_lvl9.iloc[ :1913,:]\r\n",
    "test = df_lvl9.iloc[ 1913:,:]"
   ]
  },
  {
   "cell_type": "code",
   "execution_count": 68,
   "metadata": {},
   "outputs": [],
   "source": [
    "base_forcast = {}\r\n",
    "h = 28\r\n",
    "m = 7\r\n",
    "\r\n",
    "\r\n",
    "# for bm in baseline:\r\n",
    "naive = []\r\n",
    "snaive = []\r\n",
    "ses = []\r\n",
    "hl = []\r\n",
    "ahl = []\r\n",
    "for x in train.columns:\r\n",
    "    naive.append(naivef(train[x], h))\r\n",
    "    snaive.append(snaivef(train[x], h, m))\r\n",
    "\r\n",
    "    model1 =  ETSModel(train[x].values).fit() # SES\r\n",
    "    model2 =  ETSModel(train[x].values, trend=\"add\", seasonal=None).fit() # Holt's Linear\r\n",
    "    model3 =  ETSModel(train[x], error=\"add\", trend=\"add\", \r\n",
    "                        seasonal=\"add\", damped_trend=False, \r\n",
    "                        seasonal_periods=m).fit() # Additive Holt-Winter\r\n",
    "\r\n",
    "    ses.append(model1.forecast(h))\r\n",
    "    hl.append(model2.forecast(h))\r\n",
    "    ahl.append(model3.forecast(h))\r\n",
    "\r\n",
    "base_forcast['Naive'] = naive\r\n",
    "base_forcast['Seasonal Naive'] = snaive\r\n",
    "base_forcast['SES'] = ses\r\n",
    "base_forcast['Holt\\'s Linear'] = hl\r\n",
    "base_forcast['Additive Holt-Winters'] = ahl\r\n"
   ]
  },
  {
   "cell_type": "code",
   "execution_count": 69,
   "metadata": {},
   "outputs": [],
   "source": [
    "rmsse_res = {}\r\n",
    "\r\n",
    "for k in base_forcast.keys():\r\n",
    "    rmsse_list = []\r\n",
    "    for x in range(len(train.columns)):\r\n",
    "        rmsse_list.append(rmsse(test[train.columns[x]], \r\n",
    "                                base_forcast[k][x], \r\n",
    "                                train[train.columns[x]]))\r\n",
    "    rmsse_res[k] = rmsse_list\r\n"
   ]
  },
  {
   "cell_type": "code",
   "execution_count": null,
   "metadata": {},
   "outputs": [
    {
     "data": {
      "text/html": "<div>\n<style scoped>\n    .dataframe tbody tr th:only-of-type {\n        vertical-align: middle;\n    }\n\n    .dataframe tbody tr th {\n        vertical-align: top;\n    }\n\n    .dataframe thead th {\n        text-align: right;\n    }\n</style>\n<table border=\"1\" class=\"dataframe\">\n  <thead>\n    <tr style=\"text-align: right;\">\n      <th></th>\n      <th></th>\n      <th>Naive</th>\n      <th>Seasonal Naive</th>\n      <th>SES</th>\n      <th>Holt's Linear</th>\n      <th>Additive Holt-Winters</th>\n      <th>Weight</th>\n    </tr>\n  </thead>\n  <tbody>\n    <tr>\n      <th rowspan=\"7\" valign=\"top\">CA_1</th>\n      <th>FOODS_1</th>\n      <td>0.9319</td>\n      <td>0.7312</td>\n      <td>0.9179</td>\n      <td>0.9362</td>\n      <td>0.7301</td>\n      <td>0.0052</td>\n    </tr>\n    <tr>\n      <th>FOODS_2</th>\n      <td>2.0535</td>\n      <td>0.8269</td>\n      <td>2.0534</td>\n      <td>2.3136</td>\n      <td>0.5930</td>\n      <td>0.0149</td>\n    </tr>\n    <tr>\n      <th>FOODS_3</th>\n      <td>1.7113</td>\n      <td>0.4944</td>\n      <td>1.0825</td>\n      <td>1.0185</td>\n      <td>0.5045</td>\n      <td>0.0419</td>\n    </tr>\n    <tr>\n      <th>HOBBIES_1</th>\n      <td>1.4583</td>\n      <td>0.7619</td>\n      <td>0.8819</td>\n      <td>0.8810</td>\n      <td>0.6311</td>\n      <td>0.0172</td>\n    </tr>\n    <tr>\n      <th>HOBBIES_2</th>\n      <td>1.9340</td>\n      <td>1.1429</td>\n      <td>0.8831</td>\n      <td>0.8748</td>\n      <td>0.7203</td>\n      <td>0.0006</td>\n    </tr>\n    <tr>\n      <th>HOUSEHOLD_1</th>\n      <td>2.1052</td>\n      <td>0.5172</td>\n      <td>1.1514</td>\n      <td>1.1636</td>\n      <td>0.4433</td>\n      <td>0.0228</td>\n    </tr>\n    <tr>\n      <th>HOUSEHOLD_2</th>\n      <td>2.2997</td>\n      <td>0.5228</td>\n      <td>1.2208</td>\n      <td>1.1789</td>\n      <td>0.5276</td>\n      <td>0.0083</td>\n    </tr>\n    <tr>\n      <th rowspan=\"7\" valign=\"top\">CA_2</th>\n      <th>FOODS_1</th>\n      <td>1.2557</td>\n      <td>1.1311</td>\n      <td>1.3875</td>\n      <td>1.3786</td>\n      <td>0.9718</td>\n      <td>0.0098</td>\n    </tr>\n    <tr>\n      <th>FOODS_2</th>\n      <td>4.2936</td>\n      <td>1.4906</td>\n      <td>2.3041</td>\n      <td>2.2415</td>\n      <td>1.2994</td>\n      <td>0.0130</td>\n    </tr>\n    <tr>\n      <th>FOODS_3</th>\n      <td>2.5830</td>\n      <td>0.6046</td>\n      <td>1.4502</td>\n      <td>1.4114</td>\n      <td>0.4787</td>\n      <td>0.0375</td>\n    </tr>\n    <tr>\n      <th>HOBBIES_1</th>\n      <td>1.2053</td>\n      <td>0.7055</td>\n      <td>1.1179</td>\n      <td>1.1180</td>\n      <td>0.6542</td>\n      <td>0.0116</td>\n    </tr>\n    <tr>\n      <th>HOBBIES_2</th>\n      <td>1.3546</td>\n      <td>1.4893</td>\n      <td>1.3887</td>\n      <td>1.3790</td>\n      <td>1.1641</td>\n      <td>0.0006</td>\n    </tr>\n    <tr>\n      <th>HOUSEHOLD_1</th>\n      <td>2.0287</td>\n      <td>0.6373</td>\n      <td>1.3960</td>\n      <td>1.3853</td>\n      <td>0.5825</td>\n      <td>0.0256</td>\n    </tr>\n    <tr>\n      <th>HOUSEHOLD_2</th>\n      <td>1.9340</td>\n      <td>0.5920</td>\n      <td>1.4625</td>\n      <td>1.4534</td>\n      <td>0.6657</td>\n      <td>0.0120</td>\n    </tr>\n    <tr>\n      <th rowspan=\"7\" valign=\"top\">CA_3</th>\n      <th>FOODS_1</th>\n      <td>1.1674</td>\n      <td>1.5874</td>\n      <td>1.3966</td>\n      <td>1.3892</td>\n      <td>1.4614</td>\n      <td>0.0079</td>\n    </tr>\n    <tr>\n      <th>FOODS_2</th>\n      <td>1.8816</td>\n      <td>0.7316</td>\n      <td>1.7271</td>\n      <td>1.7429</td>\n      <td>0.5757</td>\n      <td>0.0197</td>\n    </tr>\n    <tr>\n      <th>FOODS_3</th>\n      <td>1.5710</td>\n      <td>0.4353</td>\n      <td>0.8908</td>\n      <td>1.5877</td>\n      <td>0.4651</td>\n      <td>0.0539</td>\n    </tr>\n    <tr>\n      <th>HOBBIES_1</th>\n      <td>0.9370</td>\n      <td>0.6647</td>\n      <td>0.6999</td>\n      <td>0.7018</td>\n      <td>0.5044</td>\n      <td>0.0173</td>\n    </tr>\n    <tr>\n      <th>HOBBIES_2</th>\n      <td>1.1984</td>\n      <td>1.6617</td>\n      <td>1.5530</td>\n      <td>1.5433</td>\n      <td>1.5301</td>\n      <td>0.0009</td>\n    </tr>\n    <tr>\n      <th>HOUSEHOLD_1</th>\n      <td>2.6217</td>\n      <td>0.7564</td>\n      <td>1.1273</td>\n      <td>1.1536</td>\n      <td>0.6702</td>\n      <td>0.0437</td>\n    </tr>\n    <tr>\n      <th>HOUSEHOLD_2</th>\n      <td>2.1039</td>\n      <td>0.8808</td>\n      <td>1.4258</td>\n      <td>1.4169</td>\n      <td>0.9476</td>\n      <td>0.0122</td>\n    </tr>\n    <tr>\n      <th rowspan=\"7\" valign=\"top\">CA_4</th>\n      <th>FOODS_1</th>\n      <td>1.0167</td>\n      <td>1.5664</td>\n      <td>1.3857</td>\n      <td>1.3656</td>\n      <td>1.3407</td>\n      <td>0.0042</td>\n    </tr>\n    <tr>\n      <th>FOODS_2</th>\n      <td>1.2989</td>\n      <td>0.7998</td>\n      <td>1.1609</td>\n      <td>1.1533</td>\n      <td>0.7788</td>\n      <td>0.0100</td>\n    </tr>\n    <tr>\n      <th>FOODS_3</th>\n      <td>1.4144</td>\n      <td>0.6385</td>\n      <td>0.9469</td>\n      <td>0.9431</td>\n      <td>0.6654</td>\n      <td>0.0227</td>\n    </tr>\n    <tr>\n      <th>HOBBIES_1</th>\n      <td>1.4556</td>\n      <td>1.1008</td>\n      <td>0.9956</td>\n      <td>0.9902</td>\n      <td>0.9135</td>\n      <td>0.0103</td>\n    </tr>\n    <tr>\n      <th>HOBBIES_2</th>\n      <td>2.1142</td>\n      <td>1.8563</td>\n      <td>1.8756</td>\n      <td>1.8751</td>\n      <td>1.8942</td>\n      <td>0.0003</td>\n    </tr>\n    <tr>\n      <th>HOUSEHOLD_1</th>\n      <td>3.4088</td>\n      <td>1.4737</td>\n      <td>1.2447</td>\n      <td>1.2169</td>\n      <td>0.9713</td>\n      <td>0.0128</td>\n    </tr>\n    <tr>\n      <th>HOUSEHOLD_2</th>\n      <td>1.3534</td>\n      <td>0.9567</td>\n      <td>1.0520</td>\n      <td>1.0386</td>\n      <td>0.8276</td>\n      <td>0.0054</td>\n    </tr>\n    <tr>\n      <th rowspan=\"7\" valign=\"top\">TX_1</th>\n      <th>FOODS_1</th>\n      <td>1.3344</td>\n      <td>1.7189</td>\n      <td>1.5566</td>\n      <td>1.5460</td>\n      <td>1.6203</td>\n      <td>0.0045</td>\n    </tr>\n    <tr>\n      <th>FOODS_2</th>\n      <td>1.1906</td>\n      <td>0.9520</td>\n      <td>0.8562</td>\n      <td>0.8561</td>\n      <td>0.7974</td>\n      <td>0.0100</td>\n    </tr>\n    <tr>\n      <th>FOODS_3</th>\n      <td>1.1678</td>\n      <td>0.8416</td>\n      <td>0.9161</td>\n      <td>0.8855</td>\n      <td>0.6257</td>\n      <td>0.0267</td>\n    </tr>\n    <tr>\n      <th>HOBBIES_1</th>\n      <td>1.6331</td>\n      <td>0.9169</td>\n      <td>0.9061</td>\n      <td>0.9046</td>\n      <td>0.7062</td>\n      <td>0.0085</td>\n    </tr>\n    <tr>\n      <th>HOBBIES_2</th>\n      <td>1.8823</td>\n      <td>1.6475</td>\n      <td>1.4296</td>\n      <td>1.4159</td>\n      <td>1.4833</td>\n      <td>0.0005</td>\n    </tr>\n    <tr>\n      <th>HOUSEHOLD_1</th>\n      <td>1.8399</td>\n      <td>0.8196</td>\n      <td>1.1676</td>\n      <td>1.1608</td>\n      <td>0.7947</td>\n      <td>0.0210</td>\n    </tr>\n    <tr>\n      <th>HOUSEHOLD_2</th>\n      <td>1.2045</td>\n      <td>1.2523</td>\n      <td>1.0488</td>\n      <td>1.0328</td>\n      <td>0.9494</td>\n      <td>0.0063</td>\n    </tr>\n    <tr>\n      <th rowspan=\"7\" valign=\"top\">TX_2</th>\n      <th>FOODS_1</th>\n      <td>1.4774</td>\n      <td>1.2816</td>\n      <td>1.2919</td>\n      <td>1.2839</td>\n      <td>1.4472</td>\n      <td>0.0050</td>\n    </tr>\n    <tr>\n      <th>FOODS_2</th>\n      <td>0.9424</td>\n      <td>0.6834</td>\n      <td>0.7532</td>\n      <td>0.7719</td>\n      <td>0.6776</td>\n      <td>0.0113</td>\n    </tr>\n    <tr>\n      <th>FOODS_3</th>\n      <td>0.8228</td>\n      <td>0.6226</td>\n      <td>0.7499</td>\n      <td>0.7481</td>\n      <td>0.6042</td>\n      <td>0.0342</td>\n    </tr>\n    <tr>\n      <th>HOBBIES_1</th>\n      <td>0.7979</td>\n      <td>0.8792</td>\n      <td>0.8789</td>\n      <td>0.8742</td>\n      <td>0.7272</td>\n      <td>0.0138</td>\n    </tr>\n    <tr>\n      <th>HOBBIES_2</th>\n      <td>0.7499</td>\n      <td>1.2548</td>\n      <td>0.9735</td>\n      <td>0.9685</td>\n      <td>1.0058</td>\n      <td>0.0007</td>\n    </tr>\n    <tr>\n      <th>HOUSEHOLD_1</th>\n      <td>0.8662</td>\n      <td>0.8529</td>\n      <td>0.8683</td>\n      <td>0.8712</td>\n      <td>0.6500</td>\n      <td>0.0231</td>\n    </tr>\n    <tr>\n      <th>HOUSEHOLD_2</th>\n      <td>1.3706</td>\n      <td>0.6559</td>\n      <td>0.9314</td>\n      <td>0.9346</td>\n      <td>0.4521</td>\n      <td>0.0071</td>\n    </tr>\n    <tr>\n      <th rowspan=\"7\" valign=\"top\">TX_3</th>\n      <th>FOODS_1</th>\n      <td>2.7332</td>\n      <td>2.2206</td>\n      <td>2.1542</td>\n      <td>2.1356</td>\n      <td>2.1921</td>\n      <td>0.0065</td>\n    </tr>\n    <tr>\n      <th>FOODS_2</th>\n      <td>1.3682</td>\n      <td>1.4195</td>\n      <td>1.4254</td>\n      <td>1.4277</td>\n      <td>1.5317</td>\n      <td>0.0131</td>\n    </tr>\n    <tr>\n      <th>FOODS_3</th>\n      <td>0.9672</td>\n      <td>1.1046</td>\n      <td>1.0692</td>\n      <td>1.0493</td>\n      <td>1.0362</td>\n      <td>0.0302</td>\n    </tr>\n    <tr>\n      <th>HOBBIES_1</th>\n      <td>1.5309</td>\n      <td>0.9025</td>\n      <td>0.9404</td>\n      <td>0.9370</td>\n      <td>0.7358</td>\n      <td>0.0169</td>\n    </tr>\n    <tr>\n      <th>HOBBIES_2</th>\n      <td>1.4339</td>\n      <td>1.7212</td>\n      <td>1.1186</td>\n      <td>1.1152</td>\n      <td>1.1117</td>\n      <td>0.0009</td>\n    </tr>\n    <tr>\n      <th>HOUSEHOLD_1</th>\n      <td>1.0738</td>\n      <td>1.0794</td>\n      <td>1.0248</td>\n      <td>1.0064</td>\n      <td>0.9092</td>\n      <td>0.0230</td>\n    </tr>\n    <tr>\n      <th>HOUSEHOLD_2</th>\n      <td>0.8605</td>\n      <td>1.3137</td>\n      <td>1.0128</td>\n      <td>0.9889</td>\n      <td>0.8839</td>\n      <td>0.0059</td>\n    </tr>\n    <tr>\n      <th rowspan=\"7\" valign=\"top\">WI_1</th>\n      <th>FOODS_1</th>\n      <td>0.9843</td>\n      <td>0.8454</td>\n      <td>1.0438</td>\n      <td>1.0400</td>\n      <td>0.8368</td>\n      <td>0.0063</td>\n    </tr>\n    <tr>\n      <th>FOODS_2</th>\n      <td>2.1064</td>\n      <td>1.2493</td>\n      <td>1.6349</td>\n      <td>1.6291</td>\n      <td>1.3021</td>\n      <td>0.0166</td>\n    </tr>\n    <tr>\n      <th>FOODS_3</th>\n      <td>1.6655</td>\n      <td>0.5440</td>\n      <td>1.1554</td>\n      <td>1.1465</td>\n      <td>0.4636</td>\n      <td>0.0302</td>\n    </tr>\n    <tr>\n      <th>HOBBIES_1</th>\n      <td>1.3685</td>\n      <td>0.5084</td>\n      <td>0.7533</td>\n      <td>0.7533</td>\n      <td>0.4667</td>\n      <td>0.0111</td>\n    </tr>\n    <tr>\n      <th>HOBBIES_2</th>\n      <td>1.1278</td>\n      <td>1.6404</td>\n      <td>1.2088</td>\n      <td>1.1990</td>\n      <td>1.2137</td>\n      <td>0.0005</td>\n    </tr>\n    <tr>\n      <th>HOUSEHOLD_1</th>\n      <td>1.7201</td>\n      <td>0.6488</td>\n      <td>1.0982</td>\n      <td>1.0990</td>\n      <td>0.6417</td>\n      <td>0.0163</td>\n    </tr>\n    <tr>\n      <th>HOUSEHOLD_2</th>\n      <td>1.7301</td>\n      <td>0.7509</td>\n      <td>1.1014</td>\n      <td>1.0997</td>\n      <td>0.5725</td>\n      <td>0.0061</td>\n    </tr>\n    <tr>\n      <th rowspan=\"7\" valign=\"top\">WI_2</th>\n      <th>FOODS_1</th>\n      <td>2.4445</td>\n      <td>2.3635</td>\n      <td>2.2284</td>\n      <td>2.2117</td>\n      <td>2.2762</td>\n      <td>0.0082</td>\n    </tr>\n    <tr>\n      <th>FOODS_2</th>\n      <td>2.4210</td>\n      <td>2.4925</td>\n      <td>2.4266</td>\n      <td>2.3733</td>\n      <td>2.4971</td>\n      <td>0.0305</td>\n    </tr>\n    <tr>\n      <th>FOODS_3</th>\n      <td>1.3513</td>\n      <td>1.5445</td>\n      <td>1.3989</td>\n      <td>1.3654</td>\n      <td>1.4620</td>\n      <td>0.0403</td>\n    </tr>\n    <tr>\n      <th>HOBBIES_1</th>\n      <td>1.3672</td>\n      <td>0.8269</td>\n      <td>0.7654</td>\n      <td>0.7546</td>\n      <td>0.7281</td>\n      <td>0.0081</td>\n    </tr>\n    <tr>\n      <th>HOBBIES_2</th>\n      <td>1.1960</td>\n      <td>1.5164</td>\n      <td>1.2308</td>\n      <td>1.2258</td>\n      <td>1.2142</td>\n      <td>0.0005</td>\n    </tr>\n    <tr>\n      <th>HOUSEHOLD_1</th>\n      <td>1.3142</td>\n      <td>1.0984</td>\n      <td>1.3773</td>\n      <td>1.3079</td>\n      <td>1.0693</td>\n      <td>0.0241</td>\n    </tr>\n    <tr>\n      <th>HOUSEHOLD_2</th>\n      <td>1.4018</td>\n      <td>0.9766</td>\n      <td>0.9592</td>\n      <td>0.9494</td>\n      <td>0.7440</td>\n      <td>0.0049</td>\n    </tr>\n    <tr>\n      <th rowspan=\"7\" valign=\"top\">WI_3</th>\n      <th>FOODS_1</th>\n      <td>1.0747</td>\n      <td>1.8678</td>\n      <td>1.3181</td>\n      <td>1.3046</td>\n      <td>1.3642</td>\n      <td>0.0051</td>\n    </tr>\n    <tr>\n      <th>FOODS_2</th>\n      <td>1.2681</td>\n      <td>1.5464</td>\n      <td>1.3670</td>\n      <td>1.3453</td>\n      <td>1.6313</td>\n      <td>0.0155</td>\n    </tr>\n    <tr>\n      <th>FOODS_3</th>\n      <td>1.0986</td>\n      <td>0.7701</td>\n      <td>1.1102</td>\n      <td>1.1284</td>\n      <td>0.8766</td>\n      <td>0.0336</td>\n    </tr>\n    <tr>\n      <th>HOBBIES_1</th>\n      <td>0.9587</td>\n      <td>0.9150</td>\n      <td>0.9285</td>\n      <td>0.9285</td>\n      <td>0.7590</td>\n      <td>0.0072</td>\n    </tr>\n    <tr>\n      <th>HOBBIES_2</th>\n      <td>1.5458</td>\n      <td>1.0980</td>\n      <td>0.9523</td>\n      <td>0.9468</td>\n      <td>0.9386</td>\n      <td>0.0005</td>\n    </tr>\n    <tr>\n      <th>HOUSEHOLD_1</th>\n      <td>1.4203</td>\n      <td>0.6588</td>\n      <td>1.0787</td>\n      <td>1.0802</td>\n      <td>0.6792</td>\n      <td>0.0172</td>\n    </tr>\n    <tr>\n      <th>HOUSEHOLD_2</th>\n      <td>1.9138</td>\n      <td>0.9144</td>\n      <td>1.3265</td>\n      <td>1.3268</td>\n      <td>0.8683</td>\n      <td>0.0055</td>\n    </tr>\n  </tbody>\n</table>\n</div>",
      "text/plain": "                   Naive  Seasonal Naive     SES  Holt's Linear  \\\nCA_1 FOODS_1      0.9319          0.7312  0.9179         0.9362   \n     FOODS_2      2.0535          0.8269  2.0534         2.3136   \n     FOODS_3      1.7113          0.4944  1.0825         1.0185   \n     HOBBIES_1    1.4583          0.7619  0.8819         0.8810   \n     HOBBIES_2    1.9340          1.1429  0.8831         0.8748   \n     HOUSEHOLD_1  2.1052          0.5172  1.1514         1.1636   \n     HOUSEHOLD_2  2.2997          0.5228  1.2208         1.1789   \nCA_2 FOODS_1      1.2557          1.1311  1.3875         1.3786   \n     FOODS_2      4.2936          1.4906  2.3041         2.2415   \n     FOODS_3      2.5830          0.6046  1.4502         1.4114   \n     HOBBIES_1    1.2053          0.7055  1.1179         1.1180   \n     HOBBIES_2    1.3546          1.4893  1.3887         1.3790   \n     HOUSEHOLD_1  2.0287          0.6373  1.3960         1.3853   \n     HOUSEHOLD_2  1.9340          0.5920  1.4625         1.4534   \nCA_3 FOODS_1      1.1674          1.5874  1.3966         1.3892   \n     FOODS_2      1.8816          0.7316  1.7271         1.7429   \n     FOODS_3      1.5710          0.4353  0.8908         1.5877   \n     HOBBIES_1    0.9370          0.6647  0.6999         0.7018   \n     HOBBIES_2    1.1984          1.6617  1.5530         1.5433   \n     HOUSEHOLD_1  2.6217          0.7564  1.1273         1.1536   \n     HOUSEHOLD_2  2.1039          0.8808  1.4258         1.4169   \nCA_4 FOODS_1      1.0167          1.5664  1.3857         1.3656   \n     FOODS_2      1.2989          0.7998  1.1609         1.1533   \n     FOODS_3      1.4144          0.6385  0.9469         0.9431   \n     HOBBIES_1    1.4556          1.1008  0.9956         0.9902   \n     HOBBIES_2    2.1142          1.8563  1.8756         1.8751   \n     HOUSEHOLD_1  3.4088          1.4737  1.2447         1.2169   \n     HOUSEHOLD_2  1.3534          0.9567  1.0520         1.0386   \nTX_1 FOODS_1      1.3344          1.7189  1.5566         1.5460   \n     FOODS_2      1.1906          0.9520  0.8562         0.8561   \n     FOODS_3      1.1678          0.8416  0.9161         0.8855   \n     HOBBIES_1    1.6331          0.9169  0.9061         0.9046   \n     HOBBIES_2    1.8823          1.6475  1.4296         1.4159   \n     HOUSEHOLD_1  1.8399          0.8196  1.1676         1.1608   \n     HOUSEHOLD_2  1.2045          1.2523  1.0488         1.0328   \nTX_2 FOODS_1      1.4774          1.2816  1.2919         1.2839   \n     FOODS_2      0.9424          0.6834  0.7532         0.7719   \n     FOODS_3      0.8228          0.6226  0.7499         0.7481   \n     HOBBIES_1    0.7979          0.8792  0.8789         0.8742   \n     HOBBIES_2    0.7499          1.2548  0.9735         0.9685   \n     HOUSEHOLD_1  0.8662          0.8529  0.8683         0.8712   \n     HOUSEHOLD_2  1.3706          0.6559  0.9314         0.9346   \nTX_3 FOODS_1      2.7332          2.2206  2.1542         2.1356   \n     FOODS_2      1.3682          1.4195  1.4254         1.4277   \n     FOODS_3      0.9672          1.1046  1.0692         1.0493   \n     HOBBIES_1    1.5309          0.9025  0.9404         0.9370   \n     HOBBIES_2    1.4339          1.7212  1.1186         1.1152   \n     HOUSEHOLD_1  1.0738          1.0794  1.0248         1.0064   \n     HOUSEHOLD_2  0.8605          1.3137  1.0128         0.9889   \nWI_1 FOODS_1      0.9843          0.8454  1.0438         1.0400   \n     FOODS_2      2.1064          1.2493  1.6349         1.6291   \n     FOODS_3      1.6655          0.5440  1.1554         1.1465   \n     HOBBIES_1    1.3685          0.5084  0.7533         0.7533   \n     HOBBIES_2    1.1278          1.6404  1.2088         1.1990   \n     HOUSEHOLD_1  1.7201          0.6488  1.0982         1.0990   \n     HOUSEHOLD_2  1.7301          0.7509  1.1014         1.0997   \nWI_2 FOODS_1      2.4445          2.3635  2.2284         2.2117   \n     FOODS_2      2.4210          2.4925  2.4266         2.3733   \n     FOODS_3      1.3513          1.5445  1.3989         1.3654   \n     HOBBIES_1    1.3672          0.8269  0.7654         0.7546   \n     HOBBIES_2    1.1960          1.5164  1.2308         1.2258   \n     HOUSEHOLD_1  1.3142          1.0984  1.3773         1.3079   \n     HOUSEHOLD_2  1.4018          0.9766  0.9592         0.9494   \nWI_3 FOODS_1      1.0747          1.8678  1.3181         1.3046   \n     FOODS_2      1.2681          1.5464  1.3670         1.3453   \n     FOODS_3      1.0986          0.7701  1.1102         1.1284   \n     HOBBIES_1    0.9587          0.9150  0.9285         0.9285   \n     HOBBIES_2    1.5458          1.0980  0.9523         0.9468   \n     HOUSEHOLD_1  1.4203          0.6588  1.0787         1.0802   \n     HOUSEHOLD_2  1.9138          0.9144  1.3265         1.3268   \n\n                  Additive Holt-Winters  Weight  \nCA_1 FOODS_1                     0.7301  0.0052  \n     FOODS_2                     0.5930  0.0149  \n     FOODS_3                     0.5045  0.0419  \n     HOBBIES_1                   0.6311  0.0172  \n     HOBBIES_2                   0.7203  0.0006  \n     HOUSEHOLD_1                 0.4433  0.0228  \n     HOUSEHOLD_2                 0.5276  0.0083  \nCA_2 FOODS_1                     0.9718  0.0098  \n     FOODS_2                     1.2994  0.0130  \n     FOODS_3                     0.4787  0.0375  \n     HOBBIES_1                   0.6542  0.0116  \n     HOBBIES_2                   1.1641  0.0006  \n     HOUSEHOLD_1                 0.5825  0.0256  \n     HOUSEHOLD_2                 0.6657  0.0120  \nCA_3 FOODS_1                     1.4614  0.0079  \n     FOODS_2                     0.5757  0.0197  \n     FOODS_3                     0.4651  0.0539  \n     HOBBIES_1                   0.5044  0.0173  \n     HOBBIES_2                   1.5301  0.0009  \n     HOUSEHOLD_1                 0.6702  0.0437  \n     HOUSEHOLD_2                 0.9476  0.0122  \nCA_4 FOODS_1                     1.3407  0.0042  \n     FOODS_2                     0.7788  0.0100  \n     FOODS_3                     0.6654  0.0227  \n     HOBBIES_1                   0.9135  0.0103  \n     HOBBIES_2                   1.8942  0.0003  \n     HOUSEHOLD_1                 0.9713  0.0128  \n     HOUSEHOLD_2                 0.8276  0.0054  \nTX_1 FOODS_1                     1.6203  0.0045  \n     FOODS_2                     0.7974  0.0100  \n     FOODS_3                     0.6257  0.0267  \n     HOBBIES_1                   0.7062  0.0085  \n     HOBBIES_2                   1.4833  0.0005  \n     HOUSEHOLD_1                 0.7947  0.0210  \n     HOUSEHOLD_2                 0.9494  0.0063  \nTX_2 FOODS_1                     1.4472  0.0050  \n     FOODS_2                     0.6776  0.0113  \n     FOODS_3                     0.6042  0.0342  \n     HOBBIES_1                   0.7272  0.0138  \n     HOBBIES_2                   1.0058  0.0007  \n     HOUSEHOLD_1                 0.6500  0.0231  \n     HOUSEHOLD_2                 0.4521  0.0071  \nTX_3 FOODS_1                     2.1921  0.0065  \n     FOODS_2                     1.5317  0.0131  \n     FOODS_3                     1.0362  0.0302  \n     HOBBIES_1                   0.7358  0.0169  \n     HOBBIES_2                   1.1117  0.0009  \n     HOUSEHOLD_1                 0.9092  0.0230  \n     HOUSEHOLD_2                 0.8839  0.0059  \nWI_1 FOODS_1                     0.8368  0.0063  \n     FOODS_2                     1.3021  0.0166  \n     FOODS_3                     0.4636  0.0302  \n     HOBBIES_1                   0.4667  0.0111  \n     HOBBIES_2                   1.2137  0.0005  \n     HOUSEHOLD_1                 0.6417  0.0163  \n     HOUSEHOLD_2                 0.5725  0.0061  \nWI_2 FOODS_1                     2.2762  0.0082  \n     FOODS_2                     2.4971  0.0305  \n     FOODS_3                     1.4620  0.0403  \n     HOBBIES_1                   0.7281  0.0081  \n     HOBBIES_2                   1.2142  0.0005  \n     HOUSEHOLD_1                 1.0693  0.0241  \n     HOUSEHOLD_2                 0.7440  0.0049  \nWI_3 FOODS_1                     1.3642  0.0051  \n     FOODS_2                     1.6313  0.0155  \n     FOODS_3                     0.8766  0.0336  \n     HOBBIES_1                   0.7590  0.0072  \n     HOBBIES_2                   0.9386  0.0005  \n     HOUSEHOLD_1                 0.6792  0.0172  \n     HOUSEHOLD_2                 0.8683  0.0055  "
     },
     "execution_count": 70,
     "metadata": {},
     "output_type": "execute_result"
    }
   ],
   "source": [
    "pd.set_option('max_rows', None)\r\n",
    "lvl9_rmsse = pd.DataFrame(rmsse_res, index=train.columns)\r\n",
    "\r\n",
    "lvl9_weights = (df_weights[df_weights['Level_id'] == 'Level9']\r\n",
    "                .set_index(['Agg_Level_1', 'Agg_Level_2'])[['Weight']])\r\n",
    "\r\n",
    "lvl9_fin = pd.concat([lvl9_rmsse, lvl9_weights], axis=1)\r\n",
    "lvl9_fin\r\n"
   ]
  },
  {
   "cell_type": "code",
   "execution_count": 73,
   "metadata": {},
   "outputs": [
    {
     "data": {
      "text/html": "<div>\n<style scoped>\n    .dataframe tbody tr th:only-of-type {\n        vertical-align: middle;\n    }\n\n    .dataframe tbody tr th {\n        vertical-align: top;\n    }\n\n    .dataframe thead th {\n        text-align: right;\n    }\n</style>\n<table border=\"1\" class=\"dataframe\">\n  <thead>\n    <tr style=\"text-align: right;\">\n      <th></th>\n      <th>WRMSSE</th>\n    </tr>\n  </thead>\n  <tbody>\n    <tr>\n      <th>Naive</th>\n      <td>1.6286</td>\n    </tr>\n    <tr>\n      <th>S. Naive</th>\n      <td>0.9300</td>\n    </tr>\n    <tr>\n      <th>SES</th>\n      <td>1.2075</td>\n    </tr>\n    <tr>\n      <th>Holt's Linear</th>\n      <td>1.2367</td>\n    </tr>\n    <tr>\n      <th>Additive Holt-Winters</th>\n      <td>0.8549</td>\n    </tr>\n  </tbody>\n</table>\n</div>",
      "text/plain": "                       WRMSSE\nNaive                  1.6286\nS. Naive               0.9300\nSES                    1.2075\nHolt's Linear          1.2367\nAdditive Holt-Winters  0.8549"
     },
     "execution_count": 73,
     "metadata": {},
     "output_type": "execute_result"
    }
   ],
   "source": [
    "lvl9_wrmsse = {'Naive': sum(lvl9_fin['Naive'] * lvl9_fin['Weight']),\r\n",
    "               'S. Naive': sum(lvl9_fin['Seasonal Naive'] * \r\n",
    "                                lvl9_fin['Weight']),\r\n",
    "               'SES': sum(lvl9_fin['SES'] * lvl9_fin['Weight']),\r\n",
    "               'Holt\\'s Linear': sum(lvl9_fin['Holt\\'s Linear'] * \r\n",
    "                                      lvl9_fin['Weight']),\r\n",
    "               'Additive Holt-Winters': sum(lvl9_fin['Additive Holt-Winters'] \r\n",
    "                                             * lvl9_fin['Weight'])}\r\n",
    "pd.DataFrame.from_dict(lvl9_wrmsse, orient='index', columns=['WRMSSE'])"
   ]
  },
  {
   "cell_type": "code",
   "execution_count": 72,
   "metadata": {},
   "outputs": [
    {
     "data": {
      "text/plain": "1.458257712456372"
     },
     "execution_count": 72,
     "metadata": {},
     "output_type": "execute_result"
    }
   ],
   "source": [
    "k = naivef(train[('CA_1', 'HOBBIES_1')], 28)\r\n",
    "rmsse(test[('CA_1', 'HOBBIES_1')], k, train[('CA_1', 'HOBBIES_1')])"
   ]
  },
  {
   "cell_type": "markdown",
   "metadata": {},
   "source": [
    "# Q7: Top-Down Function"
   ]
  },
  {
   "cell_type": "code",
   "execution_count": null,
   "metadata": {},
   "outputs": [],
   "source": [
    "def compute_topdown(df_pred, level, approach='AHP'):\r\n",
    "    \"\"\"Returns\"\"\""
   ]
  },
  {
   "cell_type": "code",
   "execution_count": null,
   "metadata": {},
   "outputs": [],
   "source": [
    "df_full"
   ]
  },
  {
   "cell_type": "code",
   "execution_count": null,
   "metadata": {},
   "outputs": [],
   "source": []
  },
  {
   "cell_type": "code",
   "execution_count": null,
   "metadata": {},
   "outputs": [],
   "source": []
  },
  {
   "cell_type": "markdown",
   "metadata": {},
   "source": []
  }
 ],
 "metadata": {
  "interpreter": {
   "hash": "b84722a2237ea4e76e3b068d2d807dd9d200e54df4e3f2dfc10ea86b09cc83b9"
  },
  "kernelspec": {
   "display_name": "Python 3.8.5 64-bit ('base': conda)",
   "name": "python3"
  },
  "language_info": {
   "codemirror_mode": {
    "name": "ipython",
    "version": 3
   },
   "file_extension": ".py",
   "mimetype": "text/x-python",
   "name": "python",
   "nbconvert_exporter": "python",
   "pygments_lexer": "ipython3",
   "version": "3.8.5"
  },
  "orig_nbformat": 2
 },
 "nbformat": 4,
 "nbformat_minor": 2
}