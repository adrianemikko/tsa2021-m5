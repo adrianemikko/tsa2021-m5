{
 "cells": [
  {
   "cell_type": "markdown",
   "metadata": {},
   "source": [
    "# Time Series Analysis: \"The Final Project\"\r\n",
    "\r\n",
    "`End? No, the journey doesn't end here. Death is just another path. One that we all must take.\r\n",
    "-J.R.R. Tolkien, The Return of the King`"
   ]
  },
  {
   "cell_type": "markdown",
   "metadata": {},
   "source": [
    "---\r\n",
    "\r\n",
    "## Libraries"
   ]
  },
  {
   "cell_type": "code",
   "execution_count": 6,
   "metadata": {},
   "outputs": [],
   "source": [
    "from statsmodels.tsa.exponential_smoothing.ets import ETSModel\r\n",
    "import statsmodels.api as sm\r\n",
    "import numpy as np\r\n",
    "import pandas as pd\r\n",
    "import seaborn as sns\r\n",
    "import matplotlib.pyplot as plt\r\n",
    "import lightgbm as lgb\r\n",
    "from pandas.plotting import register_matplotlib_converters\r\n",
    "from IPython.display import display\r\n",
    "from tsa_tools import *  # Hehe\r\n",
    "\r\n",
    "register_matplotlib_converters()\r\n",
    "sns.set_style('darkgrid')\r\n",
    "\r\n",
    "np.set_printoptions(precision=4)\r\n",
    "pd.set_option('precision', 4)"
   ]
  },
  {
   "cell_type": "markdown",
   "metadata": {},
   "source": [
    "---\r\n",
    "\r\n",
    "## M5 Forecasting\r\n",
    "\r\n",
    "For this \"final project\", we will be forecasting the <b><u>level 9</b></u> series (unit sales of all products, aggregated for each store and department).\r\n",
    "\r\n",
    "Load `sales_train_evaluation.csv` and use observations from `d_1 to d_1913` for training and `d_1914 to d_1941` for testing."
   ]
  },
  {
   "cell_type": "code",
   "execution_count": 3,
   "metadata": {},
   "outputs": [],
   "source": [
    "df_calendar = pd.read_csv('../data/m5/calendar.csv')\r\n",
    "df_sales = pd.read_csv('../data/m5/sales_train_evaluation.csv')\r\n",
    "df_weights = pd.read_csv('../data/m5/weights_validation.csv')\r\n",
    "# display(df_calendar, df_sales, df_weights)"
   ]
  },
  {
   "cell_type": "code",
   "execution_count": 4,
   "metadata": {},
   "outputs": [],
   "source": [
    "train_df = (df_sales.set_index([*df_sales.columns[5::-1]]).T\r\n",
    "           .set_index(pd.DatetimeIndex(df_calendar.date)[:1941]).iloc[:-28])\r\n",
    "test_df = (df_sales.set_index([*df_sales.columns[5::-1]]).T\r\n",
    "           .set_index(pd.DatetimeIndex(df_calendar.date)[:1941]).iloc[-28:])\r\n",
    "# display(train_df, test_df)"
   ]
  },
  {
   "cell_type": "code",
   "execution_count": 5,
   "metadata": {},
   "outputs": [],
   "source": [
    "levels = {\r\n",
    "    1: None,\r\n",
    "    2: \"state_id\",\r\n",
    "    3: \"store_id\",\r\n",
    "    4: \"cat_id\",\r\n",
    "    5: \"dept_id\",\r\n",
    "    6: [\"state_id\", \"cat_id\"],\r\n",
    "    7: [\"state_id\", \"dept_id\"],\r\n",
    "    8: [\"store_id\", \"cat_id\"],\r\n",
    "    9: [\"store_id\", \"dept_id\"],\r\n",
    "    10: \"item_id\",\r\n",
    "    11: [\"state_id\", \"item_id\"],\r\n",
    "    12: [\"store_id\", \"item_id\"]\r\n",
    "}"
   ]
  },
  {
   "cell_type": "code",
   "execution_count": 6,
   "metadata": {},
   "outputs": [],
   "source": [
    "train_df_9 = timeSeriesFiltering(\r\n",
    "    train_df.sum(axis='columns', level=levels[9]), lower=10)\r\n",
    "trainOG_df_9 = train_df.sum(axis='columns', level=levels[9])\r\n",
    "test_df_9 = test_df.sum(axis='columns', level=levels[9])\r\n",
    "weights_df_9 = (df_weights\r\n",
    "                .loc[df_weights['Level_id'] == 'Level9']\r\n",
    "                .set_index(['Agg_Level_1', 'Agg_Level_2'])[['Weight']])"
   ]
  },
  {
   "cell_type": "markdown",
   "metadata": {},
   "source": [
    "---\r\n",
    "\r\n",
    "## Part 5. King of the Hill (20 pts.)\r\n",
    "\r\n",
    "Using whatever methods/models you desire, beat the best `WRMSSE` score in Q5.\r\n",
    "\r\n",
    "<b><u>Do not tune your model using the test set!</b></u> If you do, you will not get points for this part."
   ]
  },
  {
   "cell_type": "markdown",
   "metadata": {},
   "source": [
    "### Q8. (10 pts.)\r\n",
    "\r\n",
    "Describe your methodology here. \r\n",
    "\r\n",
    "Points will be awarded for <b>aesthetics</b> (ex. use of diagrams), <b>ease of reading</b>, <b>clarity</b>, and <b>brevity</b>.\r\n",
    "\r\n",
    "Points will be deducted for <b>excessively long</b> walls of text and descriptions."
   ]
  },
  {
   "cell_type": "markdown",
   "metadata": {},
   "source": [
    "<img src=\"Slide1.png\" width=\"800\" />\r\n",
    "<img src=\"Slide2.png\" width=\"800\" />\r\n",
    "<img src=\"Slide3.png\" width=\"800\" />\r\n",
    "<img src=\"Slide4.png\" width=\"800\" />\r\n",
    "<img src=\"Slide5.png\" width=\"800\" />\r\n",
    "<img src=\"Slide6.png\" width=\"800\" />"
   ]
  },
  {
   "cell_type": "markdown",
   "metadata": {},
   "source": []
  },
  {
   "cell_type": "markdown",
   "metadata": {},
   "source": [
    "### Q9. (10 pts.)\r\n",
    "\r\n",
    "This part is for your actual code."
   ]
  },
  {
   "cell_type": "code",
   "execution_count": 7,
   "metadata": {},
   "outputs": [],
   "source": [
    "tscv = TimeSeriesSplit(n_splits=3, test_size=28, )\r\n",
    "methods = {\r\n",
    "    \"Seasonal Naive\": {\r\n",
    "        'meta': 'base', \r\n",
    "        'model':BaseFuncModel(snaivef, m=7)},\r\n",
    "    \"SES\": {\r\n",
    "        'meta': 'stat',\r\n",
    "        'model': StatsModelsWrapper(ETSModel, trend=None, seasonal=None)},\r\n",
    "    \"Holt's Linear\": {\r\n",
    "        'meta': 'stat',\r\n",
    "        'model': StatsModelsWrapper(ETSModel, trend='add', seasonal=None)},\r\n",
    "    \"Additive Holt-Winters\": {\r\n",
    "        'meta': 'stat',\r\n",
    "        'model': StatsModelsWrapper(\r\n",
    "            ETSModel, seasonal_periods=7, trend='add', seasonal='add')},\r\n",
    "    \"RecursiveRegressor(LGBMRegressor)\": {\r\n",
    "        'meta': 'ml_recursive',\r\n",
    "        'model': RecursiveRegressor(\r\n",
    "            lgb.LGBMRegressor(random_state=1, w=84, h=28, n_jobs=-1))},\r\n",
    "    \"MultiOutputRegressor(LGBMRegressor)\":{\r\n",
    "        'meta': 'ml_direct',\r\n",
    "        'model': MultiOutputRegressor(\r\n",
    "            lgb.LGBMRegressor(random_state=1, n_jobs=-1),n_jobs=-1)},\r\n",
    "    \"RegressorChain(LGBMRegressor)\": {\r\n",
    "        'meta': 'ml_direct',\r\n",
    "        'model': RegressorChain(\r\n",
    "            lgb.LGBMRegressor(random_state=1, n_jobs=-1))},\r\n",
    "    \"Combo(LGBMRegressor)\": {\r\n",
    "        'meta': 'combo',\r\n",
    "        'model': [\r\n",
    "            RecursiveRegressor(\r\n",
    "                lgb.LGBMRegressor(random_state=1, w=84, h=28, n_jobs=-1)),\r\n",
    "            MultiOutputRegressor(\r\n",
    "                lgb.LGBMRegressor(random_state=1, n_jobs=-1),n_jobs=-1)\r\n",
    "        ]}\r\n",
    "}"
   ]
  },
  {
   "cell_type": "code",
   "execution_count": null,
   "metadata": {},
   "outputs": [],
   "source": [
    "for col in train_df_9:\r\n",
    "    print(col)\r\n",
    "    methods = evaluate_methods(\r\n",
    "        methods,\r\n",
    "        X=train_df_9[col],\r\n",
    "        XOG=trainOG_df_9[col],\r\n",
    "        tscv=tscv,\r\n",
    "        col=col,\r\n",
    "        w=84,\r\n",
    "        h=28)"
   ]
  },
  {
   "cell_type": "code",
   "execution_count": 10,
   "metadata": {},
   "outputs": [
    {
     "data": {
      "text/html": "<div>\n<style scoped>\n    .dataframe tbody tr th:only-of-type {\n        vertical-align: middle;\n    }\n\n    .dataframe tbody tr th {\n        vertical-align: top;\n    }\n\n    .dataframe thead th {\n        text-align: right;\n    }\n</style>\n<table border=\"1\" class=\"dataframe\">\n  <thead>\n    <tr style=\"text-align: right;\">\n      <th></th>\n      <th></th>\n      <th>Seasonal Naive</th>\n      <th>SES</th>\n      <th>Holt's Linear</th>\n      <th>Additive Holt-Winters</th>\n      <th>RecursiveRegressor(LGBMRegressor)</th>\n      <th>MultiOutputRegressor(LGBMRegressor)</th>\n      <th>RegressorChain(LGBMRegressor)</th>\n      <th>Combo(LGBMRegressor)</th>\n    </tr>\n  </thead>\n  <tbody>\n    <tr>\n      <th rowspan=\"5\" valign=\"top\">CA_1</th>\n      <th>HOBBIES_1</th>\n      <td>112.5315</td>\n      <td>102.1342</td>\n      <td>102.2342</td>\n      <td>89.0478</td>\n      <td>88.1818</td>\n      <td>91.9518</td>\n      <td>90.5094</td>\n      <td>89.2338</td>\n    </tr>\n    <tr>\n      <th>HOBBIES_2</th>\n      <td>17.1085</td>\n      <td>13.3313</td>\n      <td>13.4002</td>\n      <td>11.8658</td>\n      <td>13.7598</td>\n      <td>14.0885</td>\n      <td>12.5092</td>\n      <td>13.3713</td>\n    </tr>\n    <tr>\n      <th>HOUSEHOLD_1</th>\n      <td>124.7181</td>\n      <td>182.9850</td>\n      <td>183.3727</td>\n      <td>80.5718</td>\n      <td>77.1174</td>\n      <td>78.3647</td>\n      <td>76.8850</td>\n      <td>76.4375</td>\n    </tr>\n    <tr>\n      <th>HOUSEHOLD_2</th>\n      <td>42.9325</td>\n      <td>54.9331</td>\n      <td>54.7421</td>\n      <td>31.1680</td>\n      <td>32.8088</td>\n      <td>34.2279</td>\n      <td>34.3215</td>\n      <td>33.1396</td>\n    </tr>\n    <tr>\n      <th>FOODS_1</th>\n      <td>96.5581</td>\n      <td>115.3984</td>\n      <td>113.5375</td>\n      <td>92.5809</td>\n      <td>83.4848</td>\n      <td>71.9233</td>\n      <td>74.6178</td>\n      <td>75.9609</td>\n    </tr>\n    <tr>\n      <th>...</th>\n      <th>...</th>\n      <td>...</td>\n      <td>...</td>\n      <td>...</td>\n      <td>...</td>\n      <td>...</td>\n      <td>...</td>\n      <td>...</td>\n      <td>...</td>\n    </tr>\n    <tr>\n      <th rowspan=\"5\" valign=\"top\">WI_3</th>\n      <th>HOUSEHOLD_1</th>\n      <td>119.6917</td>\n      <td>151.5976</td>\n      <td>151.4656</td>\n      <td>100.3098</td>\n      <td>96.1385</td>\n      <td>96.7119</td>\n      <td>95.9121</td>\n      <td>93.5357</td>\n    </tr>\n    <tr>\n      <th>HOUSEHOLD_2</th>\n      <td>28.4814</td>\n      <td>38.4835</td>\n      <td>38.4900</td>\n      <td>27.9321</td>\n      <td>26.6128</td>\n      <td>29.6885</td>\n      <td>27.0664</td>\n      <td>27.0069</td>\n    </tr>\n    <tr>\n      <th>FOODS_1</th>\n      <td>85.1284</td>\n      <td>95.9297</td>\n      <td>96.3109</td>\n      <td>86.2128</td>\n      <td>67.6526</td>\n      <td>65.7408</td>\n      <td>64.0030</td>\n      <td>65.1575</td>\n    </tr>\n    <tr>\n      <th>FOODS_2</th>\n      <td>192.7013</td>\n      <td>167.3461</td>\n      <td>166.0414</td>\n      <td>180.1888</td>\n      <td>109.7245</td>\n      <td>103.9821</td>\n      <td>111.8733</td>\n      <td>104.1259</td>\n    </tr>\n    <tr>\n      <th>FOODS_3</th>\n      <td>401.1326</td>\n      <td>471.3999</td>\n      <td>490.9567</td>\n      <td>307.5882</td>\n      <td>272.5932</td>\n      <td>261.8917</td>\n      <td>259.7017</td>\n      <td>255.9858</td>\n    </tr>\n  </tbody>\n</table>\n<p>70 rows × 8 columns</p>\n</div>",
      "text/plain": "                  Seasonal Naive       SES  Holt's Linear  \\\nCA_1 HOBBIES_1          112.5315  102.1342       102.2342   \n     HOBBIES_2           17.1085   13.3313        13.4002   \n     HOUSEHOLD_1        124.7181  182.9850       183.3727   \n     HOUSEHOLD_2         42.9325   54.9331        54.7421   \n     FOODS_1             96.5581  115.3984       113.5375   \n...                          ...       ...            ...   \nWI_3 HOUSEHOLD_1        119.6917  151.5976       151.4656   \n     HOUSEHOLD_2         28.4814   38.4835        38.4900   \n     FOODS_1             85.1284   95.9297        96.3109   \n     FOODS_2            192.7013  167.3461       166.0414   \n     FOODS_3            401.1326  471.3999       490.9567   \n\n                  Additive Holt-Winters  RecursiveRegressor(LGBMRegressor)  \\\nCA_1 HOBBIES_1                  89.0478                            88.1818   \n     HOBBIES_2                  11.8658                            13.7598   \n     HOUSEHOLD_1                80.5718                            77.1174   \n     HOUSEHOLD_2                31.1680                            32.8088   \n     FOODS_1                    92.5809                            83.4848   \n...                                 ...                                ...   \nWI_3 HOUSEHOLD_1               100.3098                            96.1385   \n     HOUSEHOLD_2                27.9321                            26.6128   \n     FOODS_1                    86.2128                            67.6526   \n     FOODS_2                   180.1888                           109.7245   \n     FOODS_3                   307.5882                           272.5932   \n\n                  MultiOutputRegressor(LGBMRegressor)  \\\nCA_1 HOBBIES_1                                91.9518   \n     HOBBIES_2                                14.0885   \n     HOUSEHOLD_1                              78.3647   \n     HOUSEHOLD_2                              34.2279   \n     FOODS_1                                  71.9233   \n...                                               ...   \nWI_3 HOUSEHOLD_1                              96.7119   \n     HOUSEHOLD_2                              29.6885   \n     FOODS_1                                  65.7408   \n     FOODS_2                                 103.9821   \n     FOODS_3                                 261.8917   \n\n                  RegressorChain(LGBMRegressor)  Combo(LGBMRegressor)  \nCA_1 HOBBIES_1                          90.5094               89.2338  \n     HOBBIES_2                          12.5092               13.3713  \n     HOUSEHOLD_1                        76.8850               76.4375  \n     HOUSEHOLD_2                        34.3215               33.1396  \n     FOODS_1                            74.6178               75.9609  \n...                                         ...                   ...  \nWI_3 HOUSEHOLD_1                        95.9121               93.5357  \n     HOUSEHOLD_2                        27.0664               27.0069  \n     FOODS_1                            64.0030               65.1575  \n     FOODS_2                           111.8733              104.1259  \n     FOODS_3                           259.7017              255.9858  \n\n[70 rows x 8 columns]"
     },
     "execution_count": 10,
     "metadata": {},
     "output_type": "execute_result"
    }
   ],
   "source": [
    "rmse_scores = score_reveal(methods)\r\n",
    "rmse_scores"
   ]
  },
  {
   "cell_type": "code",
   "execution_count": 11,
   "metadata": {},
   "outputs": [
    {
     "data": {
      "text/plain": "CA_1  HOBBIES_1        RecursiveRegressor(LGBMRegressor)\n      HOBBIES_2                    Additive Holt-Winters\n      HOUSEHOLD_1                   Combo(LGBMRegressor)\n      HOUSEHOLD_2                  Additive Holt-Winters\n      FOODS_1        MultiOutputRegressor(LGBMRegressor)\n                                    ...                 \nWI_3  HOUSEHOLD_1                   Combo(LGBMRegressor)\n      HOUSEHOLD_2      RecursiveRegressor(LGBMRegressor)\n      FOODS_1              RegressorChain(LGBMRegressor)\n      FOODS_2        MultiOutputRegressor(LGBMRegressor)\n      FOODS_3                       Combo(LGBMRegressor)\nLength: 70, dtype: object"
     },
     "execution_count": 11,
     "metadata": {},
     "output_type": "execute_result"
    }
   ],
   "source": [
    "best_models = rmse_scores.apply(lambda x: x.idxmin(), axis=1)\r\n",
    "best_models"
   ]
  },
  {
   "cell_type": "code",
   "execution_count": 12,
   "metadata": {},
   "outputs": [
    {
     "data": {
      "text/plain": "Additive Holt-Winters                  27\nCombo(LGBMRegressor)                   10\nRegressorChain(LGBMRegressor)          10\nRecursiveRegressor(LGBMRegressor)      10\nMultiOutputRegressor(LGBMRegressor)     9\nSES                                     3\nHolt's Linear                           1\ndtype: int64"
     },
     "execution_count": 12,
     "metadata": {},
     "output_type": "execute_result"
    }
   ],
   "source": [
    "best_models.value_counts()"
   ]
  },
  {
   "cell_type": "code",
   "execution_count": 15,
   "metadata": {},
   "outputs": [],
   "source": [
    "model = ensemble2(col_assignment=best_models.to_dict(), methods=methods, w=84, h=28)\r\n",
    "model.fit(train_df_9)"
   ]
  },
  {
   "cell_type": "code",
   "execution_count": null,
   "metadata": {},
   "outputs": [
    {
     "data": {
      "text/html": "<div>\n<style scoped>\n    .dataframe tbody tr th:only-of-type {\n        vertical-align: middle;\n    }\n\n    .dataframe tbody tr th {\n        vertical-align: top;\n    }\n\n    .dataframe thead tr th {\n        text-align: left;\n    }\n</style>\n<table border=\"1\" class=\"dataframe\">\n  <thead>\n    <tr>\n      <th></th>\n      <th colspan=\"7\" halign=\"left\">CA_1</th>\n      <th colspan=\"3\" halign=\"left\">CA_2</th>\n      <th>...</th>\n      <th colspan=\"3\" halign=\"left\">WI_2</th>\n      <th colspan=\"7\" halign=\"left\">WI_3</th>\n    </tr>\n    <tr>\n      <th></th>\n      <th>HOBBIES_1</th>\n      <th>HOBBIES_2</th>\n      <th>HOUSEHOLD_1</th>\n      <th>HOUSEHOLD_2</th>\n      <th>FOODS_1</th>\n      <th>FOODS_2</th>\n      <th>FOODS_3</th>\n      <th>HOBBIES_1</th>\n      <th>HOBBIES_2</th>\n      <th>HOUSEHOLD_1</th>\n      <th>...</th>\n      <th>FOODS_1</th>\n      <th>FOODS_2</th>\n      <th>FOODS_3</th>\n      <th>HOBBIES_1</th>\n      <th>HOBBIES_2</th>\n      <th>HOUSEHOLD_1</th>\n      <th>HOUSEHOLD_2</th>\n      <th>FOODS_1</th>\n      <th>FOODS_2</th>\n      <th>FOODS_3</th>\n    </tr>\n  </thead>\n  <tbody>\n    <tr>\n      <th>0</th>\n      <td>437.5033</td>\n      <td>39.0957</td>\n      <td>763.9959</td>\n      <td>207.2370</td>\n      <td>266.7877</td>\n      <td>509.9272</td>\n      <td>1925.1010</td>\n      <td>320.4134</td>\n      <td>39.3100</td>\n      <td>666.1571</td>\n      <td>...</td>\n      <td>320.4731</td>\n      <td>964.3415</td>\n      <td>1868.7333</td>\n      <td>218.7019</td>\n      <td>29.3937</td>\n      <td>527.0088</td>\n      <td>159.2782</td>\n      <td>271.9992</td>\n      <td>436.9822</td>\n      <td>1605.3610</td>\n    </tr>\n    <tr>\n      <th>1</th>\n      <td>392.2056</td>\n      <td>38.7922</td>\n      <td>654.6803</td>\n      <td>189.0628</td>\n      <td>242.2286</td>\n      <td>405.2741</td>\n      <td>1777.0478</td>\n      <td>349.0217</td>\n      <td>34.7580</td>\n      <td>602.7528</td>\n      <td>...</td>\n      <td>333.5456</td>\n      <td>721.1611</td>\n      <td>1640.8760</td>\n      <td>208.3781</td>\n      <td>30.4984</td>\n      <td>537.2347</td>\n      <td>139.6441</td>\n      <td>294.1283</td>\n      <td>382.8208</td>\n      <td>1620.5203</td>\n    </tr>\n    <tr>\n      <th>2</th>\n      <td>423.5902</td>\n      <td>40.4461</td>\n      <td>619.8833</td>\n      <td>189.6468</td>\n      <td>283.8521</td>\n      <td>348.0841</td>\n      <td>1754.3820</td>\n      <td>280.4951</td>\n      <td>41.5079</td>\n      <td>602.8867</td>\n      <td>...</td>\n      <td>343.4532</td>\n      <td>710.5954</td>\n      <td>1680.4127</td>\n      <td>216.6801</td>\n      <td>31.0335</td>\n      <td>509.2187</td>\n      <td>132.3633</td>\n      <td>242.3489</td>\n      <td>359.9844</td>\n      <td>1562.3207</td>\n    </tr>\n    <tr>\n      <th>3</th>\n      <td>406.6826</td>\n      <td>39.1083</td>\n      <td>593.2084</td>\n      <td>197.6096</td>\n      <td>300.6551</td>\n      <td>372.3611</td>\n      <td>1844.6085</td>\n      <td>350.8923</td>\n      <td>37.9551</td>\n      <td>599.6201</td>\n      <td>...</td>\n      <td>339.3687</td>\n      <td>802.8031</td>\n      <td>1688.3539</td>\n      <td>224.5160</td>\n      <td>31.2705</td>\n      <td>552.2354</td>\n      <td>142.5043</td>\n      <td>229.3149</td>\n      <td>354.8844</td>\n      <td>1490.6989</td>\n    </tr>\n    <tr>\n      <th>4</th>\n      <td>453.2403</td>\n      <td>43.9026</td>\n      <td>688.9625</td>\n      <td>226.5993</td>\n      <td>344.9472</td>\n      <td>518.5610</td>\n      <td>2073.3072</td>\n      <td>427.0443</td>\n      <td>41.1714</td>\n      <td>765.0730</td>\n      <td>...</td>\n      <td>380.7957</td>\n      <td>713.4821</td>\n      <td>2152.6675</td>\n      <td>285.1761</td>\n      <td>32.4132</td>\n      <td>661.9132</td>\n      <td>176.8324</td>\n      <td>278.5479</td>\n      <td>468.2096</td>\n      <td>1740.4981</td>\n    </tr>\n    <tr>\n      <th>5</th>\n      <td>580.0852</td>\n      <td>50.3332</td>\n      <td>1028.9997</td>\n      <td>290.3485</td>\n      <td>400.7362</td>\n      <td>592.5850</td>\n      <td>2682.3390</td>\n      <td>467.5930</td>\n      <td>52.6185</td>\n      <td>1077.7876</td>\n      <td>...</td>\n      <td>405.5013</td>\n      <td>835.2595</td>\n      <td>2311.1217</td>\n      <td>314.2479</td>\n      <td>33.0978</td>\n      <td>809.0336</td>\n      <td>206.3580</td>\n      <td>337.2512</td>\n      <td>538.8162</td>\n      <td>2519.8603</td>\n    </tr>\n    <tr>\n      <th>6</th>\n      <td>516.6611</td>\n      <td>52.1988</td>\n      <td>1084.4108</td>\n      <td>280.3655</td>\n      <td>351.8076</td>\n      <td>662.2098</td>\n      <td>2926.0347</td>\n      <td>456.7799</td>\n      <td>48.7608</td>\n      <td>1117.9953</td>\n      <td>...</td>\n      <td>349.6992</td>\n      <td>1033.3559</td>\n      <td>2383.4232</td>\n      <td>244.0840</td>\n      <td>32.2626</td>\n      <td>841.5723</td>\n      <td>206.3033</td>\n      <td>283.7687</td>\n      <td>591.0831</td>\n      <td>2432.8251</td>\n    </tr>\n    <tr>\n      <th>7</th>\n      <td>461.4200</td>\n      <td>39.1899</td>\n      <td>774.8963</td>\n      <td>207.5895</td>\n      <td>266.4044</td>\n      <td>510.1214</td>\n      <td>2140.1317</td>\n      <td>318.7420</td>\n      <td>32.7714</td>\n      <td>667.6338</td>\n      <td>...</td>\n      <td>320.8609</td>\n      <td>1306.3273</td>\n      <td>2591.0659</td>\n      <td>218.8100</td>\n      <td>29.4570</td>\n      <td>625.0542</td>\n      <td>155.6883</td>\n      <td>252.6107</td>\n      <td>579.6351</td>\n      <td>1792.5438</td>\n    </tr>\n    <tr>\n      <th>8</th>\n      <td>406.5608</td>\n      <td>38.8864</td>\n      <td>669.6527</td>\n      <td>189.4153</td>\n      <td>274.1547</td>\n      <td>474.5079</td>\n      <td>1948.6778</td>\n      <td>318.5709</td>\n      <td>37.6144</td>\n      <td>604.2295</td>\n      <td>...</td>\n      <td>333.9334</td>\n      <td>1380.8530</td>\n      <td>2449.1456</td>\n      <td>208.4862</td>\n      <td>30.5617</td>\n      <td>584.6945</td>\n      <td>136.9481</td>\n      <td>278.5121</td>\n      <td>720.1154</td>\n      <td>2050.8738</td>\n    </tr>\n    <tr>\n      <th>9</th>\n      <td>439.8678</td>\n      <td>40.5403</td>\n      <td>642.2546</td>\n      <td>189.9993</td>\n      <td>250.8226</td>\n      <td>491.0791</td>\n      <td>1899.5062</td>\n      <td>319.1154</td>\n      <td>39.6117</td>\n      <td>604.3635</td>\n      <td>...</td>\n      <td>343.8410</td>\n      <td>1586.7742</td>\n      <td>2655.3447</td>\n      <td>216.7883</td>\n      <td>31.0968</td>\n      <td>595.5331</td>\n      <td>141.5213</td>\n      <td>230.4024</td>\n      <td>612.6808</td>\n      <td>1902.4786</td>\n    </tr>\n    <tr>\n      <th>10</th>\n      <td>410.4082</td>\n      <td>39.2025</td>\n      <td>634.9184</td>\n      <td>197.9621</td>\n      <td>300.3507</td>\n      <td>478.0818</td>\n      <td>1845.9984</td>\n      <td>362.4959</td>\n      <td>41.2234</td>\n      <td>601.0968</td>\n      <td>...</td>\n      <td>339.7565</td>\n      <td>1421.9335</td>\n      <td>2664.2943</td>\n      <td>224.6241</td>\n      <td>31.3337</td>\n      <td>637.4726</td>\n      <td>144.3738</td>\n      <td>217.0874</td>\n      <td>532.2141</td>\n      <td>1879.4150</td>\n    </tr>\n    <tr>\n      <th>11</th>\n      <td>504.4875</td>\n      <td>43.9968</td>\n      <td>804.9454</td>\n      <td>226.9518</td>\n      <td>357.3245</td>\n      <td>585.9167</td>\n      <td>2131.2749</td>\n      <td>394.4333</td>\n      <td>51.5402</td>\n      <td>766.5497</td>\n      <td>...</td>\n      <td>381.1835</td>\n      <td>1454.7442</td>\n      <td>2765.1528</td>\n      <td>285.2842</td>\n      <td>32.4765</td>\n      <td>743.2088</td>\n      <td>178.4994</td>\n      <td>253.1619</td>\n      <td>641.6629</td>\n      <td>2155.3431</td>\n    </tr>\n    <tr>\n      <th>12</th>\n      <td>589.0777</td>\n      <td>50.4274</td>\n      <td>1058.8714</td>\n      <td>290.7011</td>\n      <td>457.7425</td>\n      <td>713.5284</td>\n      <td>2625.3539</td>\n      <td>476.4257</td>\n      <td>50.1408</td>\n      <td>1079.2643</td>\n      <td>...</td>\n      <td>405.8891</td>\n      <td>1655.6166</td>\n      <td>2993.4483</td>\n      <td>314.3560</td>\n      <td>33.1611</td>\n      <td>826.6714</td>\n      <td>197.1254</td>\n      <td>309.1335</td>\n      <td>816.7338</td>\n      <td>2797.1571</td>\n    </tr>\n    <tr>\n      <th>13</th>\n      <td>577.3892</td>\n      <td>52.2930</td>\n      <td>927.3517</td>\n      <td>280.7180</td>\n      <td>373.2274</td>\n      <td>710.9126</td>\n      <td>2985.1508</td>\n      <td>457.2294</td>\n      <td>49.7115</td>\n      <td>1119.4720</td>\n      <td>...</td>\n      <td>350.0871</td>\n      <td>1507.0139</td>\n      <td>2782.9057</td>\n      <td>244.1921</td>\n      <td>32.3259</td>\n      <td>813.5846</td>\n      <td>198.6690</td>\n      <td>264.5677</td>\n      <td>814.9714</td>\n      <td>2644.2355</td>\n    </tr>\n    <tr>\n      <th>14</th>\n      <td>464.7283</td>\n      <td>39.2841</td>\n      <td>753.1826</td>\n      <td>207.9420</td>\n      <td>285.9629</td>\n      <td>572.7136</td>\n      <td>2141.5748</td>\n      <td>305.3235</td>\n      <td>33.8597</td>\n      <td>669.1105</td>\n      <td>...</td>\n      <td>321.2488</td>\n      <td>1624.9390</td>\n      <td>2850.7330</td>\n      <td>218.9181</td>\n      <td>29.5203</td>\n      <td>583.5231</td>\n      <td>169.0947</td>\n      <td>227.5847</td>\n      <td>667.2641</td>\n      <td>2161.5545</td>\n    </tr>\n    <tr>\n      <th>15</th>\n      <td>477.6738</td>\n      <td>38.9806</td>\n      <td>651.8784</td>\n      <td>189.7678</td>\n      <td>289.3044</td>\n      <td>485.3668</td>\n      <td>1870.4277</td>\n      <td>292.2392</td>\n      <td>35.7904</td>\n      <td>605.7062</td>\n      <td>...</td>\n      <td>334.3212</td>\n      <td>1710.7301</td>\n      <td>2563.2396</td>\n      <td>208.5944</td>\n      <td>30.6250</td>\n      <td>498.9942</td>\n      <td>143.0937</td>\n      <td>214.0719</td>\n      <td>655.6733</td>\n      <td>1987.1169</td>\n    </tr>\n    <tr>\n      <th>16</th>\n      <td>449.3603</td>\n      <td>40.6345</td>\n      <td>607.0223</td>\n      <td>190.3518</td>\n      <td>340.1288</td>\n      <td>457.0679</td>\n      <td>1842.7475</td>\n      <td>309.3083</td>\n      <td>38.7258</td>\n      <td>605.8402</td>\n      <td>...</td>\n      <td>344.2288</td>\n      <td>1311.4817</td>\n      <td>2396.4343</td>\n      <td>216.8964</td>\n      <td>31.1601</td>\n      <td>479.2624</td>\n      <td>135.6589</td>\n      <td>184.6062</td>\n      <td>590.9947</td>\n      <td>1716.3742</td>\n    </tr>\n    <tr>\n      <th>17</th>\n      <td>408.6097</td>\n      <td>39.2967</td>\n      <td>641.7250</td>\n      <td>198.3146</td>\n      <td>350.8922</td>\n      <td>402.1455</td>\n      <td>1847.9103</td>\n      <td>304.2859</td>\n      <td>35.1682</td>\n      <td>602.5735</td>\n      <td>...</td>\n      <td>340.1444</td>\n      <td>1597.2741</td>\n      <td>2512.8257</td>\n      <td>224.7322</td>\n      <td>31.3970</td>\n      <td>511.1530</td>\n      <td>139.9801</td>\n      <td>219.2014</td>\n      <td>596.0342</td>\n      <td>1998.4985</td>\n    </tr>\n    <tr>\n      <th>18</th>\n      <td>431.7140</td>\n      <td>44.0910</td>\n      <td>717.3441</td>\n      <td>227.3043</td>\n      <td>370.4809</td>\n      <td>458.6446</td>\n      <td>2082.2765</td>\n      <td>362.2918</td>\n      <td>48.0371</td>\n      <td>768.0264</td>\n      <td>...</td>\n      <td>381.5714</td>\n      <td>1642.1615</td>\n      <td>2845.3863</td>\n      <td>285.3924</td>\n      <td>32.5398</td>\n      <td>654.7115</td>\n      <td>186.9437</td>\n      <td>243.5368</td>\n      <td>684.7995</td>\n      <td>2244.1276</td>\n    </tr>\n    <tr>\n      <th>19</th>\n      <td>575.4122</td>\n      <td>50.5216</td>\n      <td>1050.0140</td>\n      <td>291.0536</td>\n      <td>460.1207</td>\n      <td>620.8623</td>\n      <td>2577.9228</td>\n      <td>482.9737</td>\n      <td>48.0719</td>\n      <td>1080.7410</td>\n      <td>...</td>\n      <td>406.2769</td>\n      <td>1347.4423</td>\n      <td>2705.9925</td>\n      <td>314.4641</td>\n      <td>33.2244</td>\n      <td>754.8531</td>\n      <td>212.2526</td>\n      <td>318.0478</td>\n      <td>675.4671</td>\n      <td>2999.7963</td>\n    </tr>\n    <tr>\n      <th>20</th>\n      <td>559.2288</td>\n      <td>52.3872</td>\n      <td>1041.3984</td>\n      <td>281.0705</td>\n      <td>424.8669</td>\n      <td>737.3921</td>\n      <td>2902.4068</td>\n      <td>447.6957</td>\n      <td>50.7547</td>\n      <td>1120.9487</td>\n      <td>...</td>\n      <td>350.4749</td>\n      <td>1522.6719</td>\n      <td>2782.8213</td>\n      <td>244.3003</td>\n      <td>32.3892</td>\n      <td>758.7605</td>\n      <td>197.3749</td>\n      <td>249.8689</td>\n      <td>732.0805</td>\n      <td>2694.9966</td>\n    </tr>\n    <tr>\n      <th>21</th>\n      <td>513.5346</td>\n      <td>39.3783</td>\n      <td>764.7825</td>\n      <td>208.2945</td>\n      <td>343.1479</td>\n      <td>520.1686</td>\n      <td>1932.6558</td>\n      <td>284.5568</td>\n      <td>39.8421</td>\n      <td>670.5872</td>\n      <td>...</td>\n      <td>321.6366</td>\n      <td>1386.7300</td>\n      <td>2315.4674</td>\n      <td>219.0262</td>\n      <td>29.5836</td>\n      <td>570.4549</td>\n      <td>157.2949</td>\n      <td>219.3658</td>\n      <td>515.1770</td>\n      <td>2082.6145</td>\n    </tr>\n    <tr>\n      <th>22</th>\n      <td>412.3940</td>\n      <td>39.0748</td>\n      <td>649.4966</td>\n      <td>190.1204</td>\n      <td>326.5434</td>\n      <td>444.9639</td>\n      <td>1768.1819</td>\n      <td>322.8635</td>\n      <td>36.0866</td>\n      <td>607.1829</td>\n      <td>...</td>\n      <td>334.7091</td>\n      <td>1053.7888</td>\n      <td>2088.8557</td>\n      <td>208.7025</td>\n      <td>30.6883</td>\n      <td>465.0989</td>\n      <td>142.3897</td>\n      <td>221.8785</td>\n      <td>517.4066</td>\n      <td>1836.9092</td>\n    </tr>\n    <tr>\n      <th>23</th>\n      <td>420.7540</td>\n      <td>40.7287</td>\n      <td>629.8517</td>\n      <td>190.7044</td>\n      <td>317.8152</td>\n      <td>427.8329</td>\n      <td>1733.0222</td>\n      <td>324.9148</td>\n      <td>44.0998</td>\n      <td>607.3169</td>\n      <td>...</td>\n      <td>344.6167</td>\n      <td>1011.0699</td>\n      <td>1912.1911</td>\n      <td>217.0045</td>\n      <td>31.2234</td>\n      <td>493.6202</td>\n      <td>131.4269</td>\n      <td>220.8927</td>\n      <td>463.9866</td>\n      <td>1740.6435</td>\n    </tr>\n    <tr>\n      <th>24</th>\n      <td>461.0836</td>\n      <td>39.3909</td>\n      <td>637.7166</td>\n      <td>198.6671</td>\n      <td>315.9579</td>\n      <td>399.3173</td>\n      <td>1841.6854</td>\n      <td>276.5927</td>\n      <td>36.1385</td>\n      <td>604.0502</td>\n      <td>...</td>\n      <td>340.5322</td>\n      <td>1054.5371</td>\n      <td>1939.8015</td>\n      <td>224.8403</td>\n      <td>31.4603</td>\n      <td>520.5877</td>\n      <td>131.9461</td>\n      <td>216.5492</td>\n      <td>497.4900</td>\n      <td>1716.8389</td>\n    </tr>\n    <tr>\n      <th>25</th>\n      <td>450.1613</td>\n      <td>44.1852</td>\n      <td>751.6506</td>\n      <td>227.6569</td>\n      <td>366.6447</td>\n      <td>495.0518</td>\n      <td>2140.8349</td>\n      <td>386.3287</td>\n      <td>49.3624</td>\n      <td>769.5031</td>\n      <td>...</td>\n      <td>381.9592</td>\n      <td>880.2083</td>\n      <td>2131.9451</td>\n      <td>285.5005</td>\n      <td>32.6031</td>\n      <td>662.8528</td>\n      <td>187.9913</td>\n      <td>241.0851</td>\n      <td>505.2561</td>\n      <td>2025.7888</td>\n    </tr>\n    <tr>\n      <th>26</th>\n      <td>577.6936</td>\n      <td>50.6158</td>\n      <td>997.5750</td>\n      <td>291.4061</td>\n      <td>468.6073</td>\n      <td>549.7108</td>\n      <td>2603.9882</td>\n      <td>523.8308</td>\n      <td>55.8692</td>\n      <td>1082.2178</td>\n      <td>...</td>\n      <td>406.6648</td>\n      <td>967.7575</td>\n      <td>2275.2201</td>\n      <td>314.5723</td>\n      <td>33.2877</td>\n      <td>839.8977</td>\n      <td>192.1006</td>\n      <td>330.1365</td>\n      <td>542.2555</td>\n      <td>2418.7706</td>\n    </tr>\n    <tr>\n      <th>27</th>\n      <td>568.9221</td>\n      <td>52.4814</td>\n      <td>1059.0841</td>\n      <td>281.4230</td>\n      <td>380.0597</td>\n      <td>629.6233</td>\n      <td>2887.6528</td>\n      <td>436.3182</td>\n      <td>45.1361</td>\n      <td>1122.4254</td>\n      <td>...</td>\n      <td>350.8627</td>\n      <td>1026.4923</td>\n      <td>2260.7351</td>\n      <td>244.4084</td>\n      <td>32.4525</td>\n      <td>736.9703</td>\n      <td>203.0252</td>\n      <td>263.5786</td>\n      <td>523.8469</td>\n      <td>2177.3086</td>\n    </tr>\n  </tbody>\n</table>\n<p>28 rows × 70 columns</p>\n</div>",
      "text/plain": "        CA_1                                                                   \\\n   HOBBIES_1 HOBBIES_2 HOUSEHOLD_1 HOUSEHOLD_2   FOODS_1   FOODS_2    FOODS_3   \n0   437.5033   39.0957    763.9959    207.2370  266.7877  509.9272  1925.1010   \n1   392.2056   38.7922    654.6803    189.0628  242.2286  405.2741  1777.0478   \n2   423.5902   40.4461    619.8833    189.6468  283.8521  348.0841  1754.3820   \n3   406.6826   39.1083    593.2084    197.6096  300.6551  372.3611  1844.6085   \n4   453.2403   43.9026    688.9625    226.5993  344.9472  518.5610  2073.3072   \n5   580.0852   50.3332   1028.9997    290.3485  400.7362  592.5850  2682.3390   \n6   516.6611   52.1988   1084.4108    280.3655  351.8076  662.2098  2926.0347   \n7   461.4200   39.1899    774.8963    207.5895  266.4044  510.1214  2140.1317   \n8   406.5608   38.8864    669.6527    189.4153  274.1547  474.5079  1948.6778   \n9   439.8678   40.5403    642.2546    189.9993  250.8226  491.0791  1899.5062   \n10  410.4082   39.2025    634.9184    197.9621  300.3507  478.0818  1845.9984   \n11  504.4875   43.9968    804.9454    226.9518  357.3245  585.9167  2131.2749   \n12  589.0777   50.4274   1058.8714    290.7011  457.7425  713.5284  2625.3539   \n13  577.3892   52.2930    927.3517    280.7180  373.2274  710.9126  2985.1508   \n14  464.7283   39.2841    753.1826    207.9420  285.9629  572.7136  2141.5748   \n15  477.6738   38.9806    651.8784    189.7678  289.3044  485.3668  1870.4277   \n16  449.3603   40.6345    607.0223    190.3518  340.1288  457.0679  1842.7475   \n17  408.6097   39.2967    641.7250    198.3146  350.8922  402.1455  1847.9103   \n18  431.7140   44.0910    717.3441    227.3043  370.4809  458.6446  2082.2765   \n19  575.4122   50.5216   1050.0140    291.0536  460.1207  620.8623  2577.9228   \n20  559.2288   52.3872   1041.3984    281.0705  424.8669  737.3921  2902.4068   \n21  513.5346   39.3783    764.7825    208.2945  343.1479  520.1686  1932.6558   \n22  412.3940   39.0748    649.4966    190.1204  326.5434  444.9639  1768.1819   \n23  420.7540   40.7287    629.8517    190.7044  317.8152  427.8329  1733.0222   \n24  461.0836   39.3909    637.7166    198.6671  315.9579  399.3173  1841.6854   \n25  450.1613   44.1852    751.6506    227.6569  366.6447  495.0518  2140.8349   \n26  577.6936   50.6158    997.5750    291.4061  468.6073  549.7108  2603.9882   \n27  568.9221   52.4814   1059.0841    281.4230  380.0597  629.6233  2887.6528   \n\n        CA_2                        ...      WI_2                        \\\n   HOBBIES_1 HOBBIES_2 HOUSEHOLD_1  ...   FOODS_1    FOODS_2    FOODS_3   \n0   320.4134   39.3100    666.1571  ...  320.4731   964.3415  1868.7333   \n1   349.0217   34.7580    602.7528  ...  333.5456   721.1611  1640.8760   \n2   280.4951   41.5079    602.8867  ...  343.4532   710.5954  1680.4127   \n3   350.8923   37.9551    599.6201  ...  339.3687   802.8031  1688.3539   \n4   427.0443   41.1714    765.0730  ...  380.7957   713.4821  2152.6675   \n5   467.5930   52.6185   1077.7876  ...  405.5013   835.2595  2311.1217   \n6   456.7799   48.7608   1117.9953  ...  349.6992  1033.3559  2383.4232   \n7   318.7420   32.7714    667.6338  ...  320.8609  1306.3273  2591.0659   \n8   318.5709   37.6144    604.2295  ...  333.9334  1380.8530  2449.1456   \n9   319.1154   39.6117    604.3635  ...  343.8410  1586.7742  2655.3447   \n10  362.4959   41.2234    601.0968  ...  339.7565  1421.9335  2664.2943   \n11  394.4333   51.5402    766.5497  ...  381.1835  1454.7442  2765.1528   \n12  476.4257   50.1408   1079.2643  ...  405.8891  1655.6166  2993.4483   \n13  457.2294   49.7115   1119.4720  ...  350.0871  1507.0139  2782.9057   \n14  305.3235   33.8597    669.1105  ...  321.2488  1624.9390  2850.7330   \n15  292.2392   35.7904    605.7062  ...  334.3212  1710.7301  2563.2396   \n16  309.3083   38.7258    605.8402  ...  344.2288  1311.4817  2396.4343   \n17  304.2859   35.1682    602.5735  ...  340.1444  1597.2741  2512.8257   \n18  362.2918   48.0371    768.0264  ...  381.5714  1642.1615  2845.3863   \n19  482.9737   48.0719   1080.7410  ...  406.2769  1347.4423  2705.9925   \n20  447.6957   50.7547   1120.9487  ...  350.4749  1522.6719  2782.8213   \n21  284.5568   39.8421    670.5872  ...  321.6366  1386.7300  2315.4674   \n22  322.8635   36.0866    607.1829  ...  334.7091  1053.7888  2088.8557   \n23  324.9148   44.0998    607.3169  ...  344.6167  1011.0699  1912.1911   \n24  276.5927   36.1385    604.0502  ...  340.5322  1054.5371  1939.8015   \n25  386.3287   49.3624    769.5031  ...  381.9592   880.2083  2131.9451   \n26  523.8308   55.8692   1082.2178  ...  406.6648   967.7575  2275.2201   \n27  436.3182   45.1361   1122.4254  ...  350.8627  1026.4923  2260.7351   \n\n        WI_3                                                                   \n   HOBBIES_1 HOBBIES_2 HOUSEHOLD_1 HOUSEHOLD_2   FOODS_1   FOODS_2    FOODS_3  \n0   218.7019   29.3937    527.0088    159.2782  271.9992  436.9822  1605.3610  \n1   208.3781   30.4984    537.2347    139.6441  294.1283  382.8208  1620.5203  \n2   216.6801   31.0335    509.2187    132.3633  242.3489  359.9844  1562.3207  \n3   224.5160   31.2705    552.2354    142.5043  229.3149  354.8844  1490.6989  \n4   285.1761   32.4132    661.9132    176.8324  278.5479  468.2096  1740.4981  \n5   314.2479   33.0978    809.0336    206.3580  337.2512  538.8162  2519.8603  \n6   244.0840   32.2626    841.5723    206.3033  283.7687  591.0831  2432.8251  \n7   218.8100   29.4570    625.0542    155.6883  252.6107  579.6351  1792.5438  \n8   208.4862   30.5617    584.6945    136.9481  278.5121  720.1154  2050.8738  \n9   216.7883   31.0968    595.5331    141.5213  230.4024  612.6808  1902.4786  \n10  224.6241   31.3337    637.4726    144.3738  217.0874  532.2141  1879.4150  \n11  285.2842   32.4765    743.2088    178.4994  253.1619  641.6629  2155.3431  \n12  314.3560   33.1611    826.6714    197.1254  309.1335  816.7338  2797.1571  \n13  244.1921   32.3259    813.5846    198.6690  264.5677  814.9714  2644.2355  \n14  218.9181   29.5203    583.5231    169.0947  227.5847  667.2641  2161.5545  \n15  208.5944   30.6250    498.9942    143.0937  214.0719  655.6733  1987.1169  \n16  216.8964   31.1601    479.2624    135.6589  184.6062  590.9947  1716.3742  \n17  224.7322   31.3970    511.1530    139.9801  219.2014  596.0342  1998.4985  \n18  285.3924   32.5398    654.7115    186.9437  243.5368  684.7995  2244.1276  \n19  314.4641   33.2244    754.8531    212.2526  318.0478  675.4671  2999.7963  \n20  244.3003   32.3892    758.7605    197.3749  249.8689  732.0805  2694.9966  \n21  219.0262   29.5836    570.4549    157.2949  219.3658  515.1770  2082.6145  \n22  208.7025   30.6883    465.0989    142.3897  221.8785  517.4066  1836.9092  \n23  217.0045   31.2234    493.6202    131.4269  220.8927  463.9866  1740.6435  \n24  224.8403   31.4603    520.5877    131.9461  216.5492  497.4900  1716.8389  \n25  285.5005   32.6031    662.8528    187.9913  241.0851  505.2561  2025.7888  \n26  314.5723   33.2877    839.8977    192.1006  330.1365  542.2555  2418.7706  \n27  244.4084   32.4525    736.9703    203.0252  263.5786  523.8469  2177.3086  \n\n[28 rows x 70 columns]"
     },
     "execution_count": 16,
     "metadata": {},
     "output_type": "execute_result"
    }
   ],
   "source": [
    "df_pred_9_ensemble2 = model.predict(trainOG_df_9)\r\n",
    "df_pred_9_ensemble2"
   ]
  },
  {
   "cell_type": "code",
   "execution_count": 17,
   "metadata": {},
   "outputs": [
    {
     "data": {
      "text/plain": "Agg_Level_1  Agg_Level_2\nCA_1         HOBBIES_1      0.7412\n             HOBBIES_2      0.6931\n             HOUSEHOLD_1    0.3584\n             HOUSEHOLD_2    0.5141\n             FOODS_1        0.5867\n                             ...  \nWI_3         HOUSEHOLD_1    0.7166\n             HOUSEHOLD_2    0.7675\n             FOODS_1        1.6214\n             FOODS_2        0.8506\n             FOODS_3        0.4849\nName: RMSSE, Length: 70, dtype: float64"
     },
     "execution_count": 17,
     "metadata": {},
     "output_type": "execute_result"
    }
   ],
   "source": [
    "df_res_9_esemble2 = rateMyForecast(\r\n",
    "    trainOG_df_9, test_df_9, df_pred_9_ensemble2)['RMSSE']\r\n",
    "df_res_9_esemble2.index = pd.MultiIndex.from_tuples(\r\n",
    "    df_res_9_esemble2.index, names=['Agg_Level_1', 'Agg_Level_2'])\r\n",
    "df_res_9_esemble2"
   ]
  },
  {
   "cell_type": "markdown",
   "metadata": {},
   "source": [
    "### THE RESULT"
   ]
  },
  {
   "cell_type": "code",
   "execution_count": 18,
   "metadata": {},
   "outputs": [
    {
     "data": {
      "text/plain": "0.7259427322254518"
     },
     "execution_count": 18,
     "metadata": {},
     "output_type": "execute_result"
    }
   ],
   "source": [
    "df_res_9_esemble2.multiply(weights_df_9.squeeze(), axis=0).sum()"
   ]
  }
 ],
 "metadata": {
  "kernelspec": {
   "display_name": "Python 3",
   "language": "python",
   "name": "python3"
  },
  "language_info": {
   "codemirror_mode": {
    "name": "ipython",
    "version": 3
   },
   "file_extension": ".py",
   "mimetype": "text/x-python",
   "name": "python",
   "nbconvert_exporter": "python",
   "pygments_lexer": "ipython3",
   "version": "3.8.5"
  },
  "latex_envs": {
   "LaTeX_envs_menu_present": true,
   "autoclose": false,
   "autocomplete": true,
   "bibliofile": "biblio.bib",
   "cite_by": "apalike",
   "current_citInitial": 1,
   "eqLabelWithNumbers": true,
   "eqNumInitial": 1,
   "hotkeys": {
    "equation": "Ctrl-E",
    "itemize": "Ctrl-I"
   },
   "labels_anchors": false,
   "latex_user_defs": false,
   "report_style_numbering": false,
   "user_envs_cfg": false
  },
  "toc": {
   "base_numbering": 1,
   "nav_menu": {},
   "number_sections": true,
   "sideBar": true,
   "skip_h1_title": false,
   "title_cell": "Table of Contents",
   "title_sidebar": "Contents",
   "toc_cell": false,
   "toc_position": {},
   "toc_section_display": true,
   "toc_window_display": false
  },
  "varInspector": {
   "cols": {
    "lenName": 16,
    "lenType": 16,
    "lenVar": 40
   },
   "kernels_config": {
    "python": {
     "delete_cmd_postfix": "",
     "delete_cmd_prefix": "del ",
     "library": "var_list.py",
     "varRefreshCmd": "print(var_dic_list())"
    },
    "r": {
     "delete_cmd_postfix": ") ",
     "delete_cmd_prefix": "rm(",
     "library": "var_list.r",
     "varRefreshCmd": "cat(var_dic_list()) "
    }
   },
   "types_to_exclude": [
    "module",
    "function",
    "builtin_function_or_method",
    "instance",
    "_Feature"
   ],
   "window_display": false
  }
 },
 "nbformat": 4,
 "nbformat_minor": 4
}