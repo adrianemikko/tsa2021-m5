{
 "cells": [
  {
   "cell_type": "markdown",
   "metadata": {},
   "source": [
    "# Time Series Analysis: \"The Final Project\"\n",
    "\n",
    "`End? No, the journey doesn't end here. Death is just another path. One that we all must take.\n",
    "-J.R.R. Tolkien, The Return of the King`"
   ]
  },
  {
   "cell_type": "markdown",
   "metadata": {},
   "source": [
    "---\n",
    "\n",
    "## Libraries"
   ]
  },
  {
   "cell_type": "code",
   "execution_count": 1,
   "metadata": {
    "ExecuteTime": {
     "end_time": "2021-04-29T14:16:26.233939Z",
     "start_time": "2021-04-29T14:16:23.925390Z"
    }
   },
   "outputs": [],
   "source": [
    "import numpy as np\n",
    "import pandas as pd\n",
    "import seaborn as sns\n",
    "import matplotlib.pyplot as plt\n",
    "import lightgbm as lgb\n",
    "from pandas.plotting import register_matplotlib_converters\n",
    "from IPython.display import display\n",
    "from tsa_functions import *\n",
    "\n",
    "register_matplotlib_converters()\n",
    "sns.set_style('darkgrid')\n",
    "\n",
    "np.set_printoptions(precision=4)\n",
    "pd.set_option('precision', 4)\n",
    "\n",
    "import statsmodels.api as sm\n",
    "from statsmodels.tsa.exponential_smoothing.ets import ETSModel\n",
    "\n",
    "def rmsse(y_true, y_pred, ts):\n",
    "    score = np.sqrt(np.mean((y_true - y_pred)**2)/np.mean((ts[1:] - ts[:-1])**2))\n",
    "    return score"
   ]
  },
  {
   "cell_type": "markdown",
   "metadata": {},
   "source": [
    "---\n",
    "\n",
    "## M5 Forecasting\n",
    "\n",
    "For this \"final project\", we will be forecasting the <b><u>level 9</b></u> series (unit sales of all products, aggregated for each store and department).\n",
    "\n",
    "Load `sales_train_evaluation.csv` and use observations from `d_1 to d_1913` for training and `d_1914 to d_1941` for testing."
   ]
  },
  {
   "cell_type": "code",
   "execution_count": 2,
   "metadata": {
    "ExecuteTime": {
     "end_time": "2021-04-29T14:16:26.239790Z",
     "start_time": "2021-04-29T14:16:26.236703Z"
    }
   },
   "outputs": [],
   "source": [
    "# Pre-processing code here"
   ]
  },
  {
   "cell_type": "markdown",
   "metadata": {},
   "source": [
    "---\n",
    "\n",
    "## Part 5. King of the Hill (20 pts.)\n",
    "\n",
    "Using whatever methods/models you desire, beat the best `WRMSSE` score in Q5.\n",
    "\n",
    "<b><u>Do not tune your model using the test set!</b></u> If you do, you will not get points for this part."
   ]
  },
  {
   "cell_type": "markdown",
   "metadata": {},
   "source": [
    "### Q8. (10 pts.)\n",
    "\n",
    "Describe your methodology here. \n",
    "\n",
    "Points will be awarded for <b>aesthetics</b> (ex. use of diagrams), <b>ease of reading</b>, <b>clarity</b>, and <b>brevity</b>.\n",
    "\n",
    "Points will be deducted for <b>excessively long</b> walls of text and descriptions."
   ]
  },
  {
   "cell_type": "markdown",
   "metadata": {},
   "source": [
    "ANSWER HERE."
   ]
  },
  {
   "cell_type": "markdown",
   "metadata": {},
   "source": [
    "### Q9. (10 pts.)\n",
    "\n",
    "This part is for your actual code."
   ]
  },
  {
   "cell_type": "code",
   "execution_count": 3,
   "metadata": {
    "ExecuteTime": {
     "end_time": "2021-04-29T14:16:26.244825Z",
     "start_time": "2021-04-29T14:16:26.242084Z"
    },
    "scrolled": true
   },
   "outputs": [],
   "source": [
    "# Your code here"
   ]
  }
 ],
 "metadata": {
  "kernelspec": {
   "display_name": "Python 3",
   "language": "python",
   "name": "python3"
  },
  "language_info": {
   "codemirror_mode": {
    "name": "ipython",
    "version": 3
   },
   "file_extension": ".py",
   "mimetype": "text/x-python",
   "name": "python",
   "nbconvert_exporter": "python",
   "pygments_lexer": "ipython3",
   "version": "3.8.8"
  },
  "latex_envs": {
   "LaTeX_envs_menu_present": true,
   "autoclose": false,
   "autocomplete": true,
   "bibliofile": "biblio.bib",
   "cite_by": "apalike",
   "current_citInitial": 1,
   "eqLabelWithNumbers": true,
   "eqNumInitial": 1,
   "hotkeys": {
    "equation": "Ctrl-E",
    "itemize": "Ctrl-I"
   },
   "labels_anchors": false,
   "latex_user_defs": false,
   "report_style_numbering": false,
   "user_envs_cfg": false
  }
 },
 "nbformat": 4,
 "nbformat_minor": 4
}
