{
 "cells": [
  {
   "cell_type": "markdown",
   "metadata": {},
   "source": [
    "# Time Series Analysis: \"The Final Project\"\n",
    "\n",
    "`End? No, the journey doesn't end here. Death is just another path. One that we all must take.\n",
    "-J.R.R. Tolkien, The Return of the King`"
   ]
  },
  {
   "cell_type": "markdown",
   "metadata": {},
   "source": [
    "---\n",
    "\n",
    "## Libraries"
   ]
  },
  {
   "cell_type": "code",
   "execution_count": 2,
   "metadata": {
    "ExecuteTime": {
     "end_time": "2021-04-29T10:32:16.820862Z",
     "start_time": "2021-04-29T10:32:15.178981Z"
    }
   },
   "outputs": [],
   "source": [
    "import numpy as np\r\n",
    "import pandas as pd\r\n",
    "import seaborn as sns\r\n",
    "import matplotlib.pyplot as plt\r\n",
    "import lightgbm as lgb\r\n",
    "from pandas.plotting import register_matplotlib_converters\r\n",
    "from IPython.display import display\r\n",
    "# from tsa_functions import *\r\n",
    "\r\n",
    "register_matplotlib_converters()\r\n",
    "sns.set_style('darkgrid')\r\n",
    "\r\n",
    "np.set_printoptions(precision=4)\r\n",
    "pd.set_option('precision', 4)\r\n",
    "\r\n",
    "import statsmodels.api as sm\r\n",
    "from statsmodels.tsa.exponential_smoothing.ets import ETSModel"
   ]
  },
  {
   "cell_type": "code",
   "execution_count": 3,
   "metadata": {
    "ExecuteTime": {
     "end_time": "2021-04-30T06:35:01.283103Z",
     "start_time": "2021-04-30T06:34:57.476083Z"
    }
   },
   "outputs": [],
   "source": [
    "from tsa_tools import *"
   ]
  },
  {
   "cell_type": "markdown",
   "metadata": {},
   "source": [
    "---\n",
    "\n",
    "## M5 Forecasting\n",
    "\n",
    "For this \"final project\", we will be forecasting the <b><u>level 9</b></u> series (unit sales of all products, aggregated for each store and department).\n",
    "\n",
    "Load `sales_train_evaluation.csv` and use observations from `d_1 to d_1913` for training and `d_1914 to d_1941` for testing."
   ]
  },
  {
   "cell_type": "code",
   "execution_count": 5,
   "metadata": {
    "ExecuteTime": {
     "end_time": "2021-04-29T10:32:22.526625Z",
     "start_time": "2021-04-29T10:32:16.824918Z"
    }
   },
   "outputs": [
    {
     "data": {
      "text/html": "<div>\n<style scoped>\n    .dataframe tbody tr th:only-of-type {\n        vertical-align: middle;\n    }\n\n    .dataframe tbody tr th {\n        vertical-align: top;\n    }\n\n    .dataframe thead th {\n        text-align: right;\n    }\n</style>\n<table border=\"1\" class=\"dataframe\">\n  <thead>\n    <tr style=\"text-align: right;\">\n      <th></th>\n      <th>date</th>\n      <th>wm_yr_wk</th>\n      <th>weekday</th>\n      <th>wday</th>\n      <th>month</th>\n      <th>year</th>\n      <th>d</th>\n      <th>event_name_1</th>\n      <th>event_type_1</th>\n      <th>event_name_2</th>\n      <th>event_type_2</th>\n      <th>snap_CA</th>\n      <th>snap_TX</th>\n      <th>snap_WI</th>\n    </tr>\n  </thead>\n  <tbody>\n    <tr>\n      <th>0</th>\n      <td>2011-01-29</td>\n      <td>11101</td>\n      <td>Saturday</td>\n      <td>1</td>\n      <td>1</td>\n      <td>2011</td>\n      <td>d_1</td>\n      <td>NaN</td>\n      <td>NaN</td>\n      <td>NaN</td>\n      <td>NaN</td>\n      <td>0</td>\n      <td>0</td>\n      <td>0</td>\n    </tr>\n    <tr>\n      <th>1</th>\n      <td>2011-01-30</td>\n      <td>11101</td>\n      <td>Sunday</td>\n      <td>2</td>\n      <td>1</td>\n      <td>2011</td>\n      <td>d_2</td>\n      <td>NaN</td>\n      <td>NaN</td>\n      <td>NaN</td>\n      <td>NaN</td>\n      <td>0</td>\n      <td>0</td>\n      <td>0</td>\n    </tr>\n    <tr>\n      <th>2</th>\n      <td>2011-01-31</td>\n      <td>11101</td>\n      <td>Monday</td>\n      <td>3</td>\n      <td>1</td>\n      <td>2011</td>\n      <td>d_3</td>\n      <td>NaN</td>\n      <td>NaN</td>\n      <td>NaN</td>\n      <td>NaN</td>\n      <td>0</td>\n      <td>0</td>\n      <td>0</td>\n    </tr>\n    <tr>\n      <th>3</th>\n      <td>2011-02-01</td>\n      <td>11101</td>\n      <td>Tuesday</td>\n      <td>4</td>\n      <td>2</td>\n      <td>2011</td>\n      <td>d_4</td>\n      <td>NaN</td>\n      <td>NaN</td>\n      <td>NaN</td>\n      <td>NaN</td>\n      <td>1</td>\n      <td>1</td>\n      <td>0</td>\n    </tr>\n    <tr>\n      <th>4</th>\n      <td>2011-02-02</td>\n      <td>11101</td>\n      <td>Wednesday</td>\n      <td>5</td>\n      <td>2</td>\n      <td>2011</td>\n      <td>d_5</td>\n      <td>NaN</td>\n      <td>NaN</td>\n      <td>NaN</td>\n      <td>NaN</td>\n      <td>1</td>\n      <td>0</td>\n      <td>1</td>\n    </tr>\n    <tr>\n      <th>...</th>\n      <td>...</td>\n      <td>...</td>\n      <td>...</td>\n      <td>...</td>\n      <td>...</td>\n      <td>...</td>\n      <td>...</td>\n      <td>...</td>\n      <td>...</td>\n      <td>...</td>\n      <td>...</td>\n      <td>...</td>\n      <td>...</td>\n      <td>...</td>\n    </tr>\n    <tr>\n      <th>1964</th>\n      <td>2016-06-15</td>\n      <td>11620</td>\n      <td>Wednesday</td>\n      <td>5</td>\n      <td>6</td>\n      <td>2016</td>\n      <td>d_1965</td>\n      <td>NaN</td>\n      <td>NaN</td>\n      <td>NaN</td>\n      <td>NaN</td>\n      <td>0</td>\n      <td>1</td>\n      <td>1</td>\n    </tr>\n    <tr>\n      <th>1965</th>\n      <td>2016-06-16</td>\n      <td>11620</td>\n      <td>Thursday</td>\n      <td>6</td>\n      <td>6</td>\n      <td>2016</td>\n      <td>d_1966</td>\n      <td>NaN</td>\n      <td>NaN</td>\n      <td>NaN</td>\n      <td>NaN</td>\n      <td>0</td>\n      <td>0</td>\n      <td>0</td>\n    </tr>\n    <tr>\n      <th>1966</th>\n      <td>2016-06-17</td>\n      <td>11620</td>\n      <td>Friday</td>\n      <td>7</td>\n      <td>6</td>\n      <td>2016</td>\n      <td>d_1967</td>\n      <td>NaN</td>\n      <td>NaN</td>\n      <td>NaN</td>\n      <td>NaN</td>\n      <td>0</td>\n      <td>0</td>\n      <td>0</td>\n    </tr>\n    <tr>\n      <th>1967</th>\n      <td>2016-06-18</td>\n      <td>11621</td>\n      <td>Saturday</td>\n      <td>1</td>\n      <td>6</td>\n      <td>2016</td>\n      <td>d_1968</td>\n      <td>NaN</td>\n      <td>NaN</td>\n      <td>NaN</td>\n      <td>NaN</td>\n      <td>0</td>\n      <td>0</td>\n      <td>0</td>\n    </tr>\n    <tr>\n      <th>1968</th>\n      <td>2016-06-19</td>\n      <td>11621</td>\n      <td>Sunday</td>\n      <td>2</td>\n      <td>6</td>\n      <td>2016</td>\n      <td>d_1969</td>\n      <td>NBAFinalsEnd</td>\n      <td>Sporting</td>\n      <td>Father's day</td>\n      <td>Cultural</td>\n      <td>0</td>\n      <td>0</td>\n      <td>0</td>\n    </tr>\n  </tbody>\n</table>\n<p>1969 rows × 14 columns</p>\n</div>",
      "text/plain": "            date  wm_yr_wk    weekday  wday  month  year       d  \\\n0     2011-01-29     11101   Saturday     1      1  2011     d_1   \n1     2011-01-30     11101     Sunday     2      1  2011     d_2   \n2     2011-01-31     11101     Monday     3      1  2011     d_3   \n3     2011-02-01     11101    Tuesday     4      2  2011     d_4   \n4     2011-02-02     11101  Wednesday     5      2  2011     d_5   \n...          ...       ...        ...   ...    ...   ...     ...   \n1964  2016-06-15     11620  Wednesday     5      6  2016  d_1965   \n1965  2016-06-16     11620   Thursday     6      6  2016  d_1966   \n1966  2016-06-17     11620     Friday     7      6  2016  d_1967   \n1967  2016-06-18     11621   Saturday     1      6  2016  d_1968   \n1968  2016-06-19     11621     Sunday     2      6  2016  d_1969   \n\n      event_name_1 event_type_1  event_name_2 event_type_2  snap_CA  snap_TX  \\\n0              NaN          NaN           NaN          NaN        0        0   \n1              NaN          NaN           NaN          NaN        0        0   \n2              NaN          NaN           NaN          NaN        0        0   \n3              NaN          NaN           NaN          NaN        1        1   \n4              NaN          NaN           NaN          NaN        1        0   \n...            ...          ...           ...          ...      ...      ...   \n1964           NaN          NaN           NaN          NaN        0        1   \n1965           NaN          NaN           NaN          NaN        0        0   \n1966           NaN          NaN           NaN          NaN        0        0   \n1967           NaN          NaN           NaN          NaN        0        0   \n1968  NBAFinalsEnd     Sporting  Father's day     Cultural        0        0   \n\n      snap_WI  \n0           0  \n1           0  \n2           0  \n3           0  \n4           1  \n...       ...  \n1964        1  \n1965        0  \n1966        0  \n1967        0  \n1968        0  \n\n[1969 rows x 14 columns]"
     },
     "execution_count": 5,
     "metadata": {},
     "output_type": "execute_result"
    }
   ],
   "source": [
    "pd.read_csv('../data/m5/calendar.csv')"
   ]
  },
  {
   "cell_type": "markdown",
   "metadata": {},
   "source": [
    "---\n",
    "\n",
    "## Part 1. Baseline Methods (10 pts.)"
   ]
  },
  {
   "cell_type": "markdown",
   "metadata": {},
   "source": [
    "### Q1. (10 pts.)\n",
    "\n",
    "Extract all level 9 series from the dataset.\n",
    "\n",
    "For each series, generate a 28-step forecast using the methods enumerated below and calculate the `RMSSE` against the test set:\n",
    "\n",
    "1. `Naive`\n",
    "\n",
    "\n",
    "2. `Seasonal Naive`\n",
    "\n",
    "\n",
    "3. `SES`\n",
    "\n",
    "\n",
    "4. `Holt's Linear`\n",
    "\n",
    "\n",
    "5. `Additive Holt-Winters`\n",
    "\n",
    "Summarize the metrics in a dataframe and print it."
   ]
  },
  {
   "cell_type": "code",
   "execution_count": null,
   "metadata": {
    "ExecuteTime": {
     "end_time": "2021-04-28T16:37:30.846487Z",
     "start_time": "2021-04-28T16:37:27.791260Z"
    },
    "scrolled": true
   },
   "outputs": [],
   "source": [
    "# Your code here"
   ]
  },
  {
   "cell_type": "markdown",
   "metadata": {},
   "source": [
    "---\n",
    "\n",
    "## Part 2. LightGBM (30 pts.)"
   ]
  },
  {
   "cell_type": "markdown",
   "metadata": {},
   "source": [
    "### Q2. (10 pts.)\n",
    "\n",
    "For all series, use an un-tuned `LightGBM` with 56-day lookback that uses a one-step recursive forecasting strategy to generate a 28-step forecast.\n",
    "\n",
    "Calculate the `RMSSE` against the test set, then summarize the metrics in a dataframe and print it."
   ]
  },
  {
   "cell_type": "code",
   "execution_count": null,
   "metadata": {},
   "outputs": [],
   "source": [
    "# Your code here"
   ]
  },
  {
   "cell_type": "markdown",
   "metadata": {},
   "source": [
    "### Q3. (10 pts.)\n",
    "\n",
    "For all series, use an un-tuned `LightGBM` with 56-day lookback that uses a direct forecasting strategy to generate a 28-step forecast.\n",
    "\n",
    "Calculate the `RMSSE` against the test set, then summarize the metrics in a dataframe and print it."
   ]
  },
  {
   "cell_type": "code",
   "execution_count": null,
   "metadata": {},
   "outputs": [],
   "source": [
    "# Your code here"
   ]
  },
  {
   "cell_type": "markdown",
   "metadata": {},
   "source": [
    "### Q4. (10 pts.)\n",
    "\n",
    "For all series, generate a 28-step forecast by combining the forecasts generated by the models in Q2 and Q3 (i.e. simple averaging).\n",
    "\n",
    "Calculate the `RMSSE` against the test set, then summarize the metrics in a dataframe and print it."
   ]
  },
  {
   "cell_type": "code",
   "execution_count": null,
   "metadata": {},
   "outputs": [],
   "source": [
    "# Your code here"
   ]
  },
  {
   "cell_type": "markdown",
   "metadata": {},
   "source": [
    "---\n",
    "\n",
    "## Part 3. WRMSSE (10 pts.)"
   ]
  },
  {
   "cell_type": "markdown",
   "metadata": {},
   "source": [
    "### Q5.  (10 pts.)\n",
    "\n",
    "Calculate the `WRMSSE` for the all the methods described above. The weights can be found in `weights_validation.csv`.\n",
    "\n",
    "For reference, the M5 benchmarks have the following `WRMSSE` scores at level 9:\n",
    "\n",
    "- `Naive` = <b>1.764</b>\n",
    "\n",
    "\n",
    "- `S.Naive` = <b>0.888</b>\n",
    "\n",
    "\n",
    "- `ES_bu` = <b>0.728</b>\n",
    "\n",
    "<i>Note: The M5 benchmarks use a bottom-up method for forecasting, so they will not necessarily be equal to your scores.</i>"
   ]
  },
  {
   "cell_type": "code",
   "execution_count": null,
   "metadata": {},
   "outputs": [],
   "source": [
    "# Your code here"
   ]
  },
  {
   "cell_type": "markdown",
   "metadata": {},
   "source": [
    "---\n",
    "\n",
    "## Part 4. Middle-Out Method (30 pts.)"
   ]
  },
  {
   "cell_type": "markdown",
   "metadata": {},
   "source": [
    "### Q6. Bottom-Up (15 pts.)\n",
    "\n",
    "Using your forecasts from the best performing method in Q5, use the bottom-up method described in [FPP3](https://otexts.com/fpp3/single-level.html) to generate forecasts for levels 1 to 8.\n",
    "\n",
    "Calculate the `WRMSSE` for levels 1 to 8 against the test set, then summarize the metrics in a dataframe and print it.\n",
    "\n",
    "For reference, you can find the benchmark `WRMSSE` scores in the `The M5 Accuracy competition: Results, findings and conclusions` paper.\n",
    "\n",
    "<i>Note: The M5 benchmarks use a bottom-up method for forecasting, so they will not necessarily be equal to your scores.</i>"
   ]
  },
  {
   "cell_type": "code",
   "execution_count": null,
   "metadata": {},
   "outputs": [],
   "source": [
    "# Your code here"
   ]
  },
  {
   "cell_type": "markdown",
   "metadata": {},
   "source": [
    "### Q7. Top-Down  (15 pts.)\n",
    "\n",
    "Using your forecasts from the best performing method in Q5, use the top-down method with `average historical proportions` described in [FPP3](https://otexts.com/fpp3/single-level.html) to generate forecasts for levels 10 to 12.\n",
    "\n",
    "Calculate the `WRMSSE` for levels 10 to 12  against the test set, then summarize the metrics in a dataframe and print it.\n",
    "\n",
    "For reference, you can find the benchmark `WRMSSE` scores in the `The M5 Accuracy competition: Results, findings and conclusions` paper.\n",
    "\n",
    "<i>Note: The M5 benchmarks use a bottom-up method for forecasting, so they will not necessarily be equal to your scores.</i>"
   ]
  },
  {
   "cell_type": "code",
   "execution_count": null,
   "metadata": {},
   "outputs": [],
   "source": [
    "# Your code here"
   ]
  }
 ],
 "metadata": {
  "kernelspec": {
   "display_name": "Python 3.8.5 64-bit ('base': conda)",
   "name": "python385jvsc74a57bd008ae71a2a85a5652d8229c397ba8f5798c36e68d48091d60cb62cd9611e9bf61"
  },
  "language_info": {
   "codemirror_mode": {
    "name": "ipython",
    "version": 3
   },
   "file_extension": ".py",
   "mimetype": "text/x-python",
   "name": "python",
   "nbconvert_exporter": "python",
   "pygments_lexer": "ipython3",
   "version": "3.8.5"
  },
  "latex_envs": {
   "LaTeX_envs_menu_present": true,
   "autoclose": false,
   "autocomplete": true,
   "bibliofile": "biblio.bib",
   "cite_by": "apalike",
   "current_citInitial": 1,
   "eqLabelWithNumbers": true,
   "eqNumInitial": 1,
   "hotkeys": {
    "equation": "Ctrl-E",
    "itemize": "Ctrl-I"
   },
   "labels_anchors": false,
   "latex_user_defs": false,
   "report_style_numbering": false,
   "user_envs_cfg": false
  },
  "toc": {
   "base_numbering": 1,
   "nav_menu": {},
   "number_sections": true,
   "sideBar": true,
   "skip_h1_title": false,
   "title_cell": "Table of Contents",
   "title_sidebar": "Contents",
   "toc_cell": false,
   "toc_position": {},
   "toc_section_display": true,
   "toc_window_display": false
  },
  "varInspector": {
   "cols": {
    "lenName": 16,
    "lenType": 16,
    "lenVar": 40
   },
   "kernels_config": {
    "python": {
     "delete_cmd_postfix": "",
     "delete_cmd_prefix": "del ",
     "library": "var_list.py",
     "varRefreshCmd": "print(var_dic_list())"
    },
    "r": {
     "delete_cmd_postfix": ") ",
     "delete_cmd_prefix": "rm(",
     "library": "var_list.r",
     "varRefreshCmd": "cat(var_dic_list()) "
    }
   },
   "types_to_exclude": [
    "module",
    "function",
    "builtin_function_or_method",
    "instance",
    "_Feature"
   ],
   "window_display": false
  }
 },
 "nbformat": 4,
 "nbformat_minor": 4
}