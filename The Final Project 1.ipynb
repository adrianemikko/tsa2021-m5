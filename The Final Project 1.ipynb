{
 "cells": [
  {
   "cell_type": "markdown",
   "metadata": {},
   "source": [
    "# Time Series Analysis: \"The Final Project\"\n",
    "\n",
    "`End? No, the journey doesn't end here. Death is just another path. One that we all must take.\n",
    "-J.R.R. Tolkien, The Return of the King`"
   ]
  },
  {
   "cell_type": "markdown",
   "metadata": {},
   "source": [
    "---\n",
    "\n",
    "## Libraries"
   ]
  },
  {
   "cell_type": "code",
   "execution_count": 2,
   "metadata": {},
   "outputs": [
    {
     "name": "stdout",
     "output_type": "stream",
     "text": [
      "C:\\Users\\aamorado\\Documents\\tsa2021-m5\n"
     ]
    }
   ],
   "source": [
    "%cd \"Documents\\tsa2021-m5\""
   ]
  },
  {
   "cell_type": "code",
   "execution_count": 108,
   "metadata": {
    "ExecuteTime": {
     "end_time": "2021-05-20T04:53:13.509210Z",
     "start_time": "2021-05-20T04:53:10.510536Z"
    }
   },
   "outputs": [],
   "source": [
    "from statsmodels.tsa.exponential_smoothing.ets import ETSModel\r\n",
    "import statsmodels.api as sm\r\n",
    "import numpy as np\r\n",
    "import pandas as pd\r\n",
    "import seaborn as sns\r\n",
    "import matplotlib.pyplot as plt\r\n",
    "import lightgbm as lgb\r\n",
    "from pandas.plotting import register_matplotlib_converters\r\n",
    "from IPython.display import display\r\n",
    "from tsa_tools import *  # Hehe\r\n",
    "import warnings\r\n",
    "\r\n",
    "register_matplotlib_converters()\r\n",
    "sns.set_style('darkgrid')\r\n",
    "\r\n",
    "np.set_printoptions(precision=4)\r\n",
    "pd.set_option('precision', 4)\r\n",
    "\r\n",
    "warnings.filterwarnings(\"ignore\")"
   ]
  },
  {
   "cell_type": "markdown",
   "metadata": {},
   "source": [
    "---\n",
    "\n",
    "## M5 Forecasting\n",
    "\n",
    "For this \"final project\", we will be forecasting the <b><u>level 9</b></u> series (unit sales of all products, aggregated for each store and department).\n",
    "\n",
    "Load `sales_train_evaluation.csv` and use observations from `d_1 to d_1913` for training and `d_1914 to d_1941` for testing."
   ]
  },
  {
   "cell_type": "code",
   "execution_count": 43,
   "metadata": {
    "ExecuteTime": {
     "end_time": "2021-05-20T04:53:16.881211Z",
     "start_time": "2021-05-20T04:53:13.510538Z"
    }
   },
   "outputs": [],
   "source": [
    "df_calendar = pd.read_csv('../data/m5/calendar.csv')\n",
    "df_sales = pd.read_csv('../data/m5/sales_train_evaluation.csv')\n",
    "df_weights = pd.read_csv('../data/m5/weights_validation.csv')\n",
    "# display(df_calendar, df_sales, df_weights)"
   ]
  },
  {
   "cell_type": "code",
   "execution_count": 3,
   "metadata": {
    "ExecuteTime": {
     "end_time": "2021-05-20T04:53:18.356274Z",
     "start_time": "2021-05-20T04:53:16.882209Z"
    }
   },
   "outputs": [],
   "source": [
    "train_df = (df_sales.set_index([*df_sales.columns[5::-1]]).T\n",
    "           .set_index(pd.DatetimeIndex(df_calendar.date)[:1941]).iloc[:-28])\n",
    "test_df = (df_sales.set_index([*df_sales.columns[5::-1]]).T\n",
    "           .set_index(pd.DatetimeIndex(df_calendar.date)[:1941]).iloc[-28:])\n",
    "# display(train_df, test_df)"
   ]
  },
  {
   "cell_type": "code",
   "execution_count": 4,
   "metadata": {
    "ExecuteTime": {
     "end_time": "2021-05-20T04:53:18.360263Z",
     "start_time": "2021-05-20T04:53:18.357272Z"
    }
   },
   "outputs": [],
   "source": [
    "levels = {\n",
    "    1: None,\n",
    "    2: \"state_id\",\n",
    "    3: \"store_id\",\n",
    "    4: \"cat_id\",\n",
    "    5: \"dept_id\",\n",
    "    6: [\"state_id\", \"cat_id\"],\n",
    "    7: [\"state_id\", \"dept_id\"],\n",
    "    8: [\"store_id\", \"cat_id\"],\n",
    "    9: [\"store_id\", \"dept_id\"],\n",
    "    10: \"item_id\",\n",
    "    11: [\"state_id\", \"item_id\"],\n",
    "    12: [\"store_id\", \"item_id\"]\n",
    "}"
   ]
  },
  {
   "cell_type": "markdown",
   "metadata": {},
   "source": [
    "---\n",
    "\n",
    "## Part 1. Baseline Methods (10 pts.)"
   ]
  },
  {
   "cell_type": "markdown",
   "metadata": {},
   "source": [
    "### Q1. (10 pts.)\n",
    "\n",
    "Extract all level 9 series from the dataset.\n",
    "\n",
    "For each series, generate a 28-step forecast using the methods enumerated below and calculate the `RMSSE` against the test set:\n",
    "\n",
    "1. `Naive`\n",
    "\n",
    "\n",
    "2. `Seasonal Naive`\n",
    "\n",
    "\n",
    "3. `SES`\n",
    "\n",
    "\n",
    "4. `Holt's Linear`\n",
    "\n",
    "\n",
    "5. `Additive Holt-Winters`\n",
    "\n",
    "Summarize the metrics in a dataframe and print it."
   ]
  },
  {
   "cell_type": "code",
   "execution_count": 5,
   "metadata": {
    "ExecuteTime": {
     "end_time": "2021-05-20T04:53:18.769172Z",
     "start_time": "2021-05-20T04:53:18.361261Z"
    },
    "scrolled": true
   },
   "outputs": [],
   "source": [
    "methods = {\r\n",
    "    \"Naive\": BaseFuncModel(naivef),\r\n",
    "    \"Seasonal Naive\": BaseFuncModel(snaivef, m=7),\r\n",
    "    \"SES\": StatsModelsWrapper(ETSModel, trend=None, seasonal=None),\r\n",
    "    \"Holt's Linear\": StatsModelsWrapper(ETSModel, trend='add', seasonal=None),\r\n",
    "    \"Additive Holt-Winters\": StatsModelsWrapper(\r\n",
    "        ETSModel, seasonal_periods=7, trend='add', seasonal='add'),\r\n",
    "}\r\n",
    "\r\n",
    "trainOG_df_9 = train_df.sum(axis='columns', level=levels[9])\r\n",
    "train_df_9 = timeSeriesFiltering(trainOG_df_9, lower=10)\r\n",
    "test_df_9 = test_df.sum(axis='columns', level=levels[9])\r\n",
    "weights_df_9 = (df_weights\r\n",
    "                .loc[df_weights['Level_id'] == 'Level9']\r\n",
    "                .set_index(['Agg_Level_1', 'Agg_Level_2'])[['Weight']])"
   ]
  },
  {
   "cell_type": "code",
   "execution_count": 6,
   "metadata": {
    "ExecuteTime": {
     "end_time": "2021-05-20T04:53:56.696952Z",
     "start_time": "2021-05-20T04:53:18.770170Z"
    }
   },
   "outputs": [],
   "source": [
    "res = {}\r\n",
    "for method, model in methods.items():\r\n",
    "    forecast_df_9 = pd.DataFrame(\r\n",
    "        {label: model.fit(content).forecast(28)\r\n",
    "        for label, content in train_df_9.items()}\r\n",
    "        )\r\n",
    "    res[method] = rateMyForecast(\r\n",
    "        trainOG_df_9, test_df_9, forecast_df_9)['RMSSE']"
   ]
  },
  {
   "cell_type": "code",
   "execution_count": 7,
   "metadata": {
    "ExecuteTime": {
     "end_time": "2021-05-20T04:53:56.720888Z",
     "start_time": "2021-05-20T04:53:56.698301Z"
    },
    "scrolled": false
   },
   "outputs": [
    {
     "data": {
      "text/html": "<div>\n<style scoped>\n    .dataframe tbody tr th:only-of-type {\n        vertical-align: middle;\n    }\n\n    .dataframe tbody tr th {\n        vertical-align: top;\n    }\n\n    .dataframe thead th {\n        text-align: right;\n    }\n</style>\n<table border=\"1\" class=\"dataframe\">\n  <thead>\n    <tr style=\"text-align: right;\">\n      <th></th>\n      <th></th>\n      <th>Naive</th>\n      <th>Seasonal Naive</th>\n      <th>SES</th>\n      <th>Holt's Linear</th>\n      <th>Additive Holt-Winters</th>\n    </tr>\n  </thead>\n  <tbody>\n    <tr>\n      <th rowspan=\"7\" valign=\"top\">CA_1</th>\n      <th>HOBBIES_1</th>\n      <td>1.4216</td>\n      <td>0.7428</td>\n      <td>0.8598</td>\n      <td>0.8589</td>\n      <td>0.6152</td>\n    </tr>\n    <tr>\n      <th>HOBBIES_2</th>\n      <td>1.8601</td>\n      <td>1.0992</td>\n      <td>0.8494</td>\n      <td>0.8414</td>\n      <td>0.6931</td>\n    </tr>\n    <tr>\n      <th>HOUSEHOLD_1</th>\n      <td>2.0500</td>\n      <td>0.5036</td>\n      <td>1.1212</td>\n      <td>1.1331</td>\n      <td>0.4317</td>\n    </tr>\n    <tr>\n      <th>HOUSEHOLD_2</th>\n      <td>2.2407</td>\n      <td>0.5094</td>\n      <td>1.1894</td>\n      <td>1.1486</td>\n      <td>0.5141</td>\n    </tr>\n    <tr>\n      <th>FOODS_1</th>\n      <td>0.8768</td>\n      <td>0.6880</td>\n      <td>0.8637</td>\n      <td>0.8808</td>\n      <td>0.6870</td>\n    </tr>\n    <tr>\n      <th>FOODS_2</th>\n      <td>2.0036</td>\n      <td>0.8068</td>\n      <td>2.0035</td>\n      <td>2.2574</td>\n      <td>0.5786</td>\n    </tr>\n    <tr>\n      <th>FOODS_3</th>\n      <td>1.6443</td>\n      <td>0.4750</td>\n      <td>1.0401</td>\n      <td>0.9787</td>\n      <td>0.4848</td>\n    </tr>\n    <tr>\n      <th rowspan=\"7\" valign=\"top\">CA_2</th>\n      <th>HOBBIES_1</th>\n      <td>1.1753</td>\n      <td>0.6880</td>\n      <td>1.0901</td>\n      <td>1.0902</td>\n      <td>0.6379</td>\n    </tr>\n    <tr>\n      <th>HOBBIES_2</th>\n      <td>1.3073</td>\n      <td>1.4373</td>\n      <td>1.3402</td>\n      <td>1.3308</td>\n      <td>1.1234</td>\n    </tr>\n    <tr>\n      <th>HOUSEHOLD_1</th>\n      <td>1.9863</td>\n      <td>0.6240</td>\n      <td>1.3668</td>\n      <td>1.3564</td>\n      <td>0.5704</td>\n    </tr>\n    <tr>\n      <th>HOUSEHOLD_2</th>\n      <td>1.8849</td>\n      <td>0.5770</td>\n      <td>1.4254</td>\n      <td>1.4165</td>\n      <td>0.6488</td>\n    </tr>\n    <tr>\n      <th>FOODS_1</th>\n      <td>1.1962</td>\n      <td>1.0775</td>\n      <td>1.3218</td>\n      <td>1.3134</td>\n      <td>0.9258</td>\n    </tr>\n    <tr>\n      <th>FOODS_2</th>\n      <td>4.1379</td>\n      <td>1.4366</td>\n      <td>2.2206</td>\n      <td>2.1603</td>\n      <td>1.2523</td>\n    </tr>\n    <tr>\n      <th>FOODS_3</th>\n      <td>2.4898</td>\n      <td>0.5828</td>\n      <td>1.3979</td>\n      <td>1.3605</td>\n      <td>0.4614</td>\n    </tr>\n    <tr>\n      <th rowspan=\"7\" valign=\"top\">CA_3</th>\n      <th>HOBBIES_1</th>\n      <td>0.9058</td>\n      <td>0.6425</td>\n      <td>0.6766</td>\n      <td>0.6784</td>\n      <td>0.4876</td>\n    </tr>\n    <tr>\n      <th>HOBBIES_2</th>\n      <td>1.1844</td>\n      <td>1.6422</td>\n      <td>1.5348</td>\n      <td>1.5252</td>\n      <td>1.5122</td>\n    </tr>\n    <tr>\n      <th>HOUSEHOLD_1</th>\n      <td>2.4874</td>\n      <td>0.7176</td>\n      <td>1.0695</td>\n      <td>1.0945</td>\n      <td>0.6359</td>\n    </tr>\n    <tr>\n      <th>HOUSEHOLD_2</th>\n      <td>2.0081</td>\n      <td>0.8406</td>\n      <td>1.3608</td>\n      <td>1.3524</td>\n      <td>0.9044</td>\n    </tr>\n    <tr>\n      <th>FOODS_1</th>\n      <td>1.0944</td>\n      <td>1.4881</td>\n      <td>1.3092</td>\n      <td>1.3022</td>\n      <td>1.3700</td>\n    </tr>\n    <tr>\n      <th>FOODS_2</th>\n      <td>1.8145</td>\n      <td>0.7055</td>\n      <td>1.6655</td>\n      <td>1.6808</td>\n      <td>0.5552</td>\n    </tr>\n    <tr>\n      <th>FOODS_3</th>\n      <td>1.4642</td>\n      <td>0.4057</td>\n      <td>0.8303</td>\n      <td>1.4798</td>\n      <td>0.4335</td>\n    </tr>\n    <tr>\n      <th rowspan=\"7\" valign=\"top\">CA_4</th>\n      <th>HOBBIES_1</th>\n      <td>1.4108</td>\n      <td>1.0669</td>\n      <td>0.9649</td>\n      <td>0.9597</td>\n      <td>0.8854</td>\n    </tr>\n    <tr>\n      <th>HOBBIES_2</th>\n      <td>1.5277</td>\n      <td>1.3413</td>\n      <td>1.3553</td>\n      <td>1.3549</td>\n      <td>1.3687</td>\n    </tr>\n    <tr>\n      <th>HOUSEHOLD_1</th>\n      <td>3.2265</td>\n      <td>1.3949</td>\n      <td>1.1781</td>\n      <td>1.1518</td>\n      <td>0.9194</td>\n    </tr>\n    <tr>\n      <th>HOUSEHOLD_2</th>\n      <td>1.2957</td>\n      <td>0.9160</td>\n      <td>1.0072</td>\n      <td>0.9944</td>\n      <td>0.7923</td>\n    </tr>\n    <tr>\n      <th>FOODS_1</th>\n      <td>0.9428</td>\n      <td>1.4526</td>\n      <td>1.2850</td>\n      <td>1.2664</td>\n      <td>1.2432</td>\n    </tr>\n    <tr>\n      <th>FOODS_2</th>\n      <td>1.2565</td>\n      <td>0.7737</td>\n      <td>1.1230</td>\n      <td>1.1156</td>\n      <td>0.7533</td>\n    </tr>\n    <tr>\n      <th>FOODS_3</th>\n      <td>1.3082</td>\n      <td>0.5906</td>\n      <td>0.8758</td>\n      <td>0.8723</td>\n      <td>0.6155</td>\n    </tr>\n    <tr>\n      <th rowspan=\"7\" valign=\"top\">TX_1</th>\n      <th>HOBBIES_1</th>\n      <td>1.5773</td>\n      <td>0.8856</td>\n      <td>0.8751</td>\n      <td>0.8737</td>\n      <td>0.6820</td>\n    </tr>\n    <tr>\n      <th>HOBBIES_2</th>\n      <td>1.7232</td>\n      <td>1.5083</td>\n      <td>1.3088</td>\n      <td>1.2963</td>\n      <td>1.3579</td>\n    </tr>\n    <tr>\n      <th>HOUSEHOLD_1</th>\n      <td>1.7292</td>\n      <td>0.7703</td>\n      <td>1.0973</td>\n      <td>1.0909</td>\n      <td>0.7469</td>\n    </tr>\n    <tr>\n      <th>HOUSEHOLD_2</th>\n      <td>1.1629</td>\n      <td>1.2091</td>\n      <td>1.0126</td>\n      <td>0.9971</td>\n      <td>0.9166</td>\n    </tr>\n    <tr>\n      <th>FOODS_1</th>\n      <td>1.2691</td>\n      <td>1.6348</td>\n      <td>1.4803</td>\n      <td>1.4703</td>\n      <td>1.5410</td>\n    </tr>\n    <tr>\n      <th>FOODS_2</th>\n      <td>1.1590</td>\n      <td>0.9268</td>\n      <td>0.8335</td>\n      <td>0.8334</td>\n      <td>0.7763</td>\n    </tr>\n    <tr>\n      <th>FOODS_3</th>\n      <td>1.1032</td>\n      <td>0.7950</td>\n      <td>0.8655</td>\n      <td>0.8366</td>\n      <td>0.5911</td>\n    </tr>\n    <tr>\n      <th rowspan=\"7\" valign=\"top\">TX_2</th>\n      <th>HOBBIES_1</th>\n      <td>0.7631</td>\n      <td>0.8409</td>\n      <td>0.8406</td>\n      <td>0.8361</td>\n      <td>0.6955</td>\n    </tr>\n    <tr>\n      <th>HOBBIES_2</th>\n      <td>0.7312</td>\n      <td>1.2235</td>\n      <td>0.9492</td>\n      <td>0.9444</td>\n      <td>0.9807</td>\n    </tr>\n    <tr>\n      <th>HOUSEHOLD_1</th>\n      <td>0.8174</td>\n      <td>0.8049</td>\n      <td>0.8195</td>\n      <td>0.8222</td>\n      <td>0.6134</td>\n    </tr>\n    <tr>\n      <th>HOUSEHOLD_2</th>\n      <td>1.2981</td>\n      <td>0.6212</td>\n      <td>0.8821</td>\n      <td>0.8852</td>\n      <td>0.4281</td>\n    </tr>\n    <tr>\n      <th>FOODS_1</th>\n      <td>1.3761</td>\n      <td>1.1937</td>\n      <td>1.2033</td>\n      <td>1.1958</td>\n      <td>1.3479</td>\n    </tr>\n    <tr>\n      <th>FOODS_2</th>\n      <td>0.9110</td>\n      <td>0.6606</td>\n      <td>0.7281</td>\n      <td>0.7461</td>\n      <td>0.6550</td>\n    </tr>\n    <tr>\n      <th>FOODS_3</th>\n      <td>0.7848</td>\n      <td>0.5939</td>\n      <td>0.7153</td>\n      <td>0.7135</td>\n      <td>0.5763</td>\n    </tr>\n    <tr>\n      <th rowspan=\"7\" valign=\"top\">TX_3</th>\n      <th>HOBBIES_1</th>\n      <td>1.4710</td>\n      <td>0.8672</td>\n      <td>0.9036</td>\n      <td>0.9004</td>\n      <td>0.7070</td>\n    </tr>\n    <tr>\n      <th>HOBBIES_2</th>\n      <td>1.4024</td>\n      <td>1.6834</td>\n      <td>1.0940</td>\n      <td>1.0908</td>\n      <td>1.0873</td>\n    </tr>\n    <tr>\n      <th>HOUSEHOLD_1</th>\n      <td>1.0028</td>\n      <td>1.0079</td>\n      <td>0.9570</td>\n      <td>0.9398</td>\n      <td>0.8490</td>\n    </tr>\n    <tr>\n      <th>HOUSEHOLD_2</th>\n      <td>0.8211</td>\n      <td>1.2536</td>\n      <td>0.9665</td>\n      <td>0.9437</td>\n      <td>0.8434</td>\n    </tr>\n    <tr>\n      <th>FOODS_1</th>\n      <td>2.5226</td>\n      <td>2.0495</td>\n      <td>1.9882</td>\n      <td>1.9710</td>\n      <td>2.0232</td>\n    </tr>\n    <tr>\n      <th>FOODS_2</th>\n      <td>1.3254</td>\n      <td>1.3751</td>\n      <td>1.3809</td>\n      <td>1.3830</td>\n      <td>1.4838</td>\n    </tr>\n    <tr>\n      <th>FOODS_3</th>\n      <td>0.9046</td>\n      <td>1.0331</td>\n      <td>0.9999</td>\n      <td>0.9814</td>\n      <td>0.9691</td>\n    </tr>\n    <tr>\n      <th rowspan=\"7\" valign=\"top\">WI_1</th>\n      <th>HOBBIES_1</th>\n      <td>1.3352</td>\n      <td>0.4960</td>\n      <td>0.7349</td>\n      <td>0.7350</td>\n      <td>0.4554</td>\n    </tr>\n    <tr>\n      <th>HOBBIES_2</th>\n      <td>1.1800</td>\n      <td>1.4764</td>\n      <td>1.1532</td>\n      <td>1.1458</td>\n      <td>1.1243</td>\n    </tr>\n    <tr>\n      <th>HOUSEHOLD_1</th>\n      <td>1.6758</td>\n      <td>0.6321</td>\n      <td>1.0699</td>\n      <td>1.0707</td>\n      <td>0.6251</td>\n    </tr>\n    <tr>\n      <th>HOUSEHOLD_2</th>\n      <td>1.6721</td>\n      <td>0.7258</td>\n      <td>1.0645</td>\n      <td>1.0628</td>\n      <td>0.5537</td>\n    </tr>\n    <tr>\n      <th>FOODS_1</th>\n      <td>0.9442</td>\n      <td>0.8110</td>\n      <td>1.0012</td>\n      <td>0.9976</td>\n      <td>0.8027</td>\n    </tr>\n    <tr>\n      <th>FOODS_2</th>\n      <td>2.0424</td>\n      <td>1.2113</td>\n      <td>1.5852</td>\n      <td>1.5796</td>\n      <td>1.2625</td>\n    </tr>\n    <tr>\n      <th>FOODS_3</th>\n      <td>1.5857</td>\n      <td>0.5180</td>\n      <td>1.1000</td>\n      <td>1.0915</td>\n      <td>0.4414</td>\n    </tr>\n    <tr>\n      <th rowspan=\"7\" valign=\"top\">WI_2</th>\n      <th>HOBBIES_1</th>\n      <td>1.3340</td>\n      <td>0.8068</td>\n      <td>0.7468</td>\n      <td>0.7363</td>\n      <td>0.7104</td>\n    </tr>\n    <tr>\n      <th>HOBBIES_2</th>\n      <td>1.1058</td>\n      <td>1.4020</td>\n      <td>1.1380</td>\n      <td>1.1333</td>\n      <td>1.1226</td>\n    </tr>\n    <tr>\n      <th>HOUSEHOLD_1</th>\n      <td>1.2729</td>\n      <td>1.0639</td>\n      <td>1.3340</td>\n      <td>1.2667</td>\n      <td>1.0357</td>\n    </tr>\n    <tr>\n      <th>HOUSEHOLD_2</th>\n      <td>1.3615</td>\n      <td>0.9486</td>\n      <td>0.9316</td>\n      <td>0.9222</td>\n      <td>0.7227</td>\n    </tr>\n    <tr>\n      <th>FOODS_1</th>\n      <td>2.3356</td>\n      <td>2.2583</td>\n      <td>2.1291</td>\n      <td>2.1132</td>\n      <td>2.1748</td>\n    </tr>\n    <tr>\n      <th>FOODS_2</th>\n      <td>2.3919</td>\n      <td>2.4625</td>\n      <td>2.3974</td>\n      <td>2.3447</td>\n      <td>2.4670</td>\n    </tr>\n    <tr>\n      <th>FOODS_3</th>\n      <td>1.2993</td>\n      <td>1.4850</td>\n      <td>1.3450</td>\n      <td>1.3129</td>\n      <td>1.4057</td>\n    </tr>\n    <tr>\n      <th rowspan=\"7\" valign=\"top\">WI_3</th>\n      <th>HOBBIES_1</th>\n      <td>0.9267</td>\n      <td>0.8844</td>\n      <td>0.8974</td>\n      <td>0.8975</td>\n      <td>0.7336</td>\n    </tr>\n    <tr>\n      <th>HOBBIES_2</th>\n      <td>1.4277</td>\n      <td>1.0141</td>\n      <td>0.8795</td>\n      <td>0.8744</td>\n      <td>0.8674</td>\n    </tr>\n    <tr>\n      <th>HOUSEHOLD_1</th>\n      <td>1.3693</td>\n      <td>0.6352</td>\n      <td>1.0400</td>\n      <td>1.0414</td>\n      <td>0.6549</td>\n    </tr>\n    <tr>\n      <th>HOUSEHOLD_2</th>\n      <td>1.8375</td>\n      <td>0.8780</td>\n      <td>1.2736</td>\n      <td>1.2739</td>\n      <td>0.8337</td>\n    </tr>\n    <tr>\n      <th>FOODS_1</th>\n      <td>1.0325</td>\n      <td>1.7945</td>\n      <td>1.2664</td>\n      <td>1.2534</td>\n      <td>1.3107</td>\n    </tr>\n    <tr>\n      <th>FOODS_2</th>\n      <td>1.2411</td>\n      <td>1.5134</td>\n      <td>1.3379</td>\n      <td>1.3166</td>\n      <td>1.5966</td>\n    </tr>\n    <tr>\n      <th>FOODS_3</th>\n      <td>1.0474</td>\n      <td>0.7342</td>\n      <td>1.0585</td>\n      <td>1.0759</td>\n      <td>0.8358</td>\n    </tr>\n  </tbody>\n</table>\n</div>",
      "text/plain": "                   Naive  Seasonal Naive     SES  Holt's Linear  \\\nCA_1 HOBBIES_1    1.4216          0.7428  0.8598         0.8589   \n     HOBBIES_2    1.8601          1.0992  0.8494         0.8414   \n     HOUSEHOLD_1  2.0500          0.5036  1.1212         1.1331   \n     HOUSEHOLD_2  2.2407          0.5094  1.1894         1.1486   \n     FOODS_1      0.8768          0.6880  0.8637         0.8808   \n     FOODS_2      2.0036          0.8068  2.0035         2.2574   \n     FOODS_3      1.6443          0.4750  1.0401         0.9787   \nCA_2 HOBBIES_1    1.1753          0.6880  1.0901         1.0902   \n     HOBBIES_2    1.3073          1.4373  1.3402         1.3308   \n     HOUSEHOLD_1  1.9863          0.6240  1.3668         1.3564   \n     HOUSEHOLD_2  1.8849          0.5770  1.4254         1.4165   \n     FOODS_1      1.1962          1.0775  1.3218         1.3134   \n     FOODS_2      4.1379          1.4366  2.2206         2.1603   \n     FOODS_3      2.4898          0.5828  1.3979         1.3605   \nCA_3 HOBBIES_1    0.9058          0.6425  0.6766         0.6784   \n     HOBBIES_2    1.1844          1.6422  1.5348         1.5252   \n     HOUSEHOLD_1  2.4874          0.7176  1.0695         1.0945   \n     HOUSEHOLD_2  2.0081          0.8406  1.3608         1.3524   \n     FOODS_1      1.0944          1.4881  1.3092         1.3022   \n     FOODS_2      1.8145          0.7055  1.6655         1.6808   \n     FOODS_3      1.4642          0.4057  0.8303         1.4798   \nCA_4 HOBBIES_1    1.4108          1.0669  0.9649         0.9597   \n     HOBBIES_2    1.5277          1.3413  1.3553         1.3549   \n     HOUSEHOLD_1  3.2265          1.3949  1.1781         1.1518   \n     HOUSEHOLD_2  1.2957          0.9160  1.0072         0.9944   \n     FOODS_1      0.9428          1.4526  1.2850         1.2664   \n     FOODS_2      1.2565          0.7737  1.1230         1.1156   \n     FOODS_3      1.3082          0.5906  0.8758         0.8723   \nTX_1 HOBBIES_1    1.5773          0.8856  0.8751         0.8737   \n     HOBBIES_2    1.7232          1.5083  1.3088         1.2963   \n     HOUSEHOLD_1  1.7292          0.7703  1.0973         1.0909   \n     HOUSEHOLD_2  1.1629          1.2091  1.0126         0.9971   \n     FOODS_1      1.2691          1.6348  1.4803         1.4703   \n     FOODS_2      1.1590          0.9268  0.8335         0.8334   \n     FOODS_3      1.1032          0.7950  0.8655         0.8366   \nTX_2 HOBBIES_1    0.7631          0.8409  0.8406         0.8361   \n     HOBBIES_2    0.7312          1.2235  0.9492         0.9444   \n     HOUSEHOLD_1  0.8174          0.8049  0.8195         0.8222   \n     HOUSEHOLD_2  1.2981          0.6212  0.8821         0.8852   \n     FOODS_1      1.3761          1.1937  1.2033         1.1958   \n     FOODS_2      0.9110          0.6606  0.7281         0.7461   \n     FOODS_3      0.7848          0.5939  0.7153         0.7135   \nTX_3 HOBBIES_1    1.4710          0.8672  0.9036         0.9004   \n     HOBBIES_2    1.4024          1.6834  1.0940         1.0908   \n     HOUSEHOLD_1  1.0028          1.0079  0.9570         0.9398   \n     HOUSEHOLD_2  0.8211          1.2536  0.9665         0.9437   \n     FOODS_1      2.5226          2.0495  1.9882         1.9710   \n     FOODS_2      1.3254          1.3751  1.3809         1.3830   \n     FOODS_3      0.9046          1.0331  0.9999         0.9814   \nWI_1 HOBBIES_1    1.3352          0.4960  0.7349         0.7350   \n     HOBBIES_2    1.1800          1.4764  1.1532         1.1458   \n     HOUSEHOLD_1  1.6758          0.6321  1.0699         1.0707   \n     HOUSEHOLD_2  1.6721          0.7258  1.0645         1.0628   \n     FOODS_1      0.9442          0.8110  1.0012         0.9976   \n     FOODS_2      2.0424          1.2113  1.5852         1.5796   \n     FOODS_3      1.5857          0.5180  1.1000         1.0915   \nWI_2 HOBBIES_1    1.3340          0.8068  0.7468         0.7363   \n     HOBBIES_2    1.1058          1.4020  1.1380         1.1333   \n     HOUSEHOLD_1  1.2729          1.0639  1.3340         1.2667   \n     HOUSEHOLD_2  1.3615          0.9486  0.9316         0.9222   \n     FOODS_1      2.3356          2.2583  2.1291         2.1132   \n     FOODS_2      2.3919          2.4625  2.3974         2.3447   \n     FOODS_3      1.2993          1.4850  1.3450         1.3129   \nWI_3 HOBBIES_1    0.9267          0.8844  0.8974         0.8975   \n     HOBBIES_2    1.4277          1.0141  0.8795         0.8744   \n     HOUSEHOLD_1  1.3693          0.6352  1.0400         1.0414   \n     HOUSEHOLD_2  1.8375          0.8780  1.2736         1.2739   \n     FOODS_1      1.0325          1.7945  1.2664         1.2534   \n     FOODS_2      1.2411          1.5134  1.3379         1.3166   \n     FOODS_3      1.0474          0.7342  1.0585         1.0759   \n\n                  Additive Holt-Winters  \nCA_1 HOBBIES_1                   0.6152  \n     HOBBIES_2                   0.6931  \n     HOUSEHOLD_1                 0.4317  \n     HOUSEHOLD_2                 0.5141  \n     FOODS_1                     0.6870  \n     FOODS_2                     0.5786  \n     FOODS_3                     0.4848  \nCA_2 HOBBIES_1                   0.6379  \n     HOBBIES_2                   1.1234  \n     HOUSEHOLD_1                 0.5704  \n     HOUSEHOLD_2                 0.6488  \n     FOODS_1                     0.9258  \n     FOODS_2                     1.2523  \n     FOODS_3                     0.4614  \nCA_3 HOBBIES_1                   0.4876  \n     HOBBIES_2                   1.5122  \n     HOUSEHOLD_1                 0.6359  \n     HOUSEHOLD_2                 0.9044  \n     FOODS_1                     1.3700  \n     FOODS_2                     0.5552  \n     FOODS_3                     0.4335  \nCA_4 HOBBIES_1                   0.8854  \n     HOBBIES_2                   1.3687  \n     HOUSEHOLD_1                 0.9194  \n     HOUSEHOLD_2                 0.7923  \n     FOODS_1                     1.2432  \n     FOODS_2                     0.7533  \n     FOODS_3                     0.6155  \nTX_1 HOBBIES_1                   0.6820  \n     HOBBIES_2                   1.3579  \n     HOUSEHOLD_1                 0.7469  \n     HOUSEHOLD_2                 0.9166  \n     FOODS_1                     1.5410  \n     FOODS_2                     0.7763  \n     FOODS_3                     0.5911  \nTX_2 HOBBIES_1                   0.6955  \n     HOBBIES_2                   0.9807  \n     HOUSEHOLD_1                 0.6134  \n     HOUSEHOLD_2                 0.4281  \n     FOODS_1                     1.3479  \n     FOODS_2                     0.6550  \n     FOODS_3                     0.5763  \nTX_3 HOBBIES_1                   0.7070  \n     HOBBIES_2                   1.0873  \n     HOUSEHOLD_1                 0.8490  \n     HOUSEHOLD_2                 0.8434  \n     FOODS_1                     2.0232  \n     FOODS_2                     1.4838  \n     FOODS_3                     0.9691  \nWI_1 HOBBIES_1                   0.4554  \n     HOBBIES_2                   1.1243  \n     HOUSEHOLD_1                 0.6251  \n     HOUSEHOLD_2                 0.5537  \n     FOODS_1                     0.8027  \n     FOODS_2                     1.2625  \n     FOODS_3                     0.4414  \nWI_2 HOBBIES_1                   0.7104  \n     HOBBIES_2                   1.1226  \n     HOUSEHOLD_1                 1.0357  \n     HOUSEHOLD_2                 0.7227  \n     FOODS_1                     2.1748  \n     FOODS_2                     2.4670  \n     FOODS_3                     1.4057  \nWI_3 HOBBIES_1                   0.7336  \n     HOBBIES_2                   0.8674  \n     HOUSEHOLD_1                 0.6549  \n     HOUSEHOLD_2                 0.8337  \n     FOODS_1                     1.3107  \n     FOODS_2                     1.5966  \n     FOODS_3                     0.8358  "
     },
     "execution_count": 7,
     "metadata": {},
     "output_type": "execute_result"
    }
   ],
   "source": [
    "pd.set_option('display.max_rows', None)\r\n",
    "df_res_9_base = pd.DataFrame(res)\r\n",
    "df_res_9_base.index = pd.MultiIndex.from_tuples(df_res_9_base.index)\r\n",
    "df_res_9_base"
   ]
  },
  {
   "cell_type": "markdown",
   "metadata": {},
   "source": [
    "---\n",
    "\n",
    "## Part 2. LightGBM (30 pts.)"
   ]
  },
  {
   "cell_type": "markdown",
   "metadata": {},
   "source": [
    "### Q2. (10 pts.)\n",
    "\n",
    "For all series, use an un-tuned `LightGBM` with 56-day lookback that uses a one-step recursive forecasting strategy to generate a 28-step forecast.\n",
    "\n",
    "Calculate the `RMSSE` against the test set, then summarize the metrics in a dataframe and print it."
   ]
  },
  {
   "cell_type": "code",
   "execution_count": 8,
   "metadata": {
    "ExecuteTime": {
     "end_time": "2021-05-20T04:54:18.290837Z",
     "start_time": "2021-05-20T04:53:56.721886Z"
    }
   },
   "outputs": [],
   "source": [
    "model = RecursiveRegressor(\r\n",
    "    lgb.LGBMRegressor(random_state=1, w=56, h=28, n_jobs=-1))  # Model: recursive-forecasting\r\n",
    "pred = {}\r\n",
    "\r\n",
    "for col in train_df_9:\r\n",
    "    model.fit(None, train_df_9[col])\r\n",
    "    pred[col] = model.predict(trainOG_df_9[col].iloc[-56:]).squeeze()"
   ]
  },
  {
   "cell_type": "code",
   "execution_count": 9,
   "metadata": {
    "ExecuteTime": {
     "end_time": "2021-05-20T04:55:16.435663Z",
     "start_time": "2021-05-20T04:55:16.358868Z"
    },
    "scrolled": false
   },
   "outputs": [
    {
     "data": {
      "text/html": "<div>\n<style scoped>\n    .dataframe tbody tr th:only-of-type {\n        vertical-align: middle;\n    }\n\n    .dataframe tbody tr th {\n        vertical-align: top;\n    }\n\n    .dataframe thead th {\n        text-align: right;\n    }\n</style>\n<table border=\"1\" class=\"dataframe\">\n  <thead>\n    <tr style=\"text-align: right;\">\n      <th></th>\n      <th></th>\n      <th>RMSSE</th>\n    </tr>\n  </thead>\n  <tbody>\n    <tr>\n      <th rowspan=\"7\" valign=\"top\">CA_1</th>\n      <th>HOBBIES_1</th>\n      <td>0.7180</td>\n    </tr>\n    <tr>\n      <th>HOBBIES_2</th>\n      <td>0.6586</td>\n    </tr>\n    <tr>\n      <th>HOUSEHOLD_1</th>\n      <td>0.5073</td>\n    </tr>\n    <tr>\n      <th>HOUSEHOLD_2</th>\n      <td>0.5062</td>\n    </tr>\n    <tr>\n      <th>FOODS_1</th>\n      <td>0.6677</td>\n    </tr>\n    <tr>\n      <th>FOODS_2</th>\n      <td>0.6450</td>\n    </tr>\n    <tr>\n      <th>FOODS_3</th>\n      <td>0.4652</td>\n    </tr>\n    <tr>\n      <th rowspan=\"7\" valign=\"top\">CA_2</th>\n      <th>HOBBIES_1</th>\n      <td>0.6993</td>\n    </tr>\n    <tr>\n      <th>HOBBIES_2</th>\n      <td>1.2472</td>\n    </tr>\n    <tr>\n      <th>HOUSEHOLD_1</th>\n      <td>0.6587</td>\n    </tr>\n    <tr>\n      <th>HOUSEHOLD_2</th>\n      <td>0.7485</td>\n    </tr>\n    <tr>\n      <th>FOODS_1</th>\n      <td>0.9528</td>\n    </tr>\n    <tr>\n      <th>FOODS_2</th>\n      <td>1.3704</td>\n    </tr>\n    <tr>\n      <th>FOODS_3</th>\n      <td>0.5608</td>\n    </tr>\n    <tr>\n      <th rowspan=\"7\" valign=\"top\">CA_3</th>\n      <th>HOBBIES_1</th>\n      <td>0.5075</td>\n    </tr>\n    <tr>\n      <th>HOBBIES_2</th>\n      <td>1.3769</td>\n    </tr>\n    <tr>\n      <th>HOUSEHOLD_1</th>\n      <td>0.6552</td>\n    </tr>\n    <tr>\n      <th>HOUSEHOLD_2</th>\n      <td>0.7711</td>\n    </tr>\n    <tr>\n      <th>FOODS_1</th>\n      <td>1.1578</td>\n    </tr>\n    <tr>\n      <th>FOODS_2</th>\n      <td>0.5410</td>\n    </tr>\n    <tr>\n      <th>FOODS_3</th>\n      <td>0.4244</td>\n    </tr>\n    <tr>\n      <th rowspan=\"7\" valign=\"top\">CA_4</th>\n      <th>HOBBIES_1</th>\n      <td>1.0293</td>\n    </tr>\n    <tr>\n      <th>HOBBIES_2</th>\n      <td>1.0370</td>\n    </tr>\n    <tr>\n      <th>HOUSEHOLD_1</th>\n      <td>1.1065</td>\n    </tr>\n    <tr>\n      <th>HOUSEHOLD_2</th>\n      <td>1.1063</td>\n    </tr>\n    <tr>\n      <th>FOODS_1</th>\n      <td>1.4001</td>\n    </tr>\n    <tr>\n      <th>FOODS_2</th>\n      <td>0.7879</td>\n    </tr>\n    <tr>\n      <th>FOODS_3</th>\n      <td>0.6548</td>\n    </tr>\n    <tr>\n      <th rowspan=\"7\" valign=\"top\">TX_1</th>\n      <th>HOBBIES_1</th>\n      <td>0.7179</td>\n    </tr>\n    <tr>\n      <th>HOBBIES_2</th>\n      <td>1.0838</td>\n    </tr>\n    <tr>\n      <th>HOUSEHOLD_1</th>\n      <td>0.6982</td>\n    </tr>\n    <tr>\n      <th>HOUSEHOLD_2</th>\n      <td>0.8985</td>\n    </tr>\n    <tr>\n      <th>FOODS_1</th>\n      <td>1.4479</td>\n    </tr>\n    <tr>\n      <th>FOODS_2</th>\n      <td>0.7213</td>\n    </tr>\n    <tr>\n      <th>FOODS_3</th>\n      <td>0.7457</td>\n    </tr>\n    <tr>\n      <th rowspan=\"7\" valign=\"top\">TX_2</th>\n      <th>HOBBIES_1</th>\n      <td>0.7694</td>\n    </tr>\n    <tr>\n      <th>HOBBIES_2</th>\n      <td>0.9201</td>\n    </tr>\n    <tr>\n      <th>HOUSEHOLD_1</th>\n      <td>0.6974</td>\n    </tr>\n    <tr>\n      <th>HOUSEHOLD_2</th>\n      <td>0.4701</td>\n    </tr>\n    <tr>\n      <th>FOODS_1</th>\n      <td>1.0516</td>\n    </tr>\n    <tr>\n      <th>FOODS_2</th>\n      <td>0.5892</td>\n    </tr>\n    <tr>\n      <th>FOODS_3</th>\n      <td>0.5175</td>\n    </tr>\n    <tr>\n      <th rowspan=\"7\" valign=\"top\">TX_3</th>\n      <th>HOBBIES_1</th>\n      <td>0.7456</td>\n    </tr>\n    <tr>\n      <th>HOBBIES_2</th>\n      <td>1.1799</td>\n    </tr>\n    <tr>\n      <th>HOUSEHOLD_1</th>\n      <td>0.7238</td>\n    </tr>\n    <tr>\n      <th>HOUSEHOLD_2</th>\n      <td>1.0219</td>\n    </tr>\n    <tr>\n      <th>FOODS_1</th>\n      <td>1.6606</td>\n    </tr>\n    <tr>\n      <th>FOODS_2</th>\n      <td>1.0628</td>\n    </tr>\n    <tr>\n      <th>FOODS_3</th>\n      <td>0.8803</td>\n    </tr>\n    <tr>\n      <th rowspan=\"7\" valign=\"top\">WI_1</th>\n      <th>HOBBIES_1</th>\n      <td>0.4849</td>\n    </tr>\n    <tr>\n      <th>HOBBIES_2</th>\n      <td>1.0659</td>\n    </tr>\n    <tr>\n      <th>HOUSEHOLD_1</th>\n      <td>0.5406</td>\n    </tr>\n    <tr>\n      <th>HOUSEHOLD_2</th>\n      <td>0.7215</td>\n    </tr>\n    <tr>\n      <th>FOODS_1</th>\n      <td>0.7831</td>\n    </tr>\n    <tr>\n      <th>FOODS_2</th>\n      <td>1.0008</td>\n    </tr>\n    <tr>\n      <th>FOODS_3</th>\n      <td>0.5749</td>\n    </tr>\n    <tr>\n      <th rowspan=\"7\" valign=\"top\">WI_2</th>\n      <th>HOBBIES_1</th>\n      <td>0.7607</td>\n    </tr>\n    <tr>\n      <th>HOBBIES_2</th>\n      <td>1.2752</td>\n    </tr>\n    <tr>\n      <th>HOUSEHOLD_1</th>\n      <td>0.9675</td>\n    </tr>\n    <tr>\n      <th>HOUSEHOLD_2</th>\n      <td>1.0303</td>\n    </tr>\n    <tr>\n      <th>FOODS_1</th>\n      <td>2.0849</td>\n    </tr>\n    <tr>\n      <th>FOODS_2</th>\n      <td>1.4842</td>\n    </tr>\n    <tr>\n      <th>FOODS_3</th>\n      <td>0.8791</td>\n    </tr>\n    <tr>\n      <th rowspan=\"7\" valign=\"top\">WI_3</th>\n      <th>HOBBIES_1</th>\n      <td>0.8043</td>\n    </tr>\n    <tr>\n      <th>HOBBIES_2</th>\n      <td>1.0026</td>\n    </tr>\n    <tr>\n      <th>HOUSEHOLD_1</th>\n      <td>0.6797</td>\n    </tr>\n    <tr>\n      <th>HOUSEHOLD_2</th>\n      <td>0.8251</td>\n    </tr>\n    <tr>\n      <th>FOODS_1</th>\n      <td>1.4774</td>\n    </tr>\n    <tr>\n      <th>FOODS_2</th>\n      <td>0.9445</td>\n    </tr>\n    <tr>\n      <th>FOODS_3</th>\n      <td>0.5415</td>\n    </tr>\n  </tbody>\n</table>\n</div>",
      "text/plain": "                   RMSSE\nCA_1 HOBBIES_1    0.7180\n     HOBBIES_2    0.6586\n     HOUSEHOLD_1  0.5073\n     HOUSEHOLD_2  0.5062\n     FOODS_1      0.6677\n     FOODS_2      0.6450\n     FOODS_3      0.4652\nCA_2 HOBBIES_1    0.6993\n     HOBBIES_2    1.2472\n     HOUSEHOLD_1  0.6587\n     HOUSEHOLD_2  0.7485\n     FOODS_1      0.9528\n     FOODS_2      1.3704\n     FOODS_3      0.5608\nCA_3 HOBBIES_1    0.5075\n     HOBBIES_2    1.3769\n     HOUSEHOLD_1  0.6552\n     HOUSEHOLD_2  0.7711\n     FOODS_1      1.1578\n     FOODS_2      0.5410\n     FOODS_3      0.4244\nCA_4 HOBBIES_1    1.0293\n     HOBBIES_2    1.0370\n     HOUSEHOLD_1  1.1065\n     HOUSEHOLD_2  1.1063\n     FOODS_1      1.4001\n     FOODS_2      0.7879\n     FOODS_3      0.6548\nTX_1 HOBBIES_1    0.7179\n     HOBBIES_2    1.0838\n     HOUSEHOLD_1  0.6982\n     HOUSEHOLD_2  0.8985\n     FOODS_1      1.4479\n     FOODS_2      0.7213\n     FOODS_3      0.7457\nTX_2 HOBBIES_1    0.7694\n     HOBBIES_2    0.9201\n     HOUSEHOLD_1  0.6974\n     HOUSEHOLD_2  0.4701\n     FOODS_1      1.0516\n     FOODS_2      0.5892\n     FOODS_3      0.5175\nTX_3 HOBBIES_1    0.7456\n     HOBBIES_2    1.1799\n     HOUSEHOLD_1  0.7238\n     HOUSEHOLD_2  1.0219\n     FOODS_1      1.6606\n     FOODS_2      1.0628\n     FOODS_3      0.8803\nWI_1 HOBBIES_1    0.4849\n     HOBBIES_2    1.0659\n     HOUSEHOLD_1  0.5406\n     HOUSEHOLD_2  0.7215\n     FOODS_1      0.7831\n     FOODS_2      1.0008\n     FOODS_3      0.5749\nWI_2 HOBBIES_1    0.7607\n     HOBBIES_2    1.2752\n     HOUSEHOLD_1  0.9675\n     HOUSEHOLD_2  1.0303\n     FOODS_1      2.0849\n     FOODS_2      1.4842\n     FOODS_3      0.8791\nWI_3 HOBBIES_1    0.8043\n     HOBBIES_2    1.0026\n     HOUSEHOLD_1  0.6797\n     HOUSEHOLD_2  0.8251\n     FOODS_1      1.4774\n     FOODS_2      0.9445\n     FOODS_3      0.5415"
     },
     "execution_count": 9,
     "metadata": {},
     "output_type": "execute_result"
    }
   ],
   "source": [
    "df_pred_9_rrlgb = pd.DataFrame(pred)\r\n",
    "df_pred_9_rrlgb.index=test_df_9.index\r\n",
    "\r\n",
    "df_res_9_rrlgb = rateMyForecast(\r\n",
    "    trainOG_df_9, test_df_9, df_pred_9_rrlgb)['RMSSE']\r\n",
    "res[\"RecursiveRegressor(LGBMRegressor)\"] = df_res_9_rrlgb\r\n",
    "\r\n",
    "df_res_9_rrlgb.index = pd.MultiIndex.from_tuples(df_res_9_rrlgb.index)\r\n",
    "df_res_9_rrlgb.to_frame()"
   ]
  },
  {
   "cell_type": "markdown",
   "metadata": {},
   "source": [
    "### Q3. (10 pts.)\n",
    "\n",
    "For all series, use an un-tuned `LightGBM` with 56-day lookback that uses a direct forecasting strategy to generate a 28-step forecast.\n",
    "\n",
    "Calculate the `RMSSE` against the test set, then summarize the metrics in a dataframe and print it."
   ]
  },
  {
   "cell_type": "code",
   "execution_count": 10,
   "metadata": {
    "ExecuteTime": {
     "end_time": "2021-05-20T04:58:26.069033Z",
     "start_time": "2021-05-20T04:55:49.178596Z"
    }
   },
   "outputs": [],
   "source": [
    "model = MultiOutputRegressor(\r\n",
    "    lgb.LGBMRegressor(random_state=1))  # Model: direct-forecasting\r\n",
    "pred = {}\r\n",
    "\r\n",
    "for col in train_df_9:\r\n",
    "    X_train, _, y_train, _ = TimeseriesGenerator(\r\n",
    "        X=train_df_9[col],\r\n",
    "        y=None,\r\n",
    "        w=56,\r\n",
    "        h=28)\r\n",
    "    model.fit(X_train, y_train)\r\n",
    "    pred[col] = model.predict([trainOG_df_9[col].iloc[-56:]]).squeeze()"
   ]
  },
  {
   "cell_type": "code",
   "execution_count": 12,
   "metadata": {
    "ExecuteTime": {
     "end_time": "2021-05-20T04:58:26.170768Z",
     "start_time": "2021-05-20T04:58:26.070031Z"
    },
    "scrolled": false
   },
   "outputs": [
    {
     "data": {
      "text/html": "<div>\n<style scoped>\n    .dataframe tbody tr th:only-of-type {\n        vertical-align: middle;\n    }\n\n    .dataframe tbody tr th {\n        vertical-align: top;\n    }\n\n    .dataframe thead th {\n        text-align: right;\n    }\n</style>\n<table border=\"1\" class=\"dataframe\">\n  <thead>\n    <tr style=\"text-align: right;\">\n      <th></th>\n      <th></th>\n      <th>RMSSE</th>\n    </tr>\n  </thead>\n  <tbody>\n    <tr>\n      <th rowspan=\"7\" valign=\"top\">CA_1</th>\n      <th>HOBBIES_1</th>\n      <td>0.6870</td>\n    </tr>\n    <tr>\n      <th>HOBBIES_2</th>\n      <td>0.6902</td>\n    </tr>\n    <tr>\n      <th>HOUSEHOLD_1</th>\n      <td>0.3635</td>\n    </tr>\n    <tr>\n      <th>HOUSEHOLD_2</th>\n      <td>0.6683</td>\n    </tr>\n    <tr>\n      <th>FOODS_1</th>\n      <td>0.6356</td>\n    </tr>\n    <tr>\n      <th>FOODS_2</th>\n      <td>0.7556</td>\n    </tr>\n    <tr>\n      <th>FOODS_3</th>\n      <td>0.5491</td>\n    </tr>\n    <tr>\n      <th rowspan=\"7\" valign=\"top\">CA_2</th>\n      <th>HOBBIES_1</th>\n      <td>0.6626</td>\n    </tr>\n    <tr>\n      <th>HOBBIES_2</th>\n      <td>1.4831</td>\n    </tr>\n    <tr>\n      <th>HOUSEHOLD_1</th>\n      <td>0.5651</td>\n    </tr>\n    <tr>\n      <th>HOUSEHOLD_2</th>\n      <td>0.8564</td>\n    </tr>\n    <tr>\n      <th>FOODS_1</th>\n      <td>1.2147</td>\n    </tr>\n    <tr>\n      <th>FOODS_2</th>\n      <td>1.5736</td>\n    </tr>\n    <tr>\n      <th>FOODS_3</th>\n      <td>0.6949</td>\n    </tr>\n    <tr>\n      <th rowspan=\"7\" valign=\"top\">CA_3</th>\n      <th>HOBBIES_1</th>\n      <td>0.5409</td>\n    </tr>\n    <tr>\n      <th>HOBBIES_2</th>\n      <td>1.3213</td>\n    </tr>\n    <tr>\n      <th>HOUSEHOLD_1</th>\n      <td>0.5652</td>\n    </tr>\n    <tr>\n      <th>HOUSEHOLD_2</th>\n      <td>1.0248</td>\n    </tr>\n    <tr>\n      <th>FOODS_1</th>\n      <td>1.1526</td>\n    </tr>\n    <tr>\n      <th>FOODS_2</th>\n      <td>0.5205</td>\n    </tr>\n    <tr>\n      <th>FOODS_3</th>\n      <td>0.4762</td>\n    </tr>\n    <tr>\n      <th rowspan=\"7\" valign=\"top\">CA_4</th>\n      <th>HOBBIES_1</th>\n      <td>1.0659</td>\n    </tr>\n    <tr>\n      <th>HOBBIES_2</th>\n      <td>1.0646</td>\n    </tr>\n    <tr>\n      <th>HOUSEHOLD_1</th>\n      <td>1.1893</td>\n    </tr>\n    <tr>\n      <th>HOUSEHOLD_2</th>\n      <td>1.2187</td>\n    </tr>\n    <tr>\n      <th>FOODS_1</th>\n      <td>1.4446</td>\n    </tr>\n    <tr>\n      <th>FOODS_2</th>\n      <td>0.8464</td>\n    </tr>\n    <tr>\n      <th>FOODS_3</th>\n      <td>0.7849</td>\n    </tr>\n    <tr>\n      <th rowspan=\"7\" valign=\"top\">TX_1</th>\n      <th>HOBBIES_1</th>\n      <td>0.7365</td>\n    </tr>\n    <tr>\n      <th>HOBBIES_2</th>\n      <td>1.2643</td>\n    </tr>\n    <tr>\n      <th>HOUSEHOLD_1</th>\n      <td>0.7898</td>\n    </tr>\n    <tr>\n      <th>HOUSEHOLD_2</th>\n      <td>1.1766</td>\n    </tr>\n    <tr>\n      <th>FOODS_1</th>\n      <td>1.4104</td>\n    </tr>\n    <tr>\n      <th>FOODS_2</th>\n      <td>0.6312</td>\n    </tr>\n    <tr>\n      <th>FOODS_3</th>\n      <td>0.7245</td>\n    </tr>\n    <tr>\n      <th rowspan=\"7\" valign=\"top\">TX_2</th>\n      <th>HOBBIES_1</th>\n      <td>0.7980</td>\n    </tr>\n    <tr>\n      <th>HOBBIES_2</th>\n      <td>1.0457</td>\n    </tr>\n    <tr>\n      <th>HOUSEHOLD_1</th>\n      <td>0.6691</td>\n    </tr>\n    <tr>\n      <th>HOUSEHOLD_2</th>\n      <td>0.4887</td>\n    </tr>\n    <tr>\n      <th>FOODS_1</th>\n      <td>0.9875</td>\n    </tr>\n    <tr>\n      <th>FOODS_2</th>\n      <td>0.6193</td>\n    </tr>\n    <tr>\n      <th>FOODS_3</th>\n      <td>0.5281</td>\n    </tr>\n    <tr>\n      <th rowspan=\"7\" valign=\"top\">TX_3</th>\n      <th>HOBBIES_1</th>\n      <td>0.6781</td>\n    </tr>\n    <tr>\n      <th>HOBBIES_2</th>\n      <td>1.3581</td>\n    </tr>\n    <tr>\n      <th>HOUSEHOLD_1</th>\n      <td>0.8329</td>\n    </tr>\n    <tr>\n      <th>HOUSEHOLD_2</th>\n      <td>1.1091</td>\n    </tr>\n    <tr>\n      <th>FOODS_1</th>\n      <td>1.5831</td>\n    </tr>\n    <tr>\n      <th>FOODS_2</th>\n      <td>1.0183</td>\n    </tr>\n    <tr>\n      <th>FOODS_3</th>\n      <td>0.9081</td>\n    </tr>\n    <tr>\n      <th rowspan=\"7\" valign=\"top\">WI_1</th>\n      <th>HOBBIES_1</th>\n      <td>0.4860</td>\n    </tr>\n    <tr>\n      <th>HOBBIES_2</th>\n      <td>1.0000</td>\n    </tr>\n    <tr>\n      <th>HOUSEHOLD_1</th>\n      <td>0.5658</td>\n    </tr>\n    <tr>\n      <th>HOUSEHOLD_2</th>\n      <td>0.7214</td>\n    </tr>\n    <tr>\n      <th>FOODS_1</th>\n      <td>0.9579</td>\n    </tr>\n    <tr>\n      <th>FOODS_2</th>\n      <td>0.9230</td>\n    </tr>\n    <tr>\n      <th>FOODS_3</th>\n      <td>0.6724</td>\n    </tr>\n    <tr>\n      <th rowspan=\"7\" valign=\"top\">WI_2</th>\n      <th>HOBBIES_1</th>\n      <td>0.7070</td>\n    </tr>\n    <tr>\n      <th>HOBBIES_2</th>\n      <td>1.1984</td>\n    </tr>\n    <tr>\n      <th>HOUSEHOLD_1</th>\n      <td>0.9822</td>\n    </tr>\n    <tr>\n      <th>HOUSEHOLD_2</th>\n      <td>0.8728</td>\n    </tr>\n    <tr>\n      <th>FOODS_1</th>\n      <td>2.4593</td>\n    </tr>\n    <tr>\n      <th>FOODS_2</th>\n      <td>1.4717</td>\n    </tr>\n    <tr>\n      <th>FOODS_3</th>\n      <td>0.8308</td>\n    </tr>\n    <tr>\n      <th rowspan=\"7\" valign=\"top\">WI_3</th>\n      <th>HOBBIES_1</th>\n      <td>0.8515</td>\n    </tr>\n    <tr>\n      <th>HOBBIES_2</th>\n      <td>1.0450</td>\n    </tr>\n    <tr>\n      <th>HOUSEHOLD_1</th>\n      <td>0.6969</td>\n    </tr>\n    <tr>\n      <th>HOUSEHOLD_2</th>\n      <td>0.8210</td>\n    </tr>\n    <tr>\n      <th>FOODS_1</th>\n      <td>1.6087</td>\n    </tr>\n    <tr>\n      <th>FOODS_2</th>\n      <td>0.8097</td>\n    </tr>\n    <tr>\n      <th>FOODS_3</th>\n      <td>0.5013</td>\n    </tr>\n  </tbody>\n</table>\n</div>",
      "text/plain": "                   RMSSE\nCA_1 HOBBIES_1    0.6870\n     HOBBIES_2    0.6902\n     HOUSEHOLD_1  0.3635\n     HOUSEHOLD_2  0.6683\n     FOODS_1      0.6356\n     FOODS_2      0.7556\n     FOODS_3      0.5491\nCA_2 HOBBIES_1    0.6626\n     HOBBIES_2    1.4831\n     HOUSEHOLD_1  0.5651\n     HOUSEHOLD_2  0.8564\n     FOODS_1      1.2147\n     FOODS_2      1.5736\n     FOODS_3      0.6949\nCA_3 HOBBIES_1    0.5409\n     HOBBIES_2    1.3213\n     HOUSEHOLD_1  0.5652\n     HOUSEHOLD_2  1.0248\n     FOODS_1      1.1526\n     FOODS_2      0.5205\n     FOODS_3      0.4762\nCA_4 HOBBIES_1    1.0659\n     HOBBIES_2    1.0646\n     HOUSEHOLD_1  1.1893\n     HOUSEHOLD_2  1.2187\n     FOODS_1      1.4446\n     FOODS_2      0.8464\n     FOODS_3      0.7849\nTX_1 HOBBIES_1    0.7365\n     HOBBIES_2    1.2643\n     HOUSEHOLD_1  0.7898\n     HOUSEHOLD_2  1.1766\n     FOODS_1      1.4104\n     FOODS_2      0.6312\n     FOODS_3      0.7245\nTX_2 HOBBIES_1    0.7980\n     HOBBIES_2    1.0457\n     HOUSEHOLD_1  0.6691\n     HOUSEHOLD_2  0.4887\n     FOODS_1      0.9875\n     FOODS_2      0.6193\n     FOODS_3      0.5281\nTX_3 HOBBIES_1    0.6781\n     HOBBIES_2    1.3581\n     HOUSEHOLD_1  0.8329\n     HOUSEHOLD_2  1.1091\n     FOODS_1      1.5831\n     FOODS_2      1.0183\n     FOODS_3      0.9081\nWI_1 HOBBIES_1    0.4860\n     HOBBIES_2    1.0000\n     HOUSEHOLD_1  0.5658\n     HOUSEHOLD_2  0.7214\n     FOODS_1      0.9579\n     FOODS_2      0.9230\n     FOODS_3      0.6724\nWI_2 HOBBIES_1    0.7070\n     HOBBIES_2    1.1984\n     HOUSEHOLD_1  0.9822\n     HOUSEHOLD_2  0.8728\n     FOODS_1      2.4593\n     FOODS_2      1.4717\n     FOODS_3      0.8308\nWI_3 HOBBIES_1    0.8515\n     HOBBIES_2    1.0450\n     HOUSEHOLD_1  0.6969\n     HOUSEHOLD_2  0.8210\n     FOODS_1      1.6087\n     FOODS_2      0.8097\n     FOODS_3      0.5013"
     },
     "execution_count": 12,
     "metadata": {},
     "output_type": "execute_result"
    }
   ],
   "source": [
    "df_pred_9_morlgb = pd.DataFrame(pred, index=test_df_9.index)\r\n",
    "\r\n",
    "df_res_9_morlgb = rateMyForecast(\r\n",
    "    trainOG_df_9, test_df_9, df_pred_9_morlgb)['RMSSE']\r\n",
    "res[\"MultiOutputRegressor(LGBMRegressor)\"] = df_res_9_morlgb\r\n",
    "\r\n",
    "df_res_9_morlgb.index = pd.MultiIndex.from_tuples(df_res_9_morlgb.index)\r\n",
    "df_res_9_morlgb.to_frame()"
   ]
  },
  {
   "cell_type": "markdown",
   "metadata": {},
   "source": [
    "### Q4. (10 pts.)\n",
    "\n",
    "For all series, generate a 28-step forecast by combining the forecasts generated by the models in Q2 and Q3 (i.e. simple averaging).\n",
    "\n",
    "Calculate the `RMSSE` against the test set, then summarize the metrics in a dataframe and print it."
   ]
  },
  {
   "cell_type": "code",
   "execution_count": 13,
   "metadata": {
    "ExecuteTime": {
     "end_time": "2021-05-20T04:58:38.382175Z",
     "start_time": "2021-05-20T04:58:38.310021Z"
    },
    "scrolled": false
   },
   "outputs": [
    {
     "data": {
      "text/html": "<div>\n<style scoped>\n    .dataframe tbody tr th:only-of-type {\n        vertical-align: middle;\n    }\n\n    .dataframe tbody tr th {\n        vertical-align: top;\n    }\n\n    .dataframe thead th {\n        text-align: right;\n    }\n</style>\n<table border=\"1\" class=\"dataframe\">\n  <thead>\n    <tr style=\"text-align: right;\">\n      <th></th>\n      <th></th>\n      <th>RMSSE</th>\n    </tr>\n  </thead>\n  <tbody>\n    <tr>\n      <th rowspan=\"7\" valign=\"top\">CA_1</th>\n      <th>HOBBIES_1</th>\n      <td>0.6904</td>\n    </tr>\n    <tr>\n      <th>HOBBIES_2</th>\n      <td>0.6439</td>\n    </tr>\n    <tr>\n      <th>HOUSEHOLD_1</th>\n      <td>0.4231</td>\n    </tr>\n    <tr>\n      <th>HOUSEHOLD_2</th>\n      <td>0.5778</td>\n    </tr>\n    <tr>\n      <th>FOODS_1</th>\n      <td>0.6198</td>\n    </tr>\n    <tr>\n      <th>FOODS_2</th>\n      <td>0.6892</td>\n    </tr>\n    <tr>\n      <th>FOODS_3</th>\n      <td>0.5021</td>\n    </tr>\n    <tr>\n      <th rowspan=\"7\" valign=\"top\">CA_2</th>\n      <th>HOBBIES_1</th>\n      <td>0.6709</td>\n    </tr>\n    <tr>\n      <th>HOBBIES_2</th>\n      <td>1.3542</td>\n    </tr>\n    <tr>\n      <th>HOUSEHOLD_1</th>\n      <td>0.5993</td>\n    </tr>\n    <tr>\n      <th>HOUSEHOLD_2</th>\n      <td>0.7949</td>\n    </tr>\n    <tr>\n      <th>FOODS_1</th>\n      <td>1.0747</td>\n    </tr>\n    <tr>\n      <th>FOODS_2</th>\n      <td>1.4515</td>\n    </tr>\n    <tr>\n      <th>FOODS_3</th>\n      <td>0.5664</td>\n    </tr>\n    <tr>\n      <th rowspan=\"7\" valign=\"top\">CA_3</th>\n      <th>HOBBIES_1</th>\n      <td>0.5164</td>\n    </tr>\n    <tr>\n      <th>HOBBIES_2</th>\n      <td>1.3264</td>\n    </tr>\n    <tr>\n      <th>HOUSEHOLD_1</th>\n      <td>0.5857</td>\n    </tr>\n    <tr>\n      <th>HOUSEHOLD_2</th>\n      <td>0.8892</td>\n    </tr>\n    <tr>\n      <th>FOODS_1</th>\n      <td>1.1380</td>\n    </tr>\n    <tr>\n      <th>FOODS_2</th>\n      <td>0.5180</td>\n    </tr>\n    <tr>\n      <th>FOODS_3</th>\n      <td>0.4338</td>\n    </tr>\n    <tr>\n      <th rowspan=\"7\" valign=\"top\">CA_4</th>\n      <th>HOBBIES_1</th>\n      <td>1.0430</td>\n    </tr>\n    <tr>\n      <th>HOBBIES_2</th>\n      <td>1.0373</td>\n    </tr>\n    <tr>\n      <th>HOUSEHOLD_1</th>\n      <td>1.1338</td>\n    </tr>\n    <tr>\n      <th>HOUSEHOLD_2</th>\n      <td>1.1502</td>\n    </tr>\n    <tr>\n      <th>FOODS_1</th>\n      <td>1.4136</td>\n    </tr>\n    <tr>\n      <th>FOODS_2</th>\n      <td>0.8051</td>\n    </tr>\n    <tr>\n      <th>FOODS_3</th>\n      <td>0.6727</td>\n    </tr>\n    <tr>\n      <th rowspan=\"7\" valign=\"top\">TX_1</th>\n      <th>HOBBIES_1</th>\n      <td>0.7211</td>\n    </tr>\n    <tr>\n      <th>HOBBIES_2</th>\n      <td>1.1384</td>\n    </tr>\n    <tr>\n      <th>HOUSEHOLD_1</th>\n      <td>0.7319</td>\n    </tr>\n    <tr>\n      <th>HOUSEHOLD_2</th>\n      <td>1.0014</td>\n    </tr>\n    <tr>\n      <th>FOODS_1</th>\n      <td>1.4205</td>\n    </tr>\n    <tr>\n      <th>FOODS_2</th>\n      <td>0.6690</td>\n    </tr>\n    <tr>\n      <th>FOODS_3</th>\n      <td>0.7282</td>\n    </tr>\n    <tr>\n      <th rowspan=\"7\" valign=\"top\">TX_2</th>\n      <th>HOBBIES_1</th>\n      <td>0.7763</td>\n    </tr>\n    <tr>\n      <th>HOBBIES_2</th>\n      <td>0.9732</td>\n    </tr>\n    <tr>\n      <th>HOUSEHOLD_1</th>\n      <td>0.6745</td>\n    </tr>\n    <tr>\n      <th>HOUSEHOLD_2</th>\n      <td>0.4608</td>\n    </tr>\n    <tr>\n      <th>FOODS_1</th>\n      <td>1.0106</td>\n    </tr>\n    <tr>\n      <th>FOODS_2</th>\n      <td>0.5957</td>\n    </tr>\n    <tr>\n      <th>FOODS_3</th>\n      <td>0.4999</td>\n    </tr>\n    <tr>\n      <th rowspan=\"7\" valign=\"top\">TX_3</th>\n      <th>HOBBIES_1</th>\n      <td>0.7028</td>\n    </tr>\n    <tr>\n      <th>HOBBIES_2</th>\n      <td>1.2539</td>\n    </tr>\n    <tr>\n      <th>HOUSEHOLD_1</th>\n      <td>0.7582</td>\n    </tr>\n    <tr>\n      <th>HOUSEHOLD_2</th>\n      <td>1.0566</td>\n    </tr>\n    <tr>\n      <th>FOODS_1</th>\n      <td>1.6066</td>\n    </tr>\n    <tr>\n      <th>FOODS_2</th>\n      <td>1.0269</td>\n    </tr>\n    <tr>\n      <th>FOODS_3</th>\n      <td>0.8766</td>\n    </tr>\n    <tr>\n      <th rowspan=\"7\" valign=\"top\">WI_1</th>\n      <th>HOBBIES_1</th>\n      <td>0.4745</td>\n    </tr>\n    <tr>\n      <th>HOBBIES_2</th>\n      <td>1.0194</td>\n    </tr>\n    <tr>\n      <th>HOUSEHOLD_1</th>\n      <td>0.5475</td>\n    </tr>\n    <tr>\n      <th>HOUSEHOLD_2</th>\n      <td>0.7089</td>\n    </tr>\n    <tr>\n      <th>FOODS_1</th>\n      <td>0.8584</td>\n    </tr>\n    <tr>\n      <th>FOODS_2</th>\n      <td>0.9439</td>\n    </tr>\n    <tr>\n      <th>FOODS_3</th>\n      <td>0.6151</td>\n    </tr>\n    <tr>\n      <th rowspan=\"7\" valign=\"top\">WI_2</th>\n      <th>HOBBIES_1</th>\n      <td>0.7195</td>\n    </tr>\n    <tr>\n      <th>HOBBIES_2</th>\n      <td>1.2200</td>\n    </tr>\n    <tr>\n      <th>HOUSEHOLD_1</th>\n      <td>0.9392</td>\n    </tr>\n    <tr>\n      <th>HOUSEHOLD_2</th>\n      <td>0.9303</td>\n    </tr>\n    <tr>\n      <th>FOODS_1</th>\n      <td>2.2685</td>\n    </tr>\n    <tr>\n      <th>FOODS_2</th>\n      <td>1.4192</td>\n    </tr>\n    <tr>\n      <th>FOODS_3</th>\n      <td>0.8371</td>\n    </tr>\n    <tr>\n      <th rowspan=\"7\" valign=\"top\">WI_3</th>\n      <th>HOBBIES_1</th>\n      <td>0.8222</td>\n    </tr>\n    <tr>\n      <th>HOBBIES_2</th>\n      <td>1.0168</td>\n    </tr>\n    <tr>\n      <th>HOUSEHOLD_1</th>\n      <td>0.6759</td>\n    </tr>\n    <tr>\n      <th>HOUSEHOLD_2</th>\n      <td>0.8082</td>\n    </tr>\n    <tr>\n      <th>FOODS_1</th>\n      <td>1.5345</td>\n    </tr>\n    <tr>\n      <th>FOODS_2</th>\n      <td>0.8282</td>\n    </tr>\n    <tr>\n      <th>FOODS_3</th>\n      <td>0.4994</td>\n    </tr>\n  </tbody>\n</table>\n</div>",
      "text/plain": "                   RMSSE\nCA_1 HOBBIES_1    0.6904\n     HOBBIES_2    0.6439\n     HOUSEHOLD_1  0.4231\n     HOUSEHOLD_2  0.5778\n     FOODS_1      0.6198\n     FOODS_2      0.6892\n     FOODS_3      0.5021\nCA_2 HOBBIES_1    0.6709\n     HOBBIES_2    1.3542\n     HOUSEHOLD_1  0.5993\n     HOUSEHOLD_2  0.7949\n     FOODS_1      1.0747\n     FOODS_2      1.4515\n     FOODS_3      0.5664\nCA_3 HOBBIES_1    0.5164\n     HOBBIES_2    1.3264\n     HOUSEHOLD_1  0.5857\n     HOUSEHOLD_2  0.8892\n     FOODS_1      1.1380\n     FOODS_2      0.5180\n     FOODS_3      0.4338\nCA_4 HOBBIES_1    1.0430\n     HOBBIES_2    1.0373\n     HOUSEHOLD_1  1.1338\n     HOUSEHOLD_2  1.1502\n     FOODS_1      1.4136\n     FOODS_2      0.8051\n     FOODS_3      0.6727\nTX_1 HOBBIES_1    0.7211\n     HOBBIES_2    1.1384\n     HOUSEHOLD_1  0.7319\n     HOUSEHOLD_2  1.0014\n     FOODS_1      1.4205\n     FOODS_2      0.6690\n     FOODS_3      0.7282\nTX_2 HOBBIES_1    0.7763\n     HOBBIES_2    0.9732\n     HOUSEHOLD_1  0.6745\n     HOUSEHOLD_2  0.4608\n     FOODS_1      1.0106\n     FOODS_2      0.5957\n     FOODS_3      0.4999\nTX_3 HOBBIES_1    0.7028\n     HOBBIES_2    1.2539\n     HOUSEHOLD_1  0.7582\n     HOUSEHOLD_2  1.0566\n     FOODS_1      1.6066\n     FOODS_2      1.0269\n     FOODS_3      0.8766\nWI_1 HOBBIES_1    0.4745\n     HOBBIES_2    1.0194\n     HOUSEHOLD_1  0.5475\n     HOUSEHOLD_2  0.7089\n     FOODS_1      0.8584\n     FOODS_2      0.9439\n     FOODS_3      0.6151\nWI_2 HOBBIES_1    0.7195\n     HOBBIES_2    1.2200\n     HOUSEHOLD_1  0.9392\n     HOUSEHOLD_2  0.9303\n     FOODS_1      2.2685\n     FOODS_2      1.4192\n     FOODS_3      0.8371\nWI_3 HOBBIES_1    0.8222\n     HOBBIES_2    1.0168\n     HOUSEHOLD_1  0.6759\n     HOUSEHOLD_2  0.8082\n     FOODS_1      1.5345\n     FOODS_2      0.8282\n     FOODS_3      0.4994"
     },
     "execution_count": 13,
     "metadata": {},
     "output_type": "execute_result"
    }
   ],
   "source": [
    "df_pred_9_combo = (df_pred_9_morlgb + df_pred_9_rrlgb) / 2\r\n",
    "\r\n",
    "df_res_9_combo = rateMyForecast(\r\n",
    "    trainOG_df_9, test_df_9, df_pred_9_combo)['RMSSE']\r\n",
    "res[\"Combo(LGBMRegressor)\"] = df_res_9_combo\r\n",
    "\r\n",
    "df_res_9_combo.index = pd.MultiIndex.from_tuples(df_res_9_combo.index)\r\n",
    "df_res_9_combo.to_frame()"
   ]
  },
  {
   "cell_type": "markdown",
   "metadata": {},
   "source": [
    "---\n",
    "\n",
    "## Part 3. WRMSSE (10 pts.)"
   ]
  },
  {
   "cell_type": "markdown",
   "metadata": {},
   "source": [
    "### Q5.  (10 pts.)\n",
    "\n",
    "Calculate the `WRMSSE` for the all the methods described above. The weights can be found in `weights_validation.csv`.\n",
    "\n",
    "For reference, the M5 benchmarks have the following `WRMSSE` scores at level 9:\n",
    "\n",
    "- `Naive` = <b>1.764</b>\n",
    "\n",
    "\n",
    "- `S.Naive` = <b>0.888</b>\n",
    "\n",
    "\n",
    "- `ES_bu` = <b>0.728</b>\n",
    "\n",
    "<i>Note: The M5 benchmarks use a bottom-up method for forecasting, so they will not necessarily be equal to your scores.</i>"
   ]
  },
  {
   "cell_type": "code",
   "execution_count": 15,
   "metadata": {
    "ExecuteTime": {
     "end_time": "2021-05-20T04:58:46.734337Z",
     "start_time": "2021-05-20T04:58:46.722990Z"
    }
   },
   "outputs": [
    {
     "data": {
      "text/plain": "Naive                                  1.5616\nSeasonal Naive                         0.8919\nSES                                    1.1585\nHolt's Linear                          1.1855\nAdditive Holt-Winters                  0.8200\nRecursiveRegressor(LGBMRegressor)      0.7569\nMultiOutputRegressor(LGBMRegressor)    0.7814\nCombo(LGBMRegressor)                   0.7505\ndtype: float64"
     },
     "execution_count": 15,
     "metadata": {},
     "output_type": "execute_result"
    }
   ],
   "source": [
    "df_res_9_all = pd.DataFrame(res)\r\n",
    "df_res_9_all.index = pd.MultiIndex.from_tuples(df_res_9_all.index)\r\n",
    "df_res_9_all\r\n",
    "\r\n",
    "(df_res_9_all.rename_axis(['Agg_Level_1', 'Agg_Level_2'])\r\n",
    " .multiply(weights_df_9.squeeze(), axis=0).sum())"
   ]
  },
  {
   "cell_type": "markdown",
   "metadata": {},
   "source": [
    "---\n",
    "\n",
    "## Part 4. Middle-Out Method (30 pts.)"
   ]
  },
  {
   "cell_type": "code",
   "execution_count": 104,
   "metadata": {},
   "outputs": [],
   "source": [
    "full_df = (df_sales.set_index([*df_sales.columns[5::-1]]).T\r\n",
    "           .set_index(pd.DatetimeIndex(df_calendar.date)[:1941]))\r\n",
    "df_weights['Level_no'] = (df_weights['Level_id'].str\r\n",
    "                          .extract('(\\d+)').astype(int))\r\n",
    "df_weights['TS'] = [x[0] if x[1] == 'X' else x for x in \r\n",
    "                    list(zip(df_weights.Agg_Level_1, df_weights.Agg_Level_2))]\r\n",
    "\r\n",
    "weights1 = df_weights[['Level_no', 'TS', 'Weight']]\r\n",
    "w1to8 = (weights1[weights1['Level_no'].isin(range(1,9))]\r\n",
    "        .set_index(['Level_no', 'TS']))\r\n",
    "\r\n",
    "w1to13 = (weights1[weights1['Level_no'].isin(range(10,13))]\r\n",
    "        .set_index(['Level_no', 'TS']))\r\n"
   ]
  },
  {
   "cell_type": "markdown",
   "metadata": {},
   "source": [
    "### Q6. Bottom-Up (15 pts.)\n",
    "\n",
    "Using your forecasts from the best performing method in Q5, use the bottom-up method described in [FPP3](https://otexts.com/fpp3/single-level.html) to generate forecasts for levels 1 to 8.\n",
    "\n",
    "Calculate the `WRMSSE` for levels 1 to 8 against the test set, then summarize the metrics in a dataframe and print it.\n",
    "\n",
    "For reference, you can find the benchmark `WRMSSE` scores in the `The M5 Accuracy competition: Results, findings and conclusions` paper.\n",
    "\n",
    "<i>Note: The M5 benchmarks use a bottom-up method for forecasting, so they will not necessarily be equal to your scores.</i>"
   ]
  },
  {
   "cell_type": "code",
   "execution_count": 101,
   "metadata": {},
   "outputs": [],
   "source": [
    "df_pred_9_combo.columns = train_df.sum(axis=1, \r\n",
    "                                       level=[\"store_id\", \"state_id\", \r\n",
    "                                              \"cat_id\", \"dept_id\"]).columns\r\n",
    "b_up_rmsse = compute_bottomup(full_df, df_pred_9_combo, 9)\r\n",
    "bup_rmsse = (pd.DataFrame.from_dict(b_up_rmsse, orient=\"index\")\r\n",
    "             .stack().to_frame()).rename(columns={0:'RMSSE'})"
   ]
  },
  {
   "cell_type": "code",
   "execution_count": 102,
   "metadata": {
    "ExecuteTime": {
     "end_time": "2021-05-20T04:54:18.310784Z",
     "start_time": "2021-05-20T04:54:18.307792Z"
    }
   },
   "outputs": [
    {
     "data": {
      "text/html": "<div>\n<style scoped>\n    .dataframe tbody tr th:only-of-type {\n        vertical-align: middle;\n    }\n\n    .dataframe tbody tr th {\n        vertical-align: top;\n    }\n\n    .dataframe thead th {\n        text-align: right;\n    }\n</style>\n<table border=\"1\" class=\"dataframe\">\n  <thead>\n    <tr style=\"text-align: right;\">\n      <th></th>\n      <th>WRMSSE</th>\n    </tr>\n    <tr>\n      <th>Levels</th>\n      <th></th>\n    </tr>\n  </thead>\n  <tbody>\n    <tr>\n      <th>1</th>\n      <td>0.5601</td>\n    </tr>\n    <tr>\n      <th>2</th>\n      <td>0.5811</td>\n    </tr>\n    <tr>\n      <th>3</th>\n      <td>0.6293</td>\n    </tr>\n    <tr>\n      <th>4</th>\n      <td>0.5691</td>\n    </tr>\n    <tr>\n      <th>5</th>\n      <td>0.6334</td>\n    </tr>\n    <tr>\n      <th>6</th>\n      <td>0.6087</td>\n    </tr>\n    <tr>\n      <th>7</th>\n      <td>0.6804</td>\n    </tr>\n    <tr>\n      <th>8</th>\n      <td>0.6678</td>\n    </tr>\n  </tbody>\n</table>\n</div>",
      "text/plain": "        WRMSSE\nLevels        \n1       0.5601\n2       0.5811\n3       0.6293\n4       0.5691\n5       0.6334\n6       0.6087\n7       0.6804\n8       0.6678"
     },
     "execution_count": 102,
     "metadata": {},
     "output_type": "execute_result"
    }
   ],
   "source": [
    "bup_res = (pd.concat([bup_rmsse, w1to8], axis=1).reset_index()\r\n",
    "           .rename(columns={'level_0': 'Levels'}))\r\n",
    "bup_res['WRMSSE'] = bup_res.RMSSE * bup_res.Weight\r\n",
    "bup_res.groupby('Levels')[['WRMSSE']].agg('sum')"
   ]
  },
  {
   "cell_type": "markdown",
   "metadata": {},
   "source": [
    "### Q7. Top-Down  (15 pts.)\n",
    "\n",
    "Using your forecasts from the best performing method in Q5, use the top-down method with `average historical proportions` described in [FPP3](https://otexts.com/fpp3/single-level.html) to generate forecasts for levels 10 to 12.\n",
    "\n",
    "Calculate the `WRMSSE` for levels 10 to 12  against the test set, then summarize the metrics in a dataframe and print it.\n",
    "\n",
    "For reference, you can find the benchmark `WRMSSE` scores in the `The M5 Accuracy competition: Results, findings and conclusions` paper.\n",
    "\n",
    "<i>Note: The M5 benchmarks use a bottom-up method for forecasting, so they will not necessarily be equal to your scores.</i>"
   ]
  },
  {
   "cell_type": "code",
   "execution_count": 109,
   "metadata": {
    "ExecuteTime": {
     "end_time": "2021-05-20T04:54:18.314773Z",
     "start_time": "2021-05-20T04:54:18.311781Z"
    }
   },
   "outputs": [
    {
     "name": "stderr",
     "output_type": "stream",
     "text": [
      "  0%|          | 0/3 [00:00<?, ?it/s]\n"
     ]
    },
    {
     "ename": "NameError",
     "evalue": "name 'full_df' is not defined",
     "output_type": "error",
     "traceback": [
      "\u001b[1;31m---------------------------------------------------------------------------\u001b[0m",
      "\u001b[1;31mNameError\u001b[0m                                 Traceback (most recent call last)",
      "\u001b[1;32m<ipython-input-109-fbba71267bac>\u001b[0m in \u001b[0;36m<module>\u001b[1;34m\u001b[0m\n\u001b[1;32m----> 1\u001b[1;33m \u001b[0mt_down_rmsse\u001b[0m \u001b[1;33m=\u001b[0m \u001b[0mcompute_topdown\u001b[0m\u001b[1;33m(\u001b[0m\u001b[0mfull_df\u001b[0m\u001b[1;33m,\u001b[0m \u001b[0mdf_pred_9_combo\u001b[0m\u001b[1;33m,\u001b[0m \u001b[1;36m9\u001b[0m\u001b[1;33m)\u001b[0m\u001b[1;33m\u001b[0m\u001b[1;33m\u001b[0m\u001b[0m\n\u001b[0m",
      "\u001b[1;32mc:\\Users\\jquinto2\\Desktop\\JGQ_files\\github_repos\\tsa_thyfinalproject2\\tsa2021-m5\\tsa_tools.py\u001b[0m in \u001b[0;36mcompute_topdown\u001b[1;34m(df_full, df_pred, lvl_pred, approach)\u001b[0m\n\u001b[0;32m    186\u001b[0m             \u001b[0mres_bycol\u001b[0m \u001b[1;33m=\u001b[0m \u001b[1;33m{\u001b[0m\u001b[1;33m}\u001b[0m\u001b[1;33m\u001b[0m\u001b[1;33m\u001b[0m\u001b[0m\n\u001b[0;32m    187\u001b[0m \u001b[1;33m\u001b[0m\u001b[0m\n\u001b[1;32m--> 188\u001b[1;33m             \u001b[0mlvl\u001b[0m \u001b[1;33m=\u001b[0m \u001b[0mdf_full\u001b[0m\u001b[1;33m.\u001b[0m\u001b[0msum\u001b[0m\u001b[1;33m(\u001b[0m\u001b[0mlevel\u001b[0m\u001b[1;33m=\u001b[0m\u001b[0mlevels\u001b[0m\u001b[1;33m[\u001b[0m\u001b[0mx\u001b[0m\u001b[1;33m]\u001b[0m\u001b[1;33m,\u001b[0m \u001b[0maxis\u001b[0m\u001b[1;33m=\u001b[0m\u001b[1;36m1\u001b[0m\u001b[1;33m)\u001b[0m\u001b[1;33m\u001b[0m\u001b[1;33m\u001b[0m\u001b[0m\n\u001b[0m\u001b[0;32m    189\u001b[0m \u001b[1;33m\u001b[0m\u001b[0m\n\u001b[0;32m    190\u001b[0m             \u001b[1;31m# Test and Train Split\u001b[0m\u001b[1;33m\u001b[0m\u001b[1;33m\u001b[0m\u001b[1;33m\u001b[0m\u001b[0m\n",
      "\u001b[1;31mNameError\u001b[0m: name 'full_df' is not defined"
     ]
    }
   ],
   "source": [
    "t_down_rmsse = compute_topdown(full_df, df_pred_9_combo, 9)"
   ]
  },
  {
   "cell_type": "code",
   "execution_count": null,
   "metadata": {},
   "outputs": [],
   "source": []
  }
 ],
 "metadata": {
  "interpreter": {
   "hash": "265b9f6d5cf90dc2c902e9778fa8693db95aa4ee8018c80e8b88aeca2718df24"
  },
  "kernelspec": {
   "display_name": "Python 3.9.1 64-bit",
   "name": "python3"
  },
  "language_info": {
   "name": "python",
   "version": ""
  },
  "latex_envs": {
   "LaTeX_envs_menu_present": true,
   "autoclose": false,
   "autocomplete": true,
   "bibliofile": "biblio.bib",
   "cite_by": "apalike",
   "current_citInitial": 1,
   "eqLabelWithNumbers": true,
   "eqNumInitial": 1,
   "hotkeys": {
    "equation": "Ctrl-E",
    "itemize": "Ctrl-I"
   },
   "labels_anchors": false,
   "latex_user_defs": false,
   "report_style_numbering": false,
   "user_envs_cfg": false
  },
  "toc": {
   "base_numbering": 1,
   "nav_menu": {},
   "number_sections": true,
   "sideBar": true,
   "skip_h1_title": false,
   "title_cell": "Table of Contents",
   "title_sidebar": "Contents",
   "toc_cell": false,
   "toc_position": {},
   "toc_section_display": true,
   "toc_window_display": false
  },
  "varInspector": {
   "cols": {
    "lenName": 16,
    "lenType": 16,
    "lenVar": 40
   },
   "kernels_config": {
    "python": {
     "delete_cmd_postfix": "",
     "delete_cmd_prefix": "del ",
     "library": "var_list.py",
     "varRefreshCmd": "print(var_dic_list())"
    },
    "r": {
     "delete_cmd_postfix": ") ",
     "delete_cmd_prefix": "rm(",
     "library": "var_list.r",
     "varRefreshCmd": "cat(var_dic_list()) "
    }
   },
   "types_to_exclude": [
    "module",
    "function",
    "builtin_function_or_method",
    "instance",
    "_Feature"
   ],
   "window_display": false
  }
 },
 "nbformat": 4,
 "nbformat_minor": 4
}