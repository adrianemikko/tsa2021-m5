{
 "cells": [
  {
   "cell_type": "markdown",
   "metadata": {},
   "source": [
    "# Time Series Analysis: \"The Final Project\"\r\n",
    "\r\n",
    "`End? No, the journey doesn't end here. Death is just another path. One that we all must take.\r\n",
    "-J.R.R. Tolkien, The Return of the King`"
   ]
  },
  {
   "cell_type": "markdown",
   "metadata": {},
   "source": [
    "---\n",
    "\n",
    "## Libraries"
   ]
  },
  {
   "cell_type": "code",
   "execution_count": 1,
   "metadata": {},
   "outputs": [
    {
     "name": "stdout",
     "output_type": "stream",
     "text": [
      "C:\\Users\\aamorado\\Documents\\tsa2021-m5\n"
     ]
    }
   ],
   "source": [
    "%cd \"Documents\\tsa2021-m5\""
   ]
  },
  {
   "cell_type": "code",
   "execution_count": 2,
   "metadata": {
    "ExecuteTime": {
     "end_time": "2021-04-29T10:32:16.820862Z",
     "start_time": "2021-04-29T10:32:15.178981Z"
    }
   },
   "outputs": [],
   "source": [
    "from statsmodels.tsa.exponential_smoothing.ets import ETSModel\r\n",
    "import statsmodels.api as sm\r\n",
    "import numpy as np\r\n",
    "import pandas as pd\r\n",
    "import seaborn as sns\r\n",
    "import matplotlib.pyplot as plt\r\n",
    "import lightgbm as lgb\r\n",
    "from pandas.plotting import register_matplotlib_converters\r\n",
    "from IPython.display import display\r\n",
    "from tsa_tools import *  # Hehe\r\n",
    "\r\n",
    "register_matplotlib_converters()\r\n",
    "sns.set_style('darkgrid')\r\n",
    "\r\n",
    "np.set_printoptions(precision=4)\r\n",
    "pd.set_option('precision', 4)\r\n"
   ]
  },
  {
   "cell_type": "markdown",
   "metadata": {},
   "source": [
    "---\n",
    "\n",
    "## M5 Forecasting\n",
    "\n",
    "For this \"final project\", we will be forecasting the <b><u>level 9</b></u> series (unit sales of all products, aggregated for each store and department).\n",
    "\n",
    "Load `sales_train_evaluation.csv` and use observations from `d_1 to d_1913` for training and `d_1914 to d_1941` for testing."
   ]
  },
  {
   "cell_type": "code",
   "execution_count": 3,
   "metadata": {
    "ExecuteTime": {
     "end_time": "2021-04-29T10:32:22.526625Z",
     "start_time": "2021-04-29T10:32:16.824918Z"
    }
   },
   "outputs": [],
   "source": [
    "df_calendar = pd.read_csv('../data/m5/calendar.csv')\r\n",
    "df_sales = pd.read_csv('../data/m5/sales_train_evaluation.csv')\r\n",
    "df_weights = pd.read_csv('../data/m5/weights_validation.csv')\r\n",
    "# display(df_calendar, df_sales, df_weights)"
   ]
  },
  {
   "cell_type": "code",
   "execution_count": 4,
   "metadata": {},
   "outputs": [],
   "source": [
    "train_df = (df_sales.set_index([*df_sales.columns[5::-1]]).T\r\n",
    "           .set_index(pd.DatetimeIndex(df_calendar.date)[:1941]).iloc[:-28])\r\n",
    "test_df = (df_sales.set_index([*df_sales.columns[5::-1]]).T\r\n",
    "           .set_index(pd.DatetimeIndex(df_calendar.date)[:1941]).iloc[-28:])\r\n",
    "# display(train_df, test_df)"
   ]
  },
  {
   "cell_type": "code",
   "execution_count": 5,
   "metadata": {},
   "outputs": [],
   "source": [
    "levels = {\r\n",
    "    1: None,\r\n",
    "    2: \"state_id\",\r\n",
    "    3: \"store_id\",\r\n",
    "    4: \"cat_id\",\r\n",
    "    5: \"dept_id\",\r\n",
    "    6: [\"state_id\", \"cat_id\"],\r\n",
    "    7: [\"state_id\", \"dept_id\"],\r\n",
    "    8: [\"store_id\", \"cat_id\"],\r\n",
    "    9: [\"store_id\", \"dept_id\"],\r\n",
    "    10: \"item_id\",\r\n",
    "    11: [\"state_id\", \"item_id\"],\r\n",
    "    12: [\"store_id\", \"item_id\"]\r\n",
    "}\r\n"
   ]
  },
  {
   "cell_type": "markdown",
   "metadata": {},
   "source": [
    "---\n",
    "\n",
    "## Part 1. Baseline Methods (10 pts.)"
   ]
  },
  {
   "cell_type": "markdown",
   "metadata": {},
   "source": [
    "### Q1. (10 pts.)\n",
    "\n",
    "Extract all level 9 series from the dataset.\n",
    "\n",
    "For each series, generate a 28-step forecast using the methods enumerated below and calculate the `RMSSE` against the test set:\n",
    "\n",
    "1. `Naive`\n",
    "\n",
    "\n",
    "2. `Seasonal Naive`\n",
    "\n",
    "\n",
    "3. `SES`\n",
    "\n",
    "\n",
    "4. `Holt's Linear`\n",
    "\n",
    "\n",
    "5. `Additive Holt-Winters`\n",
    "\n",
    "Summarize the metrics in a dataframe and print it."
   ]
  },
  {
   "cell_type": "code",
   "execution_count": 6,
   "metadata": {},
   "outputs": [],
   "source": [
    "methods = {\r\n",
    "    \"Naive\": BaseFuncModel(naivef),\r\n",
    "    \"Seasonal Naive\": BaseFuncModel(snaivef, m=7),\r\n",
    "    \"SES\": StatsModelsWrapper(ETSModel, trend=None, seasonal=None),\r\n",
    "    \"Holt's Linear\": StatsModelsWrapper(ETSModel, trend='add', seasonal=None),\r\n",
    "    \"Additive Holt-Winters\": StatsModelsWrapper(\r\n",
    "        ETSModel, seasonal_periods=7, trend='add', seasonal='add'),\r\n",
    "}\r\n",
    "\r\n",
    "trainOG_df_9 = train_df.sum(axis='columns', level=levels[9])\r\n",
    "train_df_9 = timeSeriesFiltering(trainOG_df_9, lower=10)\r\n",
    "test_df_9 = test_df.sum(axis='columns', level=levels[9])\r\n",
    "weights_df_9 = (df_weights\r\n",
    "                .loc[df_weights['Level_id'] == 'Level9']\r\n",
    "                .set_index(['Agg_Level_1', 'Agg_Level_2'])[['Weight']])"
   ]
  },
  {
   "cell_type": "code",
   "execution_count": 7,
   "metadata": {
    "ExecuteTime": {
     "end_time": "2021-04-28T16:37:30.846487Z",
     "start_time": "2021-04-28T16:37:27.791260Z"
    },
    "scrolled": true
   },
   "outputs": [],
   "source": [
    "res = {}\r\n",
    "for method, model in methods.items():\r\n",
    "    forecast_df_9 = pd.DataFrame(\r\n",
    "        {label: model.fit(content).forecast(28)\r\n",
    "        for label, content in train_df_9.items()}\r\n",
    "        )\r\n",
    "    res[method] = rateMyForecast(\r\n",
    "        trainOG_df_9, test_df_9, forecast_df_9)['RMSSE']"
   ]
  },
  {
   "cell_type": "code",
   "execution_count": 8,
   "metadata": {},
   "outputs": [
    {
     "data": {
      "text/html": "<div>\n<style scoped>\n    .dataframe tbody tr th:only-of-type {\n        vertical-align: middle;\n    }\n\n    .dataframe tbody tr th {\n        vertical-align: top;\n    }\n\n    .dataframe thead th {\n        text-align: right;\n    }\n</style>\n<table border=\"1\" class=\"dataframe\">\n  <thead>\n    <tr style=\"text-align: right;\">\n      <th></th>\n      <th></th>\n      <th>Naive</th>\n      <th>Seasonal Naive</th>\n      <th>SES</th>\n      <th>Holt's Linear</th>\n      <th>Additive Holt-Winters</th>\n    </tr>\n  </thead>\n  <tbody>\n    <tr>\n      <th rowspan=\"7\" valign=\"top\">CA_1</th>\n      <th>HOBBIES_1</th>\n      <td>1.4216</td>\n      <td>0.7428</td>\n      <td>0.8598</td>\n      <td>0.8589</td>\n      <td>0.6152</td>\n    </tr>\n    <tr>\n      <th>HOBBIES_2</th>\n      <td>1.8601</td>\n      <td>1.0992</td>\n      <td>0.8494</td>\n      <td>0.8414</td>\n      <td>0.6931</td>\n    </tr>\n    <tr>\n      <th>HOUSEHOLD_1</th>\n      <td>2.0500</td>\n      <td>0.5036</td>\n      <td>1.1212</td>\n      <td>1.1331</td>\n      <td>0.4317</td>\n    </tr>\n    <tr>\n      <th>HOUSEHOLD_2</th>\n      <td>2.2407</td>\n      <td>0.5094</td>\n      <td>1.1894</td>\n      <td>1.1486</td>\n      <td>0.5141</td>\n    </tr>\n    <tr>\n      <th>FOODS_1</th>\n      <td>0.8768</td>\n      <td>0.6880</td>\n      <td>0.8637</td>\n      <td>0.8808</td>\n      <td>0.6870</td>\n    </tr>\n    <tr>\n      <th>FOODS_2</th>\n      <td>2.0036</td>\n      <td>0.8068</td>\n      <td>2.0035</td>\n      <td>2.2574</td>\n      <td>0.5786</td>\n    </tr>\n    <tr>\n      <th>FOODS_3</th>\n      <td>1.6443</td>\n      <td>0.4750</td>\n      <td>1.0401</td>\n      <td>0.9787</td>\n      <td>0.4848</td>\n    </tr>\n    <tr>\n      <th rowspan=\"7\" valign=\"top\">CA_2</th>\n      <th>HOBBIES_1</th>\n      <td>1.1753</td>\n      <td>0.6880</td>\n      <td>1.0901</td>\n      <td>1.0902</td>\n      <td>0.6379</td>\n    </tr>\n    <tr>\n      <th>HOBBIES_2</th>\n      <td>1.3073</td>\n      <td>1.4373</td>\n      <td>1.3402</td>\n      <td>1.3308</td>\n      <td>1.1234</td>\n    </tr>\n    <tr>\n      <th>HOUSEHOLD_1</th>\n      <td>1.9863</td>\n      <td>0.6240</td>\n      <td>1.3668</td>\n      <td>1.3564</td>\n      <td>0.5704</td>\n    </tr>\n    <tr>\n      <th>HOUSEHOLD_2</th>\n      <td>1.8849</td>\n      <td>0.5770</td>\n      <td>1.4254</td>\n      <td>1.4165</td>\n      <td>0.6488</td>\n    </tr>\n    <tr>\n      <th>FOODS_1</th>\n      <td>1.1962</td>\n      <td>1.0775</td>\n      <td>1.3218</td>\n      <td>1.3134</td>\n      <td>0.9258</td>\n    </tr>\n    <tr>\n      <th>FOODS_2</th>\n      <td>4.1379</td>\n      <td>1.4366</td>\n      <td>2.2206</td>\n      <td>2.1603</td>\n      <td>1.2523</td>\n    </tr>\n    <tr>\n      <th>FOODS_3</th>\n      <td>2.4898</td>\n      <td>0.5828</td>\n      <td>1.3979</td>\n      <td>1.3605</td>\n      <td>0.4614</td>\n    </tr>\n    <tr>\n      <th rowspan=\"7\" valign=\"top\">CA_3</th>\n      <th>HOBBIES_1</th>\n      <td>0.9058</td>\n      <td>0.6425</td>\n      <td>0.6766</td>\n      <td>0.6784</td>\n      <td>0.4876</td>\n    </tr>\n    <tr>\n      <th>HOBBIES_2</th>\n      <td>1.1844</td>\n      <td>1.6422</td>\n      <td>1.5348</td>\n      <td>1.5252</td>\n      <td>1.5122</td>\n    </tr>\n    <tr>\n      <th>HOUSEHOLD_1</th>\n      <td>2.4874</td>\n      <td>0.7176</td>\n      <td>1.0695</td>\n      <td>1.0945</td>\n      <td>0.6359</td>\n    </tr>\n    <tr>\n      <th>HOUSEHOLD_2</th>\n      <td>2.0081</td>\n      <td>0.8406</td>\n      <td>1.3608</td>\n      <td>1.3524</td>\n      <td>0.9044</td>\n    </tr>\n    <tr>\n      <th>FOODS_1</th>\n      <td>1.0944</td>\n      <td>1.4881</td>\n      <td>1.3092</td>\n      <td>1.3022</td>\n      <td>1.3700</td>\n    </tr>\n    <tr>\n      <th>FOODS_2</th>\n      <td>1.8145</td>\n      <td>0.7055</td>\n      <td>1.6655</td>\n      <td>1.6808</td>\n      <td>0.5552</td>\n    </tr>\n    <tr>\n      <th>FOODS_3</th>\n      <td>1.4642</td>\n      <td>0.4057</td>\n      <td>0.8303</td>\n      <td>1.4798</td>\n      <td>0.4335</td>\n    </tr>\n    <tr>\n      <th rowspan=\"7\" valign=\"top\">CA_4</th>\n      <th>HOBBIES_1</th>\n      <td>1.4108</td>\n      <td>1.0669</td>\n      <td>0.9649</td>\n      <td>0.9597</td>\n      <td>0.8854</td>\n    </tr>\n    <tr>\n      <th>HOBBIES_2</th>\n      <td>1.5277</td>\n      <td>1.3413</td>\n      <td>1.3553</td>\n      <td>1.3549</td>\n      <td>1.3687</td>\n    </tr>\n    <tr>\n      <th>HOUSEHOLD_1</th>\n      <td>3.2265</td>\n      <td>1.3949</td>\n      <td>1.1781</td>\n      <td>1.1518</td>\n      <td>0.9194</td>\n    </tr>\n    <tr>\n      <th>HOUSEHOLD_2</th>\n      <td>1.2957</td>\n      <td>0.9160</td>\n      <td>1.0072</td>\n      <td>0.9944</td>\n      <td>0.7923</td>\n    </tr>\n    <tr>\n      <th>FOODS_1</th>\n      <td>0.9428</td>\n      <td>1.4526</td>\n      <td>1.2850</td>\n      <td>1.2664</td>\n      <td>1.2432</td>\n    </tr>\n    <tr>\n      <th>FOODS_2</th>\n      <td>1.2565</td>\n      <td>0.7737</td>\n      <td>1.1230</td>\n      <td>1.1156</td>\n      <td>0.7533</td>\n    </tr>\n    <tr>\n      <th>FOODS_3</th>\n      <td>1.3082</td>\n      <td>0.5906</td>\n      <td>0.8758</td>\n      <td>0.8723</td>\n      <td>0.6155</td>\n    </tr>\n    <tr>\n      <th rowspan=\"7\" valign=\"top\">TX_1</th>\n      <th>HOBBIES_1</th>\n      <td>1.5773</td>\n      <td>0.8856</td>\n      <td>0.8751</td>\n      <td>0.8737</td>\n      <td>0.6820</td>\n    </tr>\n    <tr>\n      <th>HOBBIES_2</th>\n      <td>1.7232</td>\n      <td>1.5083</td>\n      <td>1.3088</td>\n      <td>1.2963</td>\n      <td>1.3579</td>\n    </tr>\n    <tr>\n      <th>HOUSEHOLD_1</th>\n      <td>1.7292</td>\n      <td>0.7703</td>\n      <td>1.0973</td>\n      <td>1.0909</td>\n      <td>0.7469</td>\n    </tr>\n    <tr>\n      <th>HOUSEHOLD_2</th>\n      <td>1.1629</td>\n      <td>1.2091</td>\n      <td>1.0126</td>\n      <td>0.9971</td>\n      <td>0.9166</td>\n    </tr>\n    <tr>\n      <th>FOODS_1</th>\n      <td>1.2691</td>\n      <td>1.6348</td>\n      <td>1.4803</td>\n      <td>1.4703</td>\n      <td>1.5410</td>\n    </tr>\n    <tr>\n      <th>FOODS_2</th>\n      <td>1.1590</td>\n      <td>0.9268</td>\n      <td>0.8335</td>\n      <td>0.8334</td>\n      <td>0.7763</td>\n    </tr>\n    <tr>\n      <th>FOODS_3</th>\n      <td>1.1032</td>\n      <td>0.7950</td>\n      <td>0.8655</td>\n      <td>0.8366</td>\n      <td>0.5911</td>\n    </tr>\n    <tr>\n      <th rowspan=\"7\" valign=\"top\">TX_2</th>\n      <th>HOBBIES_1</th>\n      <td>0.7631</td>\n      <td>0.8409</td>\n      <td>0.8406</td>\n      <td>0.8361</td>\n      <td>0.6955</td>\n    </tr>\n    <tr>\n      <th>HOBBIES_2</th>\n      <td>0.7312</td>\n      <td>1.2235</td>\n      <td>0.9492</td>\n      <td>0.9444</td>\n      <td>0.9807</td>\n    </tr>\n    <tr>\n      <th>HOUSEHOLD_1</th>\n      <td>0.8174</td>\n      <td>0.8049</td>\n      <td>0.8195</td>\n      <td>0.8222</td>\n      <td>0.6134</td>\n    </tr>\n    <tr>\n      <th>HOUSEHOLD_2</th>\n      <td>1.2981</td>\n      <td>0.6212</td>\n      <td>0.8821</td>\n      <td>0.8852</td>\n      <td>0.4281</td>\n    </tr>\n    <tr>\n      <th>FOODS_1</th>\n      <td>1.3761</td>\n      <td>1.1937</td>\n      <td>1.2033</td>\n      <td>1.1958</td>\n      <td>1.3479</td>\n    </tr>\n    <tr>\n      <th>FOODS_2</th>\n      <td>0.9110</td>\n      <td>0.6606</td>\n      <td>0.7281</td>\n      <td>0.7461</td>\n      <td>0.6550</td>\n    </tr>\n    <tr>\n      <th>FOODS_3</th>\n      <td>0.7848</td>\n      <td>0.5939</td>\n      <td>0.7153</td>\n      <td>0.7135</td>\n      <td>0.5763</td>\n    </tr>\n    <tr>\n      <th rowspan=\"7\" valign=\"top\">TX_3</th>\n      <th>HOBBIES_1</th>\n      <td>1.4710</td>\n      <td>0.8672</td>\n      <td>0.9036</td>\n      <td>0.9004</td>\n      <td>0.7070</td>\n    </tr>\n    <tr>\n      <th>HOBBIES_2</th>\n      <td>1.4024</td>\n      <td>1.6834</td>\n      <td>1.0940</td>\n      <td>1.0908</td>\n      <td>1.0873</td>\n    </tr>\n    <tr>\n      <th>HOUSEHOLD_1</th>\n      <td>1.0028</td>\n      <td>1.0079</td>\n      <td>0.9570</td>\n      <td>0.9398</td>\n      <td>0.8490</td>\n    </tr>\n    <tr>\n      <th>HOUSEHOLD_2</th>\n      <td>0.8211</td>\n      <td>1.2536</td>\n      <td>0.9665</td>\n      <td>0.9437</td>\n      <td>0.8434</td>\n    </tr>\n    <tr>\n      <th>FOODS_1</th>\n      <td>2.5226</td>\n      <td>2.0495</td>\n      <td>1.9882</td>\n      <td>1.9710</td>\n      <td>2.0232</td>\n    </tr>\n    <tr>\n      <th>FOODS_2</th>\n      <td>1.3254</td>\n      <td>1.3751</td>\n      <td>1.3809</td>\n      <td>1.3830</td>\n      <td>1.4838</td>\n    </tr>\n    <tr>\n      <th>FOODS_3</th>\n      <td>0.9046</td>\n      <td>1.0331</td>\n      <td>0.9999</td>\n      <td>0.9814</td>\n      <td>0.9691</td>\n    </tr>\n    <tr>\n      <th rowspan=\"7\" valign=\"top\">WI_1</th>\n      <th>HOBBIES_1</th>\n      <td>1.3352</td>\n      <td>0.4960</td>\n      <td>0.7349</td>\n      <td>0.7350</td>\n      <td>0.4554</td>\n    </tr>\n    <tr>\n      <th>HOBBIES_2</th>\n      <td>1.1800</td>\n      <td>1.4764</td>\n      <td>1.1532</td>\n      <td>1.1458</td>\n      <td>1.1243</td>\n    </tr>\n    <tr>\n      <th>HOUSEHOLD_1</th>\n      <td>1.6758</td>\n      <td>0.6321</td>\n      <td>1.0699</td>\n      <td>1.0707</td>\n      <td>0.6251</td>\n    </tr>\n    <tr>\n      <th>HOUSEHOLD_2</th>\n      <td>1.6721</td>\n      <td>0.7258</td>\n      <td>1.0645</td>\n      <td>1.0628</td>\n      <td>0.5537</td>\n    </tr>\n    <tr>\n      <th>FOODS_1</th>\n      <td>0.9442</td>\n      <td>0.8110</td>\n      <td>1.0012</td>\n      <td>0.9976</td>\n      <td>0.8027</td>\n    </tr>\n    <tr>\n      <th>FOODS_2</th>\n      <td>2.0424</td>\n      <td>1.2113</td>\n      <td>1.5852</td>\n      <td>1.5796</td>\n      <td>1.2625</td>\n    </tr>\n    <tr>\n      <th>FOODS_3</th>\n      <td>1.5857</td>\n      <td>0.5180</td>\n      <td>1.1000</td>\n      <td>1.0915</td>\n      <td>0.4414</td>\n    </tr>\n    <tr>\n      <th rowspan=\"7\" valign=\"top\">WI_2</th>\n      <th>HOBBIES_1</th>\n      <td>1.3340</td>\n      <td>0.8068</td>\n      <td>0.7468</td>\n      <td>0.7363</td>\n      <td>0.7104</td>\n    </tr>\n    <tr>\n      <th>HOBBIES_2</th>\n      <td>1.1058</td>\n      <td>1.4020</td>\n      <td>1.1380</td>\n      <td>1.1333</td>\n      <td>1.1226</td>\n    </tr>\n    <tr>\n      <th>HOUSEHOLD_1</th>\n      <td>1.2729</td>\n      <td>1.0639</td>\n      <td>1.3340</td>\n      <td>1.2667</td>\n      <td>1.0357</td>\n    </tr>\n    <tr>\n      <th>HOUSEHOLD_2</th>\n      <td>1.3615</td>\n      <td>0.9486</td>\n      <td>0.9316</td>\n      <td>0.9222</td>\n      <td>0.7227</td>\n    </tr>\n    <tr>\n      <th>FOODS_1</th>\n      <td>2.3356</td>\n      <td>2.2583</td>\n      <td>2.1291</td>\n      <td>2.1132</td>\n      <td>2.1748</td>\n    </tr>\n    <tr>\n      <th>FOODS_2</th>\n      <td>2.3919</td>\n      <td>2.4625</td>\n      <td>2.3974</td>\n      <td>2.3447</td>\n      <td>2.4670</td>\n    </tr>\n    <tr>\n      <th>FOODS_3</th>\n      <td>1.2993</td>\n      <td>1.4850</td>\n      <td>1.3450</td>\n      <td>1.3129</td>\n      <td>1.4057</td>\n    </tr>\n    <tr>\n      <th rowspan=\"7\" valign=\"top\">WI_3</th>\n      <th>HOBBIES_1</th>\n      <td>0.9267</td>\n      <td>0.8844</td>\n      <td>0.8974</td>\n      <td>0.8975</td>\n      <td>0.7336</td>\n    </tr>\n    <tr>\n      <th>HOBBIES_2</th>\n      <td>1.4277</td>\n      <td>1.0141</td>\n      <td>0.8795</td>\n      <td>0.8744</td>\n      <td>0.8674</td>\n    </tr>\n    <tr>\n      <th>HOUSEHOLD_1</th>\n      <td>1.3693</td>\n      <td>0.6352</td>\n      <td>1.0400</td>\n      <td>1.0414</td>\n      <td>0.6549</td>\n    </tr>\n    <tr>\n      <th>HOUSEHOLD_2</th>\n      <td>1.8375</td>\n      <td>0.8780</td>\n      <td>1.2736</td>\n      <td>1.2739</td>\n      <td>0.8337</td>\n    </tr>\n    <tr>\n      <th>FOODS_1</th>\n      <td>1.0325</td>\n      <td>1.7945</td>\n      <td>1.2664</td>\n      <td>1.2534</td>\n      <td>1.3107</td>\n    </tr>\n    <tr>\n      <th>FOODS_2</th>\n      <td>1.2411</td>\n      <td>1.5134</td>\n      <td>1.3379</td>\n      <td>1.3166</td>\n      <td>1.5966</td>\n    </tr>\n    <tr>\n      <th>FOODS_3</th>\n      <td>1.0474</td>\n      <td>0.7342</td>\n      <td>1.0585</td>\n      <td>1.0759</td>\n      <td>0.8358</td>\n    </tr>\n  </tbody>\n</table>\n</div>",
      "text/plain": "                   Naive  Seasonal Naive     SES  Holt's Linear  \\\nCA_1 HOBBIES_1    1.4216          0.7428  0.8598         0.8589   \n     HOBBIES_2    1.8601          1.0992  0.8494         0.8414   \n     HOUSEHOLD_1  2.0500          0.5036  1.1212         1.1331   \n     HOUSEHOLD_2  2.2407          0.5094  1.1894         1.1486   \n     FOODS_1      0.8768          0.6880  0.8637         0.8808   \n     FOODS_2      2.0036          0.8068  2.0035         2.2574   \n     FOODS_3      1.6443          0.4750  1.0401         0.9787   \nCA_2 HOBBIES_1    1.1753          0.6880  1.0901         1.0902   \n     HOBBIES_2    1.3073          1.4373  1.3402         1.3308   \n     HOUSEHOLD_1  1.9863          0.6240  1.3668         1.3564   \n     HOUSEHOLD_2  1.8849          0.5770  1.4254         1.4165   \n     FOODS_1      1.1962          1.0775  1.3218         1.3134   \n     FOODS_2      4.1379          1.4366  2.2206         2.1603   \n     FOODS_3      2.4898          0.5828  1.3979         1.3605   \nCA_3 HOBBIES_1    0.9058          0.6425  0.6766         0.6784   \n     HOBBIES_2    1.1844          1.6422  1.5348         1.5252   \n     HOUSEHOLD_1  2.4874          0.7176  1.0695         1.0945   \n     HOUSEHOLD_2  2.0081          0.8406  1.3608         1.3524   \n     FOODS_1      1.0944          1.4881  1.3092         1.3022   \n     FOODS_2      1.8145          0.7055  1.6655         1.6808   \n     FOODS_3      1.4642          0.4057  0.8303         1.4798   \nCA_4 HOBBIES_1    1.4108          1.0669  0.9649         0.9597   \n     HOBBIES_2    1.5277          1.3413  1.3553         1.3549   \n     HOUSEHOLD_1  3.2265          1.3949  1.1781         1.1518   \n     HOUSEHOLD_2  1.2957          0.9160  1.0072         0.9944   \n     FOODS_1      0.9428          1.4526  1.2850         1.2664   \n     FOODS_2      1.2565          0.7737  1.1230         1.1156   \n     FOODS_3      1.3082          0.5906  0.8758         0.8723   \nTX_1 HOBBIES_1    1.5773          0.8856  0.8751         0.8737   \n     HOBBIES_2    1.7232          1.5083  1.3088         1.2963   \n     HOUSEHOLD_1  1.7292          0.7703  1.0973         1.0909   \n     HOUSEHOLD_2  1.1629          1.2091  1.0126         0.9971   \n     FOODS_1      1.2691          1.6348  1.4803         1.4703   \n     FOODS_2      1.1590          0.9268  0.8335         0.8334   \n     FOODS_3      1.1032          0.7950  0.8655         0.8366   \nTX_2 HOBBIES_1    0.7631          0.8409  0.8406         0.8361   \n     HOBBIES_2    0.7312          1.2235  0.9492         0.9444   \n     HOUSEHOLD_1  0.8174          0.8049  0.8195         0.8222   \n     HOUSEHOLD_2  1.2981          0.6212  0.8821         0.8852   \n     FOODS_1      1.3761          1.1937  1.2033         1.1958   \n     FOODS_2      0.9110          0.6606  0.7281         0.7461   \n     FOODS_3      0.7848          0.5939  0.7153         0.7135   \nTX_3 HOBBIES_1    1.4710          0.8672  0.9036         0.9004   \n     HOBBIES_2    1.4024          1.6834  1.0940         1.0908   \n     HOUSEHOLD_1  1.0028          1.0079  0.9570         0.9398   \n     HOUSEHOLD_2  0.8211          1.2536  0.9665         0.9437   \n     FOODS_1      2.5226          2.0495  1.9882         1.9710   \n     FOODS_2      1.3254          1.3751  1.3809         1.3830   \n     FOODS_3      0.9046          1.0331  0.9999         0.9814   \nWI_1 HOBBIES_1    1.3352          0.4960  0.7349         0.7350   \n     HOBBIES_2    1.1800          1.4764  1.1532         1.1458   \n     HOUSEHOLD_1  1.6758          0.6321  1.0699         1.0707   \n     HOUSEHOLD_2  1.6721          0.7258  1.0645         1.0628   \n     FOODS_1      0.9442          0.8110  1.0012         0.9976   \n     FOODS_2      2.0424          1.2113  1.5852         1.5796   \n     FOODS_3      1.5857          0.5180  1.1000         1.0915   \nWI_2 HOBBIES_1    1.3340          0.8068  0.7468         0.7363   \n     HOBBIES_2    1.1058          1.4020  1.1380         1.1333   \n     HOUSEHOLD_1  1.2729          1.0639  1.3340         1.2667   \n     HOUSEHOLD_2  1.3615          0.9486  0.9316         0.9222   \n     FOODS_1      2.3356          2.2583  2.1291         2.1132   \n     FOODS_2      2.3919          2.4625  2.3974         2.3447   \n     FOODS_3      1.2993          1.4850  1.3450         1.3129   \nWI_3 HOBBIES_1    0.9267          0.8844  0.8974         0.8975   \n     HOBBIES_2    1.4277          1.0141  0.8795         0.8744   \n     HOUSEHOLD_1  1.3693          0.6352  1.0400         1.0414   \n     HOUSEHOLD_2  1.8375          0.8780  1.2736         1.2739   \n     FOODS_1      1.0325          1.7945  1.2664         1.2534   \n     FOODS_2      1.2411          1.5134  1.3379         1.3166   \n     FOODS_3      1.0474          0.7342  1.0585         1.0759   \n\n                  Additive Holt-Winters  \nCA_1 HOBBIES_1                   0.6152  \n     HOBBIES_2                   0.6931  \n     HOUSEHOLD_1                 0.4317  \n     HOUSEHOLD_2                 0.5141  \n     FOODS_1                     0.6870  \n     FOODS_2                     0.5786  \n     FOODS_3                     0.4848  \nCA_2 HOBBIES_1                   0.6379  \n     HOBBIES_2                   1.1234  \n     HOUSEHOLD_1                 0.5704  \n     HOUSEHOLD_2                 0.6488  \n     FOODS_1                     0.9258  \n     FOODS_2                     1.2523  \n     FOODS_3                     0.4614  \nCA_3 HOBBIES_1                   0.4876  \n     HOBBIES_2                   1.5122  \n     HOUSEHOLD_1                 0.6359  \n     HOUSEHOLD_2                 0.9044  \n     FOODS_1                     1.3700  \n     FOODS_2                     0.5552  \n     FOODS_3                     0.4335  \nCA_4 HOBBIES_1                   0.8854  \n     HOBBIES_2                   1.3687  \n     HOUSEHOLD_1                 0.9194  \n     HOUSEHOLD_2                 0.7923  \n     FOODS_1                     1.2432  \n     FOODS_2                     0.7533  \n     FOODS_3                     0.6155  \nTX_1 HOBBIES_1                   0.6820  \n     HOBBIES_2                   1.3579  \n     HOUSEHOLD_1                 0.7469  \n     HOUSEHOLD_2                 0.9166  \n     FOODS_1                     1.5410  \n     FOODS_2                     0.7763  \n     FOODS_3                     0.5911  \nTX_2 HOBBIES_1                   0.6955  \n     HOBBIES_2                   0.9807  \n     HOUSEHOLD_1                 0.6134  \n     HOUSEHOLD_2                 0.4281  \n     FOODS_1                     1.3479  \n     FOODS_2                     0.6550  \n     FOODS_3                     0.5763  \nTX_3 HOBBIES_1                   0.7070  \n     HOBBIES_2                   1.0873  \n     HOUSEHOLD_1                 0.8490  \n     HOUSEHOLD_2                 0.8434  \n     FOODS_1                     2.0232  \n     FOODS_2                     1.4838  \n     FOODS_3                     0.9691  \nWI_1 HOBBIES_1                   0.4554  \n     HOBBIES_2                   1.1243  \n     HOUSEHOLD_1                 0.6251  \n     HOUSEHOLD_2                 0.5537  \n     FOODS_1                     0.8027  \n     FOODS_2                     1.2625  \n     FOODS_3                     0.4414  \nWI_2 HOBBIES_1                   0.7104  \n     HOBBIES_2                   1.1226  \n     HOUSEHOLD_1                 1.0357  \n     HOUSEHOLD_2                 0.7227  \n     FOODS_1                     2.1748  \n     FOODS_2                     2.4670  \n     FOODS_3                     1.4057  \nWI_3 HOBBIES_1                   0.7336  \n     HOBBIES_2                   0.8674  \n     HOUSEHOLD_1                 0.6549  \n     HOUSEHOLD_2                 0.8337  \n     FOODS_1                     1.3107  \n     FOODS_2                     1.5966  \n     FOODS_3                     0.8358  "
     },
     "execution_count": 8,
     "metadata": {},
     "output_type": "execute_result"
    }
   ],
   "source": [
    "pd.set_option('display.max_rows', None)\r\n",
    "df_res_9_base = pd.DataFrame(res)\r\n",
    "df_res_9_base.index = pd.MultiIndex.from_tuples(df_res_9_base.index)\r\n",
    "df_res_9_base"
   ]
  },
  {
   "cell_type": "markdown",
   "metadata": {},
   "source": [
    "---\n",
    "\n",
    "## Part 2. LightGBM (30 pts.)"
   ]
  },
  {
   "cell_type": "markdown",
   "metadata": {},
   "source": [
    "### Q2. (10 pts.)\n",
    "\n",
    "For all series, use an un-tuned `LightGBM` with 56-day lookback that uses a one-step recursive forecasting strategy to generate a 28-step forecast.\n",
    "\n",
    "Calculate the `RMSSE` against the test set, then summarize the metrics in a dataframe and print it."
   ]
  },
  {
   "cell_type": "code",
   "execution_count": 9,
   "metadata": {},
   "outputs": [],
   "source": [
    "model = RecursiveRegressor(\r\n",
    "    lgb.LGBMRegressor(random_state=1, w=56, h=28, n_jobs=-1))  # Model: recursive-forecasting\r\n",
    "pred = {}\r\n",
    "\r\n",
    "for col in train_df_9:\r\n",
    "    model.fit(None, train_df_9[col])\r\n",
    "    pred[col] = model.predict(trainOG_df_9[col].iloc[-56:]).squeeze()"
   ]
  },
  {
   "cell_type": "code",
   "execution_count": 10,
   "metadata": {},
   "outputs": [
    {
     "data": {
      "text/html": "<div>\n<style scoped>\n    .dataframe tbody tr th:only-of-type {\n        vertical-align: middle;\n    }\n\n    .dataframe tbody tr th {\n        vertical-align: top;\n    }\n\n    .dataframe thead th {\n        text-align: right;\n    }\n</style>\n<table border=\"1\" class=\"dataframe\">\n  <thead>\n    <tr style=\"text-align: right;\">\n      <th></th>\n      <th></th>\n      <th>RMSSE</th>\n    </tr>\n  </thead>\n  <tbody>\n    <tr>\n      <th rowspan=\"7\" valign=\"top\">CA_1</th>\n      <th>HOBBIES_1</th>\n      <td>0.7180</td>\n    </tr>\n    <tr>\n      <th>HOBBIES_2</th>\n      <td>0.6586</td>\n    </tr>\n    <tr>\n      <th>HOUSEHOLD_1</th>\n      <td>0.5073</td>\n    </tr>\n    <tr>\n      <th>HOUSEHOLD_2</th>\n      <td>0.5062</td>\n    </tr>\n    <tr>\n      <th>FOODS_1</th>\n      <td>0.6677</td>\n    </tr>\n    <tr>\n      <th>FOODS_2</th>\n      <td>0.6450</td>\n    </tr>\n    <tr>\n      <th>FOODS_3</th>\n      <td>0.4652</td>\n    </tr>\n    <tr>\n      <th rowspan=\"7\" valign=\"top\">CA_2</th>\n      <th>HOBBIES_1</th>\n      <td>0.6993</td>\n    </tr>\n    <tr>\n      <th>HOBBIES_2</th>\n      <td>1.2472</td>\n    </tr>\n    <tr>\n      <th>HOUSEHOLD_1</th>\n      <td>0.6587</td>\n    </tr>\n    <tr>\n      <th>HOUSEHOLD_2</th>\n      <td>0.7485</td>\n    </tr>\n    <tr>\n      <th>FOODS_1</th>\n      <td>0.9528</td>\n    </tr>\n    <tr>\n      <th>FOODS_2</th>\n      <td>1.3704</td>\n    </tr>\n    <tr>\n      <th>FOODS_3</th>\n      <td>0.5608</td>\n    </tr>\n    <tr>\n      <th rowspan=\"7\" valign=\"top\">CA_3</th>\n      <th>HOBBIES_1</th>\n      <td>0.5075</td>\n    </tr>\n    <tr>\n      <th>HOBBIES_2</th>\n      <td>1.3769</td>\n    </tr>\n    <tr>\n      <th>HOUSEHOLD_1</th>\n      <td>0.6552</td>\n    </tr>\n    <tr>\n      <th>HOUSEHOLD_2</th>\n      <td>0.7711</td>\n    </tr>\n    <tr>\n      <th>FOODS_1</th>\n      <td>1.1578</td>\n    </tr>\n    <tr>\n      <th>FOODS_2</th>\n      <td>0.5410</td>\n    </tr>\n    <tr>\n      <th>FOODS_3</th>\n      <td>0.4244</td>\n    </tr>\n    <tr>\n      <th rowspan=\"7\" valign=\"top\">CA_4</th>\n      <th>HOBBIES_1</th>\n      <td>1.0293</td>\n    </tr>\n    <tr>\n      <th>HOBBIES_2</th>\n      <td>1.0370</td>\n    </tr>\n    <tr>\n      <th>HOUSEHOLD_1</th>\n      <td>1.1065</td>\n    </tr>\n    <tr>\n      <th>HOUSEHOLD_2</th>\n      <td>1.1063</td>\n    </tr>\n    <tr>\n      <th>FOODS_1</th>\n      <td>1.4001</td>\n    </tr>\n    <tr>\n      <th>FOODS_2</th>\n      <td>0.7879</td>\n    </tr>\n    <tr>\n      <th>FOODS_3</th>\n      <td>0.6548</td>\n    </tr>\n    <tr>\n      <th rowspan=\"7\" valign=\"top\">TX_1</th>\n      <th>HOBBIES_1</th>\n      <td>0.7179</td>\n    </tr>\n    <tr>\n      <th>HOBBIES_2</th>\n      <td>1.0838</td>\n    </tr>\n    <tr>\n      <th>HOUSEHOLD_1</th>\n      <td>0.6982</td>\n    </tr>\n    <tr>\n      <th>HOUSEHOLD_2</th>\n      <td>0.8985</td>\n    </tr>\n    <tr>\n      <th>FOODS_1</th>\n      <td>1.4479</td>\n    </tr>\n    <tr>\n      <th>FOODS_2</th>\n      <td>0.7213</td>\n    </tr>\n    <tr>\n      <th>FOODS_3</th>\n      <td>0.7457</td>\n    </tr>\n    <tr>\n      <th rowspan=\"7\" valign=\"top\">TX_2</th>\n      <th>HOBBIES_1</th>\n      <td>0.7694</td>\n    </tr>\n    <tr>\n      <th>HOBBIES_2</th>\n      <td>0.9201</td>\n    </tr>\n    <tr>\n      <th>HOUSEHOLD_1</th>\n      <td>0.6974</td>\n    </tr>\n    <tr>\n      <th>HOUSEHOLD_2</th>\n      <td>0.4701</td>\n    </tr>\n    <tr>\n      <th>FOODS_1</th>\n      <td>1.0516</td>\n    </tr>\n    <tr>\n      <th>FOODS_2</th>\n      <td>0.5892</td>\n    </tr>\n    <tr>\n      <th>FOODS_3</th>\n      <td>0.5175</td>\n    </tr>\n    <tr>\n      <th rowspan=\"7\" valign=\"top\">TX_3</th>\n      <th>HOBBIES_1</th>\n      <td>0.7456</td>\n    </tr>\n    <tr>\n      <th>HOBBIES_2</th>\n      <td>1.1799</td>\n    </tr>\n    <tr>\n      <th>HOUSEHOLD_1</th>\n      <td>0.7238</td>\n    </tr>\n    <tr>\n      <th>HOUSEHOLD_2</th>\n      <td>1.0219</td>\n    </tr>\n    <tr>\n      <th>FOODS_1</th>\n      <td>1.6606</td>\n    </tr>\n    <tr>\n      <th>FOODS_2</th>\n      <td>1.0628</td>\n    </tr>\n    <tr>\n      <th>FOODS_3</th>\n      <td>0.8803</td>\n    </tr>\n    <tr>\n      <th rowspan=\"7\" valign=\"top\">WI_1</th>\n      <th>HOBBIES_1</th>\n      <td>0.4849</td>\n    </tr>\n    <tr>\n      <th>HOBBIES_2</th>\n      <td>1.0659</td>\n    </tr>\n    <tr>\n      <th>HOUSEHOLD_1</th>\n      <td>0.5406</td>\n    </tr>\n    <tr>\n      <th>HOUSEHOLD_2</th>\n      <td>0.7215</td>\n    </tr>\n    <tr>\n      <th>FOODS_1</th>\n      <td>0.7831</td>\n    </tr>\n    <tr>\n      <th>FOODS_2</th>\n      <td>1.0008</td>\n    </tr>\n    <tr>\n      <th>FOODS_3</th>\n      <td>0.5749</td>\n    </tr>\n    <tr>\n      <th rowspan=\"7\" valign=\"top\">WI_2</th>\n      <th>HOBBIES_1</th>\n      <td>0.7607</td>\n    </tr>\n    <tr>\n      <th>HOBBIES_2</th>\n      <td>1.2752</td>\n    </tr>\n    <tr>\n      <th>HOUSEHOLD_1</th>\n      <td>0.9675</td>\n    </tr>\n    <tr>\n      <th>HOUSEHOLD_2</th>\n      <td>1.0303</td>\n    </tr>\n    <tr>\n      <th>FOODS_1</th>\n      <td>2.0849</td>\n    </tr>\n    <tr>\n      <th>FOODS_2</th>\n      <td>1.4842</td>\n    </tr>\n    <tr>\n      <th>FOODS_3</th>\n      <td>0.8791</td>\n    </tr>\n    <tr>\n      <th rowspan=\"7\" valign=\"top\">WI_3</th>\n      <th>HOBBIES_1</th>\n      <td>0.8043</td>\n    </tr>\n    <tr>\n      <th>HOBBIES_2</th>\n      <td>1.0026</td>\n    </tr>\n    <tr>\n      <th>HOUSEHOLD_1</th>\n      <td>0.6797</td>\n    </tr>\n    <tr>\n      <th>HOUSEHOLD_2</th>\n      <td>0.8251</td>\n    </tr>\n    <tr>\n      <th>FOODS_1</th>\n      <td>1.4774</td>\n    </tr>\n    <tr>\n      <th>FOODS_2</th>\n      <td>0.9445</td>\n    </tr>\n    <tr>\n      <th>FOODS_3</th>\n      <td>0.5415</td>\n    </tr>\n  </tbody>\n</table>\n</div>",
      "text/plain": "                   RMSSE\nCA_1 HOBBIES_1    0.7180\n     HOBBIES_2    0.6586\n     HOUSEHOLD_1  0.5073\n     HOUSEHOLD_2  0.5062\n     FOODS_1      0.6677\n     FOODS_2      0.6450\n     FOODS_3      0.4652\nCA_2 HOBBIES_1    0.6993\n     HOBBIES_2    1.2472\n     HOUSEHOLD_1  0.6587\n     HOUSEHOLD_2  0.7485\n     FOODS_1      0.9528\n     FOODS_2      1.3704\n     FOODS_3      0.5608\nCA_3 HOBBIES_1    0.5075\n     HOBBIES_2    1.3769\n     HOUSEHOLD_1  0.6552\n     HOUSEHOLD_2  0.7711\n     FOODS_1      1.1578\n     FOODS_2      0.5410\n     FOODS_3      0.4244\nCA_4 HOBBIES_1    1.0293\n     HOBBIES_2    1.0370\n     HOUSEHOLD_1  1.1065\n     HOUSEHOLD_2  1.1063\n     FOODS_1      1.4001\n     FOODS_2      0.7879\n     FOODS_3      0.6548\nTX_1 HOBBIES_1    0.7179\n     HOBBIES_2    1.0838\n     HOUSEHOLD_1  0.6982\n     HOUSEHOLD_2  0.8985\n     FOODS_1      1.4479\n     FOODS_2      0.7213\n     FOODS_3      0.7457\nTX_2 HOBBIES_1    0.7694\n     HOBBIES_2    0.9201\n     HOUSEHOLD_1  0.6974\n     HOUSEHOLD_2  0.4701\n     FOODS_1      1.0516\n     FOODS_2      0.5892\n     FOODS_3      0.5175\nTX_3 HOBBIES_1    0.7456\n     HOBBIES_2    1.1799\n     HOUSEHOLD_1  0.7238\n     HOUSEHOLD_2  1.0219\n     FOODS_1      1.6606\n     FOODS_2      1.0628\n     FOODS_3      0.8803\nWI_1 HOBBIES_1    0.4849\n     HOBBIES_2    1.0659\n     HOUSEHOLD_1  0.5406\n     HOUSEHOLD_2  0.7215\n     FOODS_1      0.7831\n     FOODS_2      1.0008\n     FOODS_3      0.5749\nWI_2 HOBBIES_1    0.7607\n     HOBBIES_2    1.2752\n     HOUSEHOLD_1  0.9675\n     HOUSEHOLD_2  1.0303\n     FOODS_1      2.0849\n     FOODS_2      1.4842\n     FOODS_3      0.8791\nWI_3 HOBBIES_1    0.8043\n     HOBBIES_2    1.0026\n     HOUSEHOLD_1  0.6797\n     HOUSEHOLD_2  0.8251\n     FOODS_1      1.4774\n     FOODS_2      0.9445\n     FOODS_3      0.5415"
     },
     "execution_count": 10,
     "metadata": {},
     "output_type": "execute_result"
    }
   ],
   "source": [
    "df_pred_9_rrlgb = pd.DataFrame(pred)\r\n",
    "df_pred_9_rrlgb.index=test_df_9.index\r\n",
    "\r\n",
    "df_res_9_rrlgb = rateMyForecast(\r\n",
    "    trainOG_df_9, test_df_9, df_pred_9_rrlgb)['RMSSE']\r\n",
    "res[\"RecursiveRegressor(LGBMRegressor)\"] = df_res_9_rrlgb\r\n",
    "\r\n",
    "df_res_9_rrlgb.index = pd.MultiIndex.from_tuples(df_res_9_rrlgb.index)\r\n",
    "df_res_9_rrlgb.to_frame()"
   ]
  },
  {
   "cell_type": "markdown",
   "metadata": {},
   "source": [
    "### Q3. (10 pts.)\n",
    "\n",
    "For all series, use an un-tuned `LightGBM` with 56-day lookback that uses a direct forecasting strategy to generate a 28-step forecast.\n",
    "\n",
    "Calculate the `RMSSE` against the test set, then summarize the metrics in a dataframe and print it."
   ]
  },
  {
   "cell_type": "code",
   "execution_count": 11,
   "metadata": {},
   "outputs": [],
   "source": [
    "model = MultiOutputRegressor(\r\n",
    "    lgb.LGBMRegressor(random_state=1, n_jobs=-1),\r\n",
    "    n_jobs=-1)  # Model: direct-forecasting\r\n",
    "pred = {}\r\n",
    "\r\n",
    "for col in train_df_9:\r\n",
    "    X_train, _, y_train, _ = TimeseriesGenerator(\r\n",
    "        X=train_df_9[col],\r\n",
    "        y=None,\r\n",
    "        w=56,\r\n",
    "        h=28)\r\n",
    "    model.fit(X_train, y_train)\r\n",
    "    pred[col] = model.predict([trainOG_df_9[col].iloc[-56:]]).squeeze()"
   ]
  },
  {
   "cell_type": "code",
   "execution_count": 12,
   "metadata": {},
   "outputs": [
    {
     "data": {
      "text/html": "<div>\n<style scoped>\n    .dataframe tbody tr th:only-of-type {\n        vertical-align: middle;\n    }\n\n    .dataframe tbody tr th {\n        vertical-align: top;\n    }\n\n    .dataframe thead th {\n        text-align: right;\n    }\n</style>\n<table border=\"1\" class=\"dataframe\">\n  <thead>\n    <tr style=\"text-align: right;\">\n      <th></th>\n      <th></th>\n      <th>RMSSE</th>\n    </tr>\n  </thead>\n  <tbody>\n    <tr>\n      <th rowspan=\"7\" valign=\"top\">CA_1</th>\n      <th>HOBBIES_1</th>\n      <td>0.6870</td>\n    </tr>\n    <tr>\n      <th>HOBBIES_2</th>\n      <td>0.6902</td>\n    </tr>\n    <tr>\n      <th>HOUSEHOLD_1</th>\n      <td>0.3635</td>\n    </tr>\n    <tr>\n      <th>HOUSEHOLD_2</th>\n      <td>0.6683</td>\n    </tr>\n    <tr>\n      <th>FOODS_1</th>\n      <td>0.6356</td>\n    </tr>\n    <tr>\n      <th>FOODS_2</th>\n      <td>0.7556</td>\n    </tr>\n    <tr>\n      <th>FOODS_3</th>\n      <td>0.5491</td>\n    </tr>\n    <tr>\n      <th rowspan=\"7\" valign=\"top\">CA_2</th>\n      <th>HOBBIES_1</th>\n      <td>0.6626</td>\n    </tr>\n    <tr>\n      <th>HOBBIES_2</th>\n      <td>1.4831</td>\n    </tr>\n    <tr>\n      <th>HOUSEHOLD_1</th>\n      <td>0.5651</td>\n    </tr>\n    <tr>\n      <th>HOUSEHOLD_2</th>\n      <td>0.8564</td>\n    </tr>\n    <tr>\n      <th>FOODS_1</th>\n      <td>1.2147</td>\n    </tr>\n    <tr>\n      <th>FOODS_2</th>\n      <td>1.5736</td>\n    </tr>\n    <tr>\n      <th>FOODS_3</th>\n      <td>0.6949</td>\n    </tr>\n    <tr>\n      <th rowspan=\"7\" valign=\"top\">CA_3</th>\n      <th>HOBBIES_1</th>\n      <td>0.5409</td>\n    </tr>\n    <tr>\n      <th>HOBBIES_2</th>\n      <td>1.3213</td>\n    </tr>\n    <tr>\n      <th>HOUSEHOLD_1</th>\n      <td>0.5652</td>\n    </tr>\n    <tr>\n      <th>HOUSEHOLD_2</th>\n      <td>1.0248</td>\n    </tr>\n    <tr>\n      <th>FOODS_1</th>\n      <td>1.1526</td>\n    </tr>\n    <tr>\n      <th>FOODS_2</th>\n      <td>0.5205</td>\n    </tr>\n    <tr>\n      <th>FOODS_3</th>\n      <td>0.4762</td>\n    </tr>\n    <tr>\n      <th rowspan=\"7\" valign=\"top\">CA_4</th>\n      <th>HOBBIES_1</th>\n      <td>1.0659</td>\n    </tr>\n    <tr>\n      <th>HOBBIES_2</th>\n      <td>1.0646</td>\n    </tr>\n    <tr>\n      <th>HOUSEHOLD_1</th>\n      <td>1.1893</td>\n    </tr>\n    <tr>\n      <th>HOUSEHOLD_2</th>\n      <td>1.2187</td>\n    </tr>\n    <tr>\n      <th>FOODS_1</th>\n      <td>1.4446</td>\n    </tr>\n    <tr>\n      <th>FOODS_2</th>\n      <td>0.8464</td>\n    </tr>\n    <tr>\n      <th>FOODS_3</th>\n      <td>0.7849</td>\n    </tr>\n    <tr>\n      <th rowspan=\"7\" valign=\"top\">TX_1</th>\n      <th>HOBBIES_1</th>\n      <td>0.7365</td>\n    </tr>\n    <tr>\n      <th>HOBBIES_2</th>\n      <td>1.2643</td>\n    </tr>\n    <tr>\n      <th>HOUSEHOLD_1</th>\n      <td>0.7898</td>\n    </tr>\n    <tr>\n      <th>HOUSEHOLD_2</th>\n      <td>1.1766</td>\n    </tr>\n    <tr>\n      <th>FOODS_1</th>\n      <td>1.4104</td>\n    </tr>\n    <tr>\n      <th>FOODS_2</th>\n      <td>0.6312</td>\n    </tr>\n    <tr>\n      <th>FOODS_3</th>\n      <td>0.7245</td>\n    </tr>\n    <tr>\n      <th rowspan=\"7\" valign=\"top\">TX_2</th>\n      <th>HOBBIES_1</th>\n      <td>0.7980</td>\n    </tr>\n    <tr>\n      <th>HOBBIES_2</th>\n      <td>1.0457</td>\n    </tr>\n    <tr>\n      <th>HOUSEHOLD_1</th>\n      <td>0.6691</td>\n    </tr>\n    <tr>\n      <th>HOUSEHOLD_2</th>\n      <td>0.4887</td>\n    </tr>\n    <tr>\n      <th>FOODS_1</th>\n      <td>0.9875</td>\n    </tr>\n    <tr>\n      <th>FOODS_2</th>\n      <td>0.6193</td>\n    </tr>\n    <tr>\n      <th>FOODS_3</th>\n      <td>0.5281</td>\n    </tr>\n    <tr>\n      <th rowspan=\"7\" valign=\"top\">TX_3</th>\n      <th>HOBBIES_1</th>\n      <td>0.6781</td>\n    </tr>\n    <tr>\n      <th>HOBBIES_2</th>\n      <td>1.3581</td>\n    </tr>\n    <tr>\n      <th>HOUSEHOLD_1</th>\n      <td>0.8329</td>\n    </tr>\n    <tr>\n      <th>HOUSEHOLD_2</th>\n      <td>1.1091</td>\n    </tr>\n    <tr>\n      <th>FOODS_1</th>\n      <td>1.5831</td>\n    </tr>\n    <tr>\n      <th>FOODS_2</th>\n      <td>1.0183</td>\n    </tr>\n    <tr>\n      <th>FOODS_3</th>\n      <td>0.9081</td>\n    </tr>\n    <tr>\n      <th rowspan=\"7\" valign=\"top\">WI_1</th>\n      <th>HOBBIES_1</th>\n      <td>0.4860</td>\n    </tr>\n    <tr>\n      <th>HOBBIES_2</th>\n      <td>1.0000</td>\n    </tr>\n    <tr>\n      <th>HOUSEHOLD_1</th>\n      <td>0.5658</td>\n    </tr>\n    <tr>\n      <th>HOUSEHOLD_2</th>\n      <td>0.7214</td>\n    </tr>\n    <tr>\n      <th>FOODS_1</th>\n      <td>0.9579</td>\n    </tr>\n    <tr>\n      <th>FOODS_2</th>\n      <td>0.9230</td>\n    </tr>\n    <tr>\n      <th>FOODS_3</th>\n      <td>0.6724</td>\n    </tr>\n    <tr>\n      <th rowspan=\"7\" valign=\"top\">WI_2</th>\n      <th>HOBBIES_1</th>\n      <td>0.7070</td>\n    </tr>\n    <tr>\n      <th>HOBBIES_2</th>\n      <td>1.1984</td>\n    </tr>\n    <tr>\n      <th>HOUSEHOLD_1</th>\n      <td>0.9822</td>\n    </tr>\n    <tr>\n      <th>HOUSEHOLD_2</th>\n      <td>0.8728</td>\n    </tr>\n    <tr>\n      <th>FOODS_1</th>\n      <td>2.4593</td>\n    </tr>\n    <tr>\n      <th>FOODS_2</th>\n      <td>1.4717</td>\n    </tr>\n    <tr>\n      <th>FOODS_3</th>\n      <td>0.8308</td>\n    </tr>\n    <tr>\n      <th rowspan=\"7\" valign=\"top\">WI_3</th>\n      <th>HOBBIES_1</th>\n      <td>0.8515</td>\n    </tr>\n    <tr>\n      <th>HOBBIES_2</th>\n      <td>1.0450</td>\n    </tr>\n    <tr>\n      <th>HOUSEHOLD_1</th>\n      <td>0.6969</td>\n    </tr>\n    <tr>\n      <th>HOUSEHOLD_2</th>\n      <td>0.8210</td>\n    </tr>\n    <tr>\n      <th>FOODS_1</th>\n      <td>1.6087</td>\n    </tr>\n    <tr>\n      <th>FOODS_2</th>\n      <td>0.8097</td>\n    </tr>\n    <tr>\n      <th>FOODS_3</th>\n      <td>0.5013</td>\n    </tr>\n  </tbody>\n</table>\n</div>",
      "text/plain": "                   RMSSE\nCA_1 HOBBIES_1    0.6870\n     HOBBIES_2    0.6902\n     HOUSEHOLD_1  0.3635\n     HOUSEHOLD_2  0.6683\n     FOODS_1      0.6356\n     FOODS_2      0.7556\n     FOODS_3      0.5491\nCA_2 HOBBIES_1    0.6626\n     HOBBIES_2    1.4831\n     HOUSEHOLD_1  0.5651\n     HOUSEHOLD_2  0.8564\n     FOODS_1      1.2147\n     FOODS_2      1.5736\n     FOODS_3      0.6949\nCA_3 HOBBIES_1    0.5409\n     HOBBIES_2    1.3213\n     HOUSEHOLD_1  0.5652\n     HOUSEHOLD_2  1.0248\n     FOODS_1      1.1526\n     FOODS_2      0.5205\n     FOODS_3      0.4762\nCA_4 HOBBIES_1    1.0659\n     HOBBIES_2    1.0646\n     HOUSEHOLD_1  1.1893\n     HOUSEHOLD_2  1.2187\n     FOODS_1      1.4446\n     FOODS_2      0.8464\n     FOODS_3      0.7849\nTX_1 HOBBIES_1    0.7365\n     HOBBIES_2    1.2643\n     HOUSEHOLD_1  0.7898\n     HOUSEHOLD_2  1.1766\n     FOODS_1      1.4104\n     FOODS_2      0.6312\n     FOODS_3      0.7245\nTX_2 HOBBIES_1    0.7980\n     HOBBIES_2    1.0457\n     HOUSEHOLD_1  0.6691\n     HOUSEHOLD_2  0.4887\n     FOODS_1      0.9875\n     FOODS_2      0.6193\n     FOODS_3      0.5281\nTX_3 HOBBIES_1    0.6781\n     HOBBIES_2    1.3581\n     HOUSEHOLD_1  0.8329\n     HOUSEHOLD_2  1.1091\n     FOODS_1      1.5831\n     FOODS_2      1.0183\n     FOODS_3      0.9081\nWI_1 HOBBIES_1    0.4860\n     HOBBIES_2    1.0000\n     HOUSEHOLD_1  0.5658\n     HOUSEHOLD_2  0.7214\n     FOODS_1      0.9579\n     FOODS_2      0.9230\n     FOODS_3      0.6724\nWI_2 HOBBIES_1    0.7070\n     HOBBIES_2    1.1984\n     HOUSEHOLD_1  0.9822\n     HOUSEHOLD_2  0.8728\n     FOODS_1      2.4593\n     FOODS_2      1.4717\n     FOODS_3      0.8308\nWI_3 HOBBIES_1    0.8515\n     HOBBIES_2    1.0450\n     HOUSEHOLD_1  0.6969\n     HOUSEHOLD_2  0.8210\n     FOODS_1      1.6087\n     FOODS_2      0.8097\n     FOODS_3      0.5013"
     },
     "execution_count": 12,
     "metadata": {},
     "output_type": "execute_result"
    }
   ],
   "source": [
    "df_pred_9_morlgb = pd.DataFrame(pred, index=test_df_9.index)\r\n",
    "\r\n",
    "df_res_9_morlgb = rateMyForecast(\r\n",
    "    trainOG_df_9, test_df_9, df_pred_9_morlgb)['RMSSE']\r\n",
    "res[\"MultiOutputRegressor(LGBMRegressor)\"] = df_res_9_morlgb\r\n",
    "\r\n",
    "df_res_9_morlgb.index = pd.MultiIndex.from_tuples(df_res_9_morlgb.index)\r\n",
    "df_res_9_morlgb.to_frame()"
   ]
  },
  {
   "cell_type": "markdown",
   "metadata": {},
   "source": [
    "### Q4. (10 pts.)\n",
    "\n",
    "For all series, generate a 28-step forecast by combining the forecasts generated by the models in Q2 and Q3 (i.e. simple averaging).\n",
    "\n",
    "Calculate the `RMSSE` against the test set, then summarize the metrics in a dataframe and print it."
   ]
  },
  {
   "cell_type": "code",
   "execution_count": 13,
   "metadata": {},
   "outputs": [
    {
     "data": {
      "text/html": "<div>\n<style scoped>\n    .dataframe tbody tr th:only-of-type {\n        vertical-align: middle;\n    }\n\n    .dataframe tbody tr th {\n        vertical-align: top;\n    }\n\n    .dataframe thead th {\n        text-align: right;\n    }\n</style>\n<table border=\"1\" class=\"dataframe\">\n  <thead>\n    <tr style=\"text-align: right;\">\n      <th></th>\n      <th></th>\n      <th>RMSSE</th>\n    </tr>\n  </thead>\n  <tbody>\n    <tr>\n      <th rowspan=\"7\" valign=\"top\">CA_1</th>\n      <th>HOBBIES_1</th>\n      <td>0.6904</td>\n    </tr>\n    <tr>\n      <th>HOBBIES_2</th>\n      <td>0.6439</td>\n    </tr>\n    <tr>\n      <th>HOUSEHOLD_1</th>\n      <td>0.4231</td>\n    </tr>\n    <tr>\n      <th>HOUSEHOLD_2</th>\n      <td>0.5778</td>\n    </tr>\n    <tr>\n      <th>FOODS_1</th>\n      <td>0.6198</td>\n    </tr>\n    <tr>\n      <th>FOODS_2</th>\n      <td>0.6892</td>\n    </tr>\n    <tr>\n      <th>FOODS_3</th>\n      <td>0.5021</td>\n    </tr>\n    <tr>\n      <th rowspan=\"7\" valign=\"top\">CA_2</th>\n      <th>HOBBIES_1</th>\n      <td>0.6709</td>\n    </tr>\n    <tr>\n      <th>HOBBIES_2</th>\n      <td>1.3542</td>\n    </tr>\n    <tr>\n      <th>HOUSEHOLD_1</th>\n      <td>0.5993</td>\n    </tr>\n    <tr>\n      <th>HOUSEHOLD_2</th>\n      <td>0.7949</td>\n    </tr>\n    <tr>\n      <th>FOODS_1</th>\n      <td>1.0747</td>\n    </tr>\n    <tr>\n      <th>FOODS_2</th>\n      <td>1.4515</td>\n    </tr>\n    <tr>\n      <th>FOODS_3</th>\n      <td>0.5664</td>\n    </tr>\n    <tr>\n      <th rowspan=\"7\" valign=\"top\">CA_3</th>\n      <th>HOBBIES_1</th>\n      <td>0.5164</td>\n    </tr>\n    <tr>\n      <th>HOBBIES_2</th>\n      <td>1.3264</td>\n    </tr>\n    <tr>\n      <th>HOUSEHOLD_1</th>\n      <td>0.5857</td>\n    </tr>\n    <tr>\n      <th>HOUSEHOLD_2</th>\n      <td>0.8892</td>\n    </tr>\n    <tr>\n      <th>FOODS_1</th>\n      <td>1.1380</td>\n    </tr>\n    <tr>\n      <th>FOODS_2</th>\n      <td>0.5180</td>\n    </tr>\n    <tr>\n      <th>FOODS_3</th>\n      <td>0.4338</td>\n    </tr>\n    <tr>\n      <th rowspan=\"7\" valign=\"top\">CA_4</th>\n      <th>HOBBIES_1</th>\n      <td>1.0430</td>\n    </tr>\n    <tr>\n      <th>HOBBIES_2</th>\n      <td>1.0373</td>\n    </tr>\n    <tr>\n      <th>HOUSEHOLD_1</th>\n      <td>1.1338</td>\n    </tr>\n    <tr>\n      <th>HOUSEHOLD_2</th>\n      <td>1.1502</td>\n    </tr>\n    <tr>\n      <th>FOODS_1</th>\n      <td>1.4136</td>\n    </tr>\n    <tr>\n      <th>FOODS_2</th>\n      <td>0.8051</td>\n    </tr>\n    <tr>\n      <th>FOODS_3</th>\n      <td>0.6727</td>\n    </tr>\n    <tr>\n      <th rowspan=\"7\" valign=\"top\">TX_1</th>\n      <th>HOBBIES_1</th>\n      <td>0.7211</td>\n    </tr>\n    <tr>\n      <th>HOBBIES_2</th>\n      <td>1.1384</td>\n    </tr>\n    <tr>\n      <th>HOUSEHOLD_1</th>\n      <td>0.7319</td>\n    </tr>\n    <tr>\n      <th>HOUSEHOLD_2</th>\n      <td>1.0014</td>\n    </tr>\n    <tr>\n      <th>FOODS_1</th>\n      <td>1.4205</td>\n    </tr>\n    <tr>\n      <th>FOODS_2</th>\n      <td>0.6690</td>\n    </tr>\n    <tr>\n      <th>FOODS_3</th>\n      <td>0.7282</td>\n    </tr>\n    <tr>\n      <th rowspan=\"7\" valign=\"top\">TX_2</th>\n      <th>HOBBIES_1</th>\n      <td>0.7763</td>\n    </tr>\n    <tr>\n      <th>HOBBIES_2</th>\n      <td>0.9732</td>\n    </tr>\n    <tr>\n      <th>HOUSEHOLD_1</th>\n      <td>0.6745</td>\n    </tr>\n    <tr>\n      <th>HOUSEHOLD_2</th>\n      <td>0.4608</td>\n    </tr>\n    <tr>\n      <th>FOODS_1</th>\n      <td>1.0106</td>\n    </tr>\n    <tr>\n      <th>FOODS_2</th>\n      <td>0.5957</td>\n    </tr>\n    <tr>\n      <th>FOODS_3</th>\n      <td>0.4999</td>\n    </tr>\n    <tr>\n      <th rowspan=\"7\" valign=\"top\">TX_3</th>\n      <th>HOBBIES_1</th>\n      <td>0.7028</td>\n    </tr>\n    <tr>\n      <th>HOBBIES_2</th>\n      <td>1.2539</td>\n    </tr>\n    <tr>\n      <th>HOUSEHOLD_1</th>\n      <td>0.7582</td>\n    </tr>\n    <tr>\n      <th>HOUSEHOLD_2</th>\n      <td>1.0566</td>\n    </tr>\n    <tr>\n      <th>FOODS_1</th>\n      <td>1.6066</td>\n    </tr>\n    <tr>\n      <th>FOODS_2</th>\n      <td>1.0269</td>\n    </tr>\n    <tr>\n      <th>FOODS_3</th>\n      <td>0.8766</td>\n    </tr>\n    <tr>\n      <th rowspan=\"7\" valign=\"top\">WI_1</th>\n      <th>HOBBIES_1</th>\n      <td>0.4745</td>\n    </tr>\n    <tr>\n      <th>HOBBIES_2</th>\n      <td>1.0194</td>\n    </tr>\n    <tr>\n      <th>HOUSEHOLD_1</th>\n      <td>0.5475</td>\n    </tr>\n    <tr>\n      <th>HOUSEHOLD_2</th>\n      <td>0.7089</td>\n    </tr>\n    <tr>\n      <th>FOODS_1</th>\n      <td>0.8584</td>\n    </tr>\n    <tr>\n      <th>FOODS_2</th>\n      <td>0.9439</td>\n    </tr>\n    <tr>\n      <th>FOODS_3</th>\n      <td>0.6151</td>\n    </tr>\n    <tr>\n      <th rowspan=\"7\" valign=\"top\">WI_2</th>\n      <th>HOBBIES_1</th>\n      <td>0.7195</td>\n    </tr>\n    <tr>\n      <th>HOBBIES_2</th>\n      <td>1.2200</td>\n    </tr>\n    <tr>\n      <th>HOUSEHOLD_1</th>\n      <td>0.9392</td>\n    </tr>\n    <tr>\n      <th>HOUSEHOLD_2</th>\n      <td>0.9303</td>\n    </tr>\n    <tr>\n      <th>FOODS_1</th>\n      <td>2.2685</td>\n    </tr>\n    <tr>\n      <th>FOODS_2</th>\n      <td>1.4192</td>\n    </tr>\n    <tr>\n      <th>FOODS_3</th>\n      <td>0.8371</td>\n    </tr>\n    <tr>\n      <th rowspan=\"7\" valign=\"top\">WI_3</th>\n      <th>HOBBIES_1</th>\n      <td>0.8222</td>\n    </tr>\n    <tr>\n      <th>HOBBIES_2</th>\n      <td>1.0168</td>\n    </tr>\n    <tr>\n      <th>HOUSEHOLD_1</th>\n      <td>0.6759</td>\n    </tr>\n    <tr>\n      <th>HOUSEHOLD_2</th>\n      <td>0.8082</td>\n    </tr>\n    <tr>\n      <th>FOODS_1</th>\n      <td>1.5345</td>\n    </tr>\n    <tr>\n      <th>FOODS_2</th>\n      <td>0.8282</td>\n    </tr>\n    <tr>\n      <th>FOODS_3</th>\n      <td>0.4994</td>\n    </tr>\n  </tbody>\n</table>\n</div>",
      "text/plain": "                   RMSSE\nCA_1 HOBBIES_1    0.6904\n     HOBBIES_2    0.6439\n     HOUSEHOLD_1  0.4231\n     HOUSEHOLD_2  0.5778\n     FOODS_1      0.6198\n     FOODS_2      0.6892\n     FOODS_3      0.5021\nCA_2 HOBBIES_1    0.6709\n     HOBBIES_2    1.3542\n     HOUSEHOLD_1  0.5993\n     HOUSEHOLD_2  0.7949\n     FOODS_1      1.0747\n     FOODS_2      1.4515\n     FOODS_3      0.5664\nCA_3 HOBBIES_1    0.5164\n     HOBBIES_2    1.3264\n     HOUSEHOLD_1  0.5857\n     HOUSEHOLD_2  0.8892\n     FOODS_1      1.1380\n     FOODS_2      0.5180\n     FOODS_3      0.4338\nCA_4 HOBBIES_1    1.0430\n     HOBBIES_2    1.0373\n     HOUSEHOLD_1  1.1338\n     HOUSEHOLD_2  1.1502\n     FOODS_1      1.4136\n     FOODS_2      0.8051\n     FOODS_3      0.6727\nTX_1 HOBBIES_1    0.7211\n     HOBBIES_2    1.1384\n     HOUSEHOLD_1  0.7319\n     HOUSEHOLD_2  1.0014\n     FOODS_1      1.4205\n     FOODS_2      0.6690\n     FOODS_3      0.7282\nTX_2 HOBBIES_1    0.7763\n     HOBBIES_2    0.9732\n     HOUSEHOLD_1  0.6745\n     HOUSEHOLD_2  0.4608\n     FOODS_1      1.0106\n     FOODS_2      0.5957\n     FOODS_3      0.4999\nTX_3 HOBBIES_1    0.7028\n     HOBBIES_2    1.2539\n     HOUSEHOLD_1  0.7582\n     HOUSEHOLD_2  1.0566\n     FOODS_1      1.6066\n     FOODS_2      1.0269\n     FOODS_3      0.8766\nWI_1 HOBBIES_1    0.4745\n     HOBBIES_2    1.0194\n     HOUSEHOLD_1  0.5475\n     HOUSEHOLD_2  0.7089\n     FOODS_1      0.8584\n     FOODS_2      0.9439\n     FOODS_3      0.6151\nWI_2 HOBBIES_1    0.7195\n     HOBBIES_2    1.2200\n     HOUSEHOLD_1  0.9392\n     HOUSEHOLD_2  0.9303\n     FOODS_1      2.2685\n     FOODS_2      1.4192\n     FOODS_3      0.8371\nWI_3 HOBBIES_1    0.8222\n     HOBBIES_2    1.0168\n     HOUSEHOLD_1  0.6759\n     HOUSEHOLD_2  0.8082\n     FOODS_1      1.5345\n     FOODS_2      0.8282\n     FOODS_3      0.4994"
     },
     "execution_count": 13,
     "metadata": {},
     "output_type": "execute_result"
    }
   ],
   "source": [
    "df_pred_9_combo = (df_pred_9_morlgb + df_pred_9_rrlgb) / 2\r\n",
    "\r\n",
    "df_res_9_combo = rateMyForecast(\r\n",
    "    trainOG_df_9, test_df_9, df_pred_9_combo)['RMSSE']\r\n",
    "res[\"Combo(LGBMRegressor)\"] = df_res_9_combo\r\n",
    "\r\n",
    "df_res_9_combo.index = pd.MultiIndex.from_tuples(df_res_9_combo.index)\r\n",
    "df_res_9_combo.to_frame()"
   ]
  },
  {
   "cell_type": "markdown",
   "metadata": {},
   "source": [
    "---\n",
    "\n",
    "## Part 3. WRMSSE (10 pts.)"
   ]
  },
  {
   "cell_type": "markdown",
   "metadata": {},
   "source": [
    "### Q5.  (10 pts.)\n",
    "\n",
    "Calculate the `WRMSSE` for the all the methods described above. The weights can be found in `weights_validation.csv`.\n",
    "\n",
    "For reference, the M5 benchmarks have the following `WRMSSE` scores at level 9:\n",
    "\n",
    "- `Naive` = <b>1.764</b>\n",
    "\n",
    "\n",
    "- `S.Naive` = <b>0.888</b>\n",
    "\n",
    "\n",
    "- `ES_bu` = <b>0.728</b>\n",
    "\n",
    "<i>Note: The M5 benchmarks use a bottom-up method for forecasting, so they will not necessarily be equal to your scores.</i>"
   ]
  },
  {
   "cell_type": "code",
   "execution_count": 14,
   "metadata": {},
   "outputs": [
    {
     "data": {
      "text/plain": "Naive                                  1.5616\nSeasonal Naive                         0.8919\nSES                                    1.1585\nHolt's Linear                          1.1855\nAdditive Holt-Winters                  0.8200\nRecursiveRegressor(LGBMRegressor)      0.7569\nMultiOutputRegressor(LGBMRegressor)    0.7814\nCombo(LGBMRegressor)                   0.7505\ndtype: float64"
     },
     "execution_count": 14,
     "metadata": {},
     "output_type": "execute_result"
    }
   ],
   "source": [
    "df_res_9_all = pd.DataFrame(res)\r\n",
    "df_res_9_all.index = pd.MultiIndex.from_tuples(df_res_9_all.index)\r\n",
    "df_res_9_all\r\n",
    "\r\n",
    "(df_res_9_all.rename_axis(['Agg_Level_1', 'Agg_Level_2'])\r\n",
    " .multiply(weights_df_9.squeeze(), axis=0).sum())"
   ]
  },
  {
   "cell_type": "markdown",
   "metadata": {},
   "source": [
    "---\n",
    "\n",
    "## Part 4. Middle-Out Method (30 pts.)"
   ]
  },
  {
   "cell_type": "markdown",
   "metadata": {},
   "source": [
    "### Q6. Bottom-Up (15 pts.)\n",
    "\n",
    "Using your forecasts from the best performing method in Q5, use the bottom-up method described in [FPP3](https://otexts.com/fpp3/single-level.html) to generate forecasts for levels 1 to 8.\n",
    "\n",
    "Calculate the `WRMSSE` for levels 1 to 8 against the test set, then summarize the metrics in a dataframe and print it.\n",
    "\n",
    "For reference, you can find the benchmark `WRMSSE` scores in the `The M5 Accuracy competition: Results, findings and conclusions` paper.\n",
    "\n",
    "<i>Note: The M5 benchmarks use a bottom-up method for forecasting, so they will not necessarily be equal to your scores.</i>"
   ]
  },
  {
   "cell_type": "code",
   "execution_count": 15,
   "metadata": {},
   "outputs": [
    {
     "data": {
      "text/html": "<div>\n<style scoped>\n    .dataframe tbody tr th:only-of-type {\n        vertical-align: middle;\n    }\n\n    .dataframe tbody tr th {\n        vertical-align: top;\n    }\n\n    .dataframe thead tr th {\n        text-align: left;\n    }\n\n    .dataframe thead tr:last-of-type th {\n        text-align: right;\n    }\n</style>\n<table border=\"1\" class=\"dataframe\">\n  <thead>\n    <tr>\n      <th>store_id</th>\n      <th colspan=\"7\" halign=\"left\">CA_1</th>\n      <th colspan=\"3\" halign=\"left\">CA_2</th>\n      <th>...</th>\n      <th colspan=\"3\" halign=\"left\">WI_2</th>\n      <th colspan=\"7\" halign=\"left\">WI_3</th>\n    </tr>\n    <tr>\n      <th>state_id</th>\n      <th colspan=\"7\" halign=\"left\">CA</th>\n      <th colspan=\"3\" halign=\"left\">CA</th>\n      <th>...</th>\n      <th colspan=\"3\" halign=\"left\">WI</th>\n      <th colspan=\"7\" halign=\"left\">WI</th>\n    </tr>\n    <tr>\n      <th>cat_id</th>\n      <th colspan=\"2\" halign=\"left\">HOBBIES</th>\n      <th colspan=\"2\" halign=\"left\">HOUSEHOLD</th>\n      <th colspan=\"3\" halign=\"left\">FOODS</th>\n      <th colspan=\"2\" halign=\"left\">HOBBIES</th>\n      <th>HOUSEHOLD</th>\n      <th>...</th>\n      <th colspan=\"3\" halign=\"left\">FOODS</th>\n      <th colspan=\"2\" halign=\"left\">HOBBIES</th>\n      <th colspan=\"2\" halign=\"left\">HOUSEHOLD</th>\n      <th colspan=\"3\" halign=\"left\">FOODS</th>\n    </tr>\n    <tr>\n      <th>dept_id</th>\n      <th>HOBBIES_1</th>\n      <th>HOBBIES_2</th>\n      <th>HOUSEHOLD_1</th>\n      <th>HOUSEHOLD_2</th>\n      <th>FOODS_1</th>\n      <th>FOODS_2</th>\n      <th>FOODS_3</th>\n      <th>HOBBIES_1</th>\n      <th>HOBBIES_2</th>\n      <th>HOUSEHOLD_1</th>\n      <th>...</th>\n      <th>FOODS_1</th>\n      <th>FOODS_2</th>\n      <th>FOODS_3</th>\n      <th>HOBBIES_1</th>\n      <th>HOBBIES_2</th>\n      <th>HOUSEHOLD_1</th>\n      <th>HOUSEHOLD_2</th>\n      <th>FOODS_1</th>\n      <th>FOODS_2</th>\n      <th>FOODS_3</th>\n    </tr>\n    <tr>\n      <th>date</th>\n      <th></th>\n      <th></th>\n      <th></th>\n      <th></th>\n      <th></th>\n      <th></th>\n      <th></th>\n      <th></th>\n      <th></th>\n      <th></th>\n      <th></th>\n      <th></th>\n      <th></th>\n      <th></th>\n      <th></th>\n      <th></th>\n      <th></th>\n      <th></th>\n      <th></th>\n      <th></th>\n      <th></th>\n    </tr>\n  </thead>\n  <tbody>\n    <tr>\n      <th>2016-04-25</th>\n      <td>449.4956</td>\n      <td>42.4433</td>\n      <td>754.6167</td>\n      <td>195.0511</td>\n      <td>271.6638</td>\n      <td>541.5019</td>\n      <td>1917.5483</td>\n      <td>324.1858</td>\n      <td>42.1745</td>\n      <td>655.6467</td>\n      <td>...</td>\n      <td>344.8301</td>\n      <td>884.0825</td>\n      <td>1933.5100</td>\n      <td>207.2512</td>\n      <td>24.6183</td>\n      <td>548.1931</td>\n      <td>158.8054</td>\n      <td>235.2273</td>\n      <td>446.0785</td>\n      <td>1615.1026</td>\n    </tr>\n    <tr>\n      <th>2016-04-26</th>\n      <td>396.0684</td>\n      <td>37.1498</td>\n      <td>643.8261</td>\n      <td>177.7038</td>\n      <td>253.1075</td>\n      <td>435.8280</td>\n      <td>1820.1153</td>\n      <td>335.1625</td>\n      <td>41.0074</td>\n      <td>602.7929</td>\n      <td>...</td>\n      <td>327.2772</td>\n      <td>733.3352</td>\n      <td>1840.4003</td>\n      <td>177.5088</td>\n      <td>32.1960</td>\n      <td>564.7635</td>\n      <td>143.3564</td>\n      <td>258.5176</td>\n      <td>412.6191</td>\n      <td>1734.2253</td>\n    </tr>\n    <tr>\n      <th>2016-04-27</th>\n      <td>388.4789</td>\n      <td>39.5788</td>\n      <td>586.1311</td>\n      <td>184.2913</td>\n      <td>289.1053</td>\n      <td>366.2773</td>\n      <td>1732.6518</td>\n      <td>285.6967</td>\n      <td>42.3390</td>\n      <td>641.6630</td>\n      <td>...</td>\n      <td>310.4772</td>\n      <td>702.6381</td>\n      <td>1727.1741</td>\n      <td>191.3946</td>\n      <td>25.9984</td>\n      <td>515.3838</td>\n      <td>129.5121</td>\n      <td>246.8596</td>\n      <td>383.1380</td>\n      <td>1602.5222</td>\n    </tr>\n    <tr>\n      <th>2016-04-28</th>\n      <td>419.4912</td>\n      <td>37.9877</td>\n      <td>622.6572</td>\n      <td>184.2326</td>\n      <td>303.6351</td>\n      <td>340.3313</td>\n      <td>1714.0109</td>\n      <td>338.5550</td>\n      <td>37.8039</td>\n      <td>631.6716</td>\n      <td>...</td>\n      <td>266.4066</td>\n      <td>824.6831</td>\n      <td>1711.5400</td>\n      <td>218.4111</td>\n      <td>28.1831</td>\n      <td>579.6401</td>\n      <td>132.4203</td>\n      <td>238.3594</td>\n      <td>390.2391</td>\n      <td>1505.3900</td>\n    </tr>\n    <tr>\n      <th>2016-04-29</th>\n      <td>456.5489</td>\n      <td>47.5803</td>\n      <td>739.6181</td>\n      <td>215.0809</td>\n      <td>314.9435</td>\n      <td>460.0979</td>\n      <td>2244.1102</td>\n      <td>365.7659</td>\n      <td>38.3668</td>\n      <td>824.5203</td>\n      <td>...</td>\n      <td>343.4292</td>\n      <td>811.1577</td>\n      <td>2078.8262</td>\n      <td>324.1257</td>\n      <td>24.4642</td>\n      <td>742.7536</td>\n      <td>168.2470</td>\n      <td>264.7937</td>\n      <td>488.5465</td>\n      <td>1788.8892</td>\n    </tr>\n    <tr>\n      <th>2016-04-30</th>\n      <td>582.3975</td>\n      <td>55.4284</td>\n      <td>1019.7767</td>\n      <td>271.6790</td>\n      <td>372.1390</td>\n      <td>567.8636</td>\n      <td>2693.1875</td>\n      <td>462.4425</td>\n      <td>44.5834</td>\n      <td>1011.6265</td>\n      <td>...</td>\n      <td>382.6277</td>\n      <td>832.5479</td>\n      <td>2357.8880</td>\n      <td>295.0350</td>\n      <td>27.9010</td>\n      <td>869.7472</td>\n      <td>208.7738</td>\n      <td>312.2918</td>\n      <td>615.5956</td>\n      <td>2453.5944</td>\n    </tr>\n    <tr>\n      <th>2016-05-01</th>\n      <td>546.6977</td>\n      <td>51.3810</td>\n      <td>1079.9215</td>\n      <td>278.5060</td>\n      <td>332.1003</td>\n      <td>623.2916</td>\n      <td>2890.6448</td>\n      <td>457.0832</td>\n      <td>45.4321</td>\n      <td>1033.0461</td>\n      <td>...</td>\n      <td>364.8620</td>\n      <td>1071.6023</td>\n      <td>2462.6952</td>\n      <td>250.3653</td>\n      <td>30.4518</td>\n      <td>870.1567</td>\n      <td>204.3641</td>\n      <td>285.0829</td>\n      <td>641.3400</td>\n      <td>2309.9220</td>\n    </tr>\n    <tr>\n      <th>2016-05-02</th>\n      <td>465.7320</td>\n      <td>35.9209</td>\n      <td>778.7456</td>\n      <td>195.6691</td>\n      <td>272.2665</td>\n      <td>537.8936</td>\n      <td>2030.6053</td>\n      <td>309.9696</td>\n      <td>32.2123</td>\n      <td>650.4048</td>\n      <td>...</td>\n      <td>365.2623</td>\n      <td>1276.8462</td>\n      <td>2488.2545</td>\n      <td>214.8206</td>\n      <td>26.7563</td>\n      <td>625.2188</td>\n      <td>165.1707</td>\n      <td>238.8403</td>\n      <td>569.4897</td>\n      <td>1746.4308</td>\n    </tr>\n    <tr>\n      <th>2016-05-03</th>\n      <td>431.2596</td>\n      <td>42.9203</td>\n      <td>655.8035</td>\n      <td>185.2495</td>\n      <td>289.3279</td>\n      <td>496.3385</td>\n      <td>1866.7531</td>\n      <td>296.4192</td>\n      <td>34.6295</td>\n      <td>607.2990</td>\n      <td>...</td>\n      <td>342.9247</td>\n      <td>1333.6738</td>\n      <td>2403.2871</td>\n      <td>212.6836</td>\n      <td>24.7036</td>\n      <td>604.9833</td>\n      <td>136.9341</td>\n      <td>270.9724</td>\n      <td>680.9072</td>\n      <td>1920.9284</td>\n    </tr>\n    <tr>\n      <th>2016-05-04</th>\n      <td>444.1696</td>\n      <td>41.6432</td>\n      <td>628.0217</td>\n      <td>192.5918</td>\n      <td>268.0387</td>\n      <td>497.2088</td>\n      <td>1825.3116</td>\n      <td>312.1186</td>\n      <td>48.9701</td>\n      <td>635.2823</td>\n      <td>...</td>\n      <td>335.2363</td>\n      <td>1596.5660</td>\n      <td>2549.1681</td>\n      <td>216.6993</td>\n      <td>31.1215</td>\n      <td>554.5598</td>\n      <td>139.3128</td>\n      <td>250.2516</td>\n      <td>648.3445</td>\n      <td>1811.1699</td>\n    </tr>\n    <tr>\n      <th>2016-05-05</th>\n      <td>420.7036</td>\n      <td>41.4662</td>\n      <td>656.6979</td>\n      <td>205.8809</td>\n      <td>301.2285</td>\n      <td>471.3906</td>\n      <td>1825.1248</td>\n      <td>329.3737</td>\n      <td>35.8061</td>\n      <td>601.8712</td>\n      <td>...</td>\n      <td>322.0492</td>\n      <td>1536.4524</td>\n      <td>2475.2176</td>\n      <td>235.4734</td>\n      <td>27.8322</td>\n      <td>640.3165</td>\n      <td>133.9260</td>\n      <td>269.3684</td>\n      <td>515.3071</td>\n      <td>1843.2988</td>\n    </tr>\n    <tr>\n      <th>2016-05-06</th>\n      <td>533.6297</td>\n      <td>45.8810</td>\n      <td>780.5747</td>\n      <td>233.7416</td>\n      <td>356.2364</td>\n      <td>623.3794</td>\n      <td>2216.3633</td>\n      <td>414.7067</td>\n      <td>41.9109</td>\n      <td>830.4388</td>\n      <td>...</td>\n      <td>341.0748</td>\n      <td>1492.2036</td>\n      <td>2826.4703</td>\n      <td>252.2868</td>\n      <td>34.7587</td>\n      <td>775.7322</td>\n      <td>178.5709</td>\n      <td>296.0830</td>\n      <td>670.5853</td>\n      <td>2271.8072</td>\n    </tr>\n    <tr>\n      <th>2016-05-07</th>\n      <td>594.5917</td>\n      <td>51.2122</td>\n      <td>1025.3846</td>\n      <td>290.4712</td>\n      <td>424.2229</td>\n      <td>758.9690</td>\n      <td>2786.3660</td>\n      <td>483.4882</td>\n      <td>47.9626</td>\n      <td>1095.6236</td>\n      <td>...</td>\n      <td>387.8887</td>\n      <td>1690.1398</td>\n      <td>3012.3764</td>\n      <td>290.3430</td>\n      <td>29.9262</td>\n      <td>840.2645</td>\n      <td>203.6178</td>\n      <td>344.5761</td>\n      <td>825.4979</td>\n      <td>2801.8401</td>\n    </tr>\n    <tr>\n      <th>2016-05-08</th>\n      <td>560.6139</td>\n      <td>45.6659</td>\n      <td>972.4979</td>\n      <td>272.3124</td>\n      <td>367.4398</td>\n      <td>730.2405</td>\n      <td>2979.9687</td>\n      <td>428.3690</td>\n      <td>42.9706</td>\n      <td>1097.3906</td>\n      <td>...</td>\n      <td>359.4870</td>\n      <td>1591.9384</td>\n      <td>2753.0248</td>\n      <td>255.8386</td>\n      <td>27.6069</td>\n      <td>802.0051</td>\n      <td>204.6593</td>\n      <td>258.5779</td>\n      <td>768.6423</td>\n      <td>2577.7483</td>\n    </tr>\n    <tr>\n      <th>2016-05-09</th>\n      <td>479.0045</td>\n      <td>45.5947</td>\n      <td>739.1785</td>\n      <td>194.5277</td>\n      <td>297.9190</td>\n      <td>573.5590</td>\n      <td>2108.7399</td>\n      <td>270.5431</td>\n      <td>35.2556</td>\n      <td>637.0947</td>\n      <td>...</td>\n      <td>344.7565</td>\n      <td>1526.1460</td>\n      <td>2633.6371</td>\n      <td>216.4834</td>\n      <td>27.0769</td>\n      <td>587.1052</td>\n      <td>169.9013</td>\n      <td>198.5675</td>\n      <td>613.9780</td>\n      <td>2189.4211</td>\n    </tr>\n    <tr>\n      <th>2016-05-10</th>\n      <td>462.7437</td>\n      <td>42.5986</td>\n      <td>632.5744</td>\n      <td>187.0334</td>\n      <td>278.1853</td>\n      <td>484.8036</td>\n      <td>1835.9293</td>\n      <td>309.5792</td>\n      <td>40.7079</td>\n      <td>603.4351</td>\n      <td>...</td>\n      <td>357.6212</td>\n      <td>1652.8257</td>\n      <td>2430.4626</td>\n      <td>222.6386</td>\n      <td>28.8207</td>\n      <td>496.5509</td>\n      <td>135.5630</td>\n      <td>250.2863</td>\n      <td>663.6983</td>\n      <td>1959.6248</td>\n    </tr>\n    <tr>\n      <th>2016-05-11</th>\n      <td>394.9171</td>\n      <td>43.3479</td>\n      <td>619.6288</td>\n      <td>176.3259</td>\n      <td>331.4810</td>\n      <td>442.8389</td>\n      <td>1810.9766</td>\n      <td>296.8225</td>\n      <td>41.4448</td>\n      <td>605.5941</td>\n      <td>...</td>\n      <td>301.8588</td>\n      <td>1461.8332</td>\n      <td>2312.2300</td>\n      <td>213.0249</td>\n      <td>25.1679</td>\n      <td>475.3873</td>\n      <td>126.9824</td>\n      <td>217.9130</td>\n      <td>568.4120</td>\n      <td>1751.9631</td>\n    </tr>\n    <tr>\n      <th>2016-05-12</th>\n      <td>417.1410</td>\n      <td>45.2155</td>\n      <td>631.6421</td>\n      <td>198.7958</td>\n      <td>328.5310</td>\n      <td>403.7696</td>\n      <td>1879.6453</td>\n      <td>299.5983</td>\n      <td>37.3343</td>\n      <td>615.3528</td>\n      <td>...</td>\n      <td>303.1992</td>\n      <td>1606.0321</td>\n      <td>2443.9742</td>\n      <td>225.6136</td>\n      <td>29.8834</td>\n      <td>501.6428</td>\n      <td>144.4814</td>\n      <td>235.0045</td>\n      <td>609.6431</td>\n      <td>2074.0525</td>\n    </tr>\n    <tr>\n      <th>2016-05-13</th>\n      <td>457.1407</td>\n      <td>44.1961</td>\n      <td>750.4216</td>\n      <td>214.8100</td>\n      <td>364.7362</td>\n      <td>481.4330</td>\n      <td>2168.7656</td>\n      <td>389.4791</td>\n      <td>52.0467</td>\n      <td>791.4624</td>\n      <td>...</td>\n      <td>380.6528</td>\n      <td>1637.4599</td>\n      <td>2715.5070</td>\n      <td>290.0693</td>\n      <td>26.0680</td>\n      <td>680.2703</td>\n      <td>178.7327</td>\n      <td>260.4500</td>\n      <td>707.4260</td>\n      <td>2422.0711</td>\n    </tr>\n    <tr>\n      <th>2016-05-14</th>\n      <td>577.9533</td>\n      <td>56.6859</td>\n      <td>1045.6635</td>\n      <td>291.6818</td>\n      <td>450.4492</td>\n      <td>599.6835</td>\n      <td>2719.5704</td>\n      <td>477.6155</td>\n      <td>40.4451</td>\n      <td>1174.2449</td>\n      <td>...</td>\n      <td>426.6370</td>\n      <td>1456.3547</td>\n      <td>2758.3302</td>\n      <td>287.7356</td>\n      <td>29.1275</td>\n      <td>791.3969</td>\n      <td>212.8699</td>\n      <td>294.0337</td>\n      <td>732.7096</td>\n      <td>2899.8472</td>\n    </tr>\n    <tr>\n      <th>2016-05-15</th>\n      <td>540.6957</td>\n      <td>49.9867</td>\n      <td>1059.2575</td>\n      <td>291.7307</td>\n      <td>380.3799</td>\n      <td>672.0483</td>\n      <td>2805.0405</td>\n      <td>436.9954</td>\n      <td>40.7327</td>\n      <td>1122.0663</td>\n      <td>...</td>\n      <td>379.3209</td>\n      <td>1496.8736</td>\n      <td>2834.6578</td>\n      <td>219.7461</td>\n      <td>25.7666</td>\n      <td>764.1023</td>\n      <td>207.4592</td>\n      <td>239.0127</td>\n      <td>757.6449</td>\n      <td>2584.6805</td>\n    </tr>\n    <tr>\n      <th>2016-05-16</th>\n      <td>499.2434</td>\n      <td>40.5267</td>\n      <td>792.7556</td>\n      <td>196.3841</td>\n      <td>352.4208</td>\n      <td>507.2847</td>\n      <td>2021.2422</td>\n      <td>303.9343</td>\n      <td>39.4687</td>\n      <td>650.8182</td>\n      <td>...</td>\n      <td>339.6299</td>\n      <td>1392.0417</td>\n      <td>2398.4975</td>\n      <td>207.0631</td>\n      <td>27.8066</td>\n      <td>565.6823</td>\n      <td>164.2478</td>\n      <td>207.1293</td>\n      <td>573.3932</td>\n      <td>2039.9676</td>\n    </tr>\n    <tr>\n      <th>2016-05-17</th>\n      <td>418.9400</td>\n      <td>34.0043</td>\n      <td>651.1030</td>\n      <td>181.5334</td>\n      <td>350.4556</td>\n      <td>442.5061</td>\n      <td>1762.9699</td>\n      <td>285.3270</td>\n      <td>37.0240</td>\n      <td>598.4786</td>\n      <td>...</td>\n      <td>302.9117</td>\n      <td>1110.6324</td>\n      <td>2053.8814</td>\n      <td>199.6416</td>\n      <td>26.3365</td>\n      <td>494.1674</td>\n      <td>143.1393</td>\n      <td>227.2653</td>\n      <td>472.1213</td>\n      <td>1856.7617</td>\n    </tr>\n    <tr>\n      <th>2016-05-18</th>\n      <td>423.5643</td>\n      <td>36.5153</td>\n      <td>608.5951</td>\n      <td>187.0856</td>\n      <td>338.2723</td>\n      <td>413.0950</td>\n      <td>1725.3964</td>\n      <td>312.4871</td>\n      <td>43.7390</td>\n      <td>593.8372</td>\n      <td>...</td>\n      <td>277.8959</td>\n      <td>1008.1952</td>\n      <td>1881.2908</td>\n      <td>200.0840</td>\n      <td>24.6246</td>\n      <td>489.8285</td>\n      <td>122.9996</td>\n      <td>208.5297</td>\n      <td>458.0468</td>\n      <td>1650.5658</td>\n    </tr>\n    <tr>\n      <th>2016-05-19</th>\n      <td>465.6402</td>\n      <td>38.4391</td>\n      <td>629.9176</td>\n      <td>197.6384</td>\n      <td>338.5922</td>\n      <td>377.7564</td>\n      <td>1813.7787</td>\n      <td>275.0521</td>\n      <td>39.4588</td>\n      <td>581.8879</td>\n      <td>...</td>\n      <td>275.6375</td>\n      <td>1028.4229</td>\n      <td>1852.8060</td>\n      <td>209.7674</td>\n      <td>29.9501</td>\n      <td>532.1641</td>\n      <td>136.5024</td>\n      <td>215.2132</td>\n      <td>473.6804</td>\n      <td>1747.5015</td>\n    </tr>\n    <tr>\n      <th>2016-05-20</th>\n      <td>451.4362</td>\n      <td>46.8942</td>\n      <td>761.8990</td>\n      <td>212.7949</td>\n      <td>368.7699</td>\n      <td>473.4516</td>\n      <td>2215.0190</td>\n      <td>375.9398</td>\n      <td>48.2653</td>\n      <td>789.4386</td>\n      <td>...</td>\n      <td>330.5600</td>\n      <td>1042.8245</td>\n      <td>2140.9967</td>\n      <td>263.0385</td>\n      <td>31.6342</td>\n      <td>670.8222</td>\n      <td>172.3295</td>\n      <td>239.2620</td>\n      <td>500.8252</td>\n      <td>2001.0620</td>\n    </tr>\n    <tr>\n      <th>2016-05-21</th>\n      <td>586.8037</td>\n      <td>54.5120</td>\n      <td>1018.7414</td>\n      <td>287.9025</td>\n      <td>413.9527</td>\n      <td>551.9996</td>\n      <td>2654.9582</td>\n      <td>479.5689</td>\n      <td>49.2670</td>\n      <td>1078.7216</td>\n      <td>...</td>\n      <td>379.3473</td>\n      <td>1076.5577</td>\n      <td>2260.2760</td>\n      <td>305.8815</td>\n      <td>29.6330</td>\n      <td>830.2626</td>\n      <td>199.1844</td>\n      <td>323.4020</td>\n      <td>499.6138</td>\n      <td>2345.5315</td>\n    </tr>\n    <tr>\n      <th>2016-05-22</th>\n      <td>544.8824</td>\n      <td>59.5364</td>\n      <td>1108.8442</td>\n      <td>294.2332</td>\n      <td>391.8593</td>\n      <td>602.5771</td>\n      <td>3031.8975</td>\n      <td>439.0579</td>\n      <td>43.4524</td>\n      <td>1064.7611</td>\n      <td>...</td>\n      <td>366.7615</td>\n      <td>1056.7248</td>\n      <td>2176.5228</td>\n      <td>225.5577</td>\n      <td>26.6244</td>\n      <td>781.5554</td>\n      <td>208.6845</td>\n      <td>240.9142</td>\n      <td>514.7729</td>\n      <td>2269.9528</td>\n    </tr>\n  </tbody>\n</table>\n<p>28 rows × 70 columns</p>\n</div>",
      "text/plain": "store_id        CA_1                                                        \\\nstate_id          CA                                                         \ncat_id       HOBBIES             HOUSEHOLD                 FOODS             \ndept_id    HOBBIES_1 HOBBIES_2 HOUSEHOLD_1 HOUSEHOLD_2   FOODS_1   FOODS_2   \ndate                                                                         \n2016-04-25  449.4956   42.4433    754.6167    195.0511  271.6638  541.5019   \n2016-04-26  396.0684   37.1498    643.8261    177.7038  253.1075  435.8280   \n2016-04-27  388.4789   39.5788    586.1311    184.2913  289.1053  366.2773   \n2016-04-28  419.4912   37.9877    622.6572    184.2326  303.6351  340.3313   \n2016-04-29  456.5489   47.5803    739.6181    215.0809  314.9435  460.0979   \n2016-04-30  582.3975   55.4284   1019.7767    271.6790  372.1390  567.8636   \n2016-05-01  546.6977   51.3810   1079.9215    278.5060  332.1003  623.2916   \n2016-05-02  465.7320   35.9209    778.7456    195.6691  272.2665  537.8936   \n2016-05-03  431.2596   42.9203    655.8035    185.2495  289.3279  496.3385   \n2016-05-04  444.1696   41.6432    628.0217    192.5918  268.0387  497.2088   \n2016-05-05  420.7036   41.4662    656.6979    205.8809  301.2285  471.3906   \n2016-05-06  533.6297   45.8810    780.5747    233.7416  356.2364  623.3794   \n2016-05-07  594.5917   51.2122   1025.3846    290.4712  424.2229  758.9690   \n2016-05-08  560.6139   45.6659    972.4979    272.3124  367.4398  730.2405   \n2016-05-09  479.0045   45.5947    739.1785    194.5277  297.9190  573.5590   \n2016-05-10  462.7437   42.5986    632.5744    187.0334  278.1853  484.8036   \n2016-05-11  394.9171   43.3479    619.6288    176.3259  331.4810  442.8389   \n2016-05-12  417.1410   45.2155    631.6421    198.7958  328.5310  403.7696   \n2016-05-13  457.1407   44.1961    750.4216    214.8100  364.7362  481.4330   \n2016-05-14  577.9533   56.6859   1045.6635    291.6818  450.4492  599.6835   \n2016-05-15  540.6957   49.9867   1059.2575    291.7307  380.3799  672.0483   \n2016-05-16  499.2434   40.5267    792.7556    196.3841  352.4208  507.2847   \n2016-05-17  418.9400   34.0043    651.1030    181.5334  350.4556  442.5061   \n2016-05-18  423.5643   36.5153    608.5951    187.0856  338.2723  413.0950   \n2016-05-19  465.6402   38.4391    629.9176    197.6384  338.5922  377.7564   \n2016-05-20  451.4362   46.8942    761.8990    212.7949  368.7699  473.4516   \n2016-05-21  586.8037   54.5120   1018.7414    287.9025  413.9527  551.9996   \n2016-05-22  544.8824   59.5364   1108.8442    294.2332  391.8593  602.5771   \n\nstore_id                   CA_2                        ...      WI_2  \\\nstate_id                     CA                        ...        WI   \ncat_id                  HOBBIES             HOUSEHOLD  ...     FOODS   \ndept_id       FOODS_3 HOBBIES_1 HOBBIES_2 HOUSEHOLD_1  ...   FOODS_1   \ndate                                                   ...             \n2016-04-25  1917.5483  324.1858   42.1745    655.6467  ...  344.8301   \n2016-04-26  1820.1153  335.1625   41.0074    602.7929  ...  327.2772   \n2016-04-27  1732.6518  285.6967   42.3390    641.6630  ...  310.4772   \n2016-04-28  1714.0109  338.5550   37.8039    631.6716  ...  266.4066   \n2016-04-29  2244.1102  365.7659   38.3668    824.5203  ...  343.4292   \n2016-04-30  2693.1875  462.4425   44.5834   1011.6265  ...  382.6277   \n2016-05-01  2890.6448  457.0832   45.4321   1033.0461  ...  364.8620   \n2016-05-02  2030.6053  309.9696   32.2123    650.4048  ...  365.2623   \n2016-05-03  1866.7531  296.4192   34.6295    607.2990  ...  342.9247   \n2016-05-04  1825.3116  312.1186   48.9701    635.2823  ...  335.2363   \n2016-05-05  1825.1248  329.3737   35.8061    601.8712  ...  322.0492   \n2016-05-06  2216.3633  414.7067   41.9109    830.4388  ...  341.0748   \n2016-05-07  2786.3660  483.4882   47.9626   1095.6236  ...  387.8887   \n2016-05-08  2979.9687  428.3690   42.9706   1097.3906  ...  359.4870   \n2016-05-09  2108.7399  270.5431   35.2556    637.0947  ...  344.7565   \n2016-05-10  1835.9293  309.5792   40.7079    603.4351  ...  357.6212   \n2016-05-11  1810.9766  296.8225   41.4448    605.5941  ...  301.8588   \n2016-05-12  1879.6453  299.5983   37.3343    615.3528  ...  303.1992   \n2016-05-13  2168.7656  389.4791   52.0467    791.4624  ...  380.6528   \n2016-05-14  2719.5704  477.6155   40.4451   1174.2449  ...  426.6370   \n2016-05-15  2805.0405  436.9954   40.7327   1122.0663  ...  379.3209   \n2016-05-16  2021.2422  303.9343   39.4687    650.8182  ...  339.6299   \n2016-05-17  1762.9699  285.3270   37.0240    598.4786  ...  302.9117   \n2016-05-18  1725.3964  312.4871   43.7390    593.8372  ...  277.8959   \n2016-05-19  1813.7787  275.0521   39.4588    581.8879  ...  275.6375   \n2016-05-20  2215.0190  375.9398   48.2653    789.4386  ...  330.5600   \n2016-05-21  2654.9582  479.5689   49.2670   1078.7216  ...  379.3473   \n2016-05-22  3031.8975  439.0579   43.4524   1064.7611  ...  366.7615   \n\nstore_id                              WI_3                                    \\\nstate_id                                WI                                     \ncat_id                             HOBBIES             HOUSEHOLD               \ndept_id       FOODS_2    FOODS_3 HOBBIES_1 HOBBIES_2 HOUSEHOLD_1 HOUSEHOLD_2   \ndate                                                                           \n2016-04-25   884.0825  1933.5100  207.2512   24.6183    548.1931    158.8054   \n2016-04-26   733.3352  1840.4003  177.5088   32.1960    564.7635    143.3564   \n2016-04-27   702.6381  1727.1741  191.3946   25.9984    515.3838    129.5121   \n2016-04-28   824.6831  1711.5400  218.4111   28.1831    579.6401    132.4203   \n2016-04-29   811.1577  2078.8262  324.1257   24.4642    742.7536    168.2470   \n2016-04-30   832.5479  2357.8880  295.0350   27.9010    869.7472    208.7738   \n2016-05-01  1071.6023  2462.6952  250.3653   30.4518    870.1567    204.3641   \n2016-05-02  1276.8462  2488.2545  214.8206   26.7563    625.2188    165.1707   \n2016-05-03  1333.6738  2403.2871  212.6836   24.7036    604.9833    136.9341   \n2016-05-04  1596.5660  2549.1681  216.6993   31.1215    554.5598    139.3128   \n2016-05-05  1536.4524  2475.2176  235.4734   27.8322    640.3165    133.9260   \n2016-05-06  1492.2036  2826.4703  252.2868   34.7587    775.7322    178.5709   \n2016-05-07  1690.1398  3012.3764  290.3430   29.9262    840.2645    203.6178   \n2016-05-08  1591.9384  2753.0248  255.8386   27.6069    802.0051    204.6593   \n2016-05-09  1526.1460  2633.6371  216.4834   27.0769    587.1052    169.9013   \n2016-05-10  1652.8257  2430.4626  222.6386   28.8207    496.5509    135.5630   \n2016-05-11  1461.8332  2312.2300  213.0249   25.1679    475.3873    126.9824   \n2016-05-12  1606.0321  2443.9742  225.6136   29.8834    501.6428    144.4814   \n2016-05-13  1637.4599  2715.5070  290.0693   26.0680    680.2703    178.7327   \n2016-05-14  1456.3547  2758.3302  287.7356   29.1275    791.3969    212.8699   \n2016-05-15  1496.8736  2834.6578  219.7461   25.7666    764.1023    207.4592   \n2016-05-16  1392.0417  2398.4975  207.0631   27.8066    565.6823    164.2478   \n2016-05-17  1110.6324  2053.8814  199.6416   26.3365    494.1674    143.1393   \n2016-05-18  1008.1952  1881.2908  200.0840   24.6246    489.8285    122.9996   \n2016-05-19  1028.4229  1852.8060  209.7674   29.9501    532.1641    136.5024   \n2016-05-20  1042.8245  2140.9967  263.0385   31.6342    670.8222    172.3295   \n2016-05-21  1076.5577  2260.2760  305.8815   29.6330    830.2626    199.1844   \n2016-05-22  1056.7248  2176.5228  225.5577   26.6244    781.5554    208.6845   \n\nstore_id                                   \nstate_id                                   \ncat_id         FOODS                       \ndept_id      FOODS_1   FOODS_2    FOODS_3  \ndate                                       \n2016-04-25  235.2273  446.0785  1615.1026  \n2016-04-26  258.5176  412.6191  1734.2253  \n2016-04-27  246.8596  383.1380  1602.5222  \n2016-04-28  238.3594  390.2391  1505.3900  \n2016-04-29  264.7937  488.5465  1788.8892  \n2016-04-30  312.2918  615.5956  2453.5944  \n2016-05-01  285.0829  641.3400  2309.9220  \n2016-05-02  238.8403  569.4897  1746.4308  \n2016-05-03  270.9724  680.9072  1920.9284  \n2016-05-04  250.2516  648.3445  1811.1699  \n2016-05-05  269.3684  515.3071  1843.2988  \n2016-05-06  296.0830  670.5853  2271.8072  \n2016-05-07  344.5761  825.4979  2801.8401  \n2016-05-08  258.5779  768.6423  2577.7483  \n2016-05-09  198.5675  613.9780  2189.4211  \n2016-05-10  250.2863  663.6983  1959.6248  \n2016-05-11  217.9130  568.4120  1751.9631  \n2016-05-12  235.0045  609.6431  2074.0525  \n2016-05-13  260.4500  707.4260  2422.0711  \n2016-05-14  294.0337  732.7096  2899.8472  \n2016-05-15  239.0127  757.6449  2584.6805  \n2016-05-16  207.1293  573.3932  2039.9676  \n2016-05-17  227.2653  472.1213  1856.7617  \n2016-05-18  208.5297  458.0468  1650.5658  \n2016-05-19  215.2132  473.6804  1747.5015  \n2016-05-20  239.2620  500.8252  2001.0620  \n2016-05-21  323.4020  499.6138  2345.5315  \n2016-05-22  240.9142  514.7729  2269.9528  \n\n[28 rows x 70 columns]"
     },
     "execution_count": 15,
     "metadata": {},
     "output_type": "execute_result"
    }
   ],
   "source": [
    "df_pred_9_combo.columns = train_df.sum(axis=1, level=[\"store_id\", \"state_id\", \"cat_id\", \"dept_id\"]).columns\r\n",
    "df_pred_9_combo"
   ]
  },
  {
   "cell_type": "markdown",
   "metadata": {},
   "source": [
    "### Q7. Top-Down  (15 pts.)\n",
    "\n",
    "Using your forecasts from the best performing method in Q5, use the top-down method with `average historical proportions` described in [FPP3](https://otexts.com/fpp3/single-level.html) to generate forecasts for levels 10 to 12.\n",
    "\n",
    "Calculate the `WRMSSE` for levels 10 to 12  against the test set, then summarize the metrics in a dataframe and print it.\n",
    "\n",
    "For reference, you can find the benchmark `WRMSSE` scores in the `The M5 Accuracy competition: Results, findings and conclusions` paper.\n",
    "\n",
    "<i>Note: The M5 benchmarks use a bottom-up method for forecasting, so they will not necessarily be equal to your scores.</i>"
   ]
  },
  {
   "cell_type": "code",
   "execution_count": 16,
   "metadata": {},
   "outputs": [],
   "source": [
    "# Your code here"
   ]
  },
  {
   "cell_type": "markdown",
   "metadata": {},
   "source": [
    "# Time Series Analysis: \"The Final Project\"\r\n",
    "\r\n",
    "`End? No, the journey doesn't end here. Death is just another path. One that we all must take.\r\n",
    "-J.R.R. Tolkien, The Return of the King`"
   ]
  },
  {
   "cell_type": "markdown",
   "metadata": {},
   "source": [
    "---\r\n",
    "\r\n",
    "## Libraries"
   ]
  },
  {
   "cell_type": "code",
   "execution_count": 17,
   "metadata": {},
   "outputs": [
    {
     "name": "stdout",
     "output_type": "stream",
     "text": [
      "[WinError 3] The system cannot find the path specified: 'Documents\\\\tsa2021-m5'\n",
      "C:\\Users\\aamorado\\Documents\\tsa2021-m5\n"
     ]
    }
   ],
   "source": [
    "%cd \"Documents\\tsa2021-m5\""
   ]
  },
  {
   "cell_type": "code",
   "execution_count": 18,
   "metadata": {},
   "outputs": [],
   "source": [
    "from statsmodels.tsa.exponential_smoothing.ets import ETSModel\r\n",
    "import statsmodels.api as sm\r\n",
    "import numpy as np\r\n",
    "import pandas as pd\r\n",
    "import seaborn as sns\r\n",
    "import matplotlib.pyplot as plt\r\n",
    "import lightgbm as lgb\r\n",
    "from pandas.plotting import register_matplotlib_converters\r\n",
    "from IPython.display import display\r\n",
    "from tsa_tools import *  # Hehe\r\n",
    "\r\n",
    "register_matplotlib_converters()\r\n",
    "sns.set_style('darkgrid')\r\n",
    "\r\n",
    "np.set_printoptions(precision=4)\r\n",
    "pd.set_option('precision', 4)"
   ]
  },
  {
   "cell_type": "markdown",
   "metadata": {},
   "source": [
    "---\r\n",
    "\r\n",
    "## M5 Forecasting\r\n",
    "\r\n",
    "For this \"final project\", we will be forecasting the <b><u>level 9</b></u> series (unit sales of all products, aggregated for each store and department).\r\n",
    "\r\n",
    "Load `sales_train_evaluation.csv` and use observations from `d_1 to d_1913` for training and `d_1914 to d_1941` for testing."
   ]
  },
  {
   "cell_type": "code",
   "execution_count": 19,
   "metadata": {},
   "outputs": [],
   "source": [
    "df_calendar = pd.read_csv('../data/m5/calendar.csv')\r\n",
    "df_sales = pd.read_csv('../data/m5/sales_train_evaluation.csv')\r\n",
    "df_weights = pd.read_csv('../data/m5/weights_validation.csv')\r\n",
    "# display(df_calendar, df_sales, df_weights)"
   ]
  },
  {
   "cell_type": "code",
   "execution_count": 20,
   "metadata": {},
   "outputs": [],
   "source": [
    "train_df = (df_sales.set_index([*df_sales.columns[5::-1]]).T\r\n",
    "           .set_index(pd.DatetimeIndex(df_calendar.date)[:1941]).iloc[:-28])\r\n",
    "test_df = (df_sales.set_index([*df_sales.columns[5::-1]]).T\r\n",
    "           .set_index(pd.DatetimeIndex(df_calendar.date)[:1941]).iloc[-28:])\r\n",
    "# display(train_df, test_df)"
   ]
  },
  {
   "cell_type": "code",
   "execution_count": 21,
   "metadata": {},
   "outputs": [],
   "source": [
    "levels = {\r\n",
    "    1: None,\r\n",
    "    2: \"state_id\",\r\n",
    "    3: \"store_id\",\r\n",
    "    4: \"cat_id\",\r\n",
    "    5: \"dept_id\",\r\n",
    "    6: [\"state_id\", \"cat_id\"],\r\n",
    "    7: [\"state_id\", \"dept_id\"],\r\n",
    "    8: [\"store_id\", \"cat_id\"],\r\n",
    "    9: [\"store_id\", \"dept_id\"],\r\n",
    "    10: \"item_id\",\r\n",
    "    11: [\"state_id\", \"item_id\"],\r\n",
    "    12: [\"store_id\", \"item_id\"]\r\n",
    "}"
   ]
  },
  {
   "cell_type": "code",
   "execution_count": 22,
   "metadata": {},
   "outputs": [],
   "source": [
    "train_df_9 = timeSeriesFiltering(\r\n",
    "    train_df.sum(axis='columns', level=levels[9]), lower=10)\r\n",
    "trainOG_df_9 = train_df.sum(axis='columns', level=levels[9])\r\n",
    "test_df_9 = test_df.sum(axis='columns', level=levels[9])\r\n",
    "weights_df_9 = (df_weights\r\n",
    "                .loc[df_weights['Level_id'] == 'Level9']\r\n",
    "                .set_index(['Agg_Level_1', 'Agg_Level_2'])[['Weight']])"
   ]
  },
  {
   "cell_type": "markdown",
   "metadata": {},
   "source": [
    "---\r\n",
    "\r\n",
    "## Part 5. King of the Hill (20 pts.)\r\n",
    "\r\n",
    "Using whatever methods/models you desire, beat the best `WRMSSE` score in Q5.\r\n",
    "\r\n",
    "<b><u>Do not tune your model using the test set!</b></u> If you do, you will not get points for this part."
   ]
  },
  {
   "cell_type": "markdown",
   "metadata": {},
   "source": [
    "### Q8. (10 pts.)\r\n",
    "\r\n",
    "Describe your methodology here. \r\n",
    "\r\n",
    "Points will be awarded for <b>aesthetics</b> (ex. use of diagrams), <b>ease of reading</b>, <b>clarity</b>, and <b>brevity</b>.\r\n",
    "\r\n",
    "Points will be deducted for <b>excessively long</b> walls of text and descriptions."
   ]
  },
  {
   "cell_type": "markdown",
   "metadata": {},
   "source": [
    "ANSWER HERE."
   ]
  },
  {
   "cell_type": "markdown",
   "metadata": {},
   "source": [
    "### Q9. (10 pts.)\r\n",
    "\r\n",
    "This part is for your actual code."
   ]
  },
  {
   "cell_type": "code",
   "execution_count": 23,
   "metadata": {},
   "outputs": [],
   "source": [
    "X_train, _, y_train, _ = TimeseriesGenerator(\r\n",
    "    X=train_df_9.iloc[:, 1], y=None, w=56, h=28)"
   ]
  },
  {
   "cell_type": "code",
   "execution_count": 24,
   "metadata": {},
   "outputs": [
    {
     "data": {
      "text/plain": "((1830, 56), (1830, 28))"
     },
     "execution_count": 24,
     "metadata": {},
     "output_type": "execute_result"
    }
   ],
   "source": [
    "X_train.shape, y_train.shape"
   ]
  },
  {
   "cell_type": "code",
   "execution_count": 25,
   "metadata": {},
   "outputs": [
    {
     "name": "stdout",
     "output_type": "stream",
     "text": [
      "(1913,)\n",
      "(1913,)\n",
      "(1830, 28)\n"
     ]
    },
    {
     "data": {
      "text/plain": "(1830, 28)"
     },
     "execution_count": 25,
     "metadata": {},
     "output_type": "execute_result"
    }
   ],
   "source": [
    "transformer = EndogenousTransformer(w=56, h=28, return_X=False, reshape=True)\r\n",
    "y_transform = transformer.fit_transform(train_df_9.iloc[:, 1])\r\n",
    "y_transform.shape"
   ]
  },
  {
   "cell_type": "code",
   "execution_count": 26,
   "metadata": {},
   "outputs": [
    {
     "data": {
      "text/plain": "True"
     },
     "execution_count": 26,
     "metadata": {},
     "output_type": "execute_result"
    }
   ],
   "source": [
    "np.allclose(y_transform, y_train)"
   ]
  },
  {
   "cell_type": "code",
   "execution_count": 27,
   "metadata": {},
   "outputs": [
    {
     "data": {
      "text/plain": "array([[0],\n       [1],\n       [2],\n       [3]])"
     },
     "execution_count": 27,
     "metadata": {},
     "output_type": "execute_result"
    }
   ],
   "source": [
    "np.arange(4).reshape(-1, 1)"
   ]
  },
  {
   "cell_type": "code",
   "execution_count": 28,
   "metadata": {},
   "outputs": [
    {
     "data": {
      "text/plain": "array([1, 2, 4])"
     },
     "execution_count": 28,
     "metadata": {},
     "output_type": "execute_result"
    }
   ],
   "source": [
    "np.array(\r\n",
    "    [\r\n",
    "        [1],\r\n",
    "        [2],\r\n",
    "        [4]\r\n",
    "    ]\r\n",
    ").reshape(-1)"
   ]
  },
  {
   "cell_type": "code",
   "execution_count": 29,
   "metadata": {},
   "outputs": [
    {
     "data": {
      "text/plain": "(1913,)"
     },
     "execution_count": 29,
     "metadata": {},
     "output_type": "execute_result"
    }
   ],
   "source": [
    "train_df_9.iloc[:, 1].shape"
   ]
  },
  {
   "cell_type": "code",
   "execution_count": 30,
   "metadata": {},
   "outputs": [
    {
     "ename": "ValueError",
     "evalue": "Found array with dim 3. Estimator expected <= 2.",
     "output_type": "error",
     "traceback": [
      "\u001b[1;31m---------------------------------------------------------------------------\u001b[0m",
      "\u001b[1;31mValueError\u001b[0m                                Traceback (most recent call last)",
      "\u001b[1;32m<ipython-input-30-18110813b238>\u001b[0m in \u001b[0;36m<module>\u001b[1;34m\u001b[0m\n\u001b[0;32m      4\u001b[0m     )\n\u001b[0;32m      5\u001b[0m \u001b[0mregressor\u001b[0m\u001b[1;33m.\u001b[0m\u001b[0mfit\u001b[0m\u001b[1;33m(\u001b[0m\u001b[0mX_train\u001b[0m\u001b[1;33m,\u001b[0m \u001b[0my_train\u001b[0m\u001b[1;33m)\u001b[0m\u001b[1;33m\u001b[0m\u001b[1;33m\u001b[0m\u001b[0m\n\u001b[1;32m----> 6\u001b[1;33m \u001b[0mregressor\u001b[0m\u001b[1;33m.\u001b[0m\u001b[0mpredict\u001b[0m\u001b[1;33m(\u001b[0m\u001b[1;33m[\u001b[0m\u001b[0mtrainOG_df_9\u001b[0m\u001b[1;33m.\u001b[0m\u001b[0miloc\u001b[0m\u001b[1;33m[\u001b[0m\u001b[1;33m-\u001b[0m\u001b[1;36m56\u001b[0m\u001b[1;33m:\u001b[0m\u001b[1;36m1\u001b[0m\u001b[1;33m]\u001b[0m\u001b[1;33m]\u001b[0m\u001b[1;33m)\u001b[0m\u001b[1;33m\u001b[0m\u001b[1;33m\u001b[0m\u001b[0m\n\u001b[0m",
      "\u001b[1;32m~\\Anaconda3\\lib\\site-packages\\sklearn\\multioutput.py\u001b[0m in \u001b[0;36mpredict\u001b[1;34m(self, X)\u001b[0m\n\u001b[0;32m    203\u001b[0m                              \" a predict method\")\n\u001b[0;32m    204\u001b[0m \u001b[1;33m\u001b[0m\u001b[0m\n\u001b[1;32m--> 205\u001b[1;33m         \u001b[0mX\u001b[0m \u001b[1;33m=\u001b[0m \u001b[0mcheck_array\u001b[0m\u001b[1;33m(\u001b[0m\u001b[0mX\u001b[0m\u001b[1;33m,\u001b[0m \u001b[0mforce_all_finite\u001b[0m\u001b[1;33m=\u001b[0m\u001b[1;32mFalse\u001b[0m\u001b[1;33m,\u001b[0m \u001b[0maccept_sparse\u001b[0m\u001b[1;33m=\u001b[0m\u001b[1;32mTrue\u001b[0m\u001b[1;33m)\u001b[0m\u001b[1;33m\u001b[0m\u001b[1;33m\u001b[0m\u001b[0m\n\u001b[0m\u001b[0;32m    206\u001b[0m \u001b[1;33m\u001b[0m\u001b[0m\n\u001b[0;32m    207\u001b[0m         y = Parallel(n_jobs=self.n_jobs)(\n",
      "\u001b[1;32m~\\Anaconda3\\lib\\site-packages\\sklearn\\utils\\validation.py\u001b[0m in \u001b[0;36minner_f\u001b[1;34m(*args, **kwargs)\u001b[0m\n\u001b[0;32m     61\u001b[0m             \u001b[0mextra_args\u001b[0m \u001b[1;33m=\u001b[0m \u001b[0mlen\u001b[0m\u001b[1;33m(\u001b[0m\u001b[0margs\u001b[0m\u001b[1;33m)\u001b[0m \u001b[1;33m-\u001b[0m \u001b[0mlen\u001b[0m\u001b[1;33m(\u001b[0m\u001b[0mall_args\u001b[0m\u001b[1;33m)\u001b[0m\u001b[1;33m\u001b[0m\u001b[1;33m\u001b[0m\u001b[0m\n\u001b[0;32m     62\u001b[0m             \u001b[1;32mif\u001b[0m \u001b[0mextra_args\u001b[0m \u001b[1;33m<=\u001b[0m \u001b[1;36m0\u001b[0m\u001b[1;33m:\u001b[0m\u001b[1;33m\u001b[0m\u001b[1;33m\u001b[0m\u001b[0m\n\u001b[1;32m---> 63\u001b[1;33m                 \u001b[1;32mreturn\u001b[0m \u001b[0mf\u001b[0m\u001b[1;33m(\u001b[0m\u001b[1;33m*\u001b[0m\u001b[0margs\u001b[0m\u001b[1;33m,\u001b[0m \u001b[1;33m**\u001b[0m\u001b[0mkwargs\u001b[0m\u001b[1;33m)\u001b[0m\u001b[1;33m\u001b[0m\u001b[1;33m\u001b[0m\u001b[0m\n\u001b[0m\u001b[0;32m     64\u001b[0m \u001b[1;33m\u001b[0m\u001b[0m\n\u001b[0;32m     65\u001b[0m             \u001b[1;31m# extra_args > 0\u001b[0m\u001b[1;33m\u001b[0m\u001b[1;33m\u001b[0m\u001b[1;33m\u001b[0m\u001b[0m\n",
      "\u001b[1;32m~\\Anaconda3\\lib\\site-packages\\sklearn\\utils\\validation.py\u001b[0m in \u001b[0;36mcheck_array\u001b[1;34m(array, accept_sparse, accept_large_sparse, dtype, order, copy, force_all_finite, ensure_2d, allow_nd, ensure_min_samples, ensure_min_features, estimator)\u001b[0m\n\u001b[0;32m    657\u001b[0m                     \"into decimal numbers with dtype='numeric'\") from e\n\u001b[0;32m    658\u001b[0m         \u001b[1;32mif\u001b[0m \u001b[1;32mnot\u001b[0m \u001b[0mallow_nd\u001b[0m \u001b[1;32mand\u001b[0m \u001b[0marray\u001b[0m\u001b[1;33m.\u001b[0m\u001b[0mndim\u001b[0m \u001b[1;33m>=\u001b[0m \u001b[1;36m3\u001b[0m\u001b[1;33m:\u001b[0m\u001b[1;33m\u001b[0m\u001b[1;33m\u001b[0m\u001b[0m\n\u001b[1;32m--> 659\u001b[1;33m             raise ValueError(\"Found array with dim %d. %s expected <= 2.\"\n\u001b[0m\u001b[0;32m    660\u001b[0m                              % (array.ndim, estimator_name))\n\u001b[0;32m    661\u001b[0m \u001b[1;33m\u001b[0m\u001b[0m\n",
      "\u001b[1;31mValueError\u001b[0m: Found array with dim 3. Estimator expected <= 2."
     ]
    }
   ],
   "source": [
    "regressor = MultiOutputRegressor(\r\n",
    "        lgb.LGBMRegressor(random_state=1, n_jobs=-1),\r\n",
    "        n_jobs=-1\r\n",
    "    )\r\n",
    "regressor.fit(X_train, y_train)\r\n",
    "regressor.predict([trainOG_df_9.iloc[-56:1]])"
   ]
  },
  {
   "cell_type": "code",
   "execution_count": null,
   "metadata": {},
   "outputs": [
    {
     "name": "stdout",
     "output_type": "stream",
     "text": [
      "(1913,)\n",
      "(1913,)\n",
      "(1830, 28)\n"
     ]
    },
    {
     "data": {
      "text/plain": "TransformedTargetRegressor(check_inverse=False,\n                           regressor=MultiOutputRegressor(estimator=LGBMRegressor(random_state=1),\n                                                          n_jobs=-1),\n                           transformer=EndogenousTransformer(h=28, reshape=True,\n                                                             return_X=False,\n                                                             w=56))"
     },
     "execution_count": 14,
     "metadata": {},
     "output_type": "execute_result"
    }
   ],
   "source": [
    "model = TransformedTargetRegressor(\r\n",
    "    regressor = regressor,\r\n",
    "    transformer = transformer,\r\n",
    "    check_inverse = False\r\n",
    ")\r\n",
    "\r\n",
    "model.fit(X_train, train_df_9.iloc[:, 1])"
   ]
  },
  {
   "cell_type": "code",
   "execution_count": null,
   "metadata": {},
   "outputs": [
    {
     "ename": "ValueError",
     "evalue": "Found array with dim 3. Estimator expected <= 2.",
     "output_type": "error",
     "traceback": [
      "\u001b[1;31m---------------------------------------------------------------------------\u001b[0m",
      "\u001b[1;31mValueError\u001b[0m                                Traceback (most recent call last)",
      "\u001b[1;32m<ipython-input-15-54f0bee3cc1e>\u001b[0m in \u001b[0;36m<module>\u001b[1;34m\u001b[0m\n\u001b[1;32m----> 1\u001b[1;33m \u001b[0mmodel\u001b[0m\u001b[1;33m.\u001b[0m\u001b[0mpredict\u001b[0m\u001b[1;33m(\u001b[0m\u001b[1;33m[\u001b[0m\u001b[0mtrainOG_df_9\u001b[0m\u001b[1;33m.\u001b[0m\u001b[0miloc\u001b[0m\u001b[1;33m[\u001b[0m\u001b[1;33m-\u001b[0m\u001b[1;36m56\u001b[0m\u001b[1;33m:\u001b[0m\u001b[1;36m1\u001b[0m\u001b[1;33m]\u001b[0m\u001b[1;33m]\u001b[0m\u001b[1;33m)\u001b[0m\u001b[1;33m\u001b[0m\u001b[1;33m\u001b[0m\u001b[0m\n\u001b[0m",
      "\u001b[1;32m~\\Anaconda3\\lib\\site-packages\\sklearn\\compose\\_target.py\u001b[0m in \u001b[0;36mpredict\u001b[1;34m(self, X)\u001b[0m\n\u001b[0;32m    227\u001b[0m         \"\"\"\n\u001b[0;32m    228\u001b[0m         \u001b[0mcheck_is_fitted\u001b[0m\u001b[1;33m(\u001b[0m\u001b[0mself\u001b[0m\u001b[1;33m)\u001b[0m\u001b[1;33m\u001b[0m\u001b[1;33m\u001b[0m\u001b[0m\n\u001b[1;32m--> 229\u001b[1;33m         \u001b[0mpred\u001b[0m \u001b[1;33m=\u001b[0m \u001b[0mself\u001b[0m\u001b[1;33m.\u001b[0m\u001b[0mregressor_\u001b[0m\u001b[1;33m.\u001b[0m\u001b[0mpredict\u001b[0m\u001b[1;33m(\u001b[0m\u001b[0mX\u001b[0m\u001b[1;33m)\u001b[0m\u001b[1;33m\u001b[0m\u001b[1;33m\u001b[0m\u001b[0m\n\u001b[0m\u001b[0;32m    230\u001b[0m         \u001b[1;32mif\u001b[0m \u001b[0mpred\u001b[0m\u001b[1;33m.\u001b[0m\u001b[0mndim\u001b[0m \u001b[1;33m==\u001b[0m \u001b[1;36m1\u001b[0m\u001b[1;33m:\u001b[0m\u001b[1;33m\u001b[0m\u001b[1;33m\u001b[0m\u001b[0m\n\u001b[0;32m    231\u001b[0m             pred_trans = self.transformer_.inverse_transform(\n",
      "\u001b[1;32m~\\Anaconda3\\lib\\site-packages\\sklearn\\multioutput.py\u001b[0m in \u001b[0;36mpredict\u001b[1;34m(self, X)\u001b[0m\n\u001b[0;32m    203\u001b[0m                              \" a predict method\")\n\u001b[0;32m    204\u001b[0m \u001b[1;33m\u001b[0m\u001b[0m\n\u001b[1;32m--> 205\u001b[1;33m         \u001b[0mX\u001b[0m \u001b[1;33m=\u001b[0m \u001b[0mcheck_array\u001b[0m\u001b[1;33m(\u001b[0m\u001b[0mX\u001b[0m\u001b[1;33m,\u001b[0m \u001b[0mforce_all_finite\u001b[0m\u001b[1;33m=\u001b[0m\u001b[1;32mFalse\u001b[0m\u001b[1;33m,\u001b[0m \u001b[0maccept_sparse\u001b[0m\u001b[1;33m=\u001b[0m\u001b[1;32mTrue\u001b[0m\u001b[1;33m)\u001b[0m\u001b[1;33m\u001b[0m\u001b[1;33m\u001b[0m\u001b[0m\n\u001b[0m\u001b[0;32m    206\u001b[0m \u001b[1;33m\u001b[0m\u001b[0m\n\u001b[0;32m    207\u001b[0m         y = Parallel(n_jobs=self.n_jobs)(\n",
      "\u001b[1;32m~\\Anaconda3\\lib\\site-packages\\sklearn\\utils\\validation.py\u001b[0m in \u001b[0;36minner_f\u001b[1;34m(*args, **kwargs)\u001b[0m\n\u001b[0;32m     61\u001b[0m             \u001b[0mextra_args\u001b[0m \u001b[1;33m=\u001b[0m \u001b[0mlen\u001b[0m\u001b[1;33m(\u001b[0m\u001b[0margs\u001b[0m\u001b[1;33m)\u001b[0m \u001b[1;33m-\u001b[0m \u001b[0mlen\u001b[0m\u001b[1;33m(\u001b[0m\u001b[0mall_args\u001b[0m\u001b[1;33m)\u001b[0m\u001b[1;33m\u001b[0m\u001b[1;33m\u001b[0m\u001b[0m\n\u001b[0;32m     62\u001b[0m             \u001b[1;32mif\u001b[0m \u001b[0mextra_args\u001b[0m \u001b[1;33m<=\u001b[0m \u001b[1;36m0\u001b[0m\u001b[1;33m:\u001b[0m\u001b[1;33m\u001b[0m\u001b[1;33m\u001b[0m\u001b[0m\n\u001b[1;32m---> 63\u001b[1;33m                 \u001b[1;32mreturn\u001b[0m \u001b[0mf\u001b[0m\u001b[1;33m(\u001b[0m\u001b[1;33m*\u001b[0m\u001b[0margs\u001b[0m\u001b[1;33m,\u001b[0m \u001b[1;33m**\u001b[0m\u001b[0mkwargs\u001b[0m\u001b[1;33m)\u001b[0m\u001b[1;33m\u001b[0m\u001b[1;33m\u001b[0m\u001b[0m\n\u001b[0m\u001b[0;32m     64\u001b[0m \u001b[1;33m\u001b[0m\u001b[0m\n\u001b[0;32m     65\u001b[0m             \u001b[1;31m# extra_args > 0\u001b[0m\u001b[1;33m\u001b[0m\u001b[1;33m\u001b[0m\u001b[1;33m\u001b[0m\u001b[0m\n",
      "\u001b[1;32m~\\Anaconda3\\lib\\site-packages\\sklearn\\utils\\validation.py\u001b[0m in \u001b[0;36mcheck_array\u001b[1;34m(array, accept_sparse, accept_large_sparse, dtype, order, copy, force_all_finite, ensure_2d, allow_nd, ensure_min_samples, ensure_min_features, estimator)\u001b[0m\n\u001b[0;32m    657\u001b[0m                     \"into decimal numbers with dtype='numeric'\") from e\n\u001b[0;32m    658\u001b[0m         \u001b[1;32mif\u001b[0m \u001b[1;32mnot\u001b[0m \u001b[0mallow_nd\u001b[0m \u001b[1;32mand\u001b[0m \u001b[0marray\u001b[0m\u001b[1;33m.\u001b[0m\u001b[0mndim\u001b[0m \u001b[1;33m>=\u001b[0m \u001b[1;36m3\u001b[0m\u001b[1;33m:\u001b[0m\u001b[1;33m\u001b[0m\u001b[1;33m\u001b[0m\u001b[0m\n\u001b[1;32m--> 659\u001b[1;33m             raise ValueError(\"Found array with dim %d. %s expected <= 2.\"\n\u001b[0m\u001b[0;32m    660\u001b[0m                              % (array.ndim, estimator_name))\n\u001b[0;32m    661\u001b[0m \u001b[1;33m\u001b[0m\u001b[0m\n",
      "\u001b[1;31mValueError\u001b[0m: Found array with dim 3. Estimator expected <= 2."
     ]
    }
   ],
   "source": [
    "model.predict([trainOG_df_9.iloc[-56:1]])"
   ]
  },
  {
   "cell_type": "markdown",
   "metadata": {},
   "source": [
    "* gridsearch (light GMB onnly per TS)\r\n",
    "* modelseach (per TS, baseline seasonal) + direct [singleshot] (treees)\r\n",
    "* wrapper search (for GBM, recursive/direct[multipleshot]/chain)\r\n",
    "* output is 70\r\n",
    "[\r\n",
    "    T-3[S1, S2...],\r\n",
    "    T-2[S1, S2...],\r\n",
    "    T-1[S1, S2...]\r\n",
    "]\r\n",
    "\r\n",
    "[S1, S2...]\r\n",
    "\r\n",
    "* exog (price, holiday, DoW, DoY, WoM, etc)"
   ]
  }
 ],
 "metadata": {
  "kernelspec": {
   "display_name": "Python 3",
   "language": "python",
   "name": "python3"
  },
  "language_info": {
   "codemirror_mode": {
    "name": "ipython",
    "version": 3
   },
   "file_extension": ".py",
   "mimetype": "text/x-python",
   "name": "python",
   "nbconvert_exporter": "python",
   "pygments_lexer": "ipython3",
   "version": "3.8.5"
  },
  "latex_envs": {
   "LaTeX_envs_menu_present": true,
   "autoclose": false,
   "autocomplete": true,
   "bibliofile": "biblio.bib",
   "cite_by": "apalike",
   "current_citInitial": 1,
   "eqLabelWithNumbers": true,
   "eqNumInitial": 1,
   "hotkeys": {
    "equation": "Ctrl-E",
    "itemize": "Ctrl-I"
   },
   "labels_anchors": false,
   "latex_user_defs": false,
   "report_style_numbering": false,
   "user_envs_cfg": false
  },
  "toc": {
   "base_numbering": 1,
   "nav_menu": {},
   "number_sections": true,
   "sideBar": true,
   "skip_h1_title": false,
   "title_cell": "Table of Contents",
   "title_sidebar": "Contents",
   "toc_cell": false,
   "toc_position": {},
   "toc_section_display": true,
   "toc_window_display": false
  },
  "varInspector": {
   "cols": {
    "lenName": 16,
    "lenType": 16,
    "lenVar": 40
   },
   "kernels_config": {
    "python": {
     "delete_cmd_postfix": "",
     "delete_cmd_prefix": "del ",
     "library": "var_list.py",
     "varRefreshCmd": "print(var_dic_list())"
    },
    "r": {
     "delete_cmd_postfix": ") ",
     "delete_cmd_prefix": "rm(",
     "library": "var_list.r",
     "varRefreshCmd": "cat(var_dic_list()) "
    }
   },
   "types_to_exclude": [
    "module",
    "function",
    "builtin_function_or_method",
    "instance",
    "_Feature"
   ],
   "window_display": false
  }
 },
 "nbformat": 4,
 "nbformat_minor": 4
}