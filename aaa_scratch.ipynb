{
 "cells": [
  {
   "cell_type": "markdown",
   "metadata": {},
   "source": [
    "# Time Series Analysis: \"The Final Project\"\n",
    "\n",
    "`End? No, the journey doesn't end here. Death is just another path. One that we all must take.\n",
    "-J.R.R. Tolkien, The Return of the King`"
   ]
  },
  {
   "cell_type": "markdown",
   "metadata": {},
   "source": [
    "---\n",
    "\n",
    "## Libraries"
   ]
  },
  {
   "cell_type": "code",
   "execution_count": 1,
   "metadata": {
    "ExecuteTime": {
     "end_time": "2021-04-29T10:32:16.820862Z",
     "start_time": "2021-04-29T10:32:15.178981Z"
    }
   },
   "outputs": [],
   "source": [
    "from statsmodels.tsa.exponential_smoothing.ets import ETSModel\r\n",
    "import statsmodels.api as sm\r\n",
    "import numpy as np\r\n",
    "import pandas as pd\r\n",
    "import seaborn as sns\r\n",
    "import matplotlib.pyplot as plt\r\n",
    "import lightgbm as lgb\r\n",
    "from pandas.plotting import register_matplotlib_converters\r\n",
    "from IPython.display import display\r\n",
    "# from tsa_functions import *\r\n",
    "\r\n",
    "register_matplotlib_converters()\r\n",
    "sns.set_style('darkgrid')\r\n",
    "\r\n",
    "np.set_printoptions(precision=4)\r\n",
    "pd.set_option('precision', 4)\r\n"
   ]
  },
  {
   "cell_type": "code",
   "execution_count": 2,
   "metadata": {
    "ExecuteTime": {
     "end_time": "2021-04-30T06:35:01.283103Z",
     "start_time": "2021-04-30T06:34:57.476083Z"
    }
   },
   "outputs": [],
   "source": [
    "from tsa_tools import *"
   ]
  },
  {
   "cell_type": "markdown",
   "metadata": {},
   "source": [
    "---\n",
    "\n",
    "## M5 Forecasting\n",
    "\n",
    "For this \"final project\", we will be forecasting the <b><u>level 9</b></u> series (unit sales of all products, aggregated for each store and department).\n",
    "\n",
    "Load `sales_train_evaluation.csv` and use observations from `d_1 to d_1913` for training and `d_1914 to d_1941` for testing."
   ]
  },
  {
   "cell_type": "code",
   "execution_count": 3,
   "metadata": {
    "ExecuteTime": {
     "end_time": "2021-04-29T10:32:22.526625Z",
     "start_time": "2021-04-29T10:32:16.824918Z"
    }
   },
   "outputs": [],
   "source": [
    "df_calendar = pd.read_csv('../data/m5/calendar.csv')\r\n",
    "df_sales = pd.read_csv('../data/m5/sales_train_evaluation.csv')\r\n",
    "df_weights = pd.read_csv('../data/m5/weights_validation.csv')\r\n",
    "# display(df_calendar, df_sales, df_weights)"
   ]
  },
  {
   "cell_type": "code",
   "execution_count": 4,
   "metadata": {},
   "outputs": [],
   "source": [
    "train_df = (df_sales.set_index([*df_sales.columns[5::-1]]).T\r\n",
    "           .set_index(pd.DatetimeIndex(df_calendar.date)[:1941]).iloc[:-28])\r\n",
    "test_df = (df_sales.set_index([*df_sales.columns[5::-1]]).T\r\n",
    "           .set_index(pd.DatetimeIndex(df_calendar.date)[:1941]).iloc[-28:])\r\n",
    "# display(train_df, test_df)"
   ]
  },
  {
   "cell_type": "code",
   "execution_count": 5,
   "metadata": {},
   "outputs": [],
   "source": [
    "levels = {\r\n",
    "    1: None,\r\n",
    "    2: \"state_id\",\r\n",
    "    3: \"store_id\",\r\n",
    "    4: \"cat_id\",\r\n",
    "    5: \"dept_id\",\r\n",
    "    6: [\"state_id\", \"cat_id\"],\r\n",
    "    7: [\"state_id\", \"dept_id\"],\r\n",
    "    8: [\"store_id\", \"cat_id\"],\r\n",
    "    9: [\"store_id\", \"dept_id\"],\r\n",
    "    10: \"item_id\",\r\n",
    "    11: [\"state_id\", \"item_id\"],\r\n",
    "    12: [\"store_id\", \"item_id\"]\r\n",
    "}\r\n"
   ]
  },
  {
   "cell_type": "markdown",
   "metadata": {},
   "source": [
    "---\n",
    "\n",
    "## Part 1. Baseline Methods (10 pts.)"
   ]
  },
  {
   "cell_type": "markdown",
   "metadata": {},
   "source": [
    "### Q1. (10 pts.)\n",
    "\n",
    "Extract all level 9 series from the dataset.\n",
    "\n",
    "For each series, generate a 28-step forecast using the methods enumerated below and calculate the `RMSSE` against the test set:\n",
    "\n",
    "1. `Naive`\n",
    "\n",
    "\n",
    "2. `Seasonal Naive`\n",
    "\n",
    "\n",
    "3. `SES`\n",
    "\n",
    "\n",
    "4. `Holt's Linear`\n",
    "\n",
    "\n",
    "5. `Additive Holt-Winters`\n",
    "\n",
    "Summarize the metrics in a dataframe and print it."
   ]
  },
  {
   "cell_type": "code",
   "execution_count": 6,
   "metadata": {},
   "outputs": [],
   "source": [
    "methods = {\r\n",
    "    \"Naive\": BaseFuncModel(naivef),\r\n",
    "    \"Seasonal Naive\": BaseFuncModel(snaivef, m=7),\r\n",
    "    \"SES\": StatsModelsWrapper(ETSModel, trend=None, seasonal=None),\r\n",
    "    \"Holt's Linear\": StatsModelsWrapper(ETSModel, trend='add', seasonal=None),\r\n",
    "    \"Additive Holt-Winters\": StatsModelsWrapper(ETSModel, seasonal_periods=7,\r\n",
    "                                                trend='add', seasonal='add'),\r\n",
    "}\r\n",
    "\r\n",
    "train_df_9 = timeSeriesFiltering(\r\n",
    "    train_df.sum(axis='columns', level=levels[9]), lower=10)\r\n",
    "test_df_9 = test_df.sum(axis='columns', level=levels[9])\r\n",
    "weights_df_9 = (df_weights\r\n",
    "                .loc[df_weights['Level_id'] == 'Level9']\r\n",
    "                .set_index(['Agg_Level_1', 'Agg_Level_2'])[['Weight']])\r\n"
   ]
  },
  {
   "cell_type": "code",
   "execution_count": 7,
   "metadata": {
    "ExecuteTime": {
     "end_time": "2021-04-28T16:37:30.846487Z",
     "start_time": "2021-04-28T16:37:27.791260Z"
    },
    "scrolled": true
   },
   "outputs": [
    {
     "data": {
      "text/plain": "{'Naive': Group\n (CA_1, HOBBIES_1)      1.4583\n (CA_1, HOBBIES_2)      1.9340\n (CA_1, HOUSEHOLD_1)    2.1052\n (CA_1, HOUSEHOLD_2)    2.2997\n (CA_1, FOODS_1)        0.9319\n                         ...  \n (WI_3, HOUSEHOLD_1)    1.4203\n (WI_3, HOUSEHOLD_2)    1.9138\n (WI_3, FOODS_1)        1.0747\n (WI_3, FOODS_2)        1.2681\n (WI_3, FOODS_3)        1.0986\n Name: RMSSE, Length: 70, dtype: float64,\n 'Seasonal Naive': Group\n (CA_1, HOBBIES_1)      0.7619\n (CA_1, HOBBIES_2)      1.1429\n (CA_1, HOUSEHOLD_1)    0.5172\n (CA_1, HOUSEHOLD_2)    0.5228\n (CA_1, FOODS_1)        0.7312\n                         ...  \n (WI_3, HOUSEHOLD_1)    0.6588\n (WI_3, HOUSEHOLD_2)    0.9144\n (WI_3, FOODS_1)        1.8678\n (WI_3, FOODS_2)        1.5464\n (WI_3, FOODS_3)        0.7701\n Name: RMSSE, Length: 70, dtype: float64,\n 'SES': Group\n (CA_1, HOBBIES_1)      0.8819\n (CA_1, HOBBIES_2)      0.8831\n (CA_1, HOUSEHOLD_1)    1.1514\n (CA_1, HOUSEHOLD_2)    1.2208\n (CA_1, FOODS_1)        0.9179\n                         ...  \n (WI_3, HOUSEHOLD_1)    1.0787\n (WI_3, HOUSEHOLD_2)    1.3265\n (WI_3, FOODS_1)        1.3181\n (WI_3, FOODS_2)        1.3670\n (WI_3, FOODS_3)        1.1102\n Name: RMSSE, Length: 70, dtype: float64,\n \"Holt's Linear\": Group\n (CA_1, HOBBIES_1)      0.8810\n (CA_1, HOBBIES_2)      0.8748\n (CA_1, HOUSEHOLD_1)    1.1636\n (CA_1, HOUSEHOLD_2)    1.1789\n (CA_1, FOODS_1)        0.9362\n                         ...  \n (WI_3, HOUSEHOLD_1)    1.0802\n (WI_3, HOUSEHOLD_2)    1.3268\n (WI_3, FOODS_1)        1.3046\n (WI_3, FOODS_2)        1.3453\n (WI_3, FOODS_3)        1.1284\n Name: RMSSE, Length: 70, dtype: float64,\n 'Additive Holt-Winters': Group\n (CA_1, HOBBIES_1)      0.6311\n (CA_1, HOBBIES_2)      0.7206\n (CA_1, HOUSEHOLD_1)    0.4433\n (CA_1, HOUSEHOLD_2)    0.5276\n (CA_1, FOODS_1)        0.7301\n                         ...  \n (WI_3, HOUSEHOLD_1)    0.6792\n (WI_3, HOUSEHOLD_2)    0.8683\n (WI_3, FOODS_1)        1.3642\n (WI_3, FOODS_2)        1.6313\n (WI_3, FOODS_3)        0.8766\n Name: RMSSE, Length: 70, dtype: float64}"
     },
     "execution_count": 7,
     "metadata": {},
     "output_type": "execute_result"
    }
   ],
   "source": [
    "res = {}\r\n",
    "for method, model in methods.items():\r\n",
    "    forecast_df_9 = pd.DataFrame(\r\n",
    "        {label: model.fit(content).forecast(28)\r\n",
    "        for label, content in train_df_9.items()}\r\n",
    "        )\r\n",
    "    res[method] = rateMyForecast(train_df_9, test_df_9, forecast_df_9)['RMSSE']\r\n",
    "res"
   ]
  },
  {
   "cell_type": "code",
   "execution_count": 8,
   "metadata": {},
   "outputs": [
    {
     "data": {
      "text/html": "<div>\n<style scoped>\n    .dataframe tbody tr th:only-of-type {\n        vertical-align: middle;\n    }\n\n    .dataframe tbody tr th {\n        vertical-align: top;\n    }\n\n    .dataframe thead th {\n        text-align: right;\n    }\n</style>\n<table border=\"1\" class=\"dataframe\">\n  <thead>\n    <tr style=\"text-align: right;\">\n      <th></th>\n      <th></th>\n      <th>Naive</th>\n      <th>Seasonal Naive</th>\n      <th>SES</th>\n      <th>Holt's Linear</th>\n      <th>Additive Holt-Winters</th>\n    </tr>\n  </thead>\n  <tbody>\n    <tr>\n      <th rowspan=\"7\" valign=\"top\">CA_1</th>\n      <th>HOBBIES_1</th>\n      <td>1.4583</td>\n      <td>0.7619</td>\n      <td>0.8819</td>\n      <td>0.8810</td>\n      <td>0.6311</td>\n    </tr>\n    <tr>\n      <th>HOBBIES_2</th>\n      <td>1.9340</td>\n      <td>1.1429</td>\n      <td>0.8831</td>\n      <td>0.8748</td>\n      <td>0.7206</td>\n    </tr>\n    <tr>\n      <th>HOUSEHOLD_1</th>\n      <td>2.1052</td>\n      <td>0.5172</td>\n      <td>1.1514</td>\n      <td>1.1636</td>\n      <td>0.4433</td>\n    </tr>\n    <tr>\n      <th>HOUSEHOLD_2</th>\n      <td>2.2997</td>\n      <td>0.5228</td>\n      <td>1.2208</td>\n      <td>1.1789</td>\n      <td>0.5276</td>\n    </tr>\n    <tr>\n      <th>FOODS_1</th>\n      <td>0.9319</td>\n      <td>0.7312</td>\n      <td>0.9179</td>\n      <td>0.9362</td>\n      <td>0.7301</td>\n    </tr>\n    <tr>\n      <th>FOODS_2</th>\n      <td>2.0535</td>\n      <td>0.8269</td>\n      <td>2.0534</td>\n      <td>2.3136</td>\n      <td>0.5930</td>\n    </tr>\n    <tr>\n      <th>FOODS_3</th>\n      <td>1.7113</td>\n      <td>0.4944</td>\n      <td>1.0825</td>\n      <td>1.0185</td>\n      <td>0.5045</td>\n    </tr>\n    <tr>\n      <th rowspan=\"7\" valign=\"top\">CA_2</th>\n      <th>HOBBIES_1</th>\n      <td>1.2053</td>\n      <td>0.7055</td>\n      <td>1.1179</td>\n      <td>1.1180</td>\n      <td>0.6542</td>\n    </tr>\n    <tr>\n      <th>HOBBIES_2</th>\n      <td>1.3546</td>\n      <td>1.4893</td>\n      <td>1.3887</td>\n      <td>1.3790</td>\n      <td>1.1641</td>\n    </tr>\n    <tr>\n      <th>HOUSEHOLD_1</th>\n      <td>2.0287</td>\n      <td>0.6373</td>\n      <td>1.3960</td>\n      <td>1.3853</td>\n      <td>0.5825</td>\n    </tr>\n    <tr>\n      <th>HOUSEHOLD_2</th>\n      <td>1.9340</td>\n      <td>0.5920</td>\n      <td>1.4625</td>\n      <td>1.4534</td>\n      <td>0.6657</td>\n    </tr>\n    <tr>\n      <th>FOODS_1</th>\n      <td>1.2557</td>\n      <td>1.1311</td>\n      <td>1.3875</td>\n      <td>1.3786</td>\n      <td>0.9718</td>\n    </tr>\n    <tr>\n      <th>FOODS_2</th>\n      <td>4.2936</td>\n      <td>1.4906</td>\n      <td>2.3041</td>\n      <td>2.2415</td>\n      <td>1.2994</td>\n    </tr>\n    <tr>\n      <th>FOODS_3</th>\n      <td>2.5830</td>\n      <td>0.6046</td>\n      <td>1.4502</td>\n      <td>1.4114</td>\n      <td>0.4787</td>\n    </tr>\n    <tr>\n      <th rowspan=\"7\" valign=\"top\">CA_3</th>\n      <th>HOBBIES_1</th>\n      <td>0.9370</td>\n      <td>0.6647</td>\n      <td>0.6999</td>\n      <td>0.7018</td>\n      <td>0.5044</td>\n    </tr>\n    <tr>\n      <th>HOBBIES_2</th>\n      <td>1.1984</td>\n      <td>1.6617</td>\n      <td>1.5530</td>\n      <td>1.5433</td>\n      <td>1.5301</td>\n    </tr>\n    <tr>\n      <th>HOUSEHOLD_1</th>\n      <td>2.6217</td>\n      <td>0.7564</td>\n      <td>1.1273</td>\n      <td>1.1536</td>\n      <td>0.6702</td>\n    </tr>\n    <tr>\n      <th>HOUSEHOLD_2</th>\n      <td>2.1039</td>\n      <td>0.8808</td>\n      <td>1.4258</td>\n      <td>1.4169</td>\n      <td>0.9476</td>\n    </tr>\n    <tr>\n      <th>FOODS_1</th>\n      <td>1.1674</td>\n      <td>1.5874</td>\n      <td>1.3966</td>\n      <td>1.3892</td>\n      <td>1.4614</td>\n    </tr>\n    <tr>\n      <th>FOODS_2</th>\n      <td>1.8816</td>\n      <td>0.7316</td>\n      <td>1.7271</td>\n      <td>1.7429</td>\n      <td>0.5757</td>\n    </tr>\n    <tr>\n      <th>FOODS_3</th>\n      <td>1.5710</td>\n      <td>0.4353</td>\n      <td>0.8908</td>\n      <td>1.5877</td>\n      <td>0.4651</td>\n    </tr>\n    <tr>\n      <th rowspan=\"7\" valign=\"top\">CA_4</th>\n      <th>HOBBIES_1</th>\n      <td>1.4556</td>\n      <td>1.1008</td>\n      <td>0.9956</td>\n      <td>0.9902</td>\n      <td>0.9135</td>\n    </tr>\n    <tr>\n      <th>HOBBIES_2</th>\n      <td>2.1142</td>\n      <td>1.8563</td>\n      <td>1.8756</td>\n      <td>1.8751</td>\n      <td>1.8942</td>\n    </tr>\n    <tr>\n      <th>HOUSEHOLD_1</th>\n      <td>3.4088</td>\n      <td>1.4737</td>\n      <td>1.2447</td>\n      <td>1.2169</td>\n      <td>0.9713</td>\n    </tr>\n    <tr>\n      <th>HOUSEHOLD_2</th>\n      <td>1.3534</td>\n      <td>0.9567</td>\n      <td>1.0520</td>\n      <td>1.0386</td>\n      <td>0.8276</td>\n    </tr>\n    <tr>\n      <th>FOODS_1</th>\n      <td>1.0167</td>\n      <td>1.5664</td>\n      <td>1.3857</td>\n      <td>1.3656</td>\n      <td>1.3407</td>\n    </tr>\n    <tr>\n      <th>FOODS_2</th>\n      <td>1.2989</td>\n      <td>0.7998</td>\n      <td>1.1609</td>\n      <td>1.1533</td>\n      <td>0.7788</td>\n    </tr>\n    <tr>\n      <th>FOODS_3</th>\n      <td>1.4144</td>\n      <td>0.6385</td>\n      <td>0.9469</td>\n      <td>0.9431</td>\n      <td>0.6654</td>\n    </tr>\n    <tr>\n      <th rowspan=\"7\" valign=\"top\">TX_1</th>\n      <th>HOBBIES_1</th>\n      <td>1.6331</td>\n      <td>0.9169</td>\n      <td>0.9061</td>\n      <td>0.9046</td>\n      <td>0.7062</td>\n    </tr>\n    <tr>\n      <th>HOBBIES_2</th>\n      <td>1.8823</td>\n      <td>1.6475</td>\n      <td>1.4296</td>\n      <td>1.4159</td>\n      <td>1.4833</td>\n    </tr>\n    <tr>\n      <th>HOUSEHOLD_1</th>\n      <td>1.8399</td>\n      <td>0.8196</td>\n      <td>1.1676</td>\n      <td>1.1608</td>\n      <td>0.7947</td>\n    </tr>\n    <tr>\n      <th>HOUSEHOLD_2</th>\n      <td>1.2045</td>\n      <td>1.2523</td>\n      <td>1.0488</td>\n      <td>1.0328</td>\n      <td>0.9494</td>\n    </tr>\n    <tr>\n      <th>FOODS_1</th>\n      <td>1.3344</td>\n      <td>1.7189</td>\n      <td>1.5566</td>\n      <td>1.5460</td>\n      <td>1.6203</td>\n    </tr>\n    <tr>\n      <th>FOODS_2</th>\n      <td>1.1906</td>\n      <td>0.9520</td>\n      <td>0.8562</td>\n      <td>0.8561</td>\n      <td>0.7974</td>\n    </tr>\n    <tr>\n      <th>FOODS_3</th>\n      <td>1.1678</td>\n      <td>0.8416</td>\n      <td>0.9161</td>\n      <td>0.8855</td>\n      <td>0.6257</td>\n    </tr>\n    <tr>\n      <th rowspan=\"7\" valign=\"top\">TX_2</th>\n      <th>HOBBIES_1</th>\n      <td>0.7979</td>\n      <td>0.8792</td>\n      <td>0.8789</td>\n      <td>0.8742</td>\n      <td>0.7272</td>\n    </tr>\n    <tr>\n      <th>HOBBIES_2</th>\n      <td>0.7499</td>\n      <td>1.2548</td>\n      <td>0.9735</td>\n      <td>0.9685</td>\n      <td>1.0058</td>\n    </tr>\n    <tr>\n      <th>HOUSEHOLD_1</th>\n      <td>0.8662</td>\n      <td>0.8529</td>\n      <td>0.8683</td>\n      <td>0.8712</td>\n      <td>0.6500</td>\n    </tr>\n    <tr>\n      <th>HOUSEHOLD_2</th>\n      <td>1.3706</td>\n      <td>0.6559</td>\n      <td>0.9314</td>\n      <td>0.9346</td>\n      <td>0.4521</td>\n    </tr>\n    <tr>\n      <th>FOODS_1</th>\n      <td>1.4774</td>\n      <td>1.2816</td>\n      <td>1.2919</td>\n      <td>1.2839</td>\n      <td>1.4472</td>\n    </tr>\n    <tr>\n      <th>FOODS_2</th>\n      <td>0.9424</td>\n      <td>0.6834</td>\n      <td>0.7532</td>\n      <td>0.7719</td>\n      <td>0.6776</td>\n    </tr>\n    <tr>\n      <th>FOODS_3</th>\n      <td>0.8228</td>\n      <td>0.6226</td>\n      <td>0.7499</td>\n      <td>0.7481</td>\n      <td>0.6042</td>\n    </tr>\n    <tr>\n      <th rowspan=\"7\" valign=\"top\">TX_3</th>\n      <th>HOBBIES_1</th>\n      <td>1.5309</td>\n      <td>0.9025</td>\n      <td>0.9404</td>\n      <td>0.9370</td>\n      <td>0.7358</td>\n    </tr>\n    <tr>\n      <th>HOBBIES_2</th>\n      <td>1.4339</td>\n      <td>1.7212</td>\n      <td>1.1186</td>\n      <td>1.1152</td>\n      <td>1.1117</td>\n    </tr>\n    <tr>\n      <th>HOUSEHOLD_1</th>\n      <td>1.0738</td>\n      <td>1.0794</td>\n      <td>1.0248</td>\n      <td>1.0064</td>\n      <td>0.9092</td>\n    </tr>\n    <tr>\n      <th>HOUSEHOLD_2</th>\n      <td>0.8605</td>\n      <td>1.3137</td>\n      <td>1.0128</td>\n      <td>0.9889</td>\n      <td>0.8839</td>\n    </tr>\n    <tr>\n      <th>FOODS_1</th>\n      <td>2.7332</td>\n      <td>2.2206</td>\n      <td>2.1542</td>\n      <td>2.1356</td>\n      <td>2.1921</td>\n    </tr>\n    <tr>\n      <th>FOODS_2</th>\n      <td>1.3682</td>\n      <td>1.4195</td>\n      <td>1.4254</td>\n      <td>1.4277</td>\n      <td>1.5317</td>\n    </tr>\n    <tr>\n      <th>FOODS_3</th>\n      <td>0.9672</td>\n      <td>1.1046</td>\n      <td>1.0692</td>\n      <td>1.0493</td>\n      <td>1.0362</td>\n    </tr>\n    <tr>\n      <th rowspan=\"7\" valign=\"top\">WI_1</th>\n      <th>HOBBIES_1</th>\n      <td>1.3685</td>\n      <td>0.5084</td>\n      <td>0.7533</td>\n      <td>0.7533</td>\n      <td>0.4667</td>\n    </tr>\n    <tr>\n      <th>HOBBIES_2</th>\n      <td>1.2701</td>\n      <td>1.5892</td>\n      <td>1.2413</td>\n      <td>1.2333</td>\n      <td>1.2103</td>\n    </tr>\n    <tr>\n      <th>HOUSEHOLD_1</th>\n      <td>1.7201</td>\n      <td>0.6488</td>\n      <td>1.0982</td>\n      <td>1.0990</td>\n      <td>0.6417</td>\n    </tr>\n    <tr>\n      <th>HOUSEHOLD_2</th>\n      <td>1.7301</td>\n      <td>0.7509</td>\n      <td>1.1014</td>\n      <td>1.0997</td>\n      <td>0.5728</td>\n    </tr>\n    <tr>\n      <th>FOODS_1</th>\n      <td>0.9843</td>\n      <td>0.8454</td>\n      <td>1.0438</td>\n      <td>1.0400</td>\n      <td>0.8368</td>\n    </tr>\n    <tr>\n      <th>FOODS_2</th>\n      <td>2.1064</td>\n      <td>1.2493</td>\n      <td>1.6349</td>\n      <td>1.6291</td>\n      <td>1.3021</td>\n    </tr>\n    <tr>\n      <th>FOODS_3</th>\n      <td>1.6655</td>\n      <td>0.5440</td>\n      <td>1.1554</td>\n      <td>1.1465</td>\n      <td>0.4636</td>\n    </tr>\n    <tr>\n      <th rowspan=\"7\" valign=\"top\">WI_2</th>\n      <th>HOBBIES_1</th>\n      <td>1.3672</td>\n      <td>0.8269</td>\n      <td>0.7654</td>\n      <td>0.7546</td>\n      <td>0.7281</td>\n    </tr>\n    <tr>\n      <th>HOBBIES_2</th>\n      <td>1.1960</td>\n      <td>1.5164</td>\n      <td>1.2308</td>\n      <td>1.2258</td>\n      <td>1.2142</td>\n    </tr>\n    <tr>\n      <th>HOUSEHOLD_1</th>\n      <td>1.3142</td>\n      <td>1.0984</td>\n      <td>1.3773</td>\n      <td>1.3079</td>\n      <td>1.0693</td>\n    </tr>\n    <tr>\n      <th>HOUSEHOLD_2</th>\n      <td>1.4018</td>\n      <td>0.9766</td>\n      <td>0.9592</td>\n      <td>0.9494</td>\n      <td>0.7440</td>\n    </tr>\n    <tr>\n      <th>FOODS_1</th>\n      <td>2.4445</td>\n      <td>2.3635</td>\n      <td>2.2284</td>\n      <td>2.2117</td>\n      <td>2.2762</td>\n    </tr>\n    <tr>\n      <th>FOODS_2</th>\n      <td>2.4210</td>\n      <td>2.4925</td>\n      <td>2.4266</td>\n      <td>2.3733</td>\n      <td>2.4971</td>\n    </tr>\n    <tr>\n      <th>FOODS_3</th>\n      <td>1.3513</td>\n      <td>1.5445</td>\n      <td>1.3989</td>\n      <td>1.3654</td>\n      <td>1.4620</td>\n    </tr>\n    <tr>\n      <th rowspan=\"7\" valign=\"top\">WI_3</th>\n      <th>HOBBIES_1</th>\n      <td>0.9587</td>\n      <td>0.9150</td>\n      <td>0.9285</td>\n      <td>0.9285</td>\n      <td>0.7590</td>\n    </tr>\n    <tr>\n      <th>HOBBIES_2</th>\n      <td>1.5458</td>\n      <td>1.0980</td>\n      <td>0.9523</td>\n      <td>0.9468</td>\n      <td>0.9392</td>\n    </tr>\n    <tr>\n      <th>HOUSEHOLD_1</th>\n      <td>1.4203</td>\n      <td>0.6588</td>\n      <td>1.0787</td>\n      <td>1.0802</td>\n      <td>0.6792</td>\n    </tr>\n    <tr>\n      <th>HOUSEHOLD_2</th>\n      <td>1.9138</td>\n      <td>0.9144</td>\n      <td>1.3265</td>\n      <td>1.3268</td>\n      <td>0.8683</td>\n    </tr>\n    <tr>\n      <th>FOODS_1</th>\n      <td>1.0747</td>\n      <td>1.8678</td>\n      <td>1.3181</td>\n      <td>1.3046</td>\n      <td>1.3642</td>\n    </tr>\n    <tr>\n      <th>FOODS_2</th>\n      <td>1.2681</td>\n      <td>1.5464</td>\n      <td>1.3670</td>\n      <td>1.3453</td>\n      <td>1.6313</td>\n    </tr>\n    <tr>\n      <th>FOODS_3</th>\n      <td>1.0986</td>\n      <td>0.7701</td>\n      <td>1.1102</td>\n      <td>1.1284</td>\n      <td>0.8766</td>\n    </tr>\n  </tbody>\n</table>\n</div>",
      "text/plain": "                   Naive  Seasonal Naive     SES  Holt's Linear  \\\nCA_1 HOBBIES_1    1.4583          0.7619  0.8819         0.8810   \n     HOBBIES_2    1.9340          1.1429  0.8831         0.8748   \n     HOUSEHOLD_1  2.1052          0.5172  1.1514         1.1636   \n     HOUSEHOLD_2  2.2997          0.5228  1.2208         1.1789   \n     FOODS_1      0.9319          0.7312  0.9179         0.9362   \n     FOODS_2      2.0535          0.8269  2.0534         2.3136   \n     FOODS_3      1.7113          0.4944  1.0825         1.0185   \nCA_2 HOBBIES_1    1.2053          0.7055  1.1179         1.1180   \n     HOBBIES_2    1.3546          1.4893  1.3887         1.3790   \n     HOUSEHOLD_1  2.0287          0.6373  1.3960         1.3853   \n     HOUSEHOLD_2  1.9340          0.5920  1.4625         1.4534   \n     FOODS_1      1.2557          1.1311  1.3875         1.3786   \n     FOODS_2      4.2936          1.4906  2.3041         2.2415   \n     FOODS_3      2.5830          0.6046  1.4502         1.4114   \nCA_3 HOBBIES_1    0.9370          0.6647  0.6999         0.7018   \n     HOBBIES_2    1.1984          1.6617  1.5530         1.5433   \n     HOUSEHOLD_1  2.6217          0.7564  1.1273         1.1536   \n     HOUSEHOLD_2  2.1039          0.8808  1.4258         1.4169   \n     FOODS_1      1.1674          1.5874  1.3966         1.3892   \n     FOODS_2      1.8816          0.7316  1.7271         1.7429   \n     FOODS_3      1.5710          0.4353  0.8908         1.5877   \nCA_4 HOBBIES_1    1.4556          1.1008  0.9956         0.9902   \n     HOBBIES_2    2.1142          1.8563  1.8756         1.8751   \n     HOUSEHOLD_1  3.4088          1.4737  1.2447         1.2169   \n     HOUSEHOLD_2  1.3534          0.9567  1.0520         1.0386   \n     FOODS_1      1.0167          1.5664  1.3857         1.3656   \n     FOODS_2      1.2989          0.7998  1.1609         1.1533   \n     FOODS_3      1.4144          0.6385  0.9469         0.9431   \nTX_1 HOBBIES_1    1.6331          0.9169  0.9061         0.9046   \n     HOBBIES_2    1.8823          1.6475  1.4296         1.4159   \n     HOUSEHOLD_1  1.8399          0.8196  1.1676         1.1608   \n     HOUSEHOLD_2  1.2045          1.2523  1.0488         1.0328   \n     FOODS_1      1.3344          1.7189  1.5566         1.5460   \n     FOODS_2      1.1906          0.9520  0.8562         0.8561   \n     FOODS_3      1.1678          0.8416  0.9161         0.8855   \nTX_2 HOBBIES_1    0.7979          0.8792  0.8789         0.8742   \n     HOBBIES_2    0.7499          1.2548  0.9735         0.9685   \n     HOUSEHOLD_1  0.8662          0.8529  0.8683         0.8712   \n     HOUSEHOLD_2  1.3706          0.6559  0.9314         0.9346   \n     FOODS_1      1.4774          1.2816  1.2919         1.2839   \n     FOODS_2      0.9424          0.6834  0.7532         0.7719   \n     FOODS_3      0.8228          0.6226  0.7499         0.7481   \nTX_3 HOBBIES_1    1.5309          0.9025  0.9404         0.9370   \n     HOBBIES_2    1.4339          1.7212  1.1186         1.1152   \n     HOUSEHOLD_1  1.0738          1.0794  1.0248         1.0064   \n     HOUSEHOLD_2  0.8605          1.3137  1.0128         0.9889   \n     FOODS_1      2.7332          2.2206  2.1542         2.1356   \n     FOODS_2      1.3682          1.4195  1.4254         1.4277   \n     FOODS_3      0.9672          1.1046  1.0692         1.0493   \nWI_1 HOBBIES_1    1.3685          0.5084  0.7533         0.7533   \n     HOBBIES_2    1.2701          1.5892  1.2413         1.2333   \n     HOUSEHOLD_1  1.7201          0.6488  1.0982         1.0990   \n     HOUSEHOLD_2  1.7301          0.7509  1.1014         1.0997   \n     FOODS_1      0.9843          0.8454  1.0438         1.0400   \n     FOODS_2      2.1064          1.2493  1.6349         1.6291   \n     FOODS_3      1.6655          0.5440  1.1554         1.1465   \nWI_2 HOBBIES_1    1.3672          0.8269  0.7654         0.7546   \n     HOBBIES_2    1.1960          1.5164  1.2308         1.2258   \n     HOUSEHOLD_1  1.3142          1.0984  1.3773         1.3079   \n     HOUSEHOLD_2  1.4018          0.9766  0.9592         0.9494   \n     FOODS_1      2.4445          2.3635  2.2284         2.2117   \n     FOODS_2      2.4210          2.4925  2.4266         2.3733   \n     FOODS_3      1.3513          1.5445  1.3989         1.3654   \nWI_3 HOBBIES_1    0.9587          0.9150  0.9285         0.9285   \n     HOBBIES_2    1.5458          1.0980  0.9523         0.9468   \n     HOUSEHOLD_1  1.4203          0.6588  1.0787         1.0802   \n     HOUSEHOLD_2  1.9138          0.9144  1.3265         1.3268   \n     FOODS_1      1.0747          1.8678  1.3181         1.3046   \n     FOODS_2      1.2681          1.5464  1.3670         1.3453   \n     FOODS_3      1.0986          0.7701  1.1102         1.1284   \n\n                  Additive Holt-Winters  \nCA_1 HOBBIES_1                   0.6311  \n     HOBBIES_2                   0.7206  \n     HOUSEHOLD_1                 0.4433  \n     HOUSEHOLD_2                 0.5276  \n     FOODS_1                     0.7301  \n     FOODS_2                     0.5930  \n     FOODS_3                     0.5045  \nCA_2 HOBBIES_1                   0.6542  \n     HOBBIES_2                   1.1641  \n     HOUSEHOLD_1                 0.5825  \n     HOUSEHOLD_2                 0.6657  \n     FOODS_1                     0.9718  \n     FOODS_2                     1.2994  \n     FOODS_3                     0.4787  \nCA_3 HOBBIES_1                   0.5044  \n     HOBBIES_2                   1.5301  \n     HOUSEHOLD_1                 0.6702  \n     HOUSEHOLD_2                 0.9476  \n     FOODS_1                     1.4614  \n     FOODS_2                     0.5757  \n     FOODS_3                     0.4651  \nCA_4 HOBBIES_1                   0.9135  \n     HOBBIES_2                   1.8942  \n     HOUSEHOLD_1                 0.9713  \n     HOUSEHOLD_2                 0.8276  \n     FOODS_1                     1.3407  \n     FOODS_2                     0.7788  \n     FOODS_3                     0.6654  \nTX_1 HOBBIES_1                   0.7062  \n     HOBBIES_2                   1.4833  \n     HOUSEHOLD_1                 0.7947  \n     HOUSEHOLD_2                 0.9494  \n     FOODS_1                     1.6203  \n     FOODS_2                     0.7974  \n     FOODS_3                     0.6257  \nTX_2 HOBBIES_1                   0.7272  \n     HOBBIES_2                   1.0058  \n     HOUSEHOLD_1                 0.6500  \n     HOUSEHOLD_2                 0.4521  \n     FOODS_1                     1.4472  \n     FOODS_2                     0.6776  \n     FOODS_3                     0.6042  \nTX_3 HOBBIES_1                   0.7358  \n     HOBBIES_2                   1.1117  \n     HOUSEHOLD_1                 0.9092  \n     HOUSEHOLD_2                 0.8839  \n     FOODS_1                     2.1921  \n     FOODS_2                     1.5317  \n     FOODS_3                     1.0362  \nWI_1 HOBBIES_1                   0.4667  \n     HOBBIES_2                   1.2103  \n     HOUSEHOLD_1                 0.6417  \n     HOUSEHOLD_2                 0.5728  \n     FOODS_1                     0.8368  \n     FOODS_2                     1.3021  \n     FOODS_3                     0.4636  \nWI_2 HOBBIES_1                   0.7281  \n     HOBBIES_2                   1.2142  \n     HOUSEHOLD_1                 1.0693  \n     HOUSEHOLD_2                 0.7440  \n     FOODS_1                     2.2762  \n     FOODS_2                     2.4971  \n     FOODS_3                     1.4620  \nWI_3 HOBBIES_1                   0.7590  \n     HOBBIES_2                   0.9392  \n     HOUSEHOLD_1                 0.6792  \n     HOUSEHOLD_2                 0.8683  \n     FOODS_1                     1.3642  \n     FOODS_2                     1.6313  \n     FOODS_3                     0.8766  "
     },
     "execution_count": 8,
     "metadata": {},
     "output_type": "execute_result"
    }
   ],
   "source": [
    "pd.set_option('display.max_rows', None)\r\n",
    "df_res_9_base = pd.DataFrame(res)\r\n",
    "df_res_9_base.index = pd.MultiIndex.from_tuples(df_res_9_base.index)\r\n",
    "df_res_9_base"
   ]
  },
  {
   "cell_type": "markdown",
   "metadata": {},
   "source": [
    "---\n",
    "\n",
    "## Part 2. LightGBM (30 pts.)"
   ]
  },
  {
   "cell_type": "markdown",
   "metadata": {},
   "source": [
    "### Q2. (10 pts.)\n",
    "\n",
    "For all series, use an un-tuned `LightGBM` with 56-day lookback that uses a one-step recursive forecasting strategy to generate a 28-step forecast.\n",
    "\n",
    "Calculate the `RMSSE` against the test set, then summarize the metrics in a dataframe and print it."
   ]
  },
  {
   "cell_type": "code",
   "execution_count": null,
   "metadata": {},
   "outputs": [],
   "source": []
  },
  {
   "cell_type": "code",
   "execution_count": null,
   "metadata": {},
   "outputs": [],
   "source": []
  },
  {
   "cell_type": "markdown",
   "metadata": {},
   "source": [
    "### Q3. (10 pts.)\n",
    "\n",
    "For all series, use an un-tuned `LightGBM` with 56-day lookback that uses a direct forecasting strategy to generate a 28-step forecast.\n",
    "\n",
    "Calculate the `RMSSE` against the test set, then summarize the metrics in a dataframe and print it."
   ]
  },
  {
   "cell_type": "code",
   "execution_count": 9,
   "metadata": {},
   "outputs": [],
   "source": [
    "pipe = Pipeline([\r\n",
    "    ('tempo', EndogenousTransformer(w=56, h=28)),\r\n",
    "    ('regre', MultiOutputRegressor(lgb.LGBMRegressor()))\r\n",
    "    ])"
   ]
  },
  {
   "cell_type": "code",
   "execution_count": 10,
   "metadata": {},
   "outputs": [],
   "source": [
    "tranny = TransformedTargetRegressor(\r\n",
    "    regressor=MultiOutputRegressor(lgb.LGBMRegressor()),\r\n",
    "    transformer=EndogenousTransformer(w=56, h=28))\r\n",
    "\r\n",
    "\r\n",
    "pipe = Pipeline([\r\n",
    "    ('tempo', EndogenousTransformer(w=56, h=28)),\r\n",
    "    ('regre', tranny)\r\n",
    "    ])"
   ]
  },
  {
   "cell_type": "code",
   "execution_count": 11,
   "metadata": {},
   "outputs": [
    {
     "ename": "AttributeError",
     "evalue": "'EndogenousTransformer' object has no attribute 'inverse_transform'",
     "output_type": "error",
     "traceback": [
      "\u001b[1;31m---------------------------------------------------------------------------\u001b[0m",
      "\u001b[1;31mAttributeError\u001b[0m                            Traceback (most recent call last)",
      "\u001b[1;32m<ipython-input-11-b82d38200219>\u001b[0m in \u001b[0;36m<module>\u001b[1;34m\u001b[0m\n\u001b[1;32m----> 1\u001b[1;33m \u001b[0mpipe\u001b[0m\u001b[1;33m.\u001b[0m\u001b[0mfit\u001b[0m\u001b[1;33m(\u001b[0m\u001b[0mtrain_df_9\u001b[0m\u001b[1;33m.\u001b[0m\u001b[0miloc\u001b[0m\u001b[1;33m[\u001b[0m\u001b[1;33m:\u001b[0m\u001b[1;33m,\u001b[0m \u001b[1;36m0\u001b[0m\u001b[1;33m]\u001b[0m\u001b[1;33m,\u001b[0m \u001b[0mtrain_df_9\u001b[0m\u001b[1;33m.\u001b[0m\u001b[0miloc\u001b[0m\u001b[1;33m[\u001b[0m\u001b[1;33m:\u001b[0m\u001b[1;33m,\u001b[0m \u001b[1;36m0\u001b[0m\u001b[1;33m]\u001b[0m\u001b[1;33m)\u001b[0m\u001b[1;33m\u001b[0m\u001b[1;33m\u001b[0m\u001b[0m\n\u001b[0m",
      "\u001b[1;32m~\\Anaconda3\\lib\\site-packages\\sklearn\\pipeline.py\u001b[0m in \u001b[0;36mfit\u001b[1;34m(self, X, y, **fit_params)\u001b[0m\n\u001b[0;32m    344\u001b[0m             \u001b[1;32mif\u001b[0m \u001b[0mself\u001b[0m\u001b[1;33m.\u001b[0m\u001b[0m_final_estimator\u001b[0m \u001b[1;33m!=\u001b[0m \u001b[1;34m'passthrough'\u001b[0m\u001b[1;33m:\u001b[0m\u001b[1;33m\u001b[0m\u001b[1;33m\u001b[0m\u001b[0m\n\u001b[0;32m    345\u001b[0m                 \u001b[0mfit_params_last_step\u001b[0m \u001b[1;33m=\u001b[0m \u001b[0mfit_params_steps\u001b[0m\u001b[1;33m[\u001b[0m\u001b[0mself\u001b[0m\u001b[1;33m.\u001b[0m\u001b[0msteps\u001b[0m\u001b[1;33m[\u001b[0m\u001b[1;33m-\u001b[0m\u001b[1;36m1\u001b[0m\u001b[1;33m]\u001b[0m\u001b[1;33m[\u001b[0m\u001b[1;36m0\u001b[0m\u001b[1;33m]\u001b[0m\u001b[1;33m]\u001b[0m\u001b[1;33m\u001b[0m\u001b[1;33m\u001b[0m\u001b[0m\n\u001b[1;32m--> 346\u001b[1;33m                 \u001b[0mself\u001b[0m\u001b[1;33m.\u001b[0m\u001b[0m_final_estimator\u001b[0m\u001b[1;33m.\u001b[0m\u001b[0mfit\u001b[0m\u001b[1;33m(\u001b[0m\u001b[0mXt\u001b[0m\u001b[1;33m,\u001b[0m \u001b[0my\u001b[0m\u001b[1;33m,\u001b[0m \u001b[1;33m**\u001b[0m\u001b[0mfit_params_last_step\u001b[0m\u001b[1;33m)\u001b[0m\u001b[1;33m\u001b[0m\u001b[1;33m\u001b[0m\u001b[0m\n\u001b[0m\u001b[0;32m    347\u001b[0m \u001b[1;33m\u001b[0m\u001b[0m\n\u001b[0;32m    348\u001b[0m         \u001b[1;32mreturn\u001b[0m \u001b[0mself\u001b[0m\u001b[1;33m\u001b[0m\u001b[1;33m\u001b[0m\u001b[0m\n",
      "\u001b[1;32m~\\Anaconda3\\lib\\site-packages\\sklearn\\compose\\_target.py\u001b[0m in \u001b[0;36mfit\u001b[1;34m(self, X, y, **fit_params)\u001b[0m\n\u001b[0;32m    189\u001b[0m         \u001b[1;32melse\u001b[0m\u001b[1;33m:\u001b[0m\u001b[1;33m\u001b[0m\u001b[1;33m\u001b[0m\u001b[0m\n\u001b[0;32m    190\u001b[0m             \u001b[0my_2d\u001b[0m \u001b[1;33m=\u001b[0m \u001b[0my\u001b[0m\u001b[1;33m\u001b[0m\u001b[1;33m\u001b[0m\u001b[0m\n\u001b[1;32m--> 191\u001b[1;33m         \u001b[0mself\u001b[0m\u001b[1;33m.\u001b[0m\u001b[0m_fit_transformer\u001b[0m\u001b[1;33m(\u001b[0m\u001b[0my_2d\u001b[0m\u001b[1;33m)\u001b[0m\u001b[1;33m\u001b[0m\u001b[1;33m\u001b[0m\u001b[0m\n\u001b[0m\u001b[0;32m    192\u001b[0m \u001b[1;33m\u001b[0m\u001b[0m\n\u001b[0;32m    193\u001b[0m         \u001b[1;31m# transform y and convert back to 1d array if needed\u001b[0m\u001b[1;33m\u001b[0m\u001b[1;33m\u001b[0m\u001b[1;33m\u001b[0m\u001b[0m\n",
      "\u001b[1;32m~\\Anaconda3\\lib\\site-packages\\sklearn\\compose\\_target.py\u001b[0m in \u001b[0;36m_fit_transformer\u001b[1;34m(self, y)\u001b[0m\n\u001b[0;32m    149\u001b[0m             \u001b[0my_sel_t\u001b[0m \u001b[1;33m=\u001b[0m \u001b[0mself\u001b[0m\u001b[1;33m.\u001b[0m\u001b[0mtransformer_\u001b[0m\u001b[1;33m.\u001b[0m\u001b[0mtransform\u001b[0m\u001b[1;33m(\u001b[0m\u001b[0my_sel\u001b[0m\u001b[1;33m)\u001b[0m\u001b[1;33m\u001b[0m\u001b[1;33m\u001b[0m\u001b[0m\n\u001b[0;32m    150\u001b[0m             if not np.allclose(y_sel,\n\u001b[1;32m--> 151\u001b[1;33m                                self.transformer_.inverse_transform(y_sel_t)):\n\u001b[0m\u001b[0;32m    152\u001b[0m                 warnings.warn(\"The provided functions or transformer are\"\n\u001b[0;32m    153\u001b[0m                               \u001b[1;34m\" not strictly inverse of each other. If\"\u001b[0m\u001b[1;33m\u001b[0m\u001b[1;33m\u001b[0m\u001b[0m\n",
      "\u001b[1;31mAttributeError\u001b[0m: 'EndogenousTransformer' object has no attribute 'inverse_transform'"
     ]
    }
   ],
   "source": [
    "pipe.fit(train_df_9.iloc[:, 0], train_df_9.iloc[:, 0])"
   ]
  },
  {
   "cell_type": "code",
   "execution_count": null,
   "metadata": {},
   "outputs": [
    {
     "ename": "ValueError",
     "evalue": "When 'func' is provided, 'inverse_func' must also be provided",
     "output_type": "error",
     "traceback": [
      "\u001b[1;31m---------------------------------------------------------------------------\u001b[0m",
      "\u001b[1;31mValueError\u001b[0m                                Traceback (most recent call last)",
      "\u001b[1;32m<ipython-input-34-fc32c2a1fc97>\u001b[0m in \u001b[0;36m<module>\u001b[1;34m\u001b[0m\n\u001b[1;32m----> 1\u001b[1;33m \u001b[0mtranny\u001b[0m\u001b[1;33m.\u001b[0m\u001b[0mfit\u001b[0m\u001b[1;33m(\u001b[0m\u001b[0mpipe\u001b[0m\u001b[1;33m.\u001b[0m\u001b[0mtransform\u001b[0m\u001b[1;33m(\u001b[0m\u001b[0mtrain_df_9\u001b[0m\u001b[1;33m.\u001b[0m\u001b[0miloc\u001b[0m\u001b[1;33m[\u001b[0m\u001b[1;33m:\u001b[0m\u001b[1;33m,\u001b[0m \u001b[1;36m0\u001b[0m\u001b[1;33m]\u001b[0m\u001b[1;33m)\u001b[0m\u001b[1;33m,\u001b[0m \u001b[0mtrain_df_9\u001b[0m\u001b[1;33m.\u001b[0m\u001b[0miloc\u001b[0m\u001b[1;33m[\u001b[0m\u001b[1;33m:\u001b[0m\u001b[1;33m,\u001b[0m \u001b[1;36m0\u001b[0m\u001b[1;33m]\u001b[0m\u001b[1;33m)\u001b[0m\u001b[1;33m\u001b[0m\u001b[1;33m\u001b[0m\u001b[0m\n\u001b[0m",
      "\u001b[1;32m~\\Anaconda3\\lib\\site-packages\\sklearn\\compose\\_target.py\u001b[0m in \u001b[0;36mfit\u001b[1;34m(self, X, y, **fit_params)\u001b[0m\n\u001b[0;32m    189\u001b[0m         \u001b[1;32melse\u001b[0m\u001b[1;33m:\u001b[0m\u001b[1;33m\u001b[0m\u001b[1;33m\u001b[0m\u001b[0m\n\u001b[0;32m    190\u001b[0m             \u001b[0my_2d\u001b[0m \u001b[1;33m=\u001b[0m \u001b[0my\u001b[0m\u001b[1;33m\u001b[0m\u001b[1;33m\u001b[0m\u001b[0m\n\u001b[1;32m--> 191\u001b[1;33m         \u001b[0mself\u001b[0m\u001b[1;33m.\u001b[0m\u001b[0m_fit_transformer\u001b[0m\u001b[1;33m(\u001b[0m\u001b[0my_2d\u001b[0m\u001b[1;33m)\u001b[0m\u001b[1;33m\u001b[0m\u001b[1;33m\u001b[0m\u001b[0m\n\u001b[0m\u001b[0;32m    192\u001b[0m \u001b[1;33m\u001b[0m\u001b[0m\n\u001b[0;32m    193\u001b[0m         \u001b[1;31m# transform y and convert back to 1d array if needed\u001b[0m\u001b[1;33m\u001b[0m\u001b[1;33m\u001b[0m\u001b[1;33m\u001b[0m\u001b[0m\n",
      "\u001b[1;32m~\\Anaconda3\\lib\\site-packages\\sklearn\\compose\\_target.py\u001b[0m in \u001b[0;36m_fit_transformer\u001b[1;34m(self, y)\u001b[0m\n\u001b[0;32m    134\u001b[0m         \u001b[1;32melse\u001b[0m\u001b[1;33m:\u001b[0m\u001b[1;33m\u001b[0m\u001b[1;33m\u001b[0m\u001b[0m\n\u001b[0;32m    135\u001b[0m             \u001b[1;32mif\u001b[0m \u001b[0mself\u001b[0m\u001b[1;33m.\u001b[0m\u001b[0mfunc\u001b[0m \u001b[1;32mis\u001b[0m \u001b[1;32mnot\u001b[0m \u001b[1;32mNone\u001b[0m \u001b[1;32mand\u001b[0m \u001b[0mself\u001b[0m\u001b[1;33m.\u001b[0m\u001b[0minverse_func\u001b[0m \u001b[1;32mis\u001b[0m \u001b[1;32mNone\u001b[0m\u001b[1;33m:\u001b[0m\u001b[1;33m\u001b[0m\u001b[1;33m\u001b[0m\u001b[0m\n\u001b[1;32m--> 136\u001b[1;33m                 raise ValueError(\"When 'func' is provided, 'inverse_func' must\"\n\u001b[0m\u001b[0;32m    137\u001b[0m                                  \" also be provided\")\n\u001b[0;32m    138\u001b[0m             self.transformer_ = FunctionTransformer(\n",
      "\u001b[1;31mValueError\u001b[0m: When 'func' is provided, 'inverse_func' must also be provided"
     ]
    }
   ],
   "source": [
    "tranny.fit(pipe.transform(train_df_9.iloc[:, 0]), train_df_9.iloc[:, 0])"
   ]
  },
  {
   "cell_type": "code",
   "execution_count": null,
   "metadata": {},
   "outputs": [
    {
     "data": {
      "text/plain": "date\n2011-01-29    528.0\n2011-01-30    489.0\n2011-01-31    409.0\n2011-02-01    383.0\n2011-02-02    263.0\n2011-02-03    453.0\n2011-02-04    339.0\n2011-02-05    750.0\n2011-02-06    425.0\n2011-02-07    375.0\n2011-02-08    485.0\n2011-02-09    387.0\n2011-02-10    444.0\n2011-02-11    443.0\n2011-02-12    674.0\n2011-02-13    446.0\n2011-02-14    376.0\n2011-02-15    322.0\n2011-02-16    266.0\n2011-02-17    262.0\n2011-02-18    288.0\n2011-02-19    780.0\n2011-02-20    472.0\n2011-02-21    606.0\n2011-02-22    444.0\n2011-02-23    398.0\n2011-02-24    419.0\n2011-02-25    392.0\n2011-02-26    598.0\n2011-02-27    196.0\n2011-02-28    169.0\n2011-03-01    217.0\n2011-03-02    187.0\n2011-03-03    163.0\n2011-03-04    175.0\n2011-03-05    279.0\n2011-03-06    724.0\n2011-03-07    452.0\n2011-03-08    455.0\n2011-03-09    346.0\n2011-03-10    315.0\n2011-03-11    324.0\n2011-03-12    626.0\n2011-03-13    391.0\n2011-03-14    348.0\n2011-03-15    322.0\n2011-03-16    359.0\n2011-03-17    359.0\n2011-03-18    283.0\n2011-03-19    644.0\n2011-03-20    463.0\n2011-03-21    324.0\n2011-03-22    489.0\n2011-03-23    288.0\n2011-03-24    508.0\n2011-03-25    424.0\n2011-03-26    573.0\n2011-03-27    517.0\n2011-03-28    518.0\n2011-03-29    304.0\n2011-03-30    328.0\n2011-03-31    361.0\n2011-04-01    435.0\n2011-04-02    540.0\n2011-04-03    585.0\n2011-04-04    477.0\n2011-04-05    384.0\n2011-04-06    332.0\n2011-04-07    420.0\n2011-04-08    475.0\n2011-04-09    580.0\n2011-04-10    544.0\n2011-04-11    541.0\n2011-04-12    416.0\n2011-04-13    273.0\n2011-04-14    498.0\n2011-04-15    261.0\n2011-04-16    496.0\n2011-04-17    429.0\n2011-04-18    407.0\n2011-04-19    199.0\n2011-04-20    327.0\n2011-04-21    312.0\n2011-04-22    302.0\n2011-04-23    597.0\n2011-04-24    333.0\n2011-04-25    502.0\n2011-04-26    320.0\n2011-04-27    420.0\n2011-04-28    344.0\n2011-04-29    336.0\n2011-04-30    570.0\n2011-05-01    510.0\n2011-05-02    428.0\n2011-05-03    342.0\n2011-05-04    321.0\n2011-05-05    385.0\n2011-05-06    349.0\n2011-05-07    594.0\n2011-05-08    408.0\n2011-05-09    383.0\n2011-05-10    563.0\n2011-05-11    429.0\n2011-05-12    259.0\n2011-05-13    404.0\n2011-05-14    501.0\n2011-05-15    436.0\n2011-05-16    497.0\n2011-05-17    249.0\n2011-05-18    309.0\n2011-05-19    273.0\n2011-05-20    335.0\n2011-05-21    537.0\n2011-05-22    430.0\n2011-05-23    426.0\n2011-05-24    261.0\n2011-05-25    395.0\n2011-05-26    414.0\n2011-05-27    383.0\n2011-05-28    532.0\n2011-05-29    363.0\n2011-05-30    314.0\n2011-05-31    231.0\n2011-06-01    347.0\n2011-06-02    402.0\n2011-06-03    394.0\n2011-06-04    392.0\n2011-06-05    335.0\n2011-06-06    377.0\n2011-06-07    351.0\n2011-06-08    633.0\n2011-06-09    342.0\n2011-06-10    481.0\n2011-06-11    556.0\n2011-06-12    369.0\n2011-06-13    438.0\n2011-06-14    449.0\n2011-06-15    279.0\n2011-06-16    367.0\n2011-06-17    484.0\n2011-06-18    717.0\n2011-06-19    372.0\n2011-06-20    316.0\n2011-06-21    351.0\n2011-06-22    377.0\n2011-06-23    337.0\n2011-06-24    438.0\n2011-06-25    487.0\n2011-06-26    430.0\n2011-06-27    528.0\n2011-06-28    310.0\n2011-06-29    258.0\n2011-06-30    346.0\n2011-07-01    414.0\n2011-07-02    534.0\n2011-07-03    355.0\n2011-07-04    238.0\n2011-07-05    340.0\n2011-07-06    598.0\n2011-07-07    477.0\n2011-07-08    319.0\n2011-07-09    473.0\n2011-07-10    418.0\n2011-07-11    269.0\n2011-07-12    365.0\n2011-07-13    345.0\n2011-07-14    374.0\n2011-07-15    397.0\n2011-07-16    535.0\n2011-07-17    427.0\n2011-07-18    392.0\n2011-07-19    306.0\n2011-07-20    329.0\n2011-07-21    276.0\n2011-07-22    397.0\n2011-07-23    702.0\n2011-07-24    555.0\n2011-07-25    425.0\n2011-07-26    261.0\n2011-07-27    387.0\n2011-07-28    431.0\n2011-07-29    266.0\n2011-07-30    355.0\n2011-07-31    481.0\n2011-08-01    355.0\n2011-08-02    445.0\n2011-08-03    432.0\n2011-08-04    362.0\n2011-08-05    532.0\n2011-08-06    607.0\n2011-08-07    447.0\n2011-08-08    310.0\n2011-08-09    395.0\n2011-08-10    280.0\n2011-08-11    371.0\n2011-08-12    452.0\n2011-08-13    550.0\n2011-08-14    478.0\n2011-08-15    373.0\n2011-08-16    318.0\n2011-08-17    313.0\n2011-08-18    304.0\n2011-08-19    458.0\n2011-08-20    572.0\n2011-08-21    422.0\n2011-08-22    369.0\n2011-08-23    282.0\n2011-08-24    372.0\n2011-08-25    372.0\n2011-08-26    467.0\n2011-08-27    522.0\n2011-08-28    328.0\n2011-08-29    289.0\n2011-08-30    372.0\n2011-08-31    388.0\n2011-09-01    343.0\n2011-09-02    491.0\n2011-09-03    741.0\n2011-09-04    360.0\n2011-09-05    399.0\n2011-09-06    518.0\n2011-09-07    366.0\n2011-09-08    395.0\n2011-09-09    396.0\n2011-09-10    485.0\n2011-09-11    429.0\n2011-09-12    409.0\n2011-09-13    315.0\n2011-09-14    363.0\n2011-09-15    328.0\n2011-09-16    322.0\n2011-09-17    397.0\n2011-09-18    369.0\n2011-09-19    336.0\n2011-09-20    340.0\n2011-09-21    417.0\n2011-09-22    373.0\n2011-09-23    465.0\n2011-09-24    446.0\n2011-09-25    468.0\n2011-09-26    328.0\n2011-09-27    339.0\n2011-09-28    472.0\n2011-09-29    435.0\n2011-09-30    527.0\n2011-10-01    742.0\n2011-10-02    495.0\n2011-10-03    442.0\n2011-10-04    455.0\n2011-10-05    316.0\n2011-10-06    297.0\n2011-10-07    391.0\n2011-10-08    653.0\n2011-10-09    366.0\n2011-10-10    347.0\n2011-10-11    621.0\n2011-10-12    317.0\n2011-10-13    451.0\n2011-10-14    435.0\n2011-10-15    589.0\n2011-10-16    514.0\n2011-10-17    288.0\n2011-10-18    312.0\n2011-10-19    371.0\n2011-10-20    406.0\n2011-10-21    472.0\n2011-10-22    536.0\n2011-10-23    391.0\n2011-10-24    309.0\n2011-10-25    224.0\n2011-10-26    284.0\n2011-10-27    421.0\n2011-10-28    463.0\n2011-10-29    432.0\n2011-10-30    404.0\n2011-10-31    396.0\n2011-11-01    433.0\n2011-11-02    417.0\n2011-11-03    346.0\n2011-11-04    493.0\n2011-11-05    482.0\n2011-11-06    478.0\n2011-11-07    290.0\n2011-11-08    426.0\n2011-11-09    279.0\n2011-11-10    324.0\n2011-11-11    360.0\n2011-11-12    622.0\n2011-11-13    331.0\n2011-11-14    316.0\n2011-11-15    345.0\n2011-11-16    324.0\n2011-11-17    223.0\n2011-11-18    363.0\n2011-11-19    588.0\n2011-11-20    428.0\n2011-11-21    340.0\n2011-11-22    399.0\n2011-11-23    257.0\n2011-11-24     71.0\n2011-11-25    435.0\n2011-11-26    358.0\n2011-11-27    304.0\n2011-11-28    286.0\n2011-11-29    456.0\n2011-11-30    262.0\n2011-12-01    371.0\n2011-12-02    445.0\n2011-12-03    687.0\n2011-12-04    505.0\n2011-12-05    348.0\n2011-12-06    293.0\n2011-12-07    469.0\n2011-12-08    468.0\n2011-12-09    355.0\n2011-12-10    405.0\n2011-12-11    423.0\n2011-12-12    413.0\n2011-12-13    364.0\n2011-12-14    364.0\n2011-12-15    214.0\n2011-12-16    380.0\n2011-12-17    511.0\n2011-12-18    367.0\n2011-12-19    418.0\n2011-12-20    341.0\n2011-12-21    338.0\n2011-12-22    363.0\n2011-12-23    408.0\n2011-12-24    326.0\n2011-12-25    389.5\n2011-12-26    453.0\n2011-12-27    464.0\n2011-12-28    408.0\n2011-12-29    321.0\n2011-12-30    701.0\n2011-12-31    378.0\n2012-01-01    219.0\n2012-01-02    334.0\n2012-01-03    485.0\n2012-01-04    484.0\n2012-01-05    333.0\n2012-01-06    601.0\n2012-01-07    484.0\n2012-01-08    350.0\n2012-01-09    312.0\n2012-01-10    450.0\n2012-01-11    471.0\n2012-01-12    381.0\n2012-01-13    411.0\n2012-01-14    444.0\n2012-01-15    394.0\n2012-01-16    369.0\n2012-01-17    352.0\n2012-01-18    289.0\n2012-01-19    395.0\n2012-01-20    279.0\n2012-01-21    562.0\n2012-01-22    367.0\n2012-01-23    310.0\n2012-01-24    276.0\n2012-01-25    273.0\n2012-01-26    477.0\n2012-01-27    446.0\n2012-01-28    470.0\n2012-01-29    385.0\n2012-01-30    250.0\n2012-01-31    303.0\n2012-02-01    379.0\n2012-02-02    415.0\n2012-02-03    504.0\n2012-02-04    611.0\n2012-02-05    468.0\n2012-02-06    428.0\n2012-02-07    353.0\n2012-02-08    267.0\n2012-02-09    293.0\n2012-02-10    228.0\n2012-02-11    551.0\n2012-02-12    408.0\n2012-02-13    199.0\n2012-02-14    298.0\n2012-02-15    326.0\n2012-02-16    319.0\n2012-02-17    328.0\n2012-02-18    525.0\n2012-02-19    409.0\n2012-02-20    333.0\n2012-02-21    347.0\n2012-02-22    381.0\n2012-02-23    299.0\n2012-02-24    266.0\n2012-02-25    579.0\n2012-02-26    349.0\n2012-02-27    316.0\n2012-02-28    259.0\n2012-02-29    468.0\n2012-03-01    568.0\n2012-03-02    502.0\n2012-03-03    513.0\n2012-03-04    405.0\n2012-03-05    272.0\n2012-03-06    386.0\n2012-03-07    386.0\n2012-03-08    250.0\n2012-03-09    344.0\n2012-03-10    506.0\n2012-03-11    599.0\n2012-03-12    357.0\n2012-03-13    297.0\n2012-03-14    205.0\n2012-03-15    355.0\n2012-03-16    479.0\n2012-03-17    503.0\n2012-03-18    442.0\n2012-03-19    396.0\n2012-03-20    323.0\n2012-03-21    261.0\n2012-03-22    242.0\n2012-03-23    385.0\n2012-03-24    634.0\n2012-03-25    462.0\n2012-03-26    301.0\n2012-03-27    373.0\n2012-03-28    331.0\n2012-03-29    243.0\n2012-03-30    560.0\n2012-03-31    610.0\n2012-04-01    412.0\n2012-04-02    438.0\n2012-04-03    386.0\n2012-04-04    260.0\n2012-04-05    368.0\n2012-04-06    466.0\n2012-04-07    453.0\n2012-04-08    259.0\n2012-04-09    431.0\n2012-04-10    472.0\n2012-04-11    355.0\n2012-04-12    430.0\n2012-04-13    754.0\n2012-04-14    472.0\n2012-04-15    429.0\n2012-04-16    447.0\n2012-04-17    235.0\n2012-04-18    287.0\n2012-04-19    493.0\n2012-04-20    473.0\n2012-04-21    520.0\n2012-04-22    562.0\n2012-04-23    252.0\n2012-04-24    275.0\n2012-04-25    285.0\n2012-04-26    304.0\n2012-04-27    488.0\n2012-04-28    557.0\n2012-04-29    418.0\n2012-04-30    293.0\n2012-05-01    376.0\n2012-05-02    470.0\n2012-05-03    608.0\n2012-05-04    408.0\n2012-05-05    481.0\n2012-05-06    587.0\n2012-05-07    210.0\n2012-05-08    260.0\n2012-05-09    145.0\n2012-05-10    312.0\n2012-05-11    256.0\n2012-05-12    270.0\n2012-05-13    302.0\n2012-05-14    200.0\n2012-05-15    202.0\n2012-05-16    333.0\n2012-05-17    238.0\n2012-05-18    334.0\n2012-05-19    293.0\n2012-05-20    308.0\n2012-05-21    261.0\n2012-05-22    148.0\n2012-05-23    201.0\n2012-05-24    235.0\n2012-05-25    331.0\n2012-05-26    363.0\n2012-05-27    391.0\n2012-05-28    481.0\n2012-05-29    518.0\n2012-05-30    428.0\n2012-05-31    478.0\n2012-06-01    477.0\n2012-06-02    478.0\n2012-06-03    479.0\n2012-06-04    456.0\n2012-06-05    314.0\n2012-06-06    448.0\n2012-06-07    341.0\n2012-06-08    483.0\n2012-06-09    516.0\n2012-06-10    518.0\n2012-06-11    455.0\n2012-06-12    329.0\n2012-06-13    437.0\n2012-06-14    325.0\n2012-06-15    363.0\n2012-06-16    557.0\n2012-06-17    345.0\n2012-06-18    358.0\n2012-06-19    254.0\n2012-06-20    350.0\n2012-06-21    458.0\n2012-06-22    570.0\n2012-06-23    541.0\n2012-06-24    359.0\n2012-06-25    325.0\n2012-06-26    302.0\n2012-06-27    399.0\n2012-06-28    351.0\n2012-06-29    427.0\n2012-06-30    610.0\n2012-07-01    382.0\n2012-07-02    338.0\n2012-07-03    413.0\n2012-07-04    181.0\n2012-07-05    234.0\n2012-07-06    350.0\n2012-07-07    361.0\n2012-07-08    441.0\n2012-07-09    271.0\n2012-07-10    443.0\n2012-07-11    430.0\n2012-07-12    452.0\n2012-07-13    401.0\n2012-07-14    448.0\n2012-07-15    398.0\n2012-07-16    341.0\n2012-07-17    417.0\n2012-07-18    280.0\n2012-07-19    407.0\n2012-07-20    485.0\n2012-07-21    453.0\n2012-07-22    530.0\n2012-07-23    377.0\n2012-07-24    215.0\n2012-07-25    218.0\n2012-07-26    295.0\n2012-07-27    282.0\n2012-07-28    383.0\n2012-07-29    230.0\n2012-07-30    382.0\n2012-07-31    309.0\n2012-08-01    381.0\n2012-08-02    428.0\n2012-08-03    382.0\n2012-08-04    408.0\n2012-08-05    278.0\n2012-08-06    223.0\n2012-08-07    324.0\n2012-08-08    248.0\n2012-08-09    239.0\n2012-08-10    245.0\n2012-08-11    411.0\n2012-08-12    408.0\n2012-08-13    255.0\n2012-08-14    248.0\n2012-08-15    271.0\n2012-08-16    309.0\n2012-08-17    319.0\n2012-08-18    462.0\n2012-08-19    380.0\n2012-08-20    305.0\n2012-08-21    227.0\n2012-08-22    257.0\n2012-08-23    266.0\n2012-08-24    295.0\n2012-08-25    388.0\n2012-08-26    404.0\n2012-08-27    314.0\n2012-08-28    247.0\n2012-08-29    195.0\n2012-08-30    294.0\n2012-08-31    383.0\n2012-09-01    422.0\n2012-09-02    341.0\n2012-09-03    343.0\n2012-09-04    296.0\n2012-09-05    198.0\n2012-09-06    175.0\n2012-09-07    303.0\n2012-09-08    315.0\n2012-09-09    415.0\n2012-09-10    249.0\n2012-09-11    235.0\n2012-09-12    215.0\n2012-09-13    306.0\n2012-09-14    317.0\n2012-09-15    393.0\n2012-09-16    329.0\n2012-09-17    236.0\n2012-09-18    252.0\n2012-09-19    307.0\n2012-09-20    252.0\n2012-09-21    318.0\n2012-09-22    512.0\n2012-09-23    376.0\n2012-09-24    267.0\n2012-09-25    242.0\n2012-09-26    241.0\n2012-09-27    192.0\n2012-09-28    403.0\n2012-09-29    301.0\n2012-09-30    323.0\n2012-10-01    394.0\n2012-10-02    273.0\n2012-10-03    244.0\n2012-10-04    255.0\n2012-10-05    321.0\n2012-10-06    336.0\n2012-10-07    367.0\n2012-10-08    273.0\n2012-10-09    236.0\n2012-10-10    241.0\n2012-10-11    315.0\n2012-10-12    347.0\n2012-10-13    333.0\n2012-10-14    420.0\n2012-10-15    301.0\n2012-10-16    265.0\n2012-10-17    280.0\n2012-10-18    315.0\n2012-10-19    243.0\n2012-10-20    376.0\n2012-10-21    357.0\n2012-10-22    264.0\n2012-10-23    349.0\n2012-10-24    319.0\n2012-10-25    211.0\n2012-10-26    254.0\n2012-10-27    304.0\n2012-10-28    527.0\n2012-10-29    237.0\n2012-10-30    211.0\n2012-10-31    189.0\n2012-11-01    301.0\n2012-11-02    411.0\n2012-11-03    358.0\n2012-11-04    364.0\n2012-11-05    198.0\n2012-11-06    267.0\n2012-11-07    209.0\n2012-11-08    262.0\n2012-11-09    296.0\n2012-11-10    438.0\n2012-11-11    335.0\n2012-11-12    223.0\n2012-11-13    227.0\n2012-11-14    156.0\n2012-11-15    191.0\n2012-11-16    288.0\n2012-11-17    462.0\n2012-11-18    346.0\n2012-11-19    297.0\n2012-11-20    285.0\n2012-11-21    225.0\n2012-11-22     86.0\n2012-11-23    186.0\n2012-11-24    235.0\n2012-11-25    289.0\n2012-11-26    302.0\n2012-11-27    222.0\n2012-11-28    223.0\n2012-11-29    168.0\n2012-11-30    208.0\n2012-12-01    387.0\n2012-12-02    266.0\n2012-12-03    305.0\n2012-12-04    229.0\n2012-12-05    168.0\n2012-12-06    250.0\n2012-12-07    259.0\n2012-12-08    366.0\n2012-12-09    277.0\n2012-12-10    257.0\n2012-12-11    219.0\n2012-12-12    259.0\n2012-12-13    232.0\n2012-12-14    234.0\n2012-12-15    372.0\n2012-12-16    351.0\n2012-12-17    234.0\n2012-12-18    292.0\n2012-12-19    230.0\n2012-12-20    211.0\n2012-12-21    348.0\n2012-12-22    363.0\n2012-12-23    255.0\n2012-12-24    184.0\n2012-12-25    209.5\n2012-12-26    235.0\n2012-12-27    228.0\n2012-12-28    274.0\n2012-12-29    319.0\n2012-12-30    350.0\n2012-12-31    249.0\n2013-01-01    141.0\n2013-01-02    263.0\n2013-01-03    279.0\n2013-01-04    311.0\n2013-01-05    338.0\n2013-01-06    301.0\n2013-01-07    172.0\n2013-01-08    228.0\n2013-01-09    237.0\n2013-01-10    292.0\n2013-01-11    345.0\n2013-01-12    317.0\n2013-01-13    312.0\n2013-01-14    214.0\n2013-01-15    227.0\n2013-01-16    238.0\n2013-01-17    228.0\n2013-01-18    290.0\n2013-01-19    303.0\n2013-01-20    333.0\n2013-01-21    324.0\n2013-01-22    289.0\n2013-01-23    322.0\n2013-01-24    429.0\n2013-01-25    363.0\n2013-01-26    535.0\n2013-01-27    414.0\n2013-01-28    405.0\n2013-01-29    397.0\n2013-01-30    255.0\n2013-01-31    346.0\n2013-02-01    785.0\n2013-02-02    758.0\n2013-02-03    261.0\n2013-02-04    283.0\n2013-02-05    208.0\n2013-02-06    324.0\n2013-02-07    247.0\n2013-02-08    269.0\n2013-02-09    418.0\n2013-02-10    499.0\n2013-02-11    453.0\n2013-02-12    475.0\n2013-02-13    415.0\n2013-02-14    322.0\n2013-02-15    591.0\n2013-02-16    629.0\n2013-02-17    471.0\n2013-02-18    418.0\n2013-02-19    343.0\n2013-02-20    425.0\n2013-02-21    416.0\n2013-02-22    522.0\n2013-02-23    550.0\n2013-02-24    465.0\n2013-02-25    515.0\n2013-02-26    314.0\n2013-02-27    394.0\n2013-02-28    387.0\n2013-03-01    561.0\n2013-03-02    665.0\n2013-03-03    432.0\n2013-03-04    365.0\n2013-03-05    277.0\n2013-03-06    219.0\n2013-03-07    195.0\n2013-03-08    288.0\n2013-03-09    443.0\n2013-03-10    491.0\n2013-03-11    409.0\n2013-03-12    317.0\n2013-03-13    371.0\n2013-03-14    410.0\n2013-03-15    486.0\n2013-03-16    552.0\n2013-03-17    544.0\n2013-03-18    315.0\n2013-03-19    453.0\n2013-03-20    371.0\n2013-03-21    412.0\n2013-03-22    451.0\n2013-03-23    560.0\n2013-03-24    376.0\n2013-03-25    302.0\n2013-03-26    210.0\n2013-03-27    254.0\n2013-03-28    280.0\n2013-03-29    360.0\n2013-03-30    444.0\n2013-03-31    325.0\n2013-04-01    491.0\n2013-04-02    488.0\n2013-04-03    535.0\n2013-04-04    594.0\n2013-04-05    565.0\n2013-04-06    635.0\n2013-04-07    538.0\n2013-04-08    402.0\n2013-04-09    462.0\n2013-04-10    383.0\n2013-04-11    355.0\n2013-04-12    508.0\n2013-04-13    484.0\n2013-04-14    670.0\n2013-04-15    340.0\n2013-04-16    452.0\n2013-04-17    341.0\n2013-04-18    427.0\n2013-04-19    424.0\n2013-04-20    591.0\n2013-04-21    531.0\n2013-04-22    466.0\n2013-04-23    495.0\n2013-04-24    332.0\n2013-04-25    403.0\n2013-04-26    539.0\n2013-04-27    633.0\n2013-04-28    338.0\n2013-04-29    216.0\n2013-04-30    320.0\n2013-05-01    336.0\n2013-05-02    260.0\n2013-05-03    277.0\n2013-05-04    341.0\n2013-05-05    462.0\n2013-05-06    343.0\n2013-05-07    324.0\n2013-05-08    385.0\n2013-05-09    353.0\n2013-05-10    477.0\n2013-05-11    712.0\n2013-05-12    336.0\n2013-05-13    341.0\n2013-05-14    412.0\n2013-05-15    402.0\n2013-05-16    370.0\n2013-05-17    467.0\n2013-05-18    545.0\n2013-05-19    512.0\n2013-05-20    542.0\n2013-05-21    439.0\n2013-05-22    493.0\n2013-05-23    400.0\n2013-05-24    524.0\n2013-05-25    583.0\n2013-05-26    516.0\n2013-05-27    461.0\n2013-05-28    500.0\n2013-05-29    334.0\n2013-05-30    420.0\n2013-05-31    451.0\n2013-06-01    622.0\n2013-06-02    671.0\n2013-06-03    630.0\n2013-06-04    374.0\n2013-06-05    604.0\n2013-06-06    379.0\n2013-06-07    566.0\n2013-06-08    557.0\n2013-06-09    652.0\n2013-06-10    500.0\n2013-06-11    425.0\n2013-06-12    472.0\n2013-06-13    451.0\n2013-06-14    446.0\n2013-06-15    577.0\n2013-06-16    451.0\n2013-06-17    485.0\n2013-06-18    474.0\n2013-06-19    365.0\n2013-06-20    414.0\n2013-06-21    595.0\n2013-06-22    468.0\n2013-06-23    551.0\n2013-06-24    486.0\n2013-06-25    549.0\n2013-06-26    397.0\n2013-06-27    357.0\n2013-06-28    410.0\n2013-06-29    387.0\n2013-06-30    553.0\n2013-07-01    501.0\n2013-07-02    337.0\n2013-07-03    545.0\n2013-07-04    438.0\n2013-07-05    457.0\n2013-07-06    473.0\n2013-07-07    525.0\n2013-07-08    359.0\n2013-07-09    335.0\n2013-07-10    313.0\n2013-07-11    384.0\n2013-07-12    519.0\n2013-07-13    497.0\n2013-07-14    673.0\n2013-07-15    400.0\n2013-07-16    424.0\n2013-07-17    345.0\n2013-07-18    314.0\n2013-07-19    509.0\n2013-07-20    615.0\n2013-07-21    730.0\n2013-07-22    332.0\n2013-07-23    425.0\n2013-07-24    322.0\n2013-07-25    389.0\n2013-07-26    429.0\n2013-07-27    473.0\n2013-07-28    431.0\n2013-07-29    500.0\n2013-07-30    348.0\n2013-07-31    410.0\n2013-08-01    477.0\n2013-08-02    628.0\n2013-08-03    526.0\n2013-08-04    511.0\n2013-08-05    477.0\n2013-08-06    447.0\n2013-08-07    442.0\n2013-08-08    373.0\n2013-08-09    435.0\n2013-08-10    473.0\n2013-08-11    516.0\n2013-08-12    432.0\n2013-08-13    326.0\n2013-08-14    392.0\n2013-08-15    336.0\n2013-08-16    470.0\n2013-08-17    458.0\n2013-08-18    483.0\n2013-08-19    420.0\n2013-08-20    279.0\n2013-08-21    463.0\n2013-08-22    449.0\n2013-08-23    447.0\n2013-08-24    426.0\n2013-08-25    618.0\n2013-08-26    329.0\n2013-08-27    417.0\n2013-08-28    367.0\n2013-08-29    366.0\n2013-08-30    517.0\n2013-08-31    644.0\n2013-09-01    341.0\n2013-09-02    272.0\n2013-09-03    245.0\n2013-09-04    205.0\n2013-09-05    202.0\n2013-09-06    261.0\n2013-09-07    347.0\n2013-09-08    444.0\n2013-09-09    430.0\n2013-09-10    470.0\n2013-09-11    308.0\n2013-09-12    452.0\n2013-09-13    498.0\n2013-09-14    530.0\n2013-09-15    570.0\n2013-09-16    416.0\n2013-09-17    442.0\n2013-09-18    335.0\n2013-09-19    411.0\n2013-09-20    450.0\n2013-09-21    539.0\n2013-09-22    493.0\n2013-09-23    444.0\n2013-09-24    401.0\n2013-09-25    431.0\n2013-09-26    427.0\n2013-09-27    543.0\n2013-09-28    513.0\n2013-09-29    531.0\n2013-09-30    507.0\n2013-10-01    611.0\n2013-10-02    408.0\n2013-10-03    633.0\n2013-10-04    585.0\n2013-10-05    603.0\n2013-10-06    401.0\n2013-10-07    406.0\n2013-10-08    371.0\n2013-10-09    500.0\n2013-10-10    501.0\n2013-10-11    468.0\n2013-10-12    562.0\n2013-10-13    557.0\n2013-10-14    508.0\n2013-10-15    361.0\n2013-10-16    386.0\n2013-10-17    355.0\n2013-10-18    568.0\n2013-10-19    492.0\n2013-10-20    698.0\n2013-10-21    272.0\n2013-10-22    350.0\n2013-10-23    475.0\n2013-10-24    312.0\n2013-10-25    436.0\n2013-10-26    607.0\n2013-10-27    555.0\n2013-10-28    441.0\n2013-10-29    400.0\n2013-10-30    547.0\n2013-10-31    349.0\n2013-11-01    489.0\n2013-11-02    606.0\n2013-11-03    581.0\n2013-11-04    424.0\n2013-11-05    534.0\n2013-11-06    392.0\n2013-11-07    407.0\n2013-11-08    451.0\n2013-11-09    678.0\n2013-11-10    550.0\n2013-11-11    481.0\n2013-11-12    425.0\n2013-11-13    374.0\n2013-11-14    355.0\n2013-11-15    686.0\n2013-11-16    667.0\n2013-11-17    529.0\n2013-11-18    500.0\n2013-11-19    409.0\n2013-11-20    382.0\n2013-11-21    353.0\n2013-11-22    554.0\n2013-11-23    658.0\n2013-11-24    518.0\n2013-11-25    461.0\n2013-11-26    516.0\n2013-11-27    434.0\n2013-11-28    170.0\n2013-11-29    268.0\n2013-11-30    383.0\n2013-12-01    672.0\n2013-12-02    741.0\n2013-12-03    567.0\n2013-12-04    494.0\n2013-12-05    482.0\n2013-12-06    467.0\n2013-12-07    653.0\n2013-12-08    565.0\n2013-12-09    461.0\n2013-12-10    474.0\n2013-12-11    364.0\n2013-12-12    518.0\n2013-12-13    534.0\n2013-12-14    661.0\n2013-12-15    519.0\n2013-12-16    524.0\n2013-12-17    463.0\n2013-12-18    392.0\n2013-12-19    486.0\n2013-12-20    557.0\n2013-12-21    641.0\n2013-12-22    621.0\n2013-12-23    539.0\n2013-12-24    364.0\n2013-12-25    388.0\n2013-12-26    412.0\n2013-12-27    533.0\n2013-12-28    446.0\n2013-12-29    383.0\n2013-12-30    477.0\n2013-12-31    349.0\n2014-01-01    294.0\n2014-01-02    702.0\n2014-01-03    565.0\n2014-01-04    513.0\n2014-01-05    597.0\n2014-01-06    503.0\n2014-01-07    489.0\n2014-01-08    429.0\n2014-01-09    435.0\n2014-01-10    451.0\n2014-01-11    579.0\n2014-01-12    343.0\n2014-01-13    372.0\n2014-01-14    413.0\n2014-01-15    421.0\n2014-01-16    365.0\n2014-01-17    463.0\n2014-01-18    549.0\n2014-01-19    371.0\n2014-01-20    475.0\n2014-01-21    479.0\n2014-01-22    416.0\n2014-01-23    305.0\n2014-01-24    401.0\n2014-01-25    485.0\n2014-01-26    505.0\n2014-01-27    472.0\n2014-01-28    314.0\n2014-01-29    271.0\n2014-01-30    423.0\n2014-01-31    601.0\n2014-02-01    659.0\n2014-02-02    388.0\n2014-02-03    487.0\n2014-02-04    397.0\n2014-02-05    442.0\n2014-02-06    387.0\n2014-02-07    466.0\n2014-02-08    545.0\n2014-02-09    367.0\n2014-02-10    531.0\n2014-02-11    360.0\n2014-02-12    370.0\n2014-02-13    406.0\n2014-02-14    396.0\n2014-02-15    543.0\n2014-02-16    503.0\n2014-02-17    419.0\n2014-02-18    366.0\n2014-02-19    333.0\n2014-02-20    377.0\n2014-02-21    536.0\n2014-02-22    450.0\n2014-02-23    416.0\n2014-02-24    387.0\n2014-02-25    458.0\n2014-02-26    476.0\n2014-02-27    401.0\n2014-02-28    390.0\n2014-03-01    669.0\n2014-03-02    439.0\n2014-03-03    458.0\n2014-03-04    335.0\n2014-03-05    267.0\n2014-03-06    465.0\n2014-03-07    419.0\n2014-03-08    573.0\n2014-03-09    531.0\n2014-03-10    443.0\n2014-03-11    342.0\n2014-03-12    348.0\n2014-03-13    279.0\n2014-03-14    582.0\n2014-03-15    539.0\n2014-03-16    442.0\n2014-03-17    434.0\n2014-03-18    336.0\n2014-03-19    347.0\n2014-03-20    373.0\n2014-03-21    413.0\n2014-03-22    586.0\n2014-03-23    500.0\n2014-03-24    362.0\n2014-03-25    325.0\n2014-03-26    350.0\n2014-03-27    452.0\n2014-03-28    409.0\n2014-03-29    546.0\n2014-03-30    475.0\n2014-03-31    344.0\n2014-04-01    433.0\n2014-04-02    430.0\n2014-04-03    439.0\n2014-04-04    447.0\n2014-04-05    671.0\n2014-04-06    602.0\n2014-04-07    402.0\n2014-04-08    345.0\n2014-04-09    430.0\n2014-04-10    428.0\n2014-04-11    609.0\n2014-04-12    477.0\n2014-04-13    502.0\n2014-04-14    328.0\n2014-04-15    280.0\n2014-04-16    344.0\n2014-04-17    385.0\n2014-04-18    481.0\n2014-04-19    449.0\n2014-04-20    427.0\n2014-04-21    376.0\n2014-04-22    461.0\n2014-04-23    473.0\n2014-04-24    420.0\n2014-04-25    385.0\n2014-04-26    571.0\n2014-04-27    439.0\n2014-04-28    390.0\n2014-04-29    326.0\n2014-04-30    432.0\n2014-05-01    342.0\n2014-05-02    502.0\n2014-05-03    574.0\n2014-05-04    489.0\n2014-05-05    405.0\n2014-05-06    437.0\n2014-05-07    509.0\n2014-05-08    465.0\n2014-05-09    429.0\n2014-05-10    500.0\n2014-05-11    409.0\n2014-05-12    296.0\n2014-05-13    362.0\n2014-05-14    281.0\n2014-05-15    394.0\n2014-05-16    521.0\n2014-05-17    565.0\n2014-05-18    463.0\n2014-05-19    433.0\n2014-05-20    327.0\n2014-05-21    326.0\n2014-05-22    399.0\n2014-05-23    522.0\n2014-05-24    520.0\n2014-05-25    375.0\n2014-05-26    343.0\n2014-05-27    468.0\n2014-05-28    494.0\n2014-05-29    314.0\n2014-05-30    477.0\n2014-05-31    655.0\n2014-06-01    577.0\n2014-06-02    490.0\n2014-06-03    467.0\n2014-06-04    437.0\n2014-06-05    440.0\n2014-06-06    446.0\n2014-06-07    470.0\n2014-06-08    479.0\n2014-06-09    333.0\n2014-06-10    297.0\n2014-06-11    373.0\n2014-06-12    380.0\n2014-06-13    512.0\n2014-06-14    604.0\n2014-06-15    489.0\n2014-06-16    472.0\n2014-06-17    383.0\n2014-06-18    478.0\n2014-06-19    350.0\n2014-06-20    504.0\n2014-06-21    548.0\n2014-06-22    428.0\n2014-06-23    459.0\n2014-06-24    450.0\n2014-06-25    408.0\n2014-06-26    423.0\n2014-06-27    524.0\n2014-06-28    580.0\n2014-06-29    470.0\n2014-06-30    528.0\n2014-07-01    523.0\n2014-07-02    458.0\n2014-07-03    660.0\n2014-07-04    318.0\n2014-07-05    485.0\n2014-07-06    480.0\n2014-07-07    420.0\n2014-07-08    436.0\n2014-07-09    298.0\n2014-07-10    305.0\n2014-07-11    495.0\n2014-07-12    519.0\n2014-07-13    512.0\n2014-07-14    437.0\n2014-07-15    403.0\n2014-07-16    506.0\n2014-07-17    382.0\n2014-07-18    503.0\n2014-07-19    488.0\n2014-07-20    535.0\n2014-07-21    426.0\n2014-07-22    381.0\n2014-07-23    423.0\n2014-07-24    415.0\n2014-07-25    366.0\n2014-07-26    387.0\n2014-07-27    469.0\n2014-07-28    507.0\n2014-07-29    440.0\n2014-07-30    352.0\n2014-07-31    468.0\n2014-08-01    593.0\n2014-08-02    582.0\n2014-08-03    650.0\n2014-08-04    517.0\n2014-08-05    340.0\n2014-08-06    441.0\n2014-08-07    513.0\n2014-08-08    487.0\n2014-08-09    510.0\n2014-08-10    522.0\n2014-08-11    358.0\n2014-08-12    431.0\n2014-08-13    391.0\n2014-08-14    329.0\n2014-08-15    578.0\n2014-08-16    522.0\n2014-08-17    475.0\n2014-08-18    514.0\n2014-08-19    407.0\n2014-08-20    389.0\n2014-08-21    337.0\n2014-08-22    367.0\n2014-08-23    449.0\n2014-08-24    497.0\n2014-08-25    442.0\n2014-08-26    447.0\n2014-08-27    353.0\n2014-08-28    415.0\n2014-08-29    362.0\n2014-08-30    608.0\n2014-08-31    477.0\n2014-09-01    375.0\n2014-09-02    469.0\n2014-09-03    507.0\n2014-09-04    392.0\n2014-09-05    508.0\n2014-09-06    455.0\n2014-09-07    440.0\n2014-09-08    329.0\n2014-09-09    448.0\n2014-09-10    410.0\n2014-09-11    331.0\n2014-09-12    485.0\n2014-09-13    568.0\n2014-09-14    515.0\n2014-09-15    410.0\n2014-09-16    286.0\n2014-09-17    440.0\n2014-09-18    346.0\n2014-09-19    460.0\n2014-09-20    494.0\n2014-09-21    460.0\n2014-09-22    293.0\n2014-09-23    353.0\n2014-09-24    302.0\n2014-09-25    415.0\n2014-09-26    319.0\n2014-09-27    514.0\n2014-09-28    484.0\n2014-09-29    398.0\n2014-09-30    434.0\n2014-10-01    372.0\n2014-10-02    428.0\n2014-10-03    425.0\n2014-10-04    578.0\n2014-10-05    442.0\n2014-10-06    473.0\n2014-10-07    337.0\n2014-10-08    406.0\n2014-10-09    389.0\n2014-10-10    482.0\n2014-10-11    468.0\n2014-10-12    432.0\n2014-10-13    400.0\n2014-10-14    401.0\n2014-10-15    439.0\n2014-10-16    273.0\n2014-10-17    548.0\n2014-10-18    632.0\n2014-10-19    398.0\n2014-10-20    426.0\n2014-10-21    455.0\n2014-10-22    389.0\n2014-10-23    339.0\n2014-10-24    387.0\n2014-10-25    562.0\n2014-10-26    439.0\n2014-10-27    458.0\n2014-10-28    512.0\n2014-10-29    396.0\n2014-10-30    393.0\n2014-10-31    368.0\n2014-11-01    902.0\n2014-11-02    508.0\n2014-11-03    500.0\n2014-11-04    401.0\n2014-11-05    327.0\n2014-11-06    459.0\n2014-11-07    488.0\n2014-11-08    493.0\n2014-11-09    504.0\n2014-11-10    379.0\n2014-11-11    422.0\n2014-11-12    377.0\n2014-11-13    377.0\n2014-11-14    464.0\n2014-11-15    571.0\n2014-11-16    572.0\n2014-11-17    401.0\n2014-11-18    341.0\n2014-11-19    398.0\n2014-11-20    297.0\n2014-11-21    555.0\n2014-11-22    596.0\n2014-11-23    440.0\n2014-11-24    429.0\n2014-11-25    432.0\n2014-11-26    401.0\n2014-11-27    113.0\n2014-11-28    299.0\n2014-11-29    521.0\n2014-11-30    513.0\n2014-12-01    593.0\n2014-12-02    356.0\n2014-12-03    371.0\n2014-12-04    403.0\n2014-12-05    461.0\n2014-12-06    621.0\n2014-12-07    458.0\n2014-12-08    374.0\n2014-12-09    493.0\n2014-12-10    593.0\n2014-12-11    209.0\n2014-12-12    397.0\n2014-12-13    587.0\n2014-12-14    528.0\n2014-12-15    368.0\n2014-12-16    523.0\n2014-12-17    383.0\n2014-12-18    434.0\n2014-12-19    429.0\n2014-12-20    691.0\n2014-12-21    463.0\n2014-12-22    422.0\n2014-12-23    533.0\n2014-12-24    259.0\n2014-12-25    360.5\n2014-12-26    462.0\n2014-12-27    493.0\n2014-12-28    399.0\n2014-12-29    478.0\n2014-12-30    402.0\n2014-12-31    479.0\n2015-01-01    291.0\n2015-01-02    521.0\n2015-01-03    495.0\n2015-01-04    562.0\n2015-01-05    525.0\n2015-01-06    427.0\n2015-01-07    290.0\n2015-01-08    335.0\n2015-01-09    371.0\n2015-01-10    646.0\n2015-01-11    470.0\n2015-01-12    472.0\n2015-01-13    397.0\n2015-01-14    406.0\n2015-01-15    430.0\n2015-01-16    488.0\n2015-01-17    577.0\n2015-01-18    422.0\n2015-01-19    520.0\n2015-01-20    293.0\n2015-01-21    358.0\n2015-01-22    257.0\n2015-01-23    478.0\n2015-01-24    623.0\n2015-01-25    493.0\n2015-01-26    327.0\n2015-01-27    397.0\n2015-01-28    400.0\n2015-01-29    404.0\n2015-01-30    535.0\n2015-01-31    574.0\n2015-02-01    548.0\n2015-02-02    405.0\n2015-02-03    468.0\n2015-02-04    353.0\n2015-02-05    439.0\n2015-02-06    406.0\n2015-02-07    716.0\n2015-02-08    471.0\n2015-02-09    489.0\n2015-02-10    533.0\n2015-02-11    467.0\n2015-02-12    395.0\n2015-02-13    427.0\n2015-02-14    564.0\n2015-02-15    474.0\n2015-02-16    469.0\n2015-02-17    362.0\n2015-02-18    388.0\n2015-02-19    423.0\n2015-02-20    466.0\n2015-02-21    523.0\n2015-02-22    543.0\n2015-02-23    325.0\n2015-02-24    349.0\n2015-02-25    501.0\n2015-02-26    447.0\n2015-02-27    681.0\n2015-02-28    751.0\n2015-03-01    700.0\n2015-03-02    414.0\n2015-03-03    473.0\n2015-03-04    437.0\n2015-03-05    513.0\n2015-03-06    542.0\n2015-03-07    584.0\n2015-03-08    548.0\n2015-03-09    404.0\n2015-03-10    446.0\n2015-03-11    366.0\n2015-03-12    444.0\n2015-03-13    372.0\n2015-03-14    524.0\n2015-03-15    501.0\n2015-03-16    616.0\n2015-03-17    400.0\n2015-03-18    420.0\n2015-03-19    414.0\n2015-03-20    454.0\n2015-03-21    605.0\n2015-03-22    443.0\n2015-03-23    435.0\n2015-03-24    509.0\n2015-03-25    376.0\n2015-03-26    374.0\n2015-03-27    502.0\n2015-03-28    482.0\n2015-03-29    420.0\n2015-03-30    523.0\n2015-03-31    356.0\n2015-04-01    583.0\n2015-04-02    450.0\n2015-04-03    514.0\n2015-04-04    612.0\n2015-04-05    463.0\n2015-04-06    464.0\n2015-04-07    552.0\n2015-04-08    386.0\n2015-04-09    406.0\n2015-04-10    453.0\n2015-04-11    629.0\n2015-04-12    581.0\n2015-04-13    403.0\n2015-04-14    519.0\n2015-04-15    426.0\n2015-04-16    494.0\n2015-04-17    370.0\n2015-04-18    673.0\n2015-04-19    531.0\n2015-04-20    417.0\n2015-04-21    392.0\n2015-04-22    439.0\n2015-04-23    460.0\n2015-04-24    553.0\n2015-04-25    573.0\n2015-04-26    481.0\n2015-04-27    406.0\n2015-04-28    359.0\n2015-04-29    420.0\n2015-04-30    403.0\n2015-05-01    500.0\n2015-05-02    563.0\n2015-05-03    568.0\n2015-05-04    551.0\n2015-05-05    440.0\n2015-05-06    500.0\n2015-05-07    451.0\n2015-05-08    494.0\n2015-05-09    528.0\n2015-05-10    494.0\n2015-05-11    586.0\n2015-05-12    501.0\n2015-05-13    487.0\n2015-05-14    348.0\n2015-05-15    523.0\n2015-05-16    621.0\n2015-05-17    524.0\n2015-05-18    436.0\n2015-05-19    467.0\n2015-05-20    522.0\n2015-05-21    408.0\n2015-05-22    504.0\n2015-05-23    631.0\n2015-05-24    622.0\n2015-05-25    414.0\n2015-05-26    420.0\n2015-05-27    541.0\n2015-05-28    420.0\n2015-05-29    420.0\n2015-05-30    567.0\n2015-05-31    667.0\n2015-06-01    483.0\n2015-06-02    551.0\n2015-06-03    402.0\n2015-06-04    381.0\n2015-06-05    451.0\n2015-06-06    617.0\n2015-06-07    534.0\n2015-06-08    365.0\n2015-06-09    344.0\n2015-06-10    483.0\n2015-06-11    365.0\n2015-06-12    460.0\n2015-06-13    544.0\n2015-06-14    487.0\n2015-06-15    446.0\n2015-06-16    375.0\n2015-06-17    474.0\n2015-06-18    438.0\n2015-06-19    487.0\n2015-06-20    577.0\n2015-06-21    446.0\n2015-06-22    455.0\n2015-06-23    437.0\n2015-06-24    489.0\n2015-06-25    432.0\n2015-06-26    453.0\n2015-06-27    570.0\n2015-06-28    653.0\n2015-06-29    517.0\n2015-06-30    457.0\n2015-07-01    647.0\n2015-07-02    551.0\n2015-07-03    761.0\n2015-07-04    445.0\n2015-07-05    467.0\n2015-07-06    514.0\n2015-07-07    496.0\n2015-07-08    484.0\n2015-07-09    502.0\n2015-07-10    624.0\n2015-07-11    597.0\n2015-07-12    631.0\n2015-07-13    504.0\n2015-07-14    392.0\n2015-07-15    471.0\n2015-07-16    495.0\n2015-07-17    515.0\n2015-07-18    651.0\n2015-07-19    704.0\n2015-07-20    440.0\n2015-07-21    397.0\n2015-07-22    594.0\n2015-07-23    463.0\n2015-07-24    522.0\n2015-07-25    524.0\n2015-07-26    496.0\n2015-07-27    545.0\n2015-07-28    449.0\n2015-07-29    384.0\n2015-07-30    424.0\n2015-07-31    561.0\n2015-08-01    715.0\n2015-08-02    715.0\n2015-08-03    636.0\n2015-08-04    470.0\n2015-08-05    455.0\n2015-08-06    474.0\n2015-08-07    570.0\n2015-08-08    588.0\n2015-08-09    684.0\n2015-08-10    448.0\n2015-08-11    550.0\n2015-08-12    485.0\n2015-08-13    449.0\n2015-08-14    462.0\n2015-08-15    680.0\n2015-08-16    617.0\n2015-08-17    488.0\n2015-08-18    426.0\n2015-08-19    624.0\n2015-08-20    462.0\n2015-08-21    520.0\n2015-08-22    548.0\n2015-08-23    568.0\n2015-08-24    425.0\n2015-08-25    461.0\n2015-08-26    552.0\n2015-08-27    558.0\n2015-08-28    429.0\n2015-08-29    578.0\n2015-08-30    519.0\n2015-08-31    520.0\n2015-09-01    398.0\n2015-09-02    469.0\n2015-09-03    651.0\n2015-09-04    442.0\n2015-09-05    582.0\n2015-09-06    595.0\n2015-09-07    614.0\n2015-09-08    494.0\n2015-09-09    476.0\n2015-09-10    440.0\n2015-09-11    492.0\n2015-09-12    534.0\n2015-09-13    582.0\n2015-09-14    438.0\n2015-09-15    439.0\n2015-09-16    376.0\n2015-09-17    574.0\n2015-09-18    682.0\n2015-09-19    584.0\n2015-09-20    540.0\n2015-09-21    428.0\n2015-09-22    437.0\n2015-09-23    472.0\n2015-09-24    359.0\n2015-09-25    572.0\n2015-09-26    554.0\n2015-09-27    553.0\n2015-09-28    466.0\n2015-09-29    362.0\n2015-09-30    399.0\n2015-10-01    540.0\n2015-10-02    660.0\n2015-10-03    676.0\n2015-10-04    617.0\n2015-10-05    402.0\n2015-10-06    453.0\n2015-10-07    479.0\n2015-10-08    464.0\n2015-10-09    517.0\n2015-10-10    450.0\n2015-10-11    469.0\n2015-10-12    526.0\n2015-10-13    449.0\n2015-10-14    421.0\n2015-10-15    428.0\n2015-10-16    473.0\n2015-10-17    633.0\n2015-10-18    547.0\n2015-10-19    488.0\n2015-10-20    413.0\n2015-10-21    536.0\n2015-10-22    330.0\n2015-10-23    531.0\n2015-10-24    545.0\n2015-10-25    633.0\n2015-10-26    459.0\n2015-10-27    450.0\n2015-10-28    404.0\n2015-10-29    385.0\n2015-10-30    524.0\n2015-10-31    661.0\n2015-11-01    572.0\n2015-11-02    565.0\n2015-11-03    444.0\n2015-11-04    514.0\n2015-11-05    504.0\n2015-11-06    586.0\n2015-11-07    597.0\n2015-11-08    516.0\n2015-11-09    428.0\n2015-11-10    482.0\n2015-11-11    412.0\n2015-11-12    437.0\n2015-11-13    540.0\n2015-11-14    548.0\n2015-11-15    621.0\n2015-11-16    417.0\n2015-11-17    529.0\n2015-11-18    479.0\n2015-11-19    591.0\n2015-11-20    575.0\n2015-11-21    618.0\n2015-11-22    617.0\n2015-11-23    591.0\n2015-11-24    420.0\n2015-11-25    427.0\n2015-11-26    146.0\n2015-11-27    345.0\n2015-11-28    563.0\n2015-11-29    509.0\n2015-11-30    631.0\n2015-12-01    662.0\n2015-12-02    460.0\n2015-12-03    534.0\n2015-12-04    470.0\n2015-12-05    660.0\n2015-12-06    634.0\n2015-12-07    443.0\n2015-12-08    493.0\n2015-12-09    496.0\n2015-12-10    547.0\n2015-12-11    591.0\n2015-12-12    665.0\n2015-12-13    574.0\n2015-12-14    487.0\n2015-12-15    491.0\n2015-12-16    426.0\n2015-12-17    452.0\n2015-12-18    525.0\n2015-12-19    758.0\n2015-12-20    603.0\n2015-12-21    688.0\n2015-12-22    542.0\n2015-12-23    471.0\n2015-12-24    473.0\n2015-12-25    484.5\n2015-12-26    496.0\n2015-12-27    513.0\n2015-12-28    516.0\n2015-12-29    571.0\n2015-12-30    475.0\n2015-12-31    459.0\n2016-01-01    457.0\n2016-01-02    819.0\n2016-01-03    480.0\n2016-01-04    441.0\n2016-01-05    386.0\n2016-01-06    367.0\n2016-01-07    519.0\n2016-01-08    565.0\n2016-01-09    661.0\n2016-01-10    461.0\n2016-01-11    473.0\n2016-01-12    450.0\n2016-01-13    349.0\n2016-01-14    460.0\n2016-01-15    502.0\n2016-01-16    625.0\n2016-01-17    532.0\n2016-01-18    564.0\n2016-01-19    333.0\n2016-01-20    478.0\n2016-01-21    539.0\n2016-01-22    430.0\n2016-01-23    664.0\n2016-01-24    431.0\n2016-01-25    482.0\n2016-01-26    414.0\n2016-01-27    376.0\n2016-01-28    425.0\n2016-01-29    437.0\n2016-01-30    564.0\n2016-01-31    608.0\n2016-02-01    498.0\n2016-02-02    381.0\n2016-02-03    589.0\n2016-02-04    464.0\n2016-02-05    466.0\n2016-02-06    658.0\n2016-02-07    455.0\n2016-02-08    354.0\n2016-02-09    409.0\n2016-02-10    511.0\n2016-02-11    476.0\n2016-02-12    381.0\n2016-02-13    551.0\n2016-02-14    503.0\n2016-02-15    443.0\n2016-02-16    478.0\n2016-02-17    539.0\n2016-02-18    471.0\n2016-02-19    533.0\n2016-02-20    548.0\n2016-02-21    608.0\n2016-02-22    488.0\n2016-02-23    390.0\n2016-02-24    425.0\n2016-02-25    422.0\n2016-02-26    470.0\n2016-02-27    533.0\n2016-02-28    696.0\n2016-02-29    381.0\n2016-03-01    543.0\n2016-03-02    441.0\n2016-03-03    400.0\n2016-03-04    405.0\n2016-03-05    545.0\n2016-03-06    780.0\n2016-03-07    425.0\n2016-03-08    414.0\n2016-03-09    440.0\n2016-03-10    531.0\n2016-03-11    335.0\n2016-03-12    702.0\n2016-03-13    522.0\n2016-03-14    409.0\n2016-03-15    377.0\n2016-03-16    433.0\n2016-03-17    319.0\n2016-03-18    533.0\n2016-03-19    553.0\n2016-03-20    446.0\n2016-03-21    483.0\n2016-03-22    400.0\n2016-03-23    413.0\n2016-03-24    445.0\n2016-03-25    407.0\n2016-03-26    557.0\n2016-03-27    338.0\n2016-03-28    510.0\n2016-03-29    460.0\n2016-03-30    421.0\n2016-03-31    486.0\n2016-04-01    703.0\n2016-04-02    543.0\n2016-04-03    759.0\n2016-04-04    436.0\n2016-04-05    520.0\n2016-04-06    403.0\n2016-04-07    338.0\n2016-04-08    551.0\n2016-04-09    535.0\n2016-04-10    503.0\n2016-04-11    596.0\n2016-04-12    370.0\n2016-04-13    366.0\n2016-04-14    411.0\n2016-04-15    370.0\n2016-04-16    690.0\n2016-04-17    597.0\n2016-04-18    517.0\n2016-04-19    461.0\n2016-04-20    333.0\n2016-04-21    380.0\n2016-04-22    471.0\n2016-04-23    621.0\n2016-04-24    641.0\nName: (CA_1, HOBBIES_1), dtype: float64"
     },
     "execution_count": 21,
     "metadata": {},
     "output_type": "execute_result"
    }
   ],
   "source": [
    "train_df_9.iloc[:, 0]"
   ]
  },
  {
   "cell_type": "markdown",
   "metadata": {},
   "source": [
    "### Q4. (10 pts.)\n",
    "\n",
    "For all series, generate a 28-step forecast by combining the forecasts generated by the models in Q2 and Q3 (i.e. simple averaging).\n",
    "\n",
    "Calculate the `RMSSE` against the test set, then summarize the metrics in a dataframe and print it."
   ]
  },
  {
   "cell_type": "code",
   "execution_count": null,
   "metadata": {},
   "outputs": [],
   "source": [
    "# Your code here"
   ]
  },
  {
   "cell_type": "markdown",
   "metadata": {},
   "source": [
    "---\n",
    "\n",
    "## Part 3. WRMSSE (10 pts.)"
   ]
  },
  {
   "cell_type": "markdown",
   "metadata": {},
   "source": [
    "### Q5.  (10 pts.)\n",
    "\n",
    "Calculate the `WRMSSE` for the all the methods described above. The weights can be found in `weights_validation.csv`.\n",
    "\n",
    "For reference, the M5 benchmarks have the following `WRMSSE` scores at level 9:\n",
    "\n",
    "- `Naive` = <b>1.764</b>\n",
    "\n",
    "\n",
    "- `S.Naive` = <b>0.888</b>\n",
    "\n",
    "\n",
    "- `ES_bu` = <b>0.728</b>\n",
    "\n",
    "<i>Note: The M5 benchmarks use a bottom-up method for forecasting, so they will not necessarily be equal to your scores.</i>"
   ]
  },
  {
   "cell_type": "code",
   "execution_count": null,
   "metadata": {},
   "outputs": [
    {
     "data": {
      "text/plain": "Naive                    1.6287\nSeasonal Naive           0.9300\nSES                      1.2075\nHolt's Linear            1.2367\nAdditive Holt-Winters    0.8549\ndtype: float64"
     },
     "execution_count": 16,
     "metadata": {},
     "output_type": "execute_result"
    }
   ],
   "source": [
    "(df_res_9_base.rename_axis(['Agg_Level_1', 'Agg_Level_2'])\r\n",
    " .multiply(weights_df_9.squeeze(), axis=0).sum())"
   ]
  },
  {
   "cell_type": "markdown",
   "metadata": {},
   "source": [
    "---\n",
    "\n",
    "## Part 4. Middle-Out Method (30 pts.)"
   ]
  },
  {
   "cell_type": "markdown",
   "metadata": {},
   "source": [
    "### Q6. Bottom-Up (15 pts.)\n",
    "\n",
    "Using your forecasts from the best performing method in Q5, use the bottom-up method described in [FPP3](https://otexts.com/fpp3/single-level.html) to generate forecasts for levels 1 to 8.\n",
    "\n",
    "Calculate the `WRMSSE` for levels 1 to 8 against the test set, then summarize the metrics in a dataframe and print it.\n",
    "\n",
    "For reference, you can find the benchmark `WRMSSE` scores in the `The M5 Accuracy competition: Results, findings and conclusions` paper.\n",
    "\n",
    "<i>Note: The M5 benchmarks use a bottom-up method for forecasting, so they will not necessarily be equal to your scores.</i>"
   ]
  },
  {
   "cell_type": "code",
   "execution_count": null,
   "metadata": {},
   "outputs": [],
   "source": [
    "# Your code here"
   ]
  },
  {
   "cell_type": "markdown",
   "metadata": {},
   "source": [
    "### Q7. Top-Down  (15 pts.)\n",
    "\n",
    "Using your forecasts from the best performing method in Q5, use the top-down method with `average historical proportions` described in [FPP3](https://otexts.com/fpp3/single-level.html) to generate forecasts for levels 10 to 12.\n",
    "\n",
    "Calculate the `WRMSSE` for levels 10 to 12  against the test set, then summarize the metrics in a dataframe and print it.\n",
    "\n",
    "For reference, you can find the benchmark `WRMSSE` scores in the `The M5 Accuracy competition: Results, findings and conclusions` paper.\n",
    "\n",
    "<i>Note: The M5 benchmarks use a bottom-up method for forecasting, so they will not necessarily be equal to your scores.</i>"
   ]
  },
  {
   "cell_type": "code",
   "execution_count": null,
   "metadata": {},
   "outputs": [],
   "source": [
    "# Your code here"
   ]
  }
 ],
 "metadata": {
  "kernelspec": {
   "display_name": "Python 3.8.5 64-bit ('base': conda)",
   "name": "python385jvsc74a57bd008ae71a2a85a5652d8229c397ba8f5798c36e68d48091d60cb62cd9611e9bf61"
  },
  "language_info": {
   "codemirror_mode": {
    "name": "ipython",
    "version": 3
   },
   "file_extension": ".py",
   "mimetype": "text/x-python",
   "name": "python",
   "nbconvert_exporter": "python",
   "pygments_lexer": "ipython3",
   "version": "3.8.5"
  },
  "latex_envs": {
   "LaTeX_envs_menu_present": true,
   "autoclose": false,
   "autocomplete": true,
   "bibliofile": "biblio.bib",
   "cite_by": "apalike",
   "current_citInitial": 1,
   "eqLabelWithNumbers": true,
   "eqNumInitial": 1,
   "hotkeys": {
    "equation": "Ctrl-E",
    "itemize": "Ctrl-I"
   },
   "labels_anchors": false,
   "latex_user_defs": false,
   "report_style_numbering": false,
   "user_envs_cfg": false
  },
  "toc": {
   "base_numbering": 1,
   "nav_menu": {},
   "number_sections": true,
   "sideBar": true,
   "skip_h1_title": false,
   "title_cell": "Table of Contents",
   "title_sidebar": "Contents",
   "toc_cell": false,
   "toc_position": {},
   "toc_section_display": true,
   "toc_window_display": false
  },
  "varInspector": {
   "cols": {
    "lenName": 16,
    "lenType": 16,
    "lenVar": 40
   },
   "kernels_config": {
    "python": {
     "delete_cmd_postfix": "",
     "delete_cmd_prefix": "del ",
     "library": "var_list.py",
     "varRefreshCmd": "print(var_dic_list())"
    },
    "r": {
     "delete_cmd_postfix": ") ",
     "delete_cmd_prefix": "rm(",
     "library": "var_list.r",
     "varRefreshCmd": "cat(var_dic_list()) "
    }
   },
   "types_to_exclude": [
    "module",
    "function",
    "builtin_function_or_method",
    "instance",
    "_Feature"
   ],
   "window_display": false
  }
 },
 "nbformat": 4,
 "nbformat_minor": 4
}