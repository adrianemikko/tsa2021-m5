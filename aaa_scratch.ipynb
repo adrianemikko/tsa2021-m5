{
 "cells": [
  {
   "cell_type": "markdown",
   "metadata": {},
   "source": [
    "# Time Series Analysis: \"The Final Project\"\r\n",
    "\r\n",
    "`End? No, the journey doesn't end here. Death is just another path. One that we all must take.\r\n",
    "-J.R.R. Tolkien, The Return of the King`"
   ]
  },
  {
   "cell_type": "markdown",
   "metadata": {},
   "source": [
    "---\n",
    "\n",
    "## Libraries"
   ]
  },
  {
   "cell_type": "code",
   "execution_count": 17,
   "metadata": {},
   "outputs": [
    {
     "name": "stdout",
     "output_type": "stream",
     "text": [
      "[WinError 3] The system cannot find the path specified: 'Documents\\\\tsa2021-m5'\n",
      "C:\\Users\\aamorado\\Documents\\tsa2021-m5\n"
     ]
    }
   ],
   "source": [
    "%cd \"Documents\\tsa2021-m5\""
   ]
  },
  {
   "cell_type": "code",
   "execution_count": 19,
   "metadata": {
    "ExecuteTime": {
     "end_time": "2021-04-29T10:32:16.820862Z",
     "start_time": "2021-04-29T10:32:15.178981Z"
    }
   },
   "outputs": [],
   "source": [
    "from statsmodels.tsa.exponential_smoothing.ets import ETSModel\r\n",
    "import statsmodels.api as sm\r\n",
    "import numpy as np\r\n",
    "import pandas as pd\r\n",
    "import seaborn as sns\r\n",
    "import matplotlib.pyplot as plt\r\n",
    "import lightgbm as lgb\r\n",
    "from pandas.plotting import register_matplotlib_converters\r\n",
    "from IPython.display import display\r\n",
    "from tsa_tools import *  # Hehe\r\n",
    "\r\n",
    "register_matplotlib_converters()\r\n",
    "sns.set_style('darkgrid')\r\n",
    "\r\n",
    "np.set_printoptions(precision=4)\r\n",
    "pd.set_option('precision', 4)"
   ]
  },
  {
   "cell_type": "markdown",
   "metadata": {},
   "source": [
    "---\n",
    "\n",
    "## M5 Forecasting\n",
    "\n",
    "For this \"final project\", we will be forecasting the <b><u>level 9</b></u> series (unit sales of all products, aggregated for each store and department).\n",
    "\n",
    "Load `sales_train_evaluation.csv` and use observations from `d_1 to d_1913` for training and `d_1914 to d_1941` for testing."
   ]
  },
  {
   "cell_type": "code",
   "execution_count": 20,
   "metadata": {
    "ExecuteTime": {
     "end_time": "2021-04-29T10:32:22.526625Z",
     "start_time": "2021-04-29T10:32:16.824918Z"
    }
   },
   "outputs": [],
   "source": [
    "df_calendar = pd.read_csv('../data/m5/calendar.csv')\r\n",
    "df_sales = pd.read_csv('../data/m5/sales_train_evaluation.csv')\r\n",
    "df_weights = pd.read_csv('../data/m5/weights_validation.csv')\r\n",
    "# display(df_calendar, df_sales, df_weights)"
   ]
  },
  {
   "cell_type": "code",
   "execution_count": 21,
   "metadata": {},
   "outputs": [],
   "source": [
    "train_df = (df_sales.set_index([*df_sales.columns[5::-1]]).T\r\n",
    "           .set_index(pd.DatetimeIndex(df_calendar.date)[:1941]).iloc[:-28])\r\n",
    "test_df = (df_sales.set_index([*df_sales.columns[5::-1]]).T\r\n",
    "           .set_index(pd.DatetimeIndex(df_calendar.date)[:1941]).iloc[-28:])\r\n",
    "# display(train_df, test_df)"
   ]
  },
  {
   "cell_type": "code",
   "execution_count": 22,
   "metadata": {},
   "outputs": [],
   "source": [
    "levels = {\r\n",
    "    1: None,\r\n",
    "    2: \"state_id\",\r\n",
    "    3: \"store_id\",\r\n",
    "    4: \"cat_id\",\r\n",
    "    5: \"dept_id\",\r\n",
    "    6: [\"state_id\", \"cat_id\"],\r\n",
    "    7: [\"state_id\", \"dept_id\"],\r\n",
    "    8: [\"store_id\", \"cat_id\"],\r\n",
    "    9: [\"store_id\", \"dept_id\"],\r\n",
    "    10: \"item_id\",\r\n",
    "    11: [\"state_id\", \"item_id\"],\r\n",
    "    12: [\"store_id\", \"item_id\"]\r\n",
    "}\r\n"
   ]
  },
  {
   "cell_type": "markdown",
   "metadata": {},
   "source": [
    "---\n",
    "\n",
    "## Part 1. Baseline Methods (10 pts.)"
   ]
  },
  {
   "cell_type": "markdown",
   "metadata": {},
   "source": [
    "### Q1. (10 pts.)\n",
    "\n",
    "Extract all level 9 series from the dataset.\n",
    "\n",
    "For each series, generate a 28-step forecast using the methods enumerated below and calculate the `RMSSE` against the test set:\n",
    "\n",
    "1. `Naive`\n",
    "\n",
    "\n",
    "2. `Seasonal Naive`\n",
    "\n",
    "\n",
    "3. `SES`\n",
    "\n",
    "\n",
    "4. `Holt's Linear`\n",
    "\n",
    "\n",
    "5. `Additive Holt-Winters`\n",
    "\n",
    "Summarize the metrics in a dataframe and print it."
   ]
  },
  {
   "cell_type": "code",
   "execution_count": 23,
   "metadata": {},
   "outputs": [],
   "source": [
    "methods = {\r\n",
    "    \"Naive\": BaseFuncModel(naivef),\r\n",
    "    \"Seasonal Naive\": BaseFuncModel(snaivef, m=7),\r\n",
    "    \"SES\": StatsModelsWrapper(ETSModel, trend=None, seasonal=None),\r\n",
    "    \"Holt's Linear\": StatsModelsWrapper(ETSModel, trend='add', seasonal=None),\r\n",
    "    \"Additive Holt-Winters\": StatsModelsWrapper(\r\n",
    "        ETSModel, seasonal_periods=7, trend='add', seasonal='add'),\r\n",
    "}\r\n",
    "\r\n",
    "trainOG_df_9 = train_df.sum(axis='columns', level=levels[9])\r\n",
    "train_df_9 = timeSeriesFiltering(trainOG_df_9, lower=10)\r\n",
    "test_df_9 = test_df.sum(axis='columns', level=levels[9])\r\n",
    "weights_df_9 = (df_weights\r\n",
    "                .loc[df_weights['Level_id'] == 'Level9']\r\n",
    "                .set_index(['Agg_Level_1', 'Agg_Level_2'])[['Weight']])"
   ]
  },
  {
   "cell_type": "code",
   "execution_count": 24,
   "metadata": {
    "ExecuteTime": {
     "end_time": "2021-04-28T16:37:30.846487Z",
     "start_time": "2021-04-28T16:37:27.791260Z"
    },
    "scrolled": true
   },
   "outputs": [],
   "source": [
    "res = {}\r\n",
    "for method, model in methods.items():\r\n",
    "    forecast_df_9 = pd.DataFrame(\r\n",
    "        {label: model.fit(content).forecast(28)\r\n",
    "        for label, content in train_df_9.items()}\r\n",
    "        )\r\n",
    "    res[method] = rateMyForecast(\r\n",
    "        trainOG_df_9, test_df_9, forecast_df_9)['RMSSE']"
   ]
  },
  {
   "cell_type": "code",
   "execution_count": 25,
   "metadata": {},
   "outputs": [
    {
     "data": {
      "text/html": "<div>\n<style scoped>\n    .dataframe tbody tr th:only-of-type {\n        vertical-align: middle;\n    }\n\n    .dataframe tbody tr th {\n        vertical-align: top;\n    }\n\n    .dataframe thead th {\n        text-align: right;\n    }\n</style>\n<table border=\"1\" class=\"dataframe\">\n  <thead>\n    <tr style=\"text-align: right;\">\n      <th></th>\n      <th></th>\n      <th>Naive</th>\n      <th>Seasonal Naive</th>\n      <th>SES</th>\n      <th>Holt's Linear</th>\n      <th>Additive Holt-Winters</th>\n    </tr>\n  </thead>\n  <tbody>\n    <tr>\n      <th rowspan=\"7\" valign=\"top\">CA_1</th>\n      <th>HOBBIES_1</th>\n      <td>1.4216</td>\n      <td>0.7428</td>\n      <td>0.8598</td>\n      <td>0.8589</td>\n      <td>0.6152</td>\n    </tr>\n    <tr>\n      <th>HOBBIES_2</th>\n      <td>1.8601</td>\n      <td>1.0992</td>\n      <td>0.8494</td>\n      <td>0.8414</td>\n      <td>0.6931</td>\n    </tr>\n    <tr>\n      <th>HOUSEHOLD_1</th>\n      <td>2.0500</td>\n      <td>0.5036</td>\n      <td>1.1212</td>\n      <td>1.1331</td>\n      <td>0.4317</td>\n    </tr>\n    <tr>\n      <th>HOUSEHOLD_2</th>\n      <td>2.2407</td>\n      <td>0.5094</td>\n      <td>1.1894</td>\n      <td>1.1486</td>\n      <td>0.5141</td>\n    </tr>\n    <tr>\n      <th>FOODS_1</th>\n      <td>0.8768</td>\n      <td>0.6880</td>\n      <td>0.8637</td>\n      <td>0.8808</td>\n      <td>0.6870</td>\n    </tr>\n    <tr>\n      <th>FOODS_2</th>\n      <td>2.0036</td>\n      <td>0.8068</td>\n      <td>2.0035</td>\n      <td>2.2574</td>\n      <td>0.5786</td>\n    </tr>\n    <tr>\n      <th>FOODS_3</th>\n      <td>1.6443</td>\n      <td>0.4750</td>\n      <td>1.0401</td>\n      <td>0.9787</td>\n      <td>0.4848</td>\n    </tr>\n    <tr>\n      <th rowspan=\"7\" valign=\"top\">CA_2</th>\n      <th>HOBBIES_1</th>\n      <td>1.1753</td>\n      <td>0.6880</td>\n      <td>1.0901</td>\n      <td>1.0902</td>\n      <td>0.6379</td>\n    </tr>\n    <tr>\n      <th>HOBBIES_2</th>\n      <td>1.3073</td>\n      <td>1.4373</td>\n      <td>1.3402</td>\n      <td>1.3308</td>\n      <td>1.1234</td>\n    </tr>\n    <tr>\n      <th>HOUSEHOLD_1</th>\n      <td>1.9863</td>\n      <td>0.6240</td>\n      <td>1.3668</td>\n      <td>1.3564</td>\n      <td>0.5704</td>\n    </tr>\n    <tr>\n      <th>HOUSEHOLD_2</th>\n      <td>1.8849</td>\n      <td>0.5770</td>\n      <td>1.4254</td>\n      <td>1.4165</td>\n      <td>0.6488</td>\n    </tr>\n    <tr>\n      <th>FOODS_1</th>\n      <td>1.1962</td>\n      <td>1.0775</td>\n      <td>1.3218</td>\n      <td>1.3134</td>\n      <td>0.9258</td>\n    </tr>\n    <tr>\n      <th>FOODS_2</th>\n      <td>4.1379</td>\n      <td>1.4366</td>\n      <td>2.2206</td>\n      <td>2.1603</td>\n      <td>1.2523</td>\n    </tr>\n    <tr>\n      <th>FOODS_3</th>\n      <td>2.4898</td>\n      <td>0.5828</td>\n      <td>1.3979</td>\n      <td>1.3605</td>\n      <td>0.4614</td>\n    </tr>\n    <tr>\n      <th rowspan=\"7\" valign=\"top\">CA_3</th>\n      <th>HOBBIES_1</th>\n      <td>0.9058</td>\n      <td>0.6425</td>\n      <td>0.6766</td>\n      <td>0.6784</td>\n      <td>0.4876</td>\n    </tr>\n    <tr>\n      <th>HOBBIES_2</th>\n      <td>1.1844</td>\n      <td>1.6422</td>\n      <td>1.5348</td>\n      <td>1.5252</td>\n      <td>1.5122</td>\n    </tr>\n    <tr>\n      <th>HOUSEHOLD_1</th>\n      <td>2.4874</td>\n      <td>0.7176</td>\n      <td>1.0695</td>\n      <td>1.0945</td>\n      <td>0.6359</td>\n    </tr>\n    <tr>\n      <th>HOUSEHOLD_2</th>\n      <td>2.0081</td>\n      <td>0.8406</td>\n      <td>1.3608</td>\n      <td>1.3524</td>\n      <td>0.9044</td>\n    </tr>\n    <tr>\n      <th>FOODS_1</th>\n      <td>1.0944</td>\n      <td>1.4881</td>\n      <td>1.3092</td>\n      <td>1.3022</td>\n      <td>1.3700</td>\n    </tr>\n    <tr>\n      <th>FOODS_2</th>\n      <td>1.8145</td>\n      <td>0.7055</td>\n      <td>1.6655</td>\n      <td>1.6808</td>\n      <td>0.5552</td>\n    </tr>\n    <tr>\n      <th>FOODS_3</th>\n      <td>1.4642</td>\n      <td>0.4057</td>\n      <td>0.8303</td>\n      <td>1.4798</td>\n      <td>0.4335</td>\n    </tr>\n    <tr>\n      <th rowspan=\"7\" valign=\"top\">CA_4</th>\n      <th>HOBBIES_1</th>\n      <td>1.4108</td>\n      <td>1.0669</td>\n      <td>0.9649</td>\n      <td>0.9597</td>\n      <td>0.8854</td>\n    </tr>\n    <tr>\n      <th>HOBBIES_2</th>\n      <td>1.5277</td>\n      <td>1.3413</td>\n      <td>1.3553</td>\n      <td>1.3549</td>\n      <td>1.3687</td>\n    </tr>\n    <tr>\n      <th>HOUSEHOLD_1</th>\n      <td>3.2265</td>\n      <td>1.3949</td>\n      <td>1.1781</td>\n      <td>1.1518</td>\n      <td>0.9194</td>\n    </tr>\n    <tr>\n      <th>HOUSEHOLD_2</th>\n      <td>1.2957</td>\n      <td>0.9160</td>\n      <td>1.0072</td>\n      <td>0.9944</td>\n      <td>0.7923</td>\n    </tr>\n    <tr>\n      <th>FOODS_1</th>\n      <td>0.9428</td>\n      <td>1.4526</td>\n      <td>1.2850</td>\n      <td>1.2664</td>\n      <td>1.2432</td>\n    </tr>\n    <tr>\n      <th>FOODS_2</th>\n      <td>1.2565</td>\n      <td>0.7737</td>\n      <td>1.1230</td>\n      <td>1.1156</td>\n      <td>0.7533</td>\n    </tr>\n    <tr>\n      <th>FOODS_3</th>\n      <td>1.3082</td>\n      <td>0.5906</td>\n      <td>0.8758</td>\n      <td>0.8723</td>\n      <td>0.6155</td>\n    </tr>\n    <tr>\n      <th rowspan=\"7\" valign=\"top\">TX_1</th>\n      <th>HOBBIES_1</th>\n      <td>1.5773</td>\n      <td>0.8856</td>\n      <td>0.8751</td>\n      <td>0.8737</td>\n      <td>0.6820</td>\n    </tr>\n    <tr>\n      <th>HOBBIES_2</th>\n      <td>1.7232</td>\n      <td>1.5083</td>\n      <td>1.3088</td>\n      <td>1.2963</td>\n      <td>1.3579</td>\n    </tr>\n    <tr>\n      <th>HOUSEHOLD_1</th>\n      <td>1.7292</td>\n      <td>0.7703</td>\n      <td>1.0973</td>\n      <td>1.0909</td>\n      <td>0.7469</td>\n    </tr>\n    <tr>\n      <th>HOUSEHOLD_2</th>\n      <td>1.1629</td>\n      <td>1.2091</td>\n      <td>1.0126</td>\n      <td>0.9971</td>\n      <td>0.9166</td>\n    </tr>\n    <tr>\n      <th>FOODS_1</th>\n      <td>1.2691</td>\n      <td>1.6348</td>\n      <td>1.4803</td>\n      <td>1.4703</td>\n      <td>1.5410</td>\n    </tr>\n    <tr>\n      <th>FOODS_2</th>\n      <td>1.1590</td>\n      <td>0.9268</td>\n      <td>0.8335</td>\n      <td>0.8334</td>\n      <td>0.7763</td>\n    </tr>\n    <tr>\n      <th>FOODS_3</th>\n      <td>1.1032</td>\n      <td>0.7950</td>\n      <td>0.8655</td>\n      <td>0.8366</td>\n      <td>0.5911</td>\n    </tr>\n    <tr>\n      <th rowspan=\"7\" valign=\"top\">TX_2</th>\n      <th>HOBBIES_1</th>\n      <td>0.7631</td>\n      <td>0.8409</td>\n      <td>0.8406</td>\n      <td>0.8361</td>\n      <td>0.6955</td>\n    </tr>\n    <tr>\n      <th>HOBBIES_2</th>\n      <td>0.7312</td>\n      <td>1.2235</td>\n      <td>0.9492</td>\n      <td>0.9444</td>\n      <td>0.9807</td>\n    </tr>\n    <tr>\n      <th>HOUSEHOLD_1</th>\n      <td>0.8174</td>\n      <td>0.8049</td>\n      <td>0.8195</td>\n      <td>0.8222</td>\n      <td>0.6134</td>\n    </tr>\n    <tr>\n      <th>HOUSEHOLD_2</th>\n      <td>1.2981</td>\n      <td>0.6212</td>\n      <td>0.8821</td>\n      <td>0.8852</td>\n      <td>0.4281</td>\n    </tr>\n    <tr>\n      <th>FOODS_1</th>\n      <td>1.3761</td>\n      <td>1.1937</td>\n      <td>1.2033</td>\n      <td>1.1958</td>\n      <td>1.3479</td>\n    </tr>\n    <tr>\n      <th>FOODS_2</th>\n      <td>0.9110</td>\n      <td>0.6606</td>\n      <td>0.7281</td>\n      <td>0.7461</td>\n      <td>0.6550</td>\n    </tr>\n    <tr>\n      <th>FOODS_3</th>\n      <td>0.7848</td>\n      <td>0.5939</td>\n      <td>0.7153</td>\n      <td>0.7135</td>\n      <td>0.5763</td>\n    </tr>\n    <tr>\n      <th rowspan=\"7\" valign=\"top\">TX_3</th>\n      <th>HOBBIES_1</th>\n      <td>1.4710</td>\n      <td>0.8672</td>\n      <td>0.9036</td>\n      <td>0.9004</td>\n      <td>0.7070</td>\n    </tr>\n    <tr>\n      <th>HOBBIES_2</th>\n      <td>1.4024</td>\n      <td>1.6834</td>\n      <td>1.0940</td>\n      <td>1.0908</td>\n      <td>1.0873</td>\n    </tr>\n    <tr>\n      <th>HOUSEHOLD_1</th>\n      <td>1.0028</td>\n      <td>1.0079</td>\n      <td>0.9570</td>\n      <td>0.9398</td>\n      <td>0.8490</td>\n    </tr>\n    <tr>\n      <th>HOUSEHOLD_2</th>\n      <td>0.8211</td>\n      <td>1.2536</td>\n      <td>0.9665</td>\n      <td>0.9437</td>\n      <td>0.8434</td>\n    </tr>\n    <tr>\n      <th>FOODS_1</th>\n      <td>2.5226</td>\n      <td>2.0495</td>\n      <td>1.9882</td>\n      <td>1.9710</td>\n      <td>2.0232</td>\n    </tr>\n    <tr>\n      <th>FOODS_2</th>\n      <td>1.3254</td>\n      <td>1.3751</td>\n      <td>1.3809</td>\n      <td>1.3830</td>\n      <td>1.4838</td>\n    </tr>\n    <tr>\n      <th>FOODS_3</th>\n      <td>0.9046</td>\n      <td>1.0331</td>\n      <td>0.9999</td>\n      <td>0.9814</td>\n      <td>0.9691</td>\n    </tr>\n    <tr>\n      <th rowspan=\"7\" valign=\"top\">WI_1</th>\n      <th>HOBBIES_1</th>\n      <td>1.3352</td>\n      <td>0.4960</td>\n      <td>0.7349</td>\n      <td>0.7350</td>\n      <td>0.4554</td>\n    </tr>\n    <tr>\n      <th>HOBBIES_2</th>\n      <td>1.1800</td>\n      <td>1.4764</td>\n      <td>1.1532</td>\n      <td>1.1458</td>\n      <td>1.1243</td>\n    </tr>\n    <tr>\n      <th>HOUSEHOLD_1</th>\n      <td>1.6758</td>\n      <td>0.6321</td>\n      <td>1.0699</td>\n      <td>1.0707</td>\n      <td>0.6251</td>\n    </tr>\n    <tr>\n      <th>HOUSEHOLD_2</th>\n      <td>1.6721</td>\n      <td>0.7258</td>\n      <td>1.0645</td>\n      <td>1.0628</td>\n      <td>0.5537</td>\n    </tr>\n    <tr>\n      <th>FOODS_1</th>\n      <td>0.9442</td>\n      <td>0.8110</td>\n      <td>1.0012</td>\n      <td>0.9976</td>\n      <td>0.8027</td>\n    </tr>\n    <tr>\n      <th>FOODS_2</th>\n      <td>2.0424</td>\n      <td>1.2113</td>\n      <td>1.5852</td>\n      <td>1.5796</td>\n      <td>1.2625</td>\n    </tr>\n    <tr>\n      <th>FOODS_3</th>\n      <td>1.5857</td>\n      <td>0.5180</td>\n      <td>1.1000</td>\n      <td>1.0915</td>\n      <td>0.4414</td>\n    </tr>\n    <tr>\n      <th rowspan=\"7\" valign=\"top\">WI_2</th>\n      <th>HOBBIES_1</th>\n      <td>1.3340</td>\n      <td>0.8068</td>\n      <td>0.7468</td>\n      <td>0.7363</td>\n      <td>0.7104</td>\n    </tr>\n    <tr>\n      <th>HOBBIES_2</th>\n      <td>1.1058</td>\n      <td>1.4020</td>\n      <td>1.1380</td>\n      <td>1.1333</td>\n      <td>1.1226</td>\n    </tr>\n    <tr>\n      <th>HOUSEHOLD_1</th>\n      <td>1.2729</td>\n      <td>1.0639</td>\n      <td>1.3340</td>\n      <td>1.2667</td>\n      <td>1.0357</td>\n    </tr>\n    <tr>\n      <th>HOUSEHOLD_2</th>\n      <td>1.3615</td>\n      <td>0.9486</td>\n      <td>0.9316</td>\n      <td>0.9222</td>\n      <td>0.7227</td>\n    </tr>\n    <tr>\n      <th>FOODS_1</th>\n      <td>2.3356</td>\n      <td>2.2583</td>\n      <td>2.1291</td>\n      <td>2.1132</td>\n      <td>2.1748</td>\n    </tr>\n    <tr>\n      <th>FOODS_2</th>\n      <td>2.3919</td>\n      <td>2.4625</td>\n      <td>2.3974</td>\n      <td>2.3447</td>\n      <td>2.4670</td>\n    </tr>\n    <tr>\n      <th>FOODS_3</th>\n      <td>1.2993</td>\n      <td>1.4850</td>\n      <td>1.3450</td>\n      <td>1.3129</td>\n      <td>1.4057</td>\n    </tr>\n    <tr>\n      <th rowspan=\"7\" valign=\"top\">WI_3</th>\n      <th>HOBBIES_1</th>\n      <td>0.9267</td>\n      <td>0.8844</td>\n      <td>0.8974</td>\n      <td>0.8975</td>\n      <td>0.7336</td>\n    </tr>\n    <tr>\n      <th>HOBBIES_2</th>\n      <td>1.4277</td>\n      <td>1.0141</td>\n      <td>0.8795</td>\n      <td>0.8744</td>\n      <td>0.8674</td>\n    </tr>\n    <tr>\n      <th>HOUSEHOLD_1</th>\n      <td>1.3693</td>\n      <td>0.6352</td>\n      <td>1.0400</td>\n      <td>1.0414</td>\n      <td>0.6549</td>\n    </tr>\n    <tr>\n      <th>HOUSEHOLD_2</th>\n      <td>1.8375</td>\n      <td>0.8780</td>\n      <td>1.2736</td>\n      <td>1.2739</td>\n      <td>0.8337</td>\n    </tr>\n    <tr>\n      <th>FOODS_1</th>\n      <td>1.0325</td>\n      <td>1.7945</td>\n      <td>1.2664</td>\n      <td>1.2534</td>\n      <td>1.3107</td>\n    </tr>\n    <tr>\n      <th>FOODS_2</th>\n      <td>1.2411</td>\n      <td>1.5134</td>\n      <td>1.3379</td>\n      <td>1.3166</td>\n      <td>1.5966</td>\n    </tr>\n    <tr>\n      <th>FOODS_3</th>\n      <td>1.0474</td>\n      <td>0.7342</td>\n      <td>1.0585</td>\n      <td>1.0759</td>\n      <td>0.8358</td>\n    </tr>\n  </tbody>\n</table>\n</div>",
      "text/plain": "                   Naive  Seasonal Naive     SES  Holt's Linear  \\\nCA_1 HOBBIES_1    1.4216          0.7428  0.8598         0.8589   \n     HOBBIES_2    1.8601          1.0992  0.8494         0.8414   \n     HOUSEHOLD_1  2.0500          0.5036  1.1212         1.1331   \n     HOUSEHOLD_2  2.2407          0.5094  1.1894         1.1486   \n     FOODS_1      0.8768          0.6880  0.8637         0.8808   \n     FOODS_2      2.0036          0.8068  2.0035         2.2574   \n     FOODS_3      1.6443          0.4750  1.0401         0.9787   \nCA_2 HOBBIES_1    1.1753          0.6880  1.0901         1.0902   \n     HOBBIES_2    1.3073          1.4373  1.3402         1.3308   \n     HOUSEHOLD_1  1.9863          0.6240  1.3668         1.3564   \n     HOUSEHOLD_2  1.8849          0.5770  1.4254         1.4165   \n     FOODS_1      1.1962          1.0775  1.3218         1.3134   \n     FOODS_2      4.1379          1.4366  2.2206         2.1603   \n     FOODS_3      2.4898          0.5828  1.3979         1.3605   \nCA_3 HOBBIES_1    0.9058          0.6425  0.6766         0.6784   \n     HOBBIES_2    1.1844          1.6422  1.5348         1.5252   \n     HOUSEHOLD_1  2.4874          0.7176  1.0695         1.0945   \n     HOUSEHOLD_2  2.0081          0.8406  1.3608         1.3524   \n     FOODS_1      1.0944          1.4881  1.3092         1.3022   \n     FOODS_2      1.8145          0.7055  1.6655         1.6808   \n     FOODS_3      1.4642          0.4057  0.8303         1.4798   \nCA_4 HOBBIES_1    1.4108          1.0669  0.9649         0.9597   \n     HOBBIES_2    1.5277          1.3413  1.3553         1.3549   \n     HOUSEHOLD_1  3.2265          1.3949  1.1781         1.1518   \n     HOUSEHOLD_2  1.2957          0.9160  1.0072         0.9944   \n     FOODS_1      0.9428          1.4526  1.2850         1.2664   \n     FOODS_2      1.2565          0.7737  1.1230         1.1156   \n     FOODS_3      1.3082          0.5906  0.8758         0.8723   \nTX_1 HOBBIES_1    1.5773          0.8856  0.8751         0.8737   \n     HOBBIES_2    1.7232          1.5083  1.3088         1.2963   \n     HOUSEHOLD_1  1.7292          0.7703  1.0973         1.0909   \n     HOUSEHOLD_2  1.1629          1.2091  1.0126         0.9971   \n     FOODS_1      1.2691          1.6348  1.4803         1.4703   \n     FOODS_2      1.1590          0.9268  0.8335         0.8334   \n     FOODS_3      1.1032          0.7950  0.8655         0.8366   \nTX_2 HOBBIES_1    0.7631          0.8409  0.8406         0.8361   \n     HOBBIES_2    0.7312          1.2235  0.9492         0.9444   \n     HOUSEHOLD_1  0.8174          0.8049  0.8195         0.8222   \n     HOUSEHOLD_2  1.2981          0.6212  0.8821         0.8852   \n     FOODS_1      1.3761          1.1937  1.2033         1.1958   \n     FOODS_2      0.9110          0.6606  0.7281         0.7461   \n     FOODS_3      0.7848          0.5939  0.7153         0.7135   \nTX_3 HOBBIES_1    1.4710          0.8672  0.9036         0.9004   \n     HOBBIES_2    1.4024          1.6834  1.0940         1.0908   \n     HOUSEHOLD_1  1.0028          1.0079  0.9570         0.9398   \n     HOUSEHOLD_2  0.8211          1.2536  0.9665         0.9437   \n     FOODS_1      2.5226          2.0495  1.9882         1.9710   \n     FOODS_2      1.3254          1.3751  1.3809         1.3830   \n     FOODS_3      0.9046          1.0331  0.9999         0.9814   \nWI_1 HOBBIES_1    1.3352          0.4960  0.7349         0.7350   \n     HOBBIES_2    1.1800          1.4764  1.1532         1.1458   \n     HOUSEHOLD_1  1.6758          0.6321  1.0699         1.0707   \n     HOUSEHOLD_2  1.6721          0.7258  1.0645         1.0628   \n     FOODS_1      0.9442          0.8110  1.0012         0.9976   \n     FOODS_2      2.0424          1.2113  1.5852         1.5796   \n     FOODS_3      1.5857          0.5180  1.1000         1.0915   \nWI_2 HOBBIES_1    1.3340          0.8068  0.7468         0.7363   \n     HOBBIES_2    1.1058          1.4020  1.1380         1.1333   \n     HOUSEHOLD_1  1.2729          1.0639  1.3340         1.2667   \n     HOUSEHOLD_2  1.3615          0.9486  0.9316         0.9222   \n     FOODS_1      2.3356          2.2583  2.1291         2.1132   \n     FOODS_2      2.3919          2.4625  2.3974         2.3447   \n     FOODS_3      1.2993          1.4850  1.3450         1.3129   \nWI_3 HOBBIES_1    0.9267          0.8844  0.8974         0.8975   \n     HOBBIES_2    1.4277          1.0141  0.8795         0.8744   \n     HOUSEHOLD_1  1.3693          0.6352  1.0400         1.0414   \n     HOUSEHOLD_2  1.8375          0.8780  1.2736         1.2739   \n     FOODS_1      1.0325          1.7945  1.2664         1.2534   \n     FOODS_2      1.2411          1.5134  1.3379         1.3166   \n     FOODS_3      1.0474          0.7342  1.0585         1.0759   \n\n                  Additive Holt-Winters  \nCA_1 HOBBIES_1                   0.6152  \n     HOBBIES_2                   0.6931  \n     HOUSEHOLD_1                 0.4317  \n     HOUSEHOLD_2                 0.5141  \n     FOODS_1                     0.6870  \n     FOODS_2                     0.5786  \n     FOODS_3                     0.4848  \nCA_2 HOBBIES_1                   0.6379  \n     HOBBIES_2                   1.1234  \n     HOUSEHOLD_1                 0.5704  \n     HOUSEHOLD_2                 0.6488  \n     FOODS_1                     0.9258  \n     FOODS_2                     1.2523  \n     FOODS_3                     0.4614  \nCA_3 HOBBIES_1                   0.4876  \n     HOBBIES_2                   1.5122  \n     HOUSEHOLD_1                 0.6359  \n     HOUSEHOLD_2                 0.9044  \n     FOODS_1                     1.3700  \n     FOODS_2                     0.5552  \n     FOODS_3                     0.4335  \nCA_4 HOBBIES_1                   0.8854  \n     HOBBIES_2                   1.3687  \n     HOUSEHOLD_1                 0.9194  \n     HOUSEHOLD_2                 0.7923  \n     FOODS_1                     1.2432  \n     FOODS_2                     0.7533  \n     FOODS_3                     0.6155  \nTX_1 HOBBIES_1                   0.6820  \n     HOBBIES_2                   1.3579  \n     HOUSEHOLD_1                 0.7469  \n     HOUSEHOLD_2                 0.9166  \n     FOODS_1                     1.5410  \n     FOODS_2                     0.7763  \n     FOODS_3                     0.5911  \nTX_2 HOBBIES_1                   0.6955  \n     HOBBIES_2                   0.9807  \n     HOUSEHOLD_1                 0.6134  \n     HOUSEHOLD_2                 0.4281  \n     FOODS_1                     1.3479  \n     FOODS_2                     0.6550  \n     FOODS_3                     0.5763  \nTX_3 HOBBIES_1                   0.7070  \n     HOBBIES_2                   1.0873  \n     HOUSEHOLD_1                 0.8490  \n     HOUSEHOLD_2                 0.8434  \n     FOODS_1                     2.0232  \n     FOODS_2                     1.4838  \n     FOODS_3                     0.9691  \nWI_1 HOBBIES_1                   0.4554  \n     HOBBIES_2                   1.1243  \n     HOUSEHOLD_1                 0.6251  \n     HOUSEHOLD_2                 0.5537  \n     FOODS_1                     0.8027  \n     FOODS_2                     1.2625  \n     FOODS_3                     0.4414  \nWI_2 HOBBIES_1                   0.7104  \n     HOBBIES_2                   1.1226  \n     HOUSEHOLD_1                 1.0357  \n     HOUSEHOLD_2                 0.7227  \n     FOODS_1                     2.1748  \n     FOODS_2                     2.4670  \n     FOODS_3                     1.4057  \nWI_3 HOBBIES_1                   0.7336  \n     HOBBIES_2                   0.8674  \n     HOUSEHOLD_1                 0.6549  \n     HOUSEHOLD_2                 0.8337  \n     FOODS_1                     1.3107  \n     FOODS_2                     1.5966  \n     FOODS_3                     0.8358  "
     },
     "execution_count": 25,
     "metadata": {},
     "output_type": "execute_result"
    }
   ],
   "source": [
    "pd.set_option('display.max_rows', None)\r\n",
    "df_res_9_base = pd.DataFrame(res)\r\n",
    "df_res_9_base.index = pd.MultiIndex.from_tuples(df_res_9_base.index)\r\n",
    "df_res_9_base"
   ]
  },
  {
   "cell_type": "markdown",
   "metadata": {},
   "source": [
    "---\n",
    "\n",
    "## Part 2. LightGBM (30 pts.)"
   ]
  },
  {
   "cell_type": "markdown",
   "metadata": {},
   "source": [
    "### Q2. (10 pts.)\n",
    "\n",
    "For all series, use an un-tuned `LightGBM` with 56-day lookback that uses a one-step recursive forecasting strategy to generate a 28-step forecast.\n",
    "\n",
    "Calculate the `RMSSE` against the test set, then summarize the metrics in a dataframe and print it."
   ]
  },
  {
   "cell_type": "code",
   "execution_count": 26,
   "metadata": {},
   "outputs": [],
   "source": [
    "model = RecursiveRegressor(\r\n",
    "    lgb.LGBMRegressor(random_state=1, w=56, h=28, n_jobs=-1))  # Model: recursive-forecasting\r\n",
    "pred = {}\r\n",
    "\r\n",
    "for col in train_df_9:\r\n",
    "    model.fit(None, train_df_9[col])\r\n",
    "    pred[col] = model.predict(trainOG_df_9[col].iloc[-56:]).squeeze()"
   ]
  },
  {
   "cell_type": "code",
   "execution_count": 27,
   "metadata": {},
   "outputs": [
    {
     "data": {
      "text/html": "<div>\n<style scoped>\n    .dataframe tbody tr th:only-of-type {\n        vertical-align: middle;\n    }\n\n    .dataframe tbody tr th {\n        vertical-align: top;\n    }\n\n    .dataframe thead th {\n        text-align: right;\n    }\n</style>\n<table border=\"1\" class=\"dataframe\">\n  <thead>\n    <tr style=\"text-align: right;\">\n      <th></th>\n      <th></th>\n      <th>RMSSE</th>\n    </tr>\n  </thead>\n  <tbody>\n    <tr>\n      <th rowspan=\"7\" valign=\"top\">CA_1</th>\n      <th>HOBBIES_1</th>\n      <td>0.7180</td>\n    </tr>\n    <tr>\n      <th>HOBBIES_2</th>\n      <td>0.6586</td>\n    </tr>\n    <tr>\n      <th>HOUSEHOLD_1</th>\n      <td>0.5073</td>\n    </tr>\n    <tr>\n      <th>HOUSEHOLD_2</th>\n      <td>0.5062</td>\n    </tr>\n    <tr>\n      <th>FOODS_1</th>\n      <td>0.6677</td>\n    </tr>\n    <tr>\n      <th>FOODS_2</th>\n      <td>0.6450</td>\n    </tr>\n    <tr>\n      <th>FOODS_3</th>\n      <td>0.4652</td>\n    </tr>\n    <tr>\n      <th rowspan=\"7\" valign=\"top\">CA_2</th>\n      <th>HOBBIES_1</th>\n      <td>0.6993</td>\n    </tr>\n    <tr>\n      <th>HOBBIES_2</th>\n      <td>1.2472</td>\n    </tr>\n    <tr>\n      <th>HOUSEHOLD_1</th>\n      <td>0.6587</td>\n    </tr>\n    <tr>\n      <th>HOUSEHOLD_2</th>\n      <td>0.7485</td>\n    </tr>\n    <tr>\n      <th>FOODS_1</th>\n      <td>0.9528</td>\n    </tr>\n    <tr>\n      <th>FOODS_2</th>\n      <td>1.3704</td>\n    </tr>\n    <tr>\n      <th>FOODS_3</th>\n      <td>0.5608</td>\n    </tr>\n    <tr>\n      <th rowspan=\"7\" valign=\"top\">CA_3</th>\n      <th>HOBBIES_1</th>\n      <td>0.5075</td>\n    </tr>\n    <tr>\n      <th>HOBBIES_2</th>\n      <td>1.3769</td>\n    </tr>\n    <tr>\n      <th>HOUSEHOLD_1</th>\n      <td>0.6552</td>\n    </tr>\n    <tr>\n      <th>HOUSEHOLD_2</th>\n      <td>0.7711</td>\n    </tr>\n    <tr>\n      <th>FOODS_1</th>\n      <td>1.1578</td>\n    </tr>\n    <tr>\n      <th>FOODS_2</th>\n      <td>0.5410</td>\n    </tr>\n    <tr>\n      <th>FOODS_3</th>\n      <td>0.4244</td>\n    </tr>\n    <tr>\n      <th rowspan=\"7\" valign=\"top\">CA_4</th>\n      <th>HOBBIES_1</th>\n      <td>1.0293</td>\n    </tr>\n    <tr>\n      <th>HOBBIES_2</th>\n      <td>1.0370</td>\n    </tr>\n    <tr>\n      <th>HOUSEHOLD_1</th>\n      <td>1.1065</td>\n    </tr>\n    <tr>\n      <th>HOUSEHOLD_2</th>\n      <td>1.1063</td>\n    </tr>\n    <tr>\n      <th>FOODS_1</th>\n      <td>1.4001</td>\n    </tr>\n    <tr>\n      <th>FOODS_2</th>\n      <td>0.7879</td>\n    </tr>\n    <tr>\n      <th>FOODS_3</th>\n      <td>0.6548</td>\n    </tr>\n    <tr>\n      <th rowspan=\"7\" valign=\"top\">TX_1</th>\n      <th>HOBBIES_1</th>\n      <td>0.7179</td>\n    </tr>\n    <tr>\n      <th>HOBBIES_2</th>\n      <td>1.0838</td>\n    </tr>\n    <tr>\n      <th>HOUSEHOLD_1</th>\n      <td>0.6982</td>\n    </tr>\n    <tr>\n      <th>HOUSEHOLD_2</th>\n      <td>0.8985</td>\n    </tr>\n    <tr>\n      <th>FOODS_1</th>\n      <td>1.4479</td>\n    </tr>\n    <tr>\n      <th>FOODS_2</th>\n      <td>0.7213</td>\n    </tr>\n    <tr>\n      <th>FOODS_3</th>\n      <td>0.7457</td>\n    </tr>\n    <tr>\n      <th rowspan=\"7\" valign=\"top\">TX_2</th>\n      <th>HOBBIES_1</th>\n      <td>0.7694</td>\n    </tr>\n    <tr>\n      <th>HOBBIES_2</th>\n      <td>0.9201</td>\n    </tr>\n    <tr>\n      <th>HOUSEHOLD_1</th>\n      <td>0.6974</td>\n    </tr>\n    <tr>\n      <th>HOUSEHOLD_2</th>\n      <td>0.4701</td>\n    </tr>\n    <tr>\n      <th>FOODS_1</th>\n      <td>1.0516</td>\n    </tr>\n    <tr>\n      <th>FOODS_2</th>\n      <td>0.5892</td>\n    </tr>\n    <tr>\n      <th>FOODS_3</th>\n      <td>0.5175</td>\n    </tr>\n    <tr>\n      <th rowspan=\"7\" valign=\"top\">TX_3</th>\n      <th>HOBBIES_1</th>\n      <td>0.7456</td>\n    </tr>\n    <tr>\n      <th>HOBBIES_2</th>\n      <td>1.1799</td>\n    </tr>\n    <tr>\n      <th>HOUSEHOLD_1</th>\n      <td>0.7238</td>\n    </tr>\n    <tr>\n      <th>HOUSEHOLD_2</th>\n      <td>1.0219</td>\n    </tr>\n    <tr>\n      <th>FOODS_1</th>\n      <td>1.6606</td>\n    </tr>\n    <tr>\n      <th>FOODS_2</th>\n      <td>1.0628</td>\n    </tr>\n    <tr>\n      <th>FOODS_3</th>\n      <td>0.8803</td>\n    </tr>\n    <tr>\n      <th rowspan=\"7\" valign=\"top\">WI_1</th>\n      <th>HOBBIES_1</th>\n      <td>0.4849</td>\n    </tr>\n    <tr>\n      <th>HOBBIES_2</th>\n      <td>1.0659</td>\n    </tr>\n    <tr>\n      <th>HOUSEHOLD_1</th>\n      <td>0.5406</td>\n    </tr>\n    <tr>\n      <th>HOUSEHOLD_2</th>\n      <td>0.7215</td>\n    </tr>\n    <tr>\n      <th>FOODS_1</th>\n      <td>0.7831</td>\n    </tr>\n    <tr>\n      <th>FOODS_2</th>\n      <td>1.0008</td>\n    </tr>\n    <tr>\n      <th>FOODS_3</th>\n      <td>0.5749</td>\n    </tr>\n    <tr>\n      <th rowspan=\"7\" valign=\"top\">WI_2</th>\n      <th>HOBBIES_1</th>\n      <td>0.7607</td>\n    </tr>\n    <tr>\n      <th>HOBBIES_2</th>\n      <td>1.2752</td>\n    </tr>\n    <tr>\n      <th>HOUSEHOLD_1</th>\n      <td>0.9675</td>\n    </tr>\n    <tr>\n      <th>HOUSEHOLD_2</th>\n      <td>1.0303</td>\n    </tr>\n    <tr>\n      <th>FOODS_1</th>\n      <td>2.0849</td>\n    </tr>\n    <tr>\n      <th>FOODS_2</th>\n      <td>1.4842</td>\n    </tr>\n    <tr>\n      <th>FOODS_3</th>\n      <td>0.8791</td>\n    </tr>\n    <tr>\n      <th rowspan=\"7\" valign=\"top\">WI_3</th>\n      <th>HOBBIES_1</th>\n      <td>0.8043</td>\n    </tr>\n    <tr>\n      <th>HOBBIES_2</th>\n      <td>1.0026</td>\n    </tr>\n    <tr>\n      <th>HOUSEHOLD_1</th>\n      <td>0.6797</td>\n    </tr>\n    <tr>\n      <th>HOUSEHOLD_2</th>\n      <td>0.8251</td>\n    </tr>\n    <tr>\n      <th>FOODS_1</th>\n      <td>1.4774</td>\n    </tr>\n    <tr>\n      <th>FOODS_2</th>\n      <td>0.9445</td>\n    </tr>\n    <tr>\n      <th>FOODS_3</th>\n      <td>0.5415</td>\n    </tr>\n  </tbody>\n</table>\n</div>",
      "text/plain": "                   RMSSE\nCA_1 HOBBIES_1    0.7180\n     HOBBIES_2    0.6586\n     HOUSEHOLD_1  0.5073\n     HOUSEHOLD_2  0.5062\n     FOODS_1      0.6677\n     FOODS_2      0.6450\n     FOODS_3      0.4652\nCA_2 HOBBIES_1    0.6993\n     HOBBIES_2    1.2472\n     HOUSEHOLD_1  0.6587\n     HOUSEHOLD_2  0.7485\n     FOODS_1      0.9528\n     FOODS_2      1.3704\n     FOODS_3      0.5608\nCA_3 HOBBIES_1    0.5075\n     HOBBIES_2    1.3769\n     HOUSEHOLD_1  0.6552\n     HOUSEHOLD_2  0.7711\n     FOODS_1      1.1578\n     FOODS_2      0.5410\n     FOODS_3      0.4244\nCA_4 HOBBIES_1    1.0293\n     HOBBIES_2    1.0370\n     HOUSEHOLD_1  1.1065\n     HOUSEHOLD_2  1.1063\n     FOODS_1      1.4001\n     FOODS_2      0.7879\n     FOODS_3      0.6548\nTX_1 HOBBIES_1    0.7179\n     HOBBIES_2    1.0838\n     HOUSEHOLD_1  0.6982\n     HOUSEHOLD_2  0.8985\n     FOODS_1      1.4479\n     FOODS_2      0.7213\n     FOODS_3      0.7457\nTX_2 HOBBIES_1    0.7694\n     HOBBIES_2    0.9201\n     HOUSEHOLD_1  0.6974\n     HOUSEHOLD_2  0.4701\n     FOODS_1      1.0516\n     FOODS_2      0.5892\n     FOODS_3      0.5175\nTX_3 HOBBIES_1    0.7456\n     HOBBIES_2    1.1799\n     HOUSEHOLD_1  0.7238\n     HOUSEHOLD_2  1.0219\n     FOODS_1      1.6606\n     FOODS_2      1.0628\n     FOODS_3      0.8803\nWI_1 HOBBIES_1    0.4849\n     HOBBIES_2    1.0659\n     HOUSEHOLD_1  0.5406\n     HOUSEHOLD_2  0.7215\n     FOODS_1      0.7831\n     FOODS_2      1.0008\n     FOODS_3      0.5749\nWI_2 HOBBIES_1    0.7607\n     HOBBIES_2    1.2752\n     HOUSEHOLD_1  0.9675\n     HOUSEHOLD_2  1.0303\n     FOODS_1      2.0849\n     FOODS_2      1.4842\n     FOODS_3      0.8791\nWI_3 HOBBIES_1    0.8043\n     HOBBIES_2    1.0026\n     HOUSEHOLD_1  0.6797\n     HOUSEHOLD_2  0.8251\n     FOODS_1      1.4774\n     FOODS_2      0.9445\n     FOODS_3      0.5415"
     },
     "execution_count": 27,
     "metadata": {},
     "output_type": "execute_result"
    }
   ],
   "source": [
    "df_pred_9_rrlgb = pd.DataFrame(pred)\r\n",
    "df_pred_9_rrlgb.index=test_df_9.index\r\n",
    "\r\n",
    "df_res_9_rrlgb = rateMyForecast(\r\n",
    "    trainOG_df_9, test_df_9, df_pred_9_rrlgb)['RMSSE']\r\n",
    "res[\"RecursiveRegressor(LGBMRegressor)\"] = df_res_9_rrlgb\r\n",
    "\r\n",
    "df_res_9_rrlgb.index = pd.MultiIndex.from_tuples(df_res_9_rrlgb.index)\r\n",
    "df_res_9_rrlgb.to_frame()"
   ]
  },
  {
   "cell_type": "markdown",
   "metadata": {},
   "source": [
    "### Q3. (10 pts.)\n",
    "\n",
    "For all series, use an un-tuned `LightGBM` with 56-day lookback that uses a direct forecasting strategy to generate a 28-step forecast.\n",
    "\n",
    "Calculate the `RMSSE` against the test set, then summarize the metrics in a dataframe and print it."
   ]
  },
  {
   "cell_type": "code",
   "execution_count": 28,
   "metadata": {},
   "outputs": [],
   "source": [
    "model = MultiOutputRegressor(\r\n",
    "    lgb.LGBMRegressor(random_state=1, n_jobs=-1),\r\n",
    "    n_jobs=-1)  # Model: direct-forecasting\r\n",
    "pred = {}\r\n",
    "\r\n",
    "for col in train_df_9:\r\n",
    "    X_train, _, y_train, _ = TimeseriesGenerator(\r\n",
    "        X=train_df_9[col],\r\n",
    "        y=None,\r\n",
    "        w=56,\r\n",
    "        h=28)\r\n",
    "    model.fit(X_train, y_train)\r\n",
    "    pred[col] = model.predict([trainOG_df_9[col].iloc[-56:]]).squeeze()"
   ]
  },
  {
   "cell_type": "code",
   "execution_count": 29,
   "metadata": {},
   "outputs": [
    {
     "data": {
      "text/html": "<div>\n<style scoped>\n    .dataframe tbody tr th:only-of-type {\n        vertical-align: middle;\n    }\n\n    .dataframe tbody tr th {\n        vertical-align: top;\n    }\n\n    .dataframe thead th {\n        text-align: right;\n    }\n</style>\n<table border=\"1\" class=\"dataframe\">\n  <thead>\n    <tr style=\"text-align: right;\">\n      <th></th>\n      <th></th>\n      <th>RMSSE</th>\n    </tr>\n  </thead>\n  <tbody>\n    <tr>\n      <th rowspan=\"7\" valign=\"top\">CA_1</th>\n      <th>HOBBIES_1</th>\n      <td>0.6870</td>\n    </tr>\n    <tr>\n      <th>HOBBIES_2</th>\n      <td>0.6902</td>\n    </tr>\n    <tr>\n      <th>HOUSEHOLD_1</th>\n      <td>0.3635</td>\n    </tr>\n    <tr>\n      <th>HOUSEHOLD_2</th>\n      <td>0.6683</td>\n    </tr>\n    <tr>\n      <th>FOODS_1</th>\n      <td>0.6356</td>\n    </tr>\n    <tr>\n      <th>FOODS_2</th>\n      <td>0.7556</td>\n    </tr>\n    <tr>\n      <th>FOODS_3</th>\n      <td>0.5491</td>\n    </tr>\n    <tr>\n      <th rowspan=\"7\" valign=\"top\">CA_2</th>\n      <th>HOBBIES_1</th>\n      <td>0.6626</td>\n    </tr>\n    <tr>\n      <th>HOBBIES_2</th>\n      <td>1.4831</td>\n    </tr>\n    <tr>\n      <th>HOUSEHOLD_1</th>\n      <td>0.5651</td>\n    </tr>\n    <tr>\n      <th>HOUSEHOLD_2</th>\n      <td>0.8564</td>\n    </tr>\n    <tr>\n      <th>FOODS_1</th>\n      <td>1.2147</td>\n    </tr>\n    <tr>\n      <th>FOODS_2</th>\n      <td>1.5736</td>\n    </tr>\n    <tr>\n      <th>FOODS_3</th>\n      <td>0.6949</td>\n    </tr>\n    <tr>\n      <th rowspan=\"7\" valign=\"top\">CA_3</th>\n      <th>HOBBIES_1</th>\n      <td>0.5409</td>\n    </tr>\n    <tr>\n      <th>HOBBIES_2</th>\n      <td>1.3213</td>\n    </tr>\n    <tr>\n      <th>HOUSEHOLD_1</th>\n      <td>0.5652</td>\n    </tr>\n    <tr>\n      <th>HOUSEHOLD_2</th>\n      <td>1.0248</td>\n    </tr>\n    <tr>\n      <th>FOODS_1</th>\n      <td>1.1526</td>\n    </tr>\n    <tr>\n      <th>FOODS_2</th>\n      <td>0.5205</td>\n    </tr>\n    <tr>\n      <th>FOODS_3</th>\n      <td>0.4762</td>\n    </tr>\n    <tr>\n      <th rowspan=\"7\" valign=\"top\">CA_4</th>\n      <th>HOBBIES_1</th>\n      <td>1.0659</td>\n    </tr>\n    <tr>\n      <th>HOBBIES_2</th>\n      <td>1.0646</td>\n    </tr>\n    <tr>\n      <th>HOUSEHOLD_1</th>\n      <td>1.1893</td>\n    </tr>\n    <tr>\n      <th>HOUSEHOLD_2</th>\n      <td>1.2187</td>\n    </tr>\n    <tr>\n      <th>FOODS_1</th>\n      <td>1.4446</td>\n    </tr>\n    <tr>\n      <th>FOODS_2</th>\n      <td>0.8464</td>\n    </tr>\n    <tr>\n      <th>FOODS_3</th>\n      <td>0.7849</td>\n    </tr>\n    <tr>\n      <th rowspan=\"7\" valign=\"top\">TX_1</th>\n      <th>HOBBIES_1</th>\n      <td>0.7365</td>\n    </tr>\n    <tr>\n      <th>HOBBIES_2</th>\n      <td>1.2643</td>\n    </tr>\n    <tr>\n      <th>HOUSEHOLD_1</th>\n      <td>0.7898</td>\n    </tr>\n    <tr>\n      <th>HOUSEHOLD_2</th>\n      <td>1.1766</td>\n    </tr>\n    <tr>\n      <th>FOODS_1</th>\n      <td>1.4104</td>\n    </tr>\n    <tr>\n      <th>FOODS_2</th>\n      <td>0.6312</td>\n    </tr>\n    <tr>\n      <th>FOODS_3</th>\n      <td>0.7245</td>\n    </tr>\n    <tr>\n      <th rowspan=\"7\" valign=\"top\">TX_2</th>\n      <th>HOBBIES_1</th>\n      <td>0.7980</td>\n    </tr>\n    <tr>\n      <th>HOBBIES_2</th>\n      <td>1.0457</td>\n    </tr>\n    <tr>\n      <th>HOUSEHOLD_1</th>\n      <td>0.6691</td>\n    </tr>\n    <tr>\n      <th>HOUSEHOLD_2</th>\n      <td>0.4887</td>\n    </tr>\n    <tr>\n      <th>FOODS_1</th>\n      <td>0.9875</td>\n    </tr>\n    <tr>\n      <th>FOODS_2</th>\n      <td>0.6193</td>\n    </tr>\n    <tr>\n      <th>FOODS_3</th>\n      <td>0.5281</td>\n    </tr>\n    <tr>\n      <th rowspan=\"7\" valign=\"top\">TX_3</th>\n      <th>HOBBIES_1</th>\n      <td>0.6781</td>\n    </tr>\n    <tr>\n      <th>HOBBIES_2</th>\n      <td>1.3581</td>\n    </tr>\n    <tr>\n      <th>HOUSEHOLD_1</th>\n      <td>0.8329</td>\n    </tr>\n    <tr>\n      <th>HOUSEHOLD_2</th>\n      <td>1.1091</td>\n    </tr>\n    <tr>\n      <th>FOODS_1</th>\n      <td>1.5831</td>\n    </tr>\n    <tr>\n      <th>FOODS_2</th>\n      <td>1.0183</td>\n    </tr>\n    <tr>\n      <th>FOODS_3</th>\n      <td>0.9081</td>\n    </tr>\n    <tr>\n      <th rowspan=\"7\" valign=\"top\">WI_1</th>\n      <th>HOBBIES_1</th>\n      <td>0.4860</td>\n    </tr>\n    <tr>\n      <th>HOBBIES_2</th>\n      <td>1.0000</td>\n    </tr>\n    <tr>\n      <th>HOUSEHOLD_1</th>\n      <td>0.5658</td>\n    </tr>\n    <tr>\n      <th>HOUSEHOLD_2</th>\n      <td>0.7214</td>\n    </tr>\n    <tr>\n      <th>FOODS_1</th>\n      <td>0.9579</td>\n    </tr>\n    <tr>\n      <th>FOODS_2</th>\n      <td>0.9230</td>\n    </tr>\n    <tr>\n      <th>FOODS_3</th>\n      <td>0.6724</td>\n    </tr>\n    <tr>\n      <th rowspan=\"7\" valign=\"top\">WI_2</th>\n      <th>HOBBIES_1</th>\n      <td>0.7070</td>\n    </tr>\n    <tr>\n      <th>HOBBIES_2</th>\n      <td>1.1984</td>\n    </tr>\n    <tr>\n      <th>HOUSEHOLD_1</th>\n      <td>0.9822</td>\n    </tr>\n    <tr>\n      <th>HOUSEHOLD_2</th>\n      <td>0.8728</td>\n    </tr>\n    <tr>\n      <th>FOODS_1</th>\n      <td>2.4593</td>\n    </tr>\n    <tr>\n      <th>FOODS_2</th>\n      <td>1.4717</td>\n    </tr>\n    <tr>\n      <th>FOODS_3</th>\n      <td>0.8308</td>\n    </tr>\n    <tr>\n      <th rowspan=\"7\" valign=\"top\">WI_3</th>\n      <th>HOBBIES_1</th>\n      <td>0.8515</td>\n    </tr>\n    <tr>\n      <th>HOBBIES_2</th>\n      <td>1.0450</td>\n    </tr>\n    <tr>\n      <th>HOUSEHOLD_1</th>\n      <td>0.6969</td>\n    </tr>\n    <tr>\n      <th>HOUSEHOLD_2</th>\n      <td>0.8210</td>\n    </tr>\n    <tr>\n      <th>FOODS_1</th>\n      <td>1.6087</td>\n    </tr>\n    <tr>\n      <th>FOODS_2</th>\n      <td>0.8097</td>\n    </tr>\n    <tr>\n      <th>FOODS_3</th>\n      <td>0.5013</td>\n    </tr>\n  </tbody>\n</table>\n</div>",
      "text/plain": "                   RMSSE\nCA_1 HOBBIES_1    0.6870\n     HOBBIES_2    0.6902\n     HOUSEHOLD_1  0.3635\n     HOUSEHOLD_2  0.6683\n     FOODS_1      0.6356\n     FOODS_2      0.7556\n     FOODS_3      0.5491\nCA_2 HOBBIES_1    0.6626\n     HOBBIES_2    1.4831\n     HOUSEHOLD_1  0.5651\n     HOUSEHOLD_2  0.8564\n     FOODS_1      1.2147\n     FOODS_2      1.5736\n     FOODS_3      0.6949\nCA_3 HOBBIES_1    0.5409\n     HOBBIES_2    1.3213\n     HOUSEHOLD_1  0.5652\n     HOUSEHOLD_2  1.0248\n     FOODS_1      1.1526\n     FOODS_2      0.5205\n     FOODS_3      0.4762\nCA_4 HOBBIES_1    1.0659\n     HOBBIES_2    1.0646\n     HOUSEHOLD_1  1.1893\n     HOUSEHOLD_2  1.2187\n     FOODS_1      1.4446\n     FOODS_2      0.8464\n     FOODS_3      0.7849\nTX_1 HOBBIES_1    0.7365\n     HOBBIES_2    1.2643\n     HOUSEHOLD_1  0.7898\n     HOUSEHOLD_2  1.1766\n     FOODS_1      1.4104\n     FOODS_2      0.6312\n     FOODS_3      0.7245\nTX_2 HOBBIES_1    0.7980\n     HOBBIES_2    1.0457\n     HOUSEHOLD_1  0.6691\n     HOUSEHOLD_2  0.4887\n     FOODS_1      0.9875\n     FOODS_2      0.6193\n     FOODS_3      0.5281\nTX_3 HOBBIES_1    0.6781\n     HOBBIES_2    1.3581\n     HOUSEHOLD_1  0.8329\n     HOUSEHOLD_2  1.1091\n     FOODS_1      1.5831\n     FOODS_2      1.0183\n     FOODS_3      0.9081\nWI_1 HOBBIES_1    0.4860\n     HOBBIES_2    1.0000\n     HOUSEHOLD_1  0.5658\n     HOUSEHOLD_2  0.7214\n     FOODS_1      0.9579\n     FOODS_2      0.9230\n     FOODS_3      0.6724\nWI_2 HOBBIES_1    0.7070\n     HOBBIES_2    1.1984\n     HOUSEHOLD_1  0.9822\n     HOUSEHOLD_2  0.8728\n     FOODS_1      2.4593\n     FOODS_2      1.4717\n     FOODS_3      0.8308\nWI_3 HOBBIES_1    0.8515\n     HOBBIES_2    1.0450\n     HOUSEHOLD_1  0.6969\n     HOUSEHOLD_2  0.8210\n     FOODS_1      1.6087\n     FOODS_2      0.8097\n     FOODS_3      0.5013"
     },
     "execution_count": 29,
     "metadata": {},
     "output_type": "execute_result"
    }
   ],
   "source": [
    "df_pred_9_morlgb = pd.DataFrame(pred, index=test_df_9.index)\r\n",
    "\r\n",
    "df_res_9_morlgb = rateMyForecast(\r\n",
    "    trainOG_df_9, test_df_9, df_pred_9_morlgb)['RMSSE']\r\n",
    "res[\"MultiOutputRegressor(LGBMRegressor)\"] = df_res_9_morlgb\r\n",
    "\r\n",
    "df_res_9_morlgb.index = pd.MultiIndex.from_tuples(df_res_9_morlgb.index)\r\n",
    "df_res_9_morlgb.to_frame()"
   ]
  },
  {
   "cell_type": "markdown",
   "metadata": {},
   "source": [
    "### Q4. (10 pts.)\n",
    "\n",
    "For all series, generate a 28-step forecast by combining the forecasts generated by the models in Q2 and Q3 (i.e. simple averaging).\n",
    "\n",
    "Calculate the `RMSSE` against the test set, then summarize the metrics in a dataframe and print it."
   ]
  },
  {
   "cell_type": "code",
   "execution_count": 30,
   "metadata": {},
   "outputs": [
    {
     "data": {
      "text/html": "<div>\n<style scoped>\n    .dataframe tbody tr th:only-of-type {\n        vertical-align: middle;\n    }\n\n    .dataframe tbody tr th {\n        vertical-align: top;\n    }\n\n    .dataframe thead th {\n        text-align: right;\n    }\n</style>\n<table border=\"1\" class=\"dataframe\">\n  <thead>\n    <tr style=\"text-align: right;\">\n      <th></th>\n      <th></th>\n      <th>RMSSE</th>\n    </tr>\n  </thead>\n  <tbody>\n    <tr>\n      <th rowspan=\"7\" valign=\"top\">CA_1</th>\n      <th>HOBBIES_1</th>\n      <td>0.6904</td>\n    </tr>\n    <tr>\n      <th>HOBBIES_2</th>\n      <td>0.6439</td>\n    </tr>\n    <tr>\n      <th>HOUSEHOLD_1</th>\n      <td>0.4231</td>\n    </tr>\n    <tr>\n      <th>HOUSEHOLD_2</th>\n      <td>0.5778</td>\n    </tr>\n    <tr>\n      <th>FOODS_1</th>\n      <td>0.6198</td>\n    </tr>\n    <tr>\n      <th>FOODS_2</th>\n      <td>0.6892</td>\n    </tr>\n    <tr>\n      <th>FOODS_3</th>\n      <td>0.5021</td>\n    </tr>\n    <tr>\n      <th rowspan=\"7\" valign=\"top\">CA_2</th>\n      <th>HOBBIES_1</th>\n      <td>0.6709</td>\n    </tr>\n    <tr>\n      <th>HOBBIES_2</th>\n      <td>1.3542</td>\n    </tr>\n    <tr>\n      <th>HOUSEHOLD_1</th>\n      <td>0.5993</td>\n    </tr>\n    <tr>\n      <th>HOUSEHOLD_2</th>\n      <td>0.7949</td>\n    </tr>\n    <tr>\n      <th>FOODS_1</th>\n      <td>1.0747</td>\n    </tr>\n    <tr>\n      <th>FOODS_2</th>\n      <td>1.4515</td>\n    </tr>\n    <tr>\n      <th>FOODS_3</th>\n      <td>0.5664</td>\n    </tr>\n    <tr>\n      <th rowspan=\"7\" valign=\"top\">CA_3</th>\n      <th>HOBBIES_1</th>\n      <td>0.5164</td>\n    </tr>\n    <tr>\n      <th>HOBBIES_2</th>\n      <td>1.3264</td>\n    </tr>\n    <tr>\n      <th>HOUSEHOLD_1</th>\n      <td>0.5857</td>\n    </tr>\n    <tr>\n      <th>HOUSEHOLD_2</th>\n      <td>0.8892</td>\n    </tr>\n    <tr>\n      <th>FOODS_1</th>\n      <td>1.1380</td>\n    </tr>\n    <tr>\n      <th>FOODS_2</th>\n      <td>0.5180</td>\n    </tr>\n    <tr>\n      <th>FOODS_3</th>\n      <td>0.4338</td>\n    </tr>\n    <tr>\n      <th rowspan=\"7\" valign=\"top\">CA_4</th>\n      <th>HOBBIES_1</th>\n      <td>1.0430</td>\n    </tr>\n    <tr>\n      <th>HOBBIES_2</th>\n      <td>1.0373</td>\n    </tr>\n    <tr>\n      <th>HOUSEHOLD_1</th>\n      <td>1.1338</td>\n    </tr>\n    <tr>\n      <th>HOUSEHOLD_2</th>\n      <td>1.1502</td>\n    </tr>\n    <tr>\n      <th>FOODS_1</th>\n      <td>1.4136</td>\n    </tr>\n    <tr>\n      <th>FOODS_2</th>\n      <td>0.8051</td>\n    </tr>\n    <tr>\n      <th>FOODS_3</th>\n      <td>0.6727</td>\n    </tr>\n    <tr>\n      <th rowspan=\"7\" valign=\"top\">TX_1</th>\n      <th>HOBBIES_1</th>\n      <td>0.7211</td>\n    </tr>\n    <tr>\n      <th>HOBBIES_2</th>\n      <td>1.1384</td>\n    </tr>\n    <tr>\n      <th>HOUSEHOLD_1</th>\n      <td>0.7319</td>\n    </tr>\n    <tr>\n      <th>HOUSEHOLD_2</th>\n      <td>1.0014</td>\n    </tr>\n    <tr>\n      <th>FOODS_1</th>\n      <td>1.4205</td>\n    </tr>\n    <tr>\n      <th>FOODS_2</th>\n      <td>0.6690</td>\n    </tr>\n    <tr>\n      <th>FOODS_3</th>\n      <td>0.7282</td>\n    </tr>\n    <tr>\n      <th rowspan=\"7\" valign=\"top\">TX_2</th>\n      <th>HOBBIES_1</th>\n      <td>0.7763</td>\n    </tr>\n    <tr>\n      <th>HOBBIES_2</th>\n      <td>0.9732</td>\n    </tr>\n    <tr>\n      <th>HOUSEHOLD_1</th>\n      <td>0.6745</td>\n    </tr>\n    <tr>\n      <th>HOUSEHOLD_2</th>\n      <td>0.4608</td>\n    </tr>\n    <tr>\n      <th>FOODS_1</th>\n      <td>1.0106</td>\n    </tr>\n    <tr>\n      <th>FOODS_2</th>\n      <td>0.5957</td>\n    </tr>\n    <tr>\n      <th>FOODS_3</th>\n      <td>0.4999</td>\n    </tr>\n    <tr>\n      <th rowspan=\"7\" valign=\"top\">TX_3</th>\n      <th>HOBBIES_1</th>\n      <td>0.7028</td>\n    </tr>\n    <tr>\n      <th>HOBBIES_2</th>\n      <td>1.2539</td>\n    </tr>\n    <tr>\n      <th>HOUSEHOLD_1</th>\n      <td>0.7582</td>\n    </tr>\n    <tr>\n      <th>HOUSEHOLD_2</th>\n      <td>1.0566</td>\n    </tr>\n    <tr>\n      <th>FOODS_1</th>\n      <td>1.6066</td>\n    </tr>\n    <tr>\n      <th>FOODS_2</th>\n      <td>1.0269</td>\n    </tr>\n    <tr>\n      <th>FOODS_3</th>\n      <td>0.8766</td>\n    </tr>\n    <tr>\n      <th rowspan=\"7\" valign=\"top\">WI_1</th>\n      <th>HOBBIES_1</th>\n      <td>0.4745</td>\n    </tr>\n    <tr>\n      <th>HOBBIES_2</th>\n      <td>1.0194</td>\n    </tr>\n    <tr>\n      <th>HOUSEHOLD_1</th>\n      <td>0.5475</td>\n    </tr>\n    <tr>\n      <th>HOUSEHOLD_2</th>\n      <td>0.7089</td>\n    </tr>\n    <tr>\n      <th>FOODS_1</th>\n      <td>0.8584</td>\n    </tr>\n    <tr>\n      <th>FOODS_2</th>\n      <td>0.9439</td>\n    </tr>\n    <tr>\n      <th>FOODS_3</th>\n      <td>0.6151</td>\n    </tr>\n    <tr>\n      <th rowspan=\"7\" valign=\"top\">WI_2</th>\n      <th>HOBBIES_1</th>\n      <td>0.7195</td>\n    </tr>\n    <tr>\n      <th>HOBBIES_2</th>\n      <td>1.2200</td>\n    </tr>\n    <tr>\n      <th>HOUSEHOLD_1</th>\n      <td>0.9392</td>\n    </tr>\n    <tr>\n      <th>HOUSEHOLD_2</th>\n      <td>0.9303</td>\n    </tr>\n    <tr>\n      <th>FOODS_1</th>\n      <td>2.2685</td>\n    </tr>\n    <tr>\n      <th>FOODS_2</th>\n      <td>1.4192</td>\n    </tr>\n    <tr>\n      <th>FOODS_3</th>\n      <td>0.8371</td>\n    </tr>\n    <tr>\n      <th rowspan=\"7\" valign=\"top\">WI_3</th>\n      <th>HOBBIES_1</th>\n      <td>0.8222</td>\n    </tr>\n    <tr>\n      <th>HOBBIES_2</th>\n      <td>1.0168</td>\n    </tr>\n    <tr>\n      <th>HOUSEHOLD_1</th>\n      <td>0.6759</td>\n    </tr>\n    <tr>\n      <th>HOUSEHOLD_2</th>\n      <td>0.8082</td>\n    </tr>\n    <tr>\n      <th>FOODS_1</th>\n      <td>1.5345</td>\n    </tr>\n    <tr>\n      <th>FOODS_2</th>\n      <td>0.8282</td>\n    </tr>\n    <tr>\n      <th>FOODS_3</th>\n      <td>0.4994</td>\n    </tr>\n  </tbody>\n</table>\n</div>",
      "text/plain": "                   RMSSE\nCA_1 HOBBIES_1    0.6904\n     HOBBIES_2    0.6439\n     HOUSEHOLD_1  0.4231\n     HOUSEHOLD_2  0.5778\n     FOODS_1      0.6198\n     FOODS_2      0.6892\n     FOODS_3      0.5021\nCA_2 HOBBIES_1    0.6709\n     HOBBIES_2    1.3542\n     HOUSEHOLD_1  0.5993\n     HOUSEHOLD_2  0.7949\n     FOODS_1      1.0747\n     FOODS_2      1.4515\n     FOODS_3      0.5664\nCA_3 HOBBIES_1    0.5164\n     HOBBIES_2    1.3264\n     HOUSEHOLD_1  0.5857\n     HOUSEHOLD_2  0.8892\n     FOODS_1      1.1380\n     FOODS_2      0.5180\n     FOODS_3      0.4338\nCA_4 HOBBIES_1    1.0430\n     HOBBIES_2    1.0373\n     HOUSEHOLD_1  1.1338\n     HOUSEHOLD_2  1.1502\n     FOODS_1      1.4136\n     FOODS_2      0.8051\n     FOODS_3      0.6727\nTX_1 HOBBIES_1    0.7211\n     HOBBIES_2    1.1384\n     HOUSEHOLD_1  0.7319\n     HOUSEHOLD_2  1.0014\n     FOODS_1      1.4205\n     FOODS_2      0.6690\n     FOODS_3      0.7282\nTX_2 HOBBIES_1    0.7763\n     HOBBIES_2    0.9732\n     HOUSEHOLD_1  0.6745\n     HOUSEHOLD_2  0.4608\n     FOODS_1      1.0106\n     FOODS_2      0.5957\n     FOODS_3      0.4999\nTX_3 HOBBIES_1    0.7028\n     HOBBIES_2    1.2539\n     HOUSEHOLD_1  0.7582\n     HOUSEHOLD_2  1.0566\n     FOODS_1      1.6066\n     FOODS_2      1.0269\n     FOODS_3      0.8766\nWI_1 HOBBIES_1    0.4745\n     HOBBIES_2    1.0194\n     HOUSEHOLD_1  0.5475\n     HOUSEHOLD_2  0.7089\n     FOODS_1      0.8584\n     FOODS_2      0.9439\n     FOODS_3      0.6151\nWI_2 HOBBIES_1    0.7195\n     HOBBIES_2    1.2200\n     HOUSEHOLD_1  0.9392\n     HOUSEHOLD_2  0.9303\n     FOODS_1      2.2685\n     FOODS_2      1.4192\n     FOODS_3      0.8371\nWI_3 HOBBIES_1    0.8222\n     HOBBIES_2    1.0168\n     HOUSEHOLD_1  0.6759\n     HOUSEHOLD_2  0.8082\n     FOODS_1      1.5345\n     FOODS_2      0.8282\n     FOODS_3      0.4994"
     },
     "execution_count": 30,
     "metadata": {},
     "output_type": "execute_result"
    }
   ],
   "source": [
    "df_pred_9_combo = (df_pred_9_morlgb + df_pred_9_rrlgb) / 2\r\n",
    "\r\n",
    "df_res_9_combo = rateMyForecast(\r\n",
    "    trainOG_df_9, test_df_9, df_pred_9_combo)['RMSSE']\r\n",
    "res[\"Combo(LGBMRegressor)\"] = df_res_9_combo\r\n",
    "\r\n",
    "df_res_9_combo.index = pd.MultiIndex.from_tuples(df_res_9_combo.index)\r\n",
    "df_res_9_combo.to_frame()"
   ]
  },
  {
   "cell_type": "markdown",
   "metadata": {},
   "source": [
    "---\n",
    "\n",
    "## Part 3. WRMSSE (10 pts.)"
   ]
  },
  {
   "cell_type": "markdown",
   "metadata": {},
   "source": [
    "### Q5.  (10 pts.)\n",
    "\n",
    "Calculate the `WRMSSE` for the all the methods described above. The weights can be found in `weights_validation.csv`.\n",
    "\n",
    "For reference, the M5 benchmarks have the following `WRMSSE` scores at level 9:\n",
    "\n",
    "- `Naive` = <b>1.764</b>\n",
    "\n",
    "\n",
    "- `S.Naive` = <b>0.888</b>\n",
    "\n",
    "\n",
    "- `ES_bu` = <b>0.728</b>\n",
    "\n",
    "<i>Note: The M5 benchmarks use a bottom-up method for forecasting, so they will not necessarily be equal to your scores.</i>"
   ]
  },
  {
   "cell_type": "code",
   "execution_count": 31,
   "metadata": {},
   "outputs": [
    {
     "data": {
      "text/plain": "Naive                                  1.5616\nSeasonal Naive                         0.8919\nSES                                    1.1585\nHolt's Linear                          1.1855\nAdditive Holt-Winters                  0.8200\nRecursiveRegressor(LGBMRegressor)      0.7569\nMultiOutputRegressor(LGBMRegressor)    0.7814\nCombo(LGBMRegressor)                   0.7505\ndtype: float64"
     },
     "execution_count": 31,
     "metadata": {},
     "output_type": "execute_result"
    }
   ],
   "source": [
    "df_res_9_all = pd.DataFrame(res)\r\n",
    "df_res_9_all.index = pd.MultiIndex.from_tuples(df_res_9_all.index)\r\n",
    "df_res_9_all\r\n",
    "\r\n",
    "(df_res_9_all.rename_axis(['Agg_Level_1', 'Agg_Level_2'])\r\n",
    " .multiply(weights_df_9.squeeze(), axis=0).sum())"
   ]
  },
  {
   "cell_type": "markdown",
   "metadata": {},
   "source": [
    "---\n",
    "\n",
    "## Part 4. Middle-Out Method (30 pts.)"
   ]
  },
  {
   "cell_type": "markdown",
   "metadata": {},
   "source": [
    "### Q6. Bottom-Up (15 pts.)\n",
    "\n",
    "Using your forecasts from the best performing method in Q5, use the bottom-up method described in [FPP3](https://otexts.com/fpp3/single-level.html) to generate forecasts for levels 1 to 8.\n",
    "\n",
    "Calculate the `WRMSSE` for levels 1 to 8 against the test set, then summarize the metrics in a dataframe and print it.\n",
    "\n",
    "For reference, you can find the benchmark `WRMSSE` scores in the `The M5 Accuracy competition: Results, findings and conclusions` paper.\n",
    "\n",
    "<i>Note: The M5 benchmarks use a bottom-up method for forecasting, so they will not necessarily be equal to your scores.</i>"
   ]
  },
  {
   "cell_type": "code",
   "execution_count": 15,
   "metadata": {},
   "outputs": [
    {
     "data": {
      "text/html": "<div>\n<style scoped>\n    .dataframe tbody tr th:only-of-type {\n        vertical-align: middle;\n    }\n\n    .dataframe tbody tr th {\n        vertical-align: top;\n    }\n\n    .dataframe thead tr th {\n        text-align: left;\n    }\n\n    .dataframe thead tr:last-of-type th {\n        text-align: right;\n    }\n</style>\n<table border=\"1\" class=\"dataframe\">\n  <thead>\n    <tr>\n      <th>store_id</th>\n      <th colspan=\"7\" halign=\"left\">CA_1</th>\n      <th colspan=\"3\" halign=\"left\">CA_2</th>\n      <th>...</th>\n      <th colspan=\"3\" halign=\"left\">WI_2</th>\n      <th colspan=\"7\" halign=\"left\">WI_3</th>\n    </tr>\n    <tr>\n      <th>state_id</th>\n      <th colspan=\"7\" halign=\"left\">CA</th>\n      <th colspan=\"3\" halign=\"left\">CA</th>\n      <th>...</th>\n      <th colspan=\"3\" halign=\"left\">WI</th>\n      <th colspan=\"7\" halign=\"left\">WI</th>\n    </tr>\n    <tr>\n      <th>cat_id</th>\n      <th colspan=\"2\" halign=\"left\">HOBBIES</th>\n      <th colspan=\"2\" halign=\"left\">HOUSEHOLD</th>\n      <th colspan=\"3\" halign=\"left\">FOODS</th>\n      <th colspan=\"2\" halign=\"left\">HOBBIES</th>\n      <th>HOUSEHOLD</th>\n      <th>...</th>\n      <th colspan=\"3\" halign=\"left\">FOODS</th>\n      <th colspan=\"2\" halign=\"left\">HOBBIES</th>\n      <th colspan=\"2\" halign=\"left\">HOUSEHOLD</th>\n      <th colspan=\"3\" halign=\"left\">FOODS</th>\n    </tr>\n    <tr>\n      <th>dept_id</th>\n      <th>HOBBIES_1</th>\n      <th>HOBBIES_2</th>\n      <th>HOUSEHOLD_1</th>\n      <th>HOUSEHOLD_2</th>\n      <th>FOODS_1</th>\n      <th>FOODS_2</th>\n      <th>FOODS_3</th>\n      <th>HOBBIES_1</th>\n      <th>HOBBIES_2</th>\n      <th>HOUSEHOLD_1</th>\n      <th>...</th>\n      <th>FOODS_1</th>\n      <th>FOODS_2</th>\n      <th>FOODS_3</th>\n      <th>HOBBIES_1</th>\n      <th>HOBBIES_2</th>\n      <th>HOUSEHOLD_1</th>\n      <th>HOUSEHOLD_2</th>\n      <th>FOODS_1</th>\n      <th>FOODS_2</th>\n      <th>FOODS_3</th>\n    </tr>\n    <tr>\n      <th>date</th>\n      <th></th>\n      <th></th>\n      <th></th>\n      <th></th>\n      <th></th>\n      <th></th>\n      <th></th>\n      <th></th>\n      <th></th>\n      <th></th>\n      <th></th>\n      <th></th>\n      <th></th>\n      <th></th>\n      <th></th>\n      <th></th>\n      <th></th>\n      <th></th>\n      <th></th>\n      <th></th>\n      <th></th>\n    </tr>\n  </thead>\n  <tbody>\n    <tr>\n      <th>2016-04-25</th>\n      <td>449.4956</td>\n      <td>42.4433</td>\n      <td>754.6167</td>\n      <td>195.0511</td>\n      <td>271.6638</td>\n      <td>541.5019</td>\n      <td>1917.5483</td>\n      <td>324.1858</td>\n      <td>42.1745</td>\n      <td>655.6467</td>\n      <td>...</td>\n      <td>344.8301</td>\n      <td>884.0825</td>\n      <td>1933.5100</td>\n      <td>207.2512</td>\n      <td>24.6183</td>\n      <td>548.1931</td>\n      <td>158.8054</td>\n      <td>235.2273</td>\n      <td>446.0785</td>\n      <td>1615.1026</td>\n    </tr>\n    <tr>\n      <th>2016-04-26</th>\n      <td>396.0684</td>\n      <td>37.1498</td>\n      <td>643.8261</td>\n      <td>177.7038</td>\n      <td>253.1075</td>\n      <td>435.8280</td>\n      <td>1820.1153</td>\n      <td>335.1625</td>\n      <td>41.0074</td>\n      <td>602.7929</td>\n      <td>...</td>\n      <td>327.2772</td>\n      <td>733.3352</td>\n      <td>1840.4003</td>\n      <td>177.5088</td>\n      <td>32.1960</td>\n      <td>564.7635</td>\n      <td>143.3564</td>\n      <td>258.5176</td>\n      <td>412.6191</td>\n      <td>1734.2253</td>\n    </tr>\n    <tr>\n      <th>2016-04-27</th>\n      <td>388.4789</td>\n      <td>39.5788</td>\n      <td>586.1311</td>\n      <td>184.2913</td>\n      <td>289.1053</td>\n      <td>366.2773</td>\n      <td>1732.6518</td>\n      <td>285.6967</td>\n      <td>42.3390</td>\n      <td>641.6630</td>\n      <td>...</td>\n      <td>310.4772</td>\n      <td>702.6381</td>\n      <td>1727.1741</td>\n      <td>191.3946</td>\n      <td>25.9984</td>\n      <td>515.3838</td>\n      <td>129.5121</td>\n      <td>246.8596</td>\n      <td>383.1380</td>\n      <td>1602.5222</td>\n    </tr>\n    <tr>\n      <th>2016-04-28</th>\n      <td>419.4912</td>\n      <td>37.9877</td>\n      <td>622.6572</td>\n      <td>184.2326</td>\n      <td>303.6351</td>\n      <td>340.3313</td>\n      <td>1714.0109</td>\n      <td>338.5550</td>\n      <td>37.8039</td>\n      <td>631.6716</td>\n      <td>...</td>\n      <td>266.4066</td>\n      <td>824.6831</td>\n      <td>1711.5400</td>\n      <td>218.4111</td>\n      <td>28.1831</td>\n      <td>579.6401</td>\n      <td>132.4203</td>\n      <td>238.3594</td>\n      <td>390.2391</td>\n      <td>1505.3900</td>\n    </tr>\n    <tr>\n      <th>2016-04-29</th>\n      <td>456.5489</td>\n      <td>47.5803</td>\n      <td>739.6181</td>\n      <td>215.0809</td>\n      <td>314.9435</td>\n      <td>460.0979</td>\n      <td>2244.1102</td>\n      <td>365.7659</td>\n      <td>38.3668</td>\n      <td>824.5203</td>\n      <td>...</td>\n      <td>343.4292</td>\n      <td>811.1577</td>\n      <td>2078.8262</td>\n      <td>324.1257</td>\n      <td>24.4642</td>\n      <td>742.7536</td>\n      <td>168.2470</td>\n      <td>264.7937</td>\n      <td>488.5465</td>\n      <td>1788.8892</td>\n    </tr>\n    <tr>\n      <th>2016-04-30</th>\n      <td>582.3975</td>\n      <td>55.4284</td>\n      <td>1019.7767</td>\n      <td>271.6790</td>\n      <td>372.1390</td>\n      <td>567.8636</td>\n      <td>2693.1875</td>\n      <td>462.4425</td>\n      <td>44.5834</td>\n      <td>1011.6265</td>\n      <td>...</td>\n      <td>382.6277</td>\n      <td>832.5479</td>\n      <td>2357.8880</td>\n      <td>295.0350</td>\n      <td>27.9010</td>\n      <td>869.7472</td>\n      <td>208.7738</td>\n      <td>312.2918</td>\n      <td>615.5956</td>\n      <td>2453.5944</td>\n    </tr>\n    <tr>\n      <th>2016-05-01</th>\n      <td>546.6977</td>\n      <td>51.3810</td>\n      <td>1079.9215</td>\n      <td>278.5060</td>\n      <td>332.1003</td>\n      <td>623.2916</td>\n      <td>2890.6448</td>\n      <td>457.0832</td>\n      <td>45.4321</td>\n      <td>1033.0461</td>\n      <td>...</td>\n      <td>364.8620</td>\n      <td>1071.6023</td>\n      <td>2462.6952</td>\n      <td>250.3653</td>\n      <td>30.4518</td>\n      <td>870.1567</td>\n      <td>204.3641</td>\n      <td>285.0829</td>\n      <td>641.3400</td>\n      <td>2309.9220</td>\n    </tr>\n    <tr>\n      <th>2016-05-02</th>\n      <td>465.7320</td>\n      <td>35.9209</td>\n      <td>778.7456</td>\n      <td>195.6691</td>\n      <td>272.2665</td>\n      <td>537.8936</td>\n      <td>2030.6053</td>\n      <td>309.9696</td>\n      <td>32.2123</td>\n      <td>650.4048</td>\n      <td>...</td>\n      <td>365.2623</td>\n      <td>1276.8462</td>\n      <td>2488.2545</td>\n      <td>214.8206</td>\n      <td>26.7563</td>\n      <td>625.2188</td>\n      <td>165.1707</td>\n      <td>238.8403</td>\n      <td>569.4897</td>\n      <td>1746.4308</td>\n    </tr>\n    <tr>\n      <th>2016-05-03</th>\n      <td>431.2596</td>\n      <td>42.9203</td>\n      <td>655.8035</td>\n      <td>185.2495</td>\n      <td>289.3279</td>\n      <td>496.3385</td>\n      <td>1866.7531</td>\n      <td>296.4192</td>\n      <td>34.6295</td>\n      <td>607.2990</td>\n      <td>...</td>\n      <td>342.9247</td>\n      <td>1333.6738</td>\n      <td>2403.2871</td>\n      <td>212.6836</td>\n      <td>24.7036</td>\n      <td>604.9833</td>\n      <td>136.9341</td>\n      <td>270.9724</td>\n      <td>680.9072</td>\n      <td>1920.9284</td>\n    </tr>\n    <tr>\n      <th>2016-05-04</th>\n      <td>444.1696</td>\n      <td>41.6432</td>\n      <td>628.0217</td>\n      <td>192.5918</td>\n      <td>268.0387</td>\n      <td>497.2088</td>\n      <td>1825.3116</td>\n      <td>312.1186</td>\n      <td>48.9701</td>\n      <td>635.2823</td>\n      <td>...</td>\n      <td>335.2363</td>\n      <td>1596.5660</td>\n      <td>2549.1681</td>\n      <td>216.6993</td>\n      <td>31.1215</td>\n      <td>554.5598</td>\n      <td>139.3128</td>\n      <td>250.2516</td>\n      <td>648.3445</td>\n      <td>1811.1699</td>\n    </tr>\n    <tr>\n      <th>2016-05-05</th>\n      <td>420.7036</td>\n      <td>41.4662</td>\n      <td>656.6979</td>\n      <td>205.8809</td>\n      <td>301.2285</td>\n      <td>471.3906</td>\n      <td>1825.1248</td>\n      <td>329.3737</td>\n      <td>35.8061</td>\n      <td>601.8712</td>\n      <td>...</td>\n      <td>322.0492</td>\n      <td>1536.4524</td>\n      <td>2475.2176</td>\n      <td>235.4734</td>\n      <td>27.8322</td>\n      <td>640.3165</td>\n      <td>133.9260</td>\n      <td>269.3684</td>\n      <td>515.3071</td>\n      <td>1843.2988</td>\n    </tr>\n    <tr>\n      <th>2016-05-06</th>\n      <td>533.6297</td>\n      <td>45.8810</td>\n      <td>780.5747</td>\n      <td>233.7416</td>\n      <td>356.2364</td>\n      <td>623.3794</td>\n      <td>2216.3633</td>\n      <td>414.7067</td>\n      <td>41.9109</td>\n      <td>830.4388</td>\n      <td>...</td>\n      <td>341.0748</td>\n      <td>1492.2036</td>\n      <td>2826.4703</td>\n      <td>252.2868</td>\n      <td>34.7587</td>\n      <td>775.7322</td>\n      <td>178.5709</td>\n      <td>296.0830</td>\n      <td>670.5853</td>\n      <td>2271.8072</td>\n    </tr>\n    <tr>\n      <th>2016-05-07</th>\n      <td>594.5917</td>\n      <td>51.2122</td>\n      <td>1025.3846</td>\n      <td>290.4712</td>\n      <td>424.2229</td>\n      <td>758.9690</td>\n      <td>2786.3660</td>\n      <td>483.4882</td>\n      <td>47.9626</td>\n      <td>1095.6236</td>\n      <td>...</td>\n      <td>387.8887</td>\n      <td>1690.1398</td>\n      <td>3012.3764</td>\n      <td>290.3430</td>\n      <td>29.9262</td>\n      <td>840.2645</td>\n      <td>203.6178</td>\n      <td>344.5761</td>\n      <td>825.4979</td>\n      <td>2801.8401</td>\n    </tr>\n    <tr>\n      <th>2016-05-08</th>\n      <td>560.6139</td>\n      <td>45.6659</td>\n      <td>972.4979</td>\n      <td>272.3124</td>\n      <td>367.4398</td>\n      <td>730.2405</td>\n      <td>2979.9687</td>\n      <td>428.3690</td>\n      <td>42.9706</td>\n      <td>1097.3906</td>\n      <td>...</td>\n      <td>359.4870</td>\n      <td>1591.9384</td>\n      <td>2753.0248</td>\n      <td>255.8386</td>\n      <td>27.6069</td>\n      <td>802.0051</td>\n      <td>204.6593</td>\n      <td>258.5779</td>\n      <td>768.6423</td>\n      <td>2577.7483</td>\n    </tr>\n    <tr>\n      <th>2016-05-09</th>\n      <td>479.0045</td>\n      <td>45.5947</td>\n      <td>739.1785</td>\n      <td>194.5277</td>\n      <td>297.9190</td>\n      <td>573.5590</td>\n      <td>2108.7399</td>\n      <td>270.5431</td>\n      <td>35.2556</td>\n      <td>637.0947</td>\n      <td>...</td>\n      <td>344.7565</td>\n      <td>1526.1460</td>\n      <td>2633.6371</td>\n      <td>216.4834</td>\n      <td>27.0769</td>\n      <td>587.1052</td>\n      <td>169.9013</td>\n      <td>198.5675</td>\n      <td>613.9780</td>\n      <td>2189.4211</td>\n    </tr>\n    <tr>\n      <th>2016-05-10</th>\n      <td>462.7437</td>\n      <td>42.5986</td>\n      <td>632.5744</td>\n      <td>187.0334</td>\n      <td>278.1853</td>\n      <td>484.8036</td>\n      <td>1835.9293</td>\n      <td>309.5792</td>\n      <td>40.7079</td>\n      <td>603.4351</td>\n      <td>...</td>\n      <td>357.6212</td>\n      <td>1652.8257</td>\n      <td>2430.4626</td>\n      <td>222.6386</td>\n      <td>28.8207</td>\n      <td>496.5509</td>\n      <td>135.5630</td>\n      <td>250.2863</td>\n      <td>663.6983</td>\n      <td>1959.6248</td>\n    </tr>\n    <tr>\n      <th>2016-05-11</th>\n      <td>394.9171</td>\n      <td>43.3479</td>\n      <td>619.6288</td>\n      <td>176.3259</td>\n      <td>331.4810</td>\n      <td>442.8389</td>\n      <td>1810.9766</td>\n      <td>296.8225</td>\n      <td>41.4448</td>\n      <td>605.5941</td>\n      <td>...</td>\n      <td>301.8588</td>\n      <td>1461.8332</td>\n      <td>2312.2300</td>\n      <td>213.0249</td>\n      <td>25.1679</td>\n      <td>475.3873</td>\n      <td>126.9824</td>\n      <td>217.9130</td>\n      <td>568.4120</td>\n      <td>1751.9631</td>\n    </tr>\n    <tr>\n      <th>2016-05-12</th>\n      <td>417.1410</td>\n      <td>45.2155</td>\n      <td>631.6421</td>\n      <td>198.7958</td>\n      <td>328.5310</td>\n      <td>403.7696</td>\n      <td>1879.6453</td>\n      <td>299.5983</td>\n      <td>37.3343</td>\n      <td>615.3528</td>\n      <td>...</td>\n      <td>303.1992</td>\n      <td>1606.0321</td>\n      <td>2443.9742</td>\n      <td>225.6136</td>\n      <td>29.8834</td>\n      <td>501.6428</td>\n      <td>144.4814</td>\n      <td>235.0045</td>\n      <td>609.6431</td>\n      <td>2074.0525</td>\n    </tr>\n    <tr>\n      <th>2016-05-13</th>\n      <td>457.1407</td>\n      <td>44.1961</td>\n      <td>750.4216</td>\n      <td>214.8100</td>\n      <td>364.7362</td>\n      <td>481.4330</td>\n      <td>2168.7656</td>\n      <td>389.4791</td>\n      <td>52.0467</td>\n      <td>791.4624</td>\n      <td>...</td>\n      <td>380.6528</td>\n      <td>1637.4599</td>\n      <td>2715.5070</td>\n      <td>290.0693</td>\n      <td>26.0680</td>\n      <td>680.2703</td>\n      <td>178.7327</td>\n      <td>260.4500</td>\n      <td>707.4260</td>\n      <td>2422.0711</td>\n    </tr>\n    <tr>\n      <th>2016-05-14</th>\n      <td>577.9533</td>\n      <td>56.6859</td>\n      <td>1045.6635</td>\n      <td>291.6818</td>\n      <td>450.4492</td>\n      <td>599.6835</td>\n      <td>2719.5704</td>\n      <td>477.6155</td>\n      <td>40.4451</td>\n      <td>1174.2449</td>\n      <td>...</td>\n      <td>426.6370</td>\n      <td>1456.3547</td>\n      <td>2758.3302</td>\n      <td>287.7356</td>\n      <td>29.1275</td>\n      <td>791.3969</td>\n      <td>212.8699</td>\n      <td>294.0337</td>\n      <td>732.7096</td>\n      <td>2899.8472</td>\n    </tr>\n    <tr>\n      <th>2016-05-15</th>\n      <td>540.6957</td>\n      <td>49.9867</td>\n      <td>1059.2575</td>\n      <td>291.7307</td>\n      <td>380.3799</td>\n      <td>672.0483</td>\n      <td>2805.0405</td>\n      <td>436.9954</td>\n      <td>40.7327</td>\n      <td>1122.0663</td>\n      <td>...</td>\n      <td>379.3209</td>\n      <td>1496.8736</td>\n      <td>2834.6578</td>\n      <td>219.7461</td>\n      <td>25.7666</td>\n      <td>764.1023</td>\n      <td>207.4592</td>\n      <td>239.0127</td>\n      <td>757.6449</td>\n      <td>2584.6805</td>\n    </tr>\n    <tr>\n      <th>2016-05-16</th>\n      <td>499.2434</td>\n      <td>40.5267</td>\n      <td>792.7556</td>\n      <td>196.3841</td>\n      <td>352.4208</td>\n      <td>507.2847</td>\n      <td>2021.2422</td>\n      <td>303.9343</td>\n      <td>39.4687</td>\n      <td>650.8182</td>\n      <td>...</td>\n      <td>339.6299</td>\n      <td>1392.0417</td>\n      <td>2398.4975</td>\n      <td>207.0631</td>\n      <td>27.8066</td>\n      <td>565.6823</td>\n      <td>164.2478</td>\n      <td>207.1293</td>\n      <td>573.3932</td>\n      <td>2039.9676</td>\n    </tr>\n    <tr>\n      <th>2016-05-17</th>\n      <td>418.9400</td>\n      <td>34.0043</td>\n      <td>651.1030</td>\n      <td>181.5334</td>\n      <td>350.4556</td>\n      <td>442.5061</td>\n      <td>1762.9699</td>\n      <td>285.3270</td>\n      <td>37.0240</td>\n      <td>598.4786</td>\n      <td>...</td>\n      <td>302.9117</td>\n      <td>1110.6324</td>\n      <td>2053.8814</td>\n      <td>199.6416</td>\n      <td>26.3365</td>\n      <td>494.1674</td>\n      <td>143.1393</td>\n      <td>227.2653</td>\n      <td>472.1213</td>\n      <td>1856.7617</td>\n    </tr>\n    <tr>\n      <th>2016-05-18</th>\n      <td>423.5643</td>\n      <td>36.5153</td>\n      <td>608.5951</td>\n      <td>187.0856</td>\n      <td>338.2723</td>\n      <td>413.0950</td>\n      <td>1725.3964</td>\n      <td>312.4871</td>\n      <td>43.7390</td>\n      <td>593.8372</td>\n      <td>...</td>\n      <td>277.8959</td>\n      <td>1008.1952</td>\n      <td>1881.2908</td>\n      <td>200.0840</td>\n      <td>24.6246</td>\n      <td>489.8285</td>\n      <td>122.9996</td>\n      <td>208.5297</td>\n      <td>458.0468</td>\n      <td>1650.5658</td>\n    </tr>\n    <tr>\n      <th>2016-05-19</th>\n      <td>465.6402</td>\n      <td>38.4391</td>\n      <td>629.9176</td>\n      <td>197.6384</td>\n      <td>338.5922</td>\n      <td>377.7564</td>\n      <td>1813.7787</td>\n      <td>275.0521</td>\n      <td>39.4588</td>\n      <td>581.8879</td>\n      <td>...</td>\n      <td>275.6375</td>\n      <td>1028.4229</td>\n      <td>1852.8060</td>\n      <td>209.7674</td>\n      <td>29.9501</td>\n      <td>532.1641</td>\n      <td>136.5024</td>\n      <td>215.2132</td>\n      <td>473.6804</td>\n      <td>1747.5015</td>\n    </tr>\n    <tr>\n      <th>2016-05-20</th>\n      <td>451.4362</td>\n      <td>46.8942</td>\n      <td>761.8990</td>\n      <td>212.7949</td>\n      <td>368.7699</td>\n      <td>473.4516</td>\n      <td>2215.0190</td>\n      <td>375.9398</td>\n      <td>48.2653</td>\n      <td>789.4386</td>\n      <td>...</td>\n      <td>330.5600</td>\n      <td>1042.8245</td>\n      <td>2140.9967</td>\n      <td>263.0385</td>\n      <td>31.6342</td>\n      <td>670.8222</td>\n      <td>172.3295</td>\n      <td>239.2620</td>\n      <td>500.8252</td>\n      <td>2001.0620</td>\n    </tr>\n    <tr>\n      <th>2016-05-21</th>\n      <td>586.8037</td>\n      <td>54.5120</td>\n      <td>1018.7414</td>\n      <td>287.9025</td>\n      <td>413.9527</td>\n      <td>551.9996</td>\n      <td>2654.9582</td>\n      <td>479.5689</td>\n      <td>49.2670</td>\n      <td>1078.7216</td>\n      <td>...</td>\n      <td>379.3473</td>\n      <td>1076.5577</td>\n      <td>2260.2760</td>\n      <td>305.8815</td>\n      <td>29.6330</td>\n      <td>830.2626</td>\n      <td>199.1844</td>\n      <td>323.4020</td>\n      <td>499.6138</td>\n      <td>2345.5315</td>\n    </tr>\n    <tr>\n      <th>2016-05-22</th>\n      <td>544.8824</td>\n      <td>59.5364</td>\n      <td>1108.8442</td>\n      <td>294.2332</td>\n      <td>391.8593</td>\n      <td>602.5771</td>\n      <td>3031.8975</td>\n      <td>439.0579</td>\n      <td>43.4524</td>\n      <td>1064.7611</td>\n      <td>...</td>\n      <td>366.7615</td>\n      <td>1056.7248</td>\n      <td>2176.5228</td>\n      <td>225.5577</td>\n      <td>26.6244</td>\n      <td>781.5554</td>\n      <td>208.6845</td>\n      <td>240.9142</td>\n      <td>514.7729</td>\n      <td>2269.9528</td>\n    </tr>\n  </tbody>\n</table>\n<p>28 rows × 70 columns</p>\n</div>",
      "text/plain": "store_id        CA_1                                                        \\\nstate_id          CA                                                         \ncat_id       HOBBIES             HOUSEHOLD                 FOODS             \ndept_id    HOBBIES_1 HOBBIES_2 HOUSEHOLD_1 HOUSEHOLD_2   FOODS_1   FOODS_2   \ndate                                                                         \n2016-04-25  449.4956   42.4433    754.6167    195.0511  271.6638  541.5019   \n2016-04-26  396.0684   37.1498    643.8261    177.7038  253.1075  435.8280   \n2016-04-27  388.4789   39.5788    586.1311    184.2913  289.1053  366.2773   \n2016-04-28  419.4912   37.9877    622.6572    184.2326  303.6351  340.3313   \n2016-04-29  456.5489   47.5803    739.6181    215.0809  314.9435  460.0979   \n2016-04-30  582.3975   55.4284   1019.7767    271.6790  372.1390  567.8636   \n2016-05-01  546.6977   51.3810   1079.9215    278.5060  332.1003  623.2916   \n2016-05-02  465.7320   35.9209    778.7456    195.6691  272.2665  537.8936   \n2016-05-03  431.2596   42.9203    655.8035    185.2495  289.3279  496.3385   \n2016-05-04  444.1696   41.6432    628.0217    192.5918  268.0387  497.2088   \n2016-05-05  420.7036   41.4662    656.6979    205.8809  301.2285  471.3906   \n2016-05-06  533.6297   45.8810    780.5747    233.7416  356.2364  623.3794   \n2016-05-07  594.5917   51.2122   1025.3846    290.4712  424.2229  758.9690   \n2016-05-08  560.6139   45.6659    972.4979    272.3124  367.4398  730.2405   \n2016-05-09  479.0045   45.5947    739.1785    194.5277  297.9190  573.5590   \n2016-05-10  462.7437   42.5986    632.5744    187.0334  278.1853  484.8036   \n2016-05-11  394.9171   43.3479    619.6288    176.3259  331.4810  442.8389   \n2016-05-12  417.1410   45.2155    631.6421    198.7958  328.5310  403.7696   \n2016-05-13  457.1407   44.1961    750.4216    214.8100  364.7362  481.4330   \n2016-05-14  577.9533   56.6859   1045.6635    291.6818  450.4492  599.6835   \n2016-05-15  540.6957   49.9867   1059.2575    291.7307  380.3799  672.0483   \n2016-05-16  499.2434   40.5267    792.7556    196.3841  352.4208  507.2847   \n2016-05-17  418.9400   34.0043    651.1030    181.5334  350.4556  442.5061   \n2016-05-18  423.5643   36.5153    608.5951    187.0856  338.2723  413.0950   \n2016-05-19  465.6402   38.4391    629.9176    197.6384  338.5922  377.7564   \n2016-05-20  451.4362   46.8942    761.8990    212.7949  368.7699  473.4516   \n2016-05-21  586.8037   54.5120   1018.7414    287.9025  413.9527  551.9996   \n2016-05-22  544.8824   59.5364   1108.8442    294.2332  391.8593  602.5771   \n\nstore_id                   CA_2                        ...      WI_2  \\\nstate_id                     CA                        ...        WI   \ncat_id                  HOBBIES             HOUSEHOLD  ...     FOODS   \ndept_id       FOODS_3 HOBBIES_1 HOBBIES_2 HOUSEHOLD_1  ...   FOODS_1   \ndate                                                   ...             \n2016-04-25  1917.5483  324.1858   42.1745    655.6467  ...  344.8301   \n2016-04-26  1820.1153  335.1625   41.0074    602.7929  ...  327.2772   \n2016-04-27  1732.6518  285.6967   42.3390    641.6630  ...  310.4772   \n2016-04-28  1714.0109  338.5550   37.8039    631.6716  ...  266.4066   \n2016-04-29  2244.1102  365.7659   38.3668    824.5203  ...  343.4292   \n2016-04-30  2693.1875  462.4425   44.5834   1011.6265  ...  382.6277   \n2016-05-01  2890.6448  457.0832   45.4321   1033.0461  ...  364.8620   \n2016-05-02  2030.6053  309.9696   32.2123    650.4048  ...  365.2623   \n2016-05-03  1866.7531  296.4192   34.6295    607.2990  ...  342.9247   \n2016-05-04  1825.3116  312.1186   48.9701    635.2823  ...  335.2363   \n2016-05-05  1825.1248  329.3737   35.8061    601.8712  ...  322.0492   \n2016-05-06  2216.3633  414.7067   41.9109    830.4388  ...  341.0748   \n2016-05-07  2786.3660  483.4882   47.9626   1095.6236  ...  387.8887   \n2016-05-08  2979.9687  428.3690   42.9706   1097.3906  ...  359.4870   \n2016-05-09  2108.7399  270.5431   35.2556    637.0947  ...  344.7565   \n2016-05-10  1835.9293  309.5792   40.7079    603.4351  ...  357.6212   \n2016-05-11  1810.9766  296.8225   41.4448    605.5941  ...  301.8588   \n2016-05-12  1879.6453  299.5983   37.3343    615.3528  ...  303.1992   \n2016-05-13  2168.7656  389.4791   52.0467    791.4624  ...  380.6528   \n2016-05-14  2719.5704  477.6155   40.4451   1174.2449  ...  426.6370   \n2016-05-15  2805.0405  436.9954   40.7327   1122.0663  ...  379.3209   \n2016-05-16  2021.2422  303.9343   39.4687    650.8182  ...  339.6299   \n2016-05-17  1762.9699  285.3270   37.0240    598.4786  ...  302.9117   \n2016-05-18  1725.3964  312.4871   43.7390    593.8372  ...  277.8959   \n2016-05-19  1813.7787  275.0521   39.4588    581.8879  ...  275.6375   \n2016-05-20  2215.0190  375.9398   48.2653    789.4386  ...  330.5600   \n2016-05-21  2654.9582  479.5689   49.2670   1078.7216  ...  379.3473   \n2016-05-22  3031.8975  439.0579   43.4524   1064.7611  ...  366.7615   \n\nstore_id                              WI_3                                    \\\nstate_id                                WI                                     \ncat_id                             HOBBIES             HOUSEHOLD               \ndept_id       FOODS_2    FOODS_3 HOBBIES_1 HOBBIES_2 HOUSEHOLD_1 HOUSEHOLD_2   \ndate                                                                           \n2016-04-25   884.0825  1933.5100  207.2512   24.6183    548.1931    158.8054   \n2016-04-26   733.3352  1840.4003  177.5088   32.1960    564.7635    143.3564   \n2016-04-27   702.6381  1727.1741  191.3946   25.9984    515.3838    129.5121   \n2016-04-28   824.6831  1711.5400  218.4111   28.1831    579.6401    132.4203   \n2016-04-29   811.1577  2078.8262  324.1257   24.4642    742.7536    168.2470   \n2016-04-30   832.5479  2357.8880  295.0350   27.9010    869.7472    208.7738   \n2016-05-01  1071.6023  2462.6952  250.3653   30.4518    870.1567    204.3641   \n2016-05-02  1276.8462  2488.2545  214.8206   26.7563    625.2188    165.1707   \n2016-05-03  1333.6738  2403.2871  212.6836   24.7036    604.9833    136.9341   \n2016-05-04  1596.5660  2549.1681  216.6993   31.1215    554.5598    139.3128   \n2016-05-05  1536.4524  2475.2176  235.4734   27.8322    640.3165    133.9260   \n2016-05-06  1492.2036  2826.4703  252.2868   34.7587    775.7322    178.5709   \n2016-05-07  1690.1398  3012.3764  290.3430   29.9262    840.2645    203.6178   \n2016-05-08  1591.9384  2753.0248  255.8386   27.6069    802.0051    204.6593   \n2016-05-09  1526.1460  2633.6371  216.4834   27.0769    587.1052    169.9013   \n2016-05-10  1652.8257  2430.4626  222.6386   28.8207    496.5509    135.5630   \n2016-05-11  1461.8332  2312.2300  213.0249   25.1679    475.3873    126.9824   \n2016-05-12  1606.0321  2443.9742  225.6136   29.8834    501.6428    144.4814   \n2016-05-13  1637.4599  2715.5070  290.0693   26.0680    680.2703    178.7327   \n2016-05-14  1456.3547  2758.3302  287.7356   29.1275    791.3969    212.8699   \n2016-05-15  1496.8736  2834.6578  219.7461   25.7666    764.1023    207.4592   \n2016-05-16  1392.0417  2398.4975  207.0631   27.8066    565.6823    164.2478   \n2016-05-17  1110.6324  2053.8814  199.6416   26.3365    494.1674    143.1393   \n2016-05-18  1008.1952  1881.2908  200.0840   24.6246    489.8285    122.9996   \n2016-05-19  1028.4229  1852.8060  209.7674   29.9501    532.1641    136.5024   \n2016-05-20  1042.8245  2140.9967  263.0385   31.6342    670.8222    172.3295   \n2016-05-21  1076.5577  2260.2760  305.8815   29.6330    830.2626    199.1844   \n2016-05-22  1056.7248  2176.5228  225.5577   26.6244    781.5554    208.6845   \n\nstore_id                                   \nstate_id                                   \ncat_id         FOODS                       \ndept_id      FOODS_1   FOODS_2    FOODS_3  \ndate                                       \n2016-04-25  235.2273  446.0785  1615.1026  \n2016-04-26  258.5176  412.6191  1734.2253  \n2016-04-27  246.8596  383.1380  1602.5222  \n2016-04-28  238.3594  390.2391  1505.3900  \n2016-04-29  264.7937  488.5465  1788.8892  \n2016-04-30  312.2918  615.5956  2453.5944  \n2016-05-01  285.0829  641.3400  2309.9220  \n2016-05-02  238.8403  569.4897  1746.4308  \n2016-05-03  270.9724  680.9072  1920.9284  \n2016-05-04  250.2516  648.3445  1811.1699  \n2016-05-05  269.3684  515.3071  1843.2988  \n2016-05-06  296.0830  670.5853  2271.8072  \n2016-05-07  344.5761  825.4979  2801.8401  \n2016-05-08  258.5779  768.6423  2577.7483  \n2016-05-09  198.5675  613.9780  2189.4211  \n2016-05-10  250.2863  663.6983  1959.6248  \n2016-05-11  217.9130  568.4120  1751.9631  \n2016-05-12  235.0045  609.6431  2074.0525  \n2016-05-13  260.4500  707.4260  2422.0711  \n2016-05-14  294.0337  732.7096  2899.8472  \n2016-05-15  239.0127  757.6449  2584.6805  \n2016-05-16  207.1293  573.3932  2039.9676  \n2016-05-17  227.2653  472.1213  1856.7617  \n2016-05-18  208.5297  458.0468  1650.5658  \n2016-05-19  215.2132  473.6804  1747.5015  \n2016-05-20  239.2620  500.8252  2001.0620  \n2016-05-21  323.4020  499.6138  2345.5315  \n2016-05-22  240.9142  514.7729  2269.9528  \n\n[28 rows x 70 columns]"
     },
     "execution_count": 15,
     "metadata": {},
     "output_type": "execute_result"
    }
   ],
   "source": [
    "df_pred_9_combo.columns = train_df.sum(axis=1, level=[\"store_id\", \"state_id\", \"cat_id\", \"dept_id\"]).columns\r\n",
    "df_pred_9_combo"
   ]
  },
  {
   "cell_type": "markdown",
   "metadata": {},
   "source": [
    "### Q7. Top-Down  (15 pts.)\n",
    "\n",
    "Using your forecasts from the best performing method in Q5, use the top-down method with `average historical proportions` described in [FPP3](https://otexts.com/fpp3/single-level.html) to generate forecasts for levels 10 to 12.\n",
    "\n",
    "Calculate the `WRMSSE` for levels 10 to 12  against the test set, then summarize the metrics in a dataframe and print it.\n",
    "\n",
    "For reference, you can find the benchmark `WRMSSE` scores in the `The M5 Accuracy competition: Results, findings and conclusions` paper.\n",
    "\n",
    "<i>Note: The M5 benchmarks use a bottom-up method for forecasting, so they will not necessarily be equal to your scores.</i>"
   ]
  },
  {
   "cell_type": "code",
   "execution_count": 16,
   "metadata": {},
   "outputs": [],
   "source": [
    "# Your code here"
   ]
  },
  {
   "cell_type": "markdown",
   "metadata": {},
   "source": [
    "# Time Series Analysis: \"The Final Project\"\r\n",
    "\r\n",
    "`End? No, the journey doesn't end here. Death is just another path. One that we all must take.\r\n",
    "-J.R.R. Tolkien, The Return of the King`"
   ]
  },
  {
   "cell_type": "markdown",
   "metadata": {},
   "source": [
    "---\r\n",
    "\r\n",
    "## Libraries"
   ]
  },
  {
   "cell_type": "code",
   "execution_count": 1,
   "metadata": {},
   "outputs": [
    {
     "name": "stdout",
     "output_type": "stream",
     "text": [
      "C:\\Users\\aamorado\\Documents\\tsa2021-m5\n"
     ]
    }
   ],
   "source": [
    "%cd \"Documents\\tsa2021-m5\""
   ]
  },
  {
   "cell_type": "code",
   "execution_count": 2,
   "metadata": {},
   "outputs": [],
   "source": [
    "from statsmodels.tsa.exponential_smoothing.ets import ETSModel\r\n",
    "import statsmodels.api as sm\r\n",
    "import numpy as np\r\n",
    "import pandas as pd\r\n",
    "import seaborn as sns\r\n",
    "import matplotlib.pyplot as plt\r\n",
    "import lightgbm as lgb\r\n",
    "from pandas.plotting import register_matplotlib_converters\r\n",
    "from IPython.display import display\r\n",
    "from tsa_tools import *  # Hehe\r\n",
    "\r\n",
    "register_matplotlib_converters()\r\n",
    "sns.set_style('darkgrid')\r\n",
    "\r\n",
    "np.set_printoptions(precision=4)\r\n",
    "pd.set_option('precision', 4)"
   ]
  },
  {
   "cell_type": "markdown",
   "metadata": {},
   "source": [
    "---\r\n",
    "\r\n",
    "## M5 Forecasting\r\n",
    "\r\n",
    "For this \"final project\", we will be forecasting the <b><u>level 9</b></u> series (unit sales of all products, aggregated for each store and department).\r\n",
    "\r\n",
    "Load `sales_train_evaluation.csv` and use observations from `d_1 to d_1913` for training and `d_1914 to d_1941` for testing."
   ]
  },
  {
   "cell_type": "code",
   "execution_count": 3,
   "metadata": {},
   "outputs": [],
   "source": [
    "df_calendar = pd.read_csv('../data/m5/calendar.csv')\r\n",
    "df_sales = pd.read_csv('../data/m5/sales_train_evaluation.csv')\r\n",
    "df_weights = pd.read_csv('../data/m5/weights_validation.csv')\r\n",
    "# display(df_calendar, df_sales, df_weights)"
   ]
  },
  {
   "cell_type": "code",
   "execution_count": 4,
   "metadata": {},
   "outputs": [],
   "source": [
    "train_df = (df_sales.set_index([*df_sales.columns[5::-1]]).T\r\n",
    "           .set_index(pd.DatetimeIndex(df_calendar.date)[:1941]).iloc[:-28])\r\n",
    "test_df = (df_sales.set_index([*df_sales.columns[5::-1]]).T\r\n",
    "           .set_index(pd.DatetimeIndex(df_calendar.date)[:1941]).iloc[-28:])\r\n",
    "# display(train_df, test_df)"
   ]
  },
  {
   "cell_type": "code",
   "execution_count": 5,
   "metadata": {},
   "outputs": [],
   "source": [
    "levels = {\r\n",
    "    1: None,\r\n",
    "    2: \"state_id\",\r\n",
    "    3: \"store_id\",\r\n",
    "    4: \"cat_id\",\r\n",
    "    5: \"dept_id\",\r\n",
    "    6: [\"state_id\", \"cat_id\"],\r\n",
    "    7: [\"state_id\", \"dept_id\"],\r\n",
    "    8: [\"store_id\", \"cat_id\"],\r\n",
    "    9: [\"store_id\", \"dept_id\"],\r\n",
    "    10: \"item_id\",\r\n",
    "    11: [\"state_id\", \"item_id\"],\r\n",
    "    12: [\"store_id\", \"item_id\"]\r\n",
    "}"
   ]
  },
  {
   "cell_type": "code",
   "execution_count": 6,
   "metadata": {},
   "outputs": [],
   "source": [
    "train_df_9 = timeSeriesFiltering(\r\n",
    "    train_df.sum(axis='columns', level=levels[9]), lower=10)\r\n",
    "trainOG_df_9 = train_df.sum(axis='columns', level=levels[9])\r\n",
    "test_df_9 = test_df.sum(axis='columns', level=levels[9])\r\n",
    "weights_df_9 = (df_weights\r\n",
    "                .loc[df_weights['Level_id'] == 'Level9']\r\n",
    "                .set_index(['Agg_Level_1', 'Agg_Level_2'])[['Weight']])"
   ]
  },
  {
   "cell_type": "markdown",
   "metadata": {},
   "source": [
    "---\r\n",
    "\r\n",
    "## Part 5. King of the Hill (20 pts.)\r\n",
    "\r\n",
    "Using whatever methods/models you desire, beat the best `WRMSSE` score in Q5.\r\n",
    "\r\n",
    "<b><u>Do not tune your model using the test set!</b></u> If you do, you will not get points for this part."
   ]
  },
  {
   "cell_type": "markdown",
   "metadata": {},
   "source": [
    "### Q8. (10 pts.)\r\n",
    "\r\n",
    "Describe your methodology here. \r\n",
    "\r\n",
    "Points will be awarded for <b>aesthetics</b> (ex. use of diagrams), <b>ease of reading</b>, <b>clarity</b>, and <b>brevity</b>.\r\n",
    "\r\n",
    "Points will be deducted for <b>excessively long</b> walls of text and descriptions."
   ]
  },
  {
   "cell_type": "markdown",
   "metadata": {},
   "source": [
    "ANSWER HERE."
   ]
  },
  {
   "cell_type": "markdown",
   "metadata": {},
   "source": [
    "### Q9. (10 pts.)\r\n",
    "\r\n",
    "This part is for your actual code."
   ]
  },
  {
   "cell_type": "code",
   "execution_count": 82,
   "metadata": {},
   "outputs": [
    {
     "data": {
      "text/plain": "{'memory': None,\n 'steps': [('transfrom_X', EndogenousTransformer(h=28, return_y=False, w=56)),\n  ('transform_y',\n   TransformedTargetRegressor(check_inverse=False,\n                              regressor=MultiOutputRegressor(estimator=LGBMRegressor(random_state=1),\n                                                             n_jobs=-1),\n                              transformer=EndogenousTransformer(h=28, reshape=True,\n                                                                return_X=False,\n                                                                w=56)))],\n 'verbose': False,\n 'transfrom_X': EndogenousTransformer(h=28, return_y=False, w=56),\n 'transform_y': TransformedTargetRegressor(check_inverse=False,\n                            regressor=MultiOutputRegressor(estimator=LGBMRegressor(random_state=1),\n                                                           n_jobs=-1),\n                            transformer=EndogenousTransformer(h=28, reshape=True,\n                                                              return_X=False,\n                                                              w=56)),\n 'transfrom_X__h': 28,\n 'transfrom_X__reshape': False,\n 'transfrom_X__return_X': True,\n 'transfrom_X__return_y': False,\n 'transfrom_X__w': 56,\n 'transform_y__check_inverse': False,\n 'transform_y__func': None,\n 'transform_y__inverse_func': None,\n 'transform_y__regressor__estimator__boosting_type': 'gbdt',\n 'transform_y__regressor__estimator__class_weight': None,\n 'transform_y__regressor__estimator__colsample_bytree': 1.0,\n 'transform_y__regressor__estimator__importance_type': 'split',\n 'transform_y__regressor__estimator__learning_rate': 0.1,\n 'transform_y__regressor__estimator__max_depth': -1,\n 'transform_y__regressor__estimator__min_child_samples': 20,\n 'transform_y__regressor__estimator__min_child_weight': 0.001,\n 'transform_y__regressor__estimator__min_split_gain': 0.0,\n 'transform_y__regressor__estimator__n_estimators': 100,\n 'transform_y__regressor__estimator__n_jobs': -1,\n 'transform_y__regressor__estimator__num_leaves': 31,\n 'transform_y__regressor__estimator__objective': None,\n 'transform_y__regressor__estimator__random_state': 1,\n 'transform_y__regressor__estimator__reg_alpha': 0.0,\n 'transform_y__regressor__estimator__reg_lambda': 0.0,\n 'transform_y__regressor__estimator__silent': True,\n 'transform_y__regressor__estimator__subsample': 1.0,\n 'transform_y__regressor__estimator__subsample_for_bin': 200000,\n 'transform_y__regressor__estimator__subsample_freq': 0,\n 'transform_y__regressor__estimator': LGBMRegressor(random_state=1),\n 'transform_y__regressor__n_jobs': -1,\n 'transform_y__regressor': MultiOutputRegressor(estimator=LGBMRegressor(random_state=1), n_jobs=-1),\n 'transform_y__transformer__h': 28,\n 'transform_y__transformer__reshape': True,\n 'transform_y__transformer__return_X': False,\n 'transform_y__transformer__return_y': True,\n 'transform_y__transformer__w': 56,\n 'transform_y__transformer': EndogenousTransformer(h=28, reshape=True, return_X=False, w=56)}"
     },
     "execution_count": 82,
     "metadata": {},
     "output_type": "execute_result"
    }
   ],
   "source": [
    "pipe = Pipeline([\r\n",
    "    ('transfrom_X', EndogenousTransformer(w=56, h=28, return_y=False)),\r\n",
    "    ('transform_y', TransformedTargetRegressor(\r\n",
    "        regressor=MultiOutputRegressor(\r\n",
    "            lgb.LGBMRegressor(random_state=1, n_jobs=-1),\r\n",
    "            n_jobs=-1\r\n",
    "        ),\r\n",
    "        transformer=EndogenousTransformer(\r\n",
    "            w=56, h=28, return_X=False, reshape=True),\r\n",
    "        check_inverse=False)\r\n",
    "     )\r\n",
    "])\r\n",
    "pipe.get_params()"
   ]
  },
  {
   "cell_type": "code",
   "execution_count": 83,
   "metadata": {},
   "outputs": [
    {
     "data": {
      "text/plain": "array([471.7198, 402.9137, 375.4826, 425.8438, 454.9795, 612.5016,\n       545.9712, 479.6887, 456.6566, 434.771 , 431.066 , 518.6863,\n       590.3889, 559.975 , 501.0072, 478.5058, 417.7204, 437.7128,\n       476.0144, 580.7841, 536.5159, 499.4256, 442.6632, 420.5836,\n       474.8373, 443.141 , 550.5156, 531.7143])"
     },
     "execution_count": 83,
     "metadata": {},
     "output_type": "execute_result"
    }
   ],
   "source": [
    "pipe.fit(train_df_9.iloc[:, 0], train_df_9.iloc[:, 0])\r\n",
    "pipe.predict(trainOG_df_9.iloc[-56:, 0])"
   ]
  },
  {
   "cell_type": "code",
   "execution_count": 8,
   "metadata": {},
   "outputs": [],
   "source": [
    "param_grid = {\r\n",
    "    'transfrom_X__w': [56, 28*3],\r\n",
    "    'transform_y__regressor__estimator__n_estimators': [100, 200],\r\n",
    "    'transform_y__transformer__w': [56, 28*3],\r\n",
    "    'transform_y__regressor__estimator__num_leaves': [31, 70],\r\n",
    "    'transform_y__regressor__estimator__max_depth': [3, 5, 7],\r\n",
    "}"
   ]
  },
  {
   "cell_type": "code",
   "execution_count": 9,
   "metadata": {},
   "outputs": [],
   "source": [
    "tscv = TimeSeriesSplit(n_splits=3, test_size=28)"
   ]
  },
  {
   "cell_type": "code",
   "execution_count": 10,
   "metadata": {},
   "outputs": [],
   "source": [
    "gs = GridSearchCV(\r\n",
    "    estimator=pipe,\r\n",
    "    param_grid=param_grid,\r\n",
    "    scoring='neg_root_mean_squared_error',\r\n",
    "    error_score=np.NINF,\r\n",
    "    return_train_score=True,\r\n",
    "    verbose=5,\r\n",
    "    cv = tscv,\r\n",
    "    n_jobs=-1\r\n",
    ")\r\n"
   ]
  },
  {
   "cell_type": "code",
   "execution_count": 11,
   "metadata": {},
   "outputs": [
    {
     "name": "stdout",
     "output_type": "stream",
     "text": [
      "Fitting 3 folds for each of 48 candidates, totalling 144 fits\n"
     ]
    },
    {
     "data": {
      "text/plain": "GridSearchCV(cv=TimeSeriesSplit(gap=0, max_train_size=None, n_splits=3, test_size=28),\n             error_score=-inf,\n             estimator=Pipeline(steps=[('transfrom_X',\n                                        EndogenousTransformer(h=28,\n                                                              return_y=False,\n                                                              w=56)),\n                                       ('transform_y',\n                                        TransformedTargetRegressor(check_inverse=False,\n                                                                   regressor=MultiOutputRegressor(estimator=LGBMRegressor(random_state=1),\n                                                                                                  n_jobs=-1),\n                                                                   transformer=Endo...\n                                                                                                     return_X=False,\n                                                                                                     w=56)))]),\n             n_jobs=-1,\n             param_grid={'transform_y__regressor__estimator__max_depth': [3, 5,\n                                                                          7],\n                         'transform_y__regressor__estimator__n_estimators': [100,\n                                                                             200],\n                         'transform_y__regressor__estimator__num_leaves': [31,\n                                                                           70],\n                         'transform_y__transformer__w': [56, 84],\n                         'transfrom_X__w': [56, 84]},\n             return_train_score=True, scoring='neg_root_mean_squared_error',\n             verbose=5)"
     },
     "execution_count": 11,
     "metadata": {},
     "output_type": "execute_result"
    }
   ],
   "source": [
    "gs.fit(train_df_9.iloc[:, 1], train_df_9.iloc[:, 1])"
   ]
  },
  {
   "cell_type": "code",
   "execution_count": 13,
   "metadata": {},
   "outputs": [
    {
     "data": {
      "text/html": "<div>\n<style scoped>\n    .dataframe tbody tr th:only-of-type {\n        vertical-align: middle;\n    }\n\n    .dataframe tbody tr th {\n        vertical-align: top;\n    }\n\n    .dataframe thead th {\n        text-align: right;\n    }\n</style>\n<table border=\"1\" class=\"dataframe\">\n  <thead>\n    <tr style=\"text-align: right;\">\n      <th></th>\n      <th>mean_fit_time</th>\n      <th>std_fit_time</th>\n      <th>mean_score_time</th>\n      <th>std_score_time</th>\n      <th>param_transform_y__regressor__estimator__max_depth</th>\n      <th>param_transform_y__regressor__estimator__n_estimators</th>\n      <th>param_transform_y__regressor__estimator__num_leaves</th>\n      <th>param_transform_y__transformer__w</th>\n      <th>param_transfrom_X__w</th>\n      <th>params</th>\n      <th>...</th>\n      <th>split1_test_score</th>\n      <th>split2_test_score</th>\n      <th>mean_test_score</th>\n      <th>std_test_score</th>\n      <th>rank_test_score</th>\n      <th>split0_train_score</th>\n      <th>split1_train_score</th>\n      <th>split2_train_score</th>\n      <th>mean_train_score</th>\n      <th>std_train_score</th>\n    </tr>\n  </thead>\n  <tbody>\n    <tr>\n      <th>0</th>\n      <td>3.2001</td>\n      <td>0.8192</td>\n      <td>0.2118</td>\n      <td>0.0284</td>\n      <td>3</td>\n      <td>100</td>\n      <td>31</td>\n      <td>56</td>\n      <td>56</td>\n      <td>{'transform_y__regressor__estimator__max_depth...</td>\n      <td>...</td>\n      <td>-inf</td>\n      <td>-inf</td>\n      <td>-inf</td>\n      <td>NaN</td>\n      <td>1</td>\n      <td>-inf</td>\n      <td>-inf</td>\n      <td>-inf</td>\n      <td>-inf</td>\n      <td>NaN</td>\n    </tr>\n    <tr>\n      <th>1</th>\n      <td>1.2546</td>\n      <td>0.0716</td>\n      <td>0.0000</td>\n      <td>0.0000</td>\n      <td>3</td>\n      <td>100</td>\n      <td>31</td>\n      <td>56</td>\n      <td>84</td>\n      <td>{'transform_y__regressor__estimator__max_depth...</td>\n      <td>...</td>\n      <td>-inf</td>\n      <td>-inf</td>\n      <td>-inf</td>\n      <td>NaN</td>\n      <td>1</td>\n      <td>-inf</td>\n      <td>-inf</td>\n      <td>-inf</td>\n      <td>-inf</td>\n      <td>NaN</td>\n    </tr>\n    <tr>\n      <th>2</th>\n      <td>1.4022</td>\n      <td>0.3330</td>\n      <td>0.0000</td>\n      <td>0.0000</td>\n      <td>3</td>\n      <td>100</td>\n      <td>31</td>\n      <td>84</td>\n      <td>56</td>\n      <td>{'transform_y__regressor__estimator__max_depth...</td>\n      <td>...</td>\n      <td>-inf</td>\n      <td>-inf</td>\n      <td>-inf</td>\n      <td>NaN</td>\n      <td>1</td>\n      <td>-inf</td>\n      <td>-inf</td>\n      <td>-inf</td>\n      <td>-inf</td>\n      <td>NaN</td>\n    </tr>\n    <tr>\n      <th>3</th>\n      <td>2.9345</td>\n      <td>0.6409</td>\n      <td>0.3477</td>\n      <td>0.1436</td>\n      <td>3</td>\n      <td>100</td>\n      <td>31</td>\n      <td>84</td>\n      <td>84</td>\n      <td>{'transform_y__regressor__estimator__max_depth...</td>\n      <td>...</td>\n      <td>-inf</td>\n      <td>-inf</td>\n      <td>-inf</td>\n      <td>NaN</td>\n      <td>1</td>\n      <td>-inf</td>\n      <td>-inf</td>\n      <td>-inf</td>\n      <td>-inf</td>\n      <td>NaN</td>\n    </tr>\n    <tr>\n      <th>4</th>\n      <td>3.0851</td>\n      <td>0.1871</td>\n      <td>0.1838</td>\n      <td>0.0126</td>\n      <td>3</td>\n      <td>100</td>\n      <td>70</td>\n      <td>56</td>\n      <td>56</td>\n      <td>{'transform_y__regressor__estimator__max_depth...</td>\n      <td>...</td>\n      <td>-inf</td>\n      <td>-inf</td>\n      <td>-inf</td>\n      <td>NaN</td>\n      <td>1</td>\n      <td>-inf</td>\n      <td>-inf</td>\n      <td>-inf</td>\n      <td>-inf</td>\n      <td>NaN</td>\n    </tr>\n    <tr>\n      <th>5</th>\n      <td>1.6383</td>\n      <td>0.2257</td>\n      <td>0.0000</td>\n      <td>0.0000</td>\n      <td>3</td>\n      <td>100</td>\n      <td>70</td>\n      <td>56</td>\n      <td>84</td>\n      <td>{'transform_y__regressor__estimator__max_depth...</td>\n      <td>...</td>\n      <td>-inf</td>\n      <td>-inf</td>\n      <td>-inf</td>\n      <td>NaN</td>\n      <td>1</td>\n      <td>-inf</td>\n      <td>-inf</td>\n      <td>-inf</td>\n      <td>-inf</td>\n      <td>NaN</td>\n    </tr>\n    <tr>\n      <th>6</th>\n      <td>1.5259</td>\n      <td>0.3783</td>\n      <td>0.0000</td>\n      <td>0.0000</td>\n      <td>3</td>\n      <td>100</td>\n      <td>70</td>\n      <td>84</td>\n      <td>56</td>\n      <td>{'transform_y__regressor__estimator__max_depth...</td>\n      <td>...</td>\n      <td>-inf</td>\n      <td>-inf</td>\n      <td>-inf</td>\n      <td>NaN</td>\n      <td>1</td>\n      <td>-inf</td>\n      <td>-inf</td>\n      <td>-inf</td>\n      <td>-inf</td>\n      <td>NaN</td>\n    </tr>\n    <tr>\n      <th>7</th>\n      <td>2.8444</td>\n      <td>0.5900</td>\n      <td>0.3388</td>\n      <td>0.2308</td>\n      <td>3</td>\n      <td>100</td>\n      <td>70</td>\n      <td>84</td>\n      <td>84</td>\n      <td>{'transform_y__regressor__estimator__max_depth...</td>\n      <td>...</td>\n      <td>-inf</td>\n      <td>-inf</td>\n      <td>-inf</td>\n      <td>NaN</td>\n      <td>1</td>\n      <td>-inf</td>\n      <td>-inf</td>\n      <td>-inf</td>\n      <td>-inf</td>\n      <td>NaN</td>\n    </tr>\n    <tr>\n      <th>8</th>\n      <td>3.8517</td>\n      <td>0.0870</td>\n      <td>0.2929</td>\n      <td>0.2083</td>\n      <td>3</td>\n      <td>200</td>\n      <td>31</td>\n      <td>56</td>\n      <td>56</td>\n      <td>{'transform_y__regressor__estimator__max_depth...</td>\n      <td>...</td>\n      <td>-inf</td>\n      <td>-inf</td>\n      <td>-inf</td>\n      <td>NaN</td>\n      <td>1</td>\n      <td>-inf</td>\n      <td>-inf</td>\n      <td>-inf</td>\n      <td>-inf</td>\n      <td>NaN</td>\n    </tr>\n    <tr>\n      <th>9</th>\n      <td>1.4780</td>\n      <td>0.0994</td>\n      <td>0.0000</td>\n      <td>0.0000</td>\n      <td>3</td>\n      <td>200</td>\n      <td>31</td>\n      <td>56</td>\n      <td>84</td>\n      <td>{'transform_y__regressor__estimator__max_depth...</td>\n      <td>...</td>\n      <td>-inf</td>\n      <td>-inf</td>\n      <td>-inf</td>\n      <td>NaN</td>\n      <td>1</td>\n      <td>-inf</td>\n      <td>-inf</td>\n      <td>-inf</td>\n      <td>-inf</td>\n      <td>NaN</td>\n    </tr>\n    <tr>\n      <th>10</th>\n      <td>1.4850</td>\n      <td>0.0892</td>\n      <td>0.0000</td>\n      <td>0.0000</td>\n      <td>3</td>\n      <td>200</td>\n      <td>31</td>\n      <td>84</td>\n      <td>56</td>\n      <td>{'transform_y__regressor__estimator__max_depth...</td>\n      <td>...</td>\n      <td>-inf</td>\n      <td>-inf</td>\n      <td>-inf</td>\n      <td>NaN</td>\n      <td>1</td>\n      <td>-inf</td>\n      <td>-inf</td>\n      <td>-inf</td>\n      <td>-inf</td>\n      <td>NaN</td>\n    </tr>\n    <tr>\n      <th>11</th>\n      <td>4.8254</td>\n      <td>0.2220</td>\n      <td>0.3215</td>\n      <td>0.0831</td>\n      <td>3</td>\n      <td>200</td>\n      <td>31</td>\n      <td>84</td>\n      <td>84</td>\n      <td>{'transform_y__regressor__estimator__max_depth...</td>\n      <td>...</td>\n      <td>-inf</td>\n      <td>-inf</td>\n      <td>-inf</td>\n      <td>NaN</td>\n      <td>1</td>\n      <td>-inf</td>\n      <td>-inf</td>\n      <td>-inf</td>\n      <td>-inf</td>\n      <td>NaN</td>\n    </tr>\n    <tr>\n      <th>12</th>\n      <td>4.7560</td>\n      <td>0.7119</td>\n      <td>0.3447</td>\n      <td>0.2671</td>\n      <td>3</td>\n      <td>200</td>\n      <td>70</td>\n      <td>56</td>\n      <td>56</td>\n      <td>{'transform_y__regressor__estimator__max_depth...</td>\n      <td>...</td>\n      <td>-inf</td>\n      <td>-inf</td>\n      <td>-inf</td>\n      <td>NaN</td>\n      <td>1</td>\n      <td>-inf</td>\n      <td>-inf</td>\n      <td>-inf</td>\n      <td>-inf</td>\n      <td>NaN</td>\n    </tr>\n    <tr>\n      <th>13</th>\n      <td>2.1978</td>\n      <td>0.5040</td>\n      <td>0.0000</td>\n      <td>0.0000</td>\n      <td>3</td>\n      <td>200</td>\n      <td>70</td>\n      <td>56</td>\n      <td>84</td>\n      <td>{'transform_y__regressor__estimator__max_depth...</td>\n      <td>...</td>\n      <td>-inf</td>\n      <td>-inf</td>\n      <td>-inf</td>\n      <td>NaN</td>\n      <td>1</td>\n      <td>-inf</td>\n      <td>-inf</td>\n      <td>-inf</td>\n      <td>-inf</td>\n      <td>NaN</td>\n    </tr>\n    <tr>\n      <th>14</th>\n      <td>1.3029</td>\n      <td>0.0893</td>\n      <td>0.0000</td>\n      <td>0.0000</td>\n      <td>3</td>\n      <td>200</td>\n      <td>70</td>\n      <td>84</td>\n      <td>56</td>\n      <td>{'transform_y__regressor__estimator__max_depth...</td>\n      <td>...</td>\n      <td>-inf</td>\n      <td>-inf</td>\n      <td>-inf</td>\n      <td>NaN</td>\n      <td>1</td>\n      <td>-inf</td>\n      <td>-inf</td>\n      <td>-inf</td>\n      <td>-inf</td>\n      <td>NaN</td>\n    </tr>\n    <tr>\n      <th>15</th>\n      <td>3.8188</td>\n      <td>0.5009</td>\n      <td>0.3125</td>\n      <td>0.1580</td>\n      <td>3</td>\n      <td>200</td>\n      <td>70</td>\n      <td>84</td>\n      <td>84</td>\n      <td>{'transform_y__regressor__estimator__max_depth...</td>\n      <td>...</td>\n      <td>-inf</td>\n      <td>-inf</td>\n      <td>-inf</td>\n      <td>NaN</td>\n      <td>1</td>\n      <td>-inf</td>\n      <td>-inf</td>\n      <td>-inf</td>\n      <td>-inf</td>\n      <td>NaN</td>\n    </tr>\n    <tr>\n      <th>16</th>\n      <td>4.9052</td>\n      <td>0.6838</td>\n      <td>0.3122</td>\n      <td>0.2291</td>\n      <td>5</td>\n      <td>100</td>\n      <td>31</td>\n      <td>56</td>\n      <td>56</td>\n      <td>{'transform_y__regressor__estimator__max_depth...</td>\n      <td>...</td>\n      <td>-inf</td>\n      <td>-inf</td>\n      <td>-inf</td>\n      <td>NaN</td>\n      <td>1</td>\n      <td>-inf</td>\n      <td>-inf</td>\n      <td>-inf</td>\n      <td>-inf</td>\n      <td>NaN</td>\n    </tr>\n    <tr>\n      <th>17</th>\n      <td>1.6243</td>\n      <td>0.2592</td>\n      <td>0.0000</td>\n      <td>0.0000</td>\n      <td>5</td>\n      <td>100</td>\n      <td>31</td>\n      <td>56</td>\n      <td>84</td>\n      <td>{'transform_y__regressor__estimator__max_depth...</td>\n      <td>...</td>\n      <td>-inf</td>\n      <td>-inf</td>\n      <td>-inf</td>\n      <td>NaN</td>\n      <td>1</td>\n      <td>-inf</td>\n      <td>-inf</td>\n      <td>-inf</td>\n      <td>-inf</td>\n      <td>NaN</td>\n    </tr>\n    <tr>\n      <th>18</th>\n      <td>1.4049</td>\n      <td>0.2947</td>\n      <td>0.0000</td>\n      <td>0.0000</td>\n      <td>5</td>\n      <td>100</td>\n      <td>31</td>\n      <td>84</td>\n      <td>56</td>\n      <td>{'transform_y__regressor__estimator__max_depth...</td>\n      <td>...</td>\n      <td>-inf</td>\n      <td>-inf</td>\n      <td>-inf</td>\n      <td>NaN</td>\n      <td>1</td>\n      <td>-inf</td>\n      <td>-inf</td>\n      <td>-inf</td>\n      <td>-inf</td>\n      <td>NaN</td>\n    </tr>\n    <tr>\n      <th>19</th>\n      <td>5.6266</td>\n      <td>0.6419</td>\n      <td>0.1476</td>\n      <td>0.0245</td>\n      <td>5</td>\n      <td>100</td>\n      <td>31</td>\n      <td>84</td>\n      <td>84</td>\n      <td>{'transform_y__regressor__estimator__max_depth...</td>\n      <td>...</td>\n      <td>-inf</td>\n      <td>-inf</td>\n      <td>-inf</td>\n      <td>NaN</td>\n      <td>1</td>\n      <td>-inf</td>\n      <td>-inf</td>\n      <td>-inf</td>\n      <td>-inf</td>\n      <td>NaN</td>\n    </tr>\n    <tr>\n      <th>20</th>\n      <td>4.7270</td>\n      <td>0.1262</td>\n      <td>0.1955</td>\n      <td>0.0573</td>\n      <td>5</td>\n      <td>100</td>\n      <td>70</td>\n      <td>56</td>\n      <td>56</td>\n      <td>{'transform_y__regressor__estimator__max_depth...</td>\n      <td>...</td>\n      <td>-inf</td>\n      <td>-inf</td>\n      <td>-inf</td>\n      <td>NaN</td>\n      <td>1</td>\n      <td>-inf</td>\n      <td>-inf</td>\n      <td>-inf</td>\n      <td>-inf</td>\n      <td>NaN</td>\n    </tr>\n    <tr>\n      <th>21</th>\n      <td>1.6928</td>\n      <td>0.1073</td>\n      <td>0.0000</td>\n      <td>0.0000</td>\n      <td>5</td>\n      <td>100</td>\n      <td>70</td>\n      <td>56</td>\n      <td>84</td>\n      <td>{'transform_y__regressor__estimator__max_depth...</td>\n      <td>...</td>\n      <td>-inf</td>\n      <td>-inf</td>\n      <td>-inf</td>\n      <td>NaN</td>\n      <td>1</td>\n      <td>-inf</td>\n      <td>-inf</td>\n      <td>-inf</td>\n      <td>-inf</td>\n      <td>NaN</td>\n    </tr>\n    <tr>\n      <th>22</th>\n      <td>1.4255</td>\n      <td>0.0665</td>\n      <td>0.0000</td>\n      <td>0.0000</td>\n      <td>5</td>\n      <td>100</td>\n      <td>70</td>\n      <td>84</td>\n      <td>56</td>\n      <td>{'transform_y__regressor__estimator__max_depth...</td>\n      <td>...</td>\n      <td>-inf</td>\n      <td>-inf</td>\n      <td>-inf</td>\n      <td>NaN</td>\n      <td>1</td>\n      <td>-inf</td>\n      <td>-inf</td>\n      <td>-inf</td>\n      <td>-inf</td>\n      <td>NaN</td>\n    </tr>\n    <tr>\n      <th>23</th>\n      <td>5.0056</td>\n      <td>1.1349</td>\n      <td>0.7756</td>\n      <td>0.1802</td>\n      <td>5</td>\n      <td>100</td>\n      <td>70</td>\n      <td>84</td>\n      <td>84</td>\n      <td>{'transform_y__regressor__estimator__max_depth...</td>\n      <td>...</td>\n      <td>-inf</td>\n      <td>-inf</td>\n      <td>-inf</td>\n      <td>NaN</td>\n      <td>1</td>\n      <td>-inf</td>\n      <td>-inf</td>\n      <td>-inf</td>\n      <td>-inf</td>\n      <td>NaN</td>\n    </tr>\n    <tr>\n      <th>24</th>\n      <td>6.1891</td>\n      <td>1.0304</td>\n      <td>0.4242</td>\n      <td>0.0960</td>\n      <td>5</td>\n      <td>200</td>\n      <td>31</td>\n      <td>56</td>\n      <td>56</td>\n      <td>{'transform_y__regressor__estimator__max_depth...</td>\n      <td>...</td>\n      <td>-inf</td>\n      <td>-inf</td>\n      <td>-inf</td>\n      <td>NaN</td>\n      <td>1</td>\n      <td>-inf</td>\n      <td>-inf</td>\n      <td>-inf</td>\n      <td>-inf</td>\n      <td>NaN</td>\n    </tr>\n    <tr>\n      <th>25</th>\n      <td>1.2876</td>\n      <td>0.1811</td>\n      <td>0.0000</td>\n      <td>0.0000</td>\n      <td>5</td>\n      <td>200</td>\n      <td>31</td>\n      <td>56</td>\n      <td>84</td>\n      <td>{'transform_y__regressor__estimator__max_depth...</td>\n      <td>...</td>\n      <td>-inf</td>\n      <td>-inf</td>\n      <td>-inf</td>\n      <td>NaN</td>\n      <td>1</td>\n      <td>-inf</td>\n      <td>-inf</td>\n      <td>-inf</td>\n      <td>-inf</td>\n      <td>NaN</td>\n    </tr>\n    <tr>\n      <th>26</th>\n      <td>2.3065</td>\n      <td>0.4130</td>\n      <td>0.0000</td>\n      <td>0.0000</td>\n      <td>5</td>\n      <td>200</td>\n      <td>31</td>\n      <td>84</td>\n      <td>56</td>\n      <td>{'transform_y__regressor__estimator__max_depth...</td>\n      <td>...</td>\n      <td>-inf</td>\n      <td>-inf</td>\n      <td>-inf</td>\n      <td>NaN</td>\n      <td>1</td>\n      <td>-inf</td>\n      <td>-inf</td>\n      <td>-inf</td>\n      <td>-inf</td>\n      <td>NaN</td>\n    </tr>\n    <tr>\n      <th>27</th>\n      <td>10.2679</td>\n      <td>0.6503</td>\n      <td>0.4445</td>\n      <td>0.3488</td>\n      <td>5</td>\n      <td>200</td>\n      <td>31</td>\n      <td>84</td>\n      <td>84</td>\n      <td>{'transform_y__regressor__estimator__max_depth...</td>\n      <td>...</td>\n      <td>-inf</td>\n      <td>-inf</td>\n      <td>-inf</td>\n      <td>NaN</td>\n      <td>1</td>\n      <td>-inf</td>\n      <td>-inf</td>\n      <td>-inf</td>\n      <td>-inf</td>\n      <td>NaN</td>\n    </tr>\n    <tr>\n      <th>28</th>\n      <td>8.7150</td>\n      <td>0.3198</td>\n      <td>0.2404</td>\n      <td>0.0475</td>\n      <td>5</td>\n      <td>200</td>\n      <td>70</td>\n      <td>56</td>\n      <td>56</td>\n      <td>{'transform_y__regressor__estimator__max_depth...</td>\n      <td>...</td>\n      <td>-inf</td>\n      <td>-inf</td>\n      <td>-inf</td>\n      <td>NaN</td>\n      <td>1</td>\n      <td>-inf</td>\n      <td>-inf</td>\n      <td>-inf</td>\n      <td>-inf</td>\n      <td>NaN</td>\n    </tr>\n    <tr>\n      <th>29</th>\n      <td>2.4045</td>\n      <td>0.4853</td>\n      <td>0.0000</td>\n      <td>0.0000</td>\n      <td>5</td>\n      <td>200</td>\n      <td>70</td>\n      <td>56</td>\n      <td>84</td>\n      <td>{'transform_y__regressor__estimator__max_depth...</td>\n      <td>...</td>\n      <td>-inf</td>\n      <td>-inf</td>\n      <td>-inf</td>\n      <td>NaN</td>\n      <td>1</td>\n      <td>-inf</td>\n      <td>-inf</td>\n      <td>-inf</td>\n      <td>-inf</td>\n      <td>NaN</td>\n    </tr>\n    <tr>\n      <th>30</th>\n      <td>1.0579</td>\n      <td>0.2037</td>\n      <td>0.0000</td>\n      <td>0.0000</td>\n      <td>5</td>\n      <td>200</td>\n      <td>70</td>\n      <td>84</td>\n      <td>56</td>\n      <td>{'transform_y__regressor__estimator__max_depth...</td>\n      <td>...</td>\n      <td>-inf</td>\n      <td>-inf</td>\n      <td>-inf</td>\n      <td>NaN</td>\n      <td>1</td>\n      <td>-inf</td>\n      <td>-inf</td>\n      <td>-inf</td>\n      <td>-inf</td>\n      <td>NaN</td>\n    </tr>\n    <tr>\n      <th>31</th>\n      <td>6.7931</td>\n      <td>0.4715</td>\n      <td>0.5074</td>\n      <td>0.0916</td>\n      <td>5</td>\n      <td>200</td>\n      <td>70</td>\n      <td>84</td>\n      <td>84</td>\n      <td>{'transform_y__regressor__estimator__max_depth...</td>\n      <td>...</td>\n      <td>-inf</td>\n      <td>-inf</td>\n      <td>-inf</td>\n      <td>NaN</td>\n      <td>1</td>\n      <td>-inf</td>\n      <td>-inf</td>\n      <td>-inf</td>\n      <td>-inf</td>\n      <td>NaN</td>\n    </tr>\n    <tr>\n      <th>32</th>\n      <td>7.4838</td>\n      <td>0.4429</td>\n      <td>0.3464</td>\n      <td>0.2345</td>\n      <td>7</td>\n      <td>100</td>\n      <td>31</td>\n      <td>56</td>\n      <td>56</td>\n      <td>{'transform_y__regressor__estimator__max_depth...</td>\n      <td>...</td>\n      <td>-inf</td>\n      <td>-inf</td>\n      <td>-inf</td>\n      <td>NaN</td>\n      <td>1</td>\n      <td>-inf</td>\n      <td>-inf</td>\n      <td>-inf</td>\n      <td>-inf</td>\n      <td>NaN</td>\n    </tr>\n    <tr>\n      <th>33</th>\n      <td>2.4208</td>\n      <td>0.4860</td>\n      <td>0.0000</td>\n      <td>0.0000</td>\n      <td>7</td>\n      <td>100</td>\n      <td>31</td>\n      <td>56</td>\n      <td>84</td>\n      <td>{'transform_y__regressor__estimator__max_depth...</td>\n      <td>...</td>\n      <td>-inf</td>\n      <td>-inf</td>\n      <td>-inf</td>\n      <td>NaN</td>\n      <td>1</td>\n      <td>-inf</td>\n      <td>-inf</td>\n      <td>-inf</td>\n      <td>-inf</td>\n      <td>NaN</td>\n    </tr>\n    <tr>\n      <th>34</th>\n      <td>3.2781</td>\n      <td>0.1855</td>\n      <td>0.0000</td>\n      <td>0.0000</td>\n      <td>7</td>\n      <td>100</td>\n      <td>31</td>\n      <td>84</td>\n      <td>56</td>\n      <td>{'transform_y__regressor__estimator__max_depth...</td>\n      <td>...</td>\n      <td>-inf</td>\n      <td>-inf</td>\n      <td>-inf</td>\n      <td>NaN</td>\n      <td>1</td>\n      <td>-inf</td>\n      <td>-inf</td>\n      <td>-inf</td>\n      <td>-inf</td>\n      <td>NaN</td>\n    </tr>\n    <tr>\n      <th>35</th>\n      <td>8.7495</td>\n      <td>0.2686</td>\n      <td>0.3218</td>\n      <td>0.1698</td>\n      <td>7</td>\n      <td>100</td>\n      <td>31</td>\n      <td>84</td>\n      <td>84</td>\n      <td>{'transform_y__regressor__estimator__max_depth...</td>\n      <td>...</td>\n      <td>-inf</td>\n      <td>-inf</td>\n      <td>-inf</td>\n      <td>NaN</td>\n      <td>1</td>\n      <td>-inf</td>\n      <td>-inf</td>\n      <td>-inf</td>\n      <td>-inf</td>\n      <td>NaN</td>\n    </tr>\n    <tr>\n      <th>36</th>\n      <td>7.7449</td>\n      <td>0.4817</td>\n      <td>0.2656</td>\n      <td>0.1321</td>\n      <td>7</td>\n      <td>100</td>\n      <td>70</td>\n      <td>56</td>\n      <td>56</td>\n      <td>{'transform_y__regressor__estimator__max_depth...</td>\n      <td>...</td>\n      <td>-inf</td>\n      <td>-inf</td>\n      <td>-inf</td>\n      <td>NaN</td>\n      <td>1</td>\n      <td>-inf</td>\n      <td>-inf</td>\n      <td>-inf</td>\n      <td>-inf</td>\n      <td>NaN</td>\n    </tr>\n    <tr>\n      <th>37</th>\n      <td>1.1735</td>\n      <td>0.2883</td>\n      <td>0.0000</td>\n      <td>0.0000</td>\n      <td>7</td>\n      <td>100</td>\n      <td>70</td>\n      <td>56</td>\n      <td>84</td>\n      <td>{'transform_y__regressor__estimator__max_depth...</td>\n      <td>...</td>\n      <td>-inf</td>\n      <td>-inf</td>\n      <td>-inf</td>\n      <td>NaN</td>\n      <td>1</td>\n      <td>-inf</td>\n      <td>-inf</td>\n      <td>-inf</td>\n      <td>-inf</td>\n      <td>NaN</td>\n    </tr>\n    <tr>\n      <th>38</th>\n      <td>0.9242</td>\n      <td>0.0827</td>\n      <td>0.0000</td>\n      <td>0.0000</td>\n      <td>7</td>\n      <td>100</td>\n      <td>70</td>\n      <td>84</td>\n      <td>56</td>\n      <td>{'transform_y__regressor__estimator__max_depth...</td>\n      <td>...</td>\n      <td>-inf</td>\n      <td>-inf</td>\n      <td>-inf</td>\n      <td>NaN</td>\n      <td>1</td>\n      <td>-inf</td>\n      <td>-inf</td>\n      <td>-inf</td>\n      <td>-inf</td>\n      <td>NaN</td>\n    </tr>\n    <tr>\n      <th>39</th>\n      <td>5.8261</td>\n      <td>0.7873</td>\n      <td>0.6543</td>\n      <td>0.0381</td>\n      <td>7</td>\n      <td>100</td>\n      <td>70</td>\n      <td>84</td>\n      <td>84</td>\n      <td>{'transform_y__regressor__estimator__max_depth...</td>\n      <td>...</td>\n      <td>-inf</td>\n      <td>-inf</td>\n      <td>-inf</td>\n      <td>NaN</td>\n      <td>1</td>\n      <td>-inf</td>\n      <td>-inf</td>\n      <td>-inf</td>\n      <td>-inf</td>\n      <td>NaN</td>\n    </tr>\n    <tr>\n      <th>40</th>\n      <td>9.7719</td>\n      <td>1.2109</td>\n      <td>0.7427</td>\n      <td>0.1393</td>\n      <td>7</td>\n      <td>200</td>\n      <td>31</td>\n      <td>56</td>\n      <td>56</td>\n      <td>{'transform_y__regressor__estimator__max_depth...</td>\n      <td>...</td>\n      <td>-inf</td>\n      <td>-inf</td>\n      <td>-inf</td>\n      <td>NaN</td>\n      <td>1</td>\n      <td>-inf</td>\n      <td>-inf</td>\n      <td>-inf</td>\n      <td>-inf</td>\n      <td>NaN</td>\n    </tr>\n    <tr>\n      <th>41</th>\n      <td>1.3501</td>\n      <td>0.0904</td>\n      <td>0.0000</td>\n      <td>0.0000</td>\n      <td>7</td>\n      <td>200</td>\n      <td>31</td>\n      <td>56</td>\n      <td>84</td>\n      <td>{'transform_y__regressor__estimator__max_depth...</td>\n      <td>...</td>\n      <td>-inf</td>\n      <td>-inf</td>\n      <td>-inf</td>\n      <td>NaN</td>\n      <td>1</td>\n      <td>-inf</td>\n      <td>-inf</td>\n      <td>-inf</td>\n      <td>-inf</td>\n      <td>NaN</td>\n    </tr>\n    <tr>\n      <th>42</th>\n      <td>1.7477</td>\n      <td>0.3596</td>\n      <td>0.0000</td>\n      <td>0.0000</td>\n      <td>7</td>\n      <td>200</td>\n      <td>31</td>\n      <td>84</td>\n      <td>56</td>\n      <td>{'transform_y__regressor__estimator__max_depth...</td>\n      <td>...</td>\n      <td>-inf</td>\n      <td>-inf</td>\n      <td>-inf</td>\n      <td>NaN</td>\n      <td>1</td>\n      <td>-inf</td>\n      <td>-inf</td>\n      <td>-inf</td>\n      <td>-inf</td>\n      <td>NaN</td>\n    </tr>\n    <tr>\n      <th>43</th>\n      <td>16.0498</td>\n      <td>1.0453</td>\n      <td>0.3311</td>\n      <td>0.2379</td>\n      <td>7</td>\n      <td>200</td>\n      <td>31</td>\n      <td>84</td>\n      <td>84</td>\n      <td>{'transform_y__regressor__estimator__max_depth...</td>\n      <td>...</td>\n      <td>-inf</td>\n      <td>-inf</td>\n      <td>-inf</td>\n      <td>NaN</td>\n      <td>1</td>\n      <td>-inf</td>\n      <td>-inf</td>\n      <td>-inf</td>\n      <td>-inf</td>\n      <td>NaN</td>\n    </tr>\n    <tr>\n      <th>44</th>\n      <td>11.3507</td>\n      <td>0.6787</td>\n      <td>0.8843</td>\n      <td>0.1990</td>\n      <td>7</td>\n      <td>200</td>\n      <td>70</td>\n      <td>56</td>\n      <td>56</td>\n      <td>{'transform_y__regressor__estimator__max_depth...</td>\n      <td>...</td>\n      <td>-inf</td>\n      <td>-inf</td>\n      <td>-inf</td>\n      <td>NaN</td>\n      <td>1</td>\n      <td>-inf</td>\n      <td>-inf</td>\n      <td>-inf</td>\n      <td>-inf</td>\n      <td>NaN</td>\n    </tr>\n    <tr>\n      <th>45</th>\n      <td>4.2895</td>\n      <td>0.2783</td>\n      <td>0.0000</td>\n      <td>0.0000</td>\n      <td>7</td>\n      <td>200</td>\n      <td>70</td>\n      <td>56</td>\n      <td>84</td>\n      <td>{'transform_y__regressor__estimator__max_depth...</td>\n      <td>...</td>\n      <td>-inf</td>\n      <td>-inf</td>\n      <td>-inf</td>\n      <td>NaN</td>\n      <td>1</td>\n      <td>-inf</td>\n      <td>-inf</td>\n      <td>-inf</td>\n      <td>-inf</td>\n      <td>NaN</td>\n    </tr>\n    <tr>\n      <th>46</th>\n      <td>1.8657</td>\n      <td>0.4463</td>\n      <td>0.0000</td>\n      <td>0.0000</td>\n      <td>7</td>\n      <td>200</td>\n      <td>70</td>\n      <td>84</td>\n      <td>56</td>\n      <td>{'transform_y__regressor__estimator__max_depth...</td>\n      <td>...</td>\n      <td>-inf</td>\n      <td>-inf</td>\n      <td>-inf</td>\n      <td>NaN</td>\n      <td>1</td>\n      <td>-inf</td>\n      <td>-inf</td>\n      <td>-inf</td>\n      <td>-inf</td>\n      <td>NaN</td>\n    </tr>\n    <tr>\n      <th>47</th>\n      <td>6.7008</td>\n      <td>0.0291</td>\n      <td>0.0572</td>\n      <td>0.0020</td>\n      <td>7</td>\n      <td>200</td>\n      <td>70</td>\n      <td>84</td>\n      <td>84</td>\n      <td>{'transform_y__regressor__estimator__max_depth...</td>\n      <td>...</td>\n      <td>-inf</td>\n      <td>-inf</td>\n      <td>-inf</td>\n      <td>NaN</td>\n      <td>1</td>\n      <td>-inf</td>\n      <td>-inf</td>\n      <td>-inf</td>\n      <td>-inf</td>\n      <td>NaN</td>\n    </tr>\n  </tbody>\n</table>\n<p>48 rows × 21 columns</p>\n</div>",
      "text/plain": "    mean_fit_time  std_fit_time  mean_score_time  std_score_time  \\\n0          3.2001        0.8192           0.2118          0.0284   \n1          1.2546        0.0716           0.0000          0.0000   \n2          1.4022        0.3330           0.0000          0.0000   \n3          2.9345        0.6409           0.3477          0.1436   \n4          3.0851        0.1871           0.1838          0.0126   \n5          1.6383        0.2257           0.0000          0.0000   \n6          1.5259        0.3783           0.0000          0.0000   \n7          2.8444        0.5900           0.3388          0.2308   \n8          3.8517        0.0870           0.2929          0.2083   \n9          1.4780        0.0994           0.0000          0.0000   \n10         1.4850        0.0892           0.0000          0.0000   \n11         4.8254        0.2220           0.3215          0.0831   \n12         4.7560        0.7119           0.3447          0.2671   \n13         2.1978        0.5040           0.0000          0.0000   \n14         1.3029        0.0893           0.0000          0.0000   \n15         3.8188        0.5009           0.3125          0.1580   \n16         4.9052        0.6838           0.3122          0.2291   \n17         1.6243        0.2592           0.0000          0.0000   \n18         1.4049        0.2947           0.0000          0.0000   \n19         5.6266        0.6419           0.1476          0.0245   \n20         4.7270        0.1262           0.1955          0.0573   \n21         1.6928        0.1073           0.0000          0.0000   \n22         1.4255        0.0665           0.0000          0.0000   \n23         5.0056        1.1349           0.7756          0.1802   \n24         6.1891        1.0304           0.4242          0.0960   \n25         1.2876        0.1811           0.0000          0.0000   \n26         2.3065        0.4130           0.0000          0.0000   \n27        10.2679        0.6503           0.4445          0.3488   \n28         8.7150        0.3198           0.2404          0.0475   \n29         2.4045        0.4853           0.0000          0.0000   \n30         1.0579        0.2037           0.0000          0.0000   \n31         6.7931        0.4715           0.5074          0.0916   \n32         7.4838        0.4429           0.3464          0.2345   \n33         2.4208        0.4860           0.0000          0.0000   \n34         3.2781        0.1855           0.0000          0.0000   \n35         8.7495        0.2686           0.3218          0.1698   \n36         7.7449        0.4817           0.2656          0.1321   \n37         1.1735        0.2883           0.0000          0.0000   \n38         0.9242        0.0827           0.0000          0.0000   \n39         5.8261        0.7873           0.6543          0.0381   \n40         9.7719        1.2109           0.7427          0.1393   \n41         1.3501        0.0904           0.0000          0.0000   \n42         1.7477        0.3596           0.0000          0.0000   \n43        16.0498        1.0453           0.3311          0.2379   \n44        11.3507        0.6787           0.8843          0.1990   \n45         4.2895        0.2783           0.0000          0.0000   \n46         1.8657        0.4463           0.0000          0.0000   \n47         6.7008        0.0291           0.0572          0.0020   \n\n   param_transform_y__regressor__estimator__max_depth  \\\n0                                                   3   \n1                                                   3   \n2                                                   3   \n3                                                   3   \n4                                                   3   \n5                                                   3   \n6                                                   3   \n7                                                   3   \n8                                                   3   \n9                                                   3   \n10                                                  3   \n11                                                  3   \n12                                                  3   \n13                                                  3   \n14                                                  3   \n15                                                  3   \n16                                                  5   \n17                                                  5   \n18                                                  5   \n19                                                  5   \n20                                                  5   \n21                                                  5   \n22                                                  5   \n23                                                  5   \n24                                                  5   \n25                                                  5   \n26                                                  5   \n27                                                  5   \n28                                                  5   \n29                                                  5   \n30                                                  5   \n31                                                  5   \n32                                                  7   \n33                                                  7   \n34                                                  7   \n35                                                  7   \n36                                                  7   \n37                                                  7   \n38                                                  7   \n39                                                  7   \n40                                                  7   \n41                                                  7   \n42                                                  7   \n43                                                  7   \n44                                                  7   \n45                                                  7   \n46                                                  7   \n47                                                  7   \n\n   param_transform_y__regressor__estimator__n_estimators  \\\n0                                                 100      \n1                                                 100      \n2                                                 100      \n3                                                 100      \n4                                                 100      \n5                                                 100      \n6                                                 100      \n7                                                 100      \n8                                                 200      \n9                                                 200      \n10                                                200      \n11                                                200      \n12                                                200      \n13                                                200      \n14                                                200      \n15                                                200      \n16                                                100      \n17                                                100      \n18                                                100      \n19                                                100      \n20                                                100      \n21                                                100      \n22                                                100      \n23                                                100      \n24                                                200      \n25                                                200      \n26                                                200      \n27                                                200      \n28                                                200      \n29                                                200      \n30                                                200      \n31                                                200      \n32                                                100      \n33                                                100      \n34                                                100      \n35                                                100      \n36                                                100      \n37                                                100      \n38                                                100      \n39                                                100      \n40                                                200      \n41                                                200      \n42                                                200      \n43                                                200      \n44                                                200      \n45                                                200      \n46                                                200      \n47                                                200      \n\n   param_transform_y__regressor__estimator__num_leaves  \\\n0                                                  31    \n1                                                  31    \n2                                                  31    \n3                                                  31    \n4                                                  70    \n5                                                  70    \n6                                                  70    \n7                                                  70    \n8                                                  31    \n9                                                  31    \n10                                                 31    \n11                                                 31    \n12                                                 70    \n13                                                 70    \n14                                                 70    \n15                                                 70    \n16                                                 31    \n17                                                 31    \n18                                                 31    \n19                                                 31    \n20                                                 70    \n21                                                 70    \n22                                                 70    \n23                                                 70    \n24                                                 31    \n25                                                 31    \n26                                                 31    \n27                                                 31    \n28                                                 70    \n29                                                 70    \n30                                                 70    \n31                                                 70    \n32                                                 31    \n33                                                 31    \n34                                                 31    \n35                                                 31    \n36                                                 70    \n37                                                 70    \n38                                                 70    \n39                                                 70    \n40                                                 31    \n41                                                 31    \n42                                                 31    \n43                                                 31    \n44                                                 70    \n45                                                 70    \n46                                                 70    \n47                                                 70    \n\n   param_transform_y__transformer__w param_transfrom_X__w  \\\n0                                 56                   56   \n1                                 56                   84   \n2                                 84                   56   \n3                                 84                   84   \n4                                 56                   56   \n5                                 56                   84   \n6                                 84                   56   \n7                                 84                   84   \n8                                 56                   56   \n9                                 56                   84   \n10                                84                   56   \n11                                84                   84   \n12                                56                   56   \n13                                56                   84   \n14                                84                   56   \n15                                84                   84   \n16                                56                   56   \n17                                56                   84   \n18                                84                   56   \n19                                84                   84   \n20                                56                   56   \n21                                56                   84   \n22                                84                   56   \n23                                84                   84   \n24                                56                   56   \n25                                56                   84   \n26                                84                   56   \n27                                84                   84   \n28                                56                   56   \n29                                56                   84   \n30                                84                   56   \n31                                84                   84   \n32                                56                   56   \n33                                56                   84   \n34                                84                   56   \n35                                84                   84   \n36                                56                   56   \n37                                56                   84   \n38                                84                   56   \n39                                84                   84   \n40                                56                   56   \n41                                56                   84   \n42                                84                   56   \n43                                84                   84   \n44                                56                   56   \n45                                56                   84   \n46                                84                   56   \n47                                84                   84   \n\n                                               params  ...  split1_test_score  \\\n0   {'transform_y__regressor__estimator__max_depth...  ...               -inf   \n1   {'transform_y__regressor__estimator__max_depth...  ...               -inf   \n2   {'transform_y__regressor__estimator__max_depth...  ...               -inf   \n3   {'transform_y__regressor__estimator__max_depth...  ...               -inf   \n4   {'transform_y__regressor__estimator__max_depth...  ...               -inf   \n5   {'transform_y__regressor__estimator__max_depth...  ...               -inf   \n6   {'transform_y__regressor__estimator__max_depth...  ...               -inf   \n7   {'transform_y__regressor__estimator__max_depth...  ...               -inf   \n8   {'transform_y__regressor__estimator__max_depth...  ...               -inf   \n9   {'transform_y__regressor__estimator__max_depth...  ...               -inf   \n10  {'transform_y__regressor__estimator__max_depth...  ...               -inf   \n11  {'transform_y__regressor__estimator__max_depth...  ...               -inf   \n12  {'transform_y__regressor__estimator__max_depth...  ...               -inf   \n13  {'transform_y__regressor__estimator__max_depth...  ...               -inf   \n14  {'transform_y__regressor__estimator__max_depth...  ...               -inf   \n15  {'transform_y__regressor__estimator__max_depth...  ...               -inf   \n16  {'transform_y__regressor__estimator__max_depth...  ...               -inf   \n17  {'transform_y__regressor__estimator__max_depth...  ...               -inf   \n18  {'transform_y__regressor__estimator__max_depth...  ...               -inf   \n19  {'transform_y__regressor__estimator__max_depth...  ...               -inf   \n20  {'transform_y__regressor__estimator__max_depth...  ...               -inf   \n21  {'transform_y__regressor__estimator__max_depth...  ...               -inf   \n22  {'transform_y__regressor__estimator__max_depth...  ...               -inf   \n23  {'transform_y__regressor__estimator__max_depth...  ...               -inf   \n24  {'transform_y__regressor__estimator__max_depth...  ...               -inf   \n25  {'transform_y__regressor__estimator__max_depth...  ...               -inf   \n26  {'transform_y__regressor__estimator__max_depth...  ...               -inf   \n27  {'transform_y__regressor__estimator__max_depth...  ...               -inf   \n28  {'transform_y__regressor__estimator__max_depth...  ...               -inf   \n29  {'transform_y__regressor__estimator__max_depth...  ...               -inf   \n30  {'transform_y__regressor__estimator__max_depth...  ...               -inf   \n31  {'transform_y__regressor__estimator__max_depth...  ...               -inf   \n32  {'transform_y__regressor__estimator__max_depth...  ...               -inf   \n33  {'transform_y__regressor__estimator__max_depth...  ...               -inf   \n34  {'transform_y__regressor__estimator__max_depth...  ...               -inf   \n35  {'transform_y__regressor__estimator__max_depth...  ...               -inf   \n36  {'transform_y__regressor__estimator__max_depth...  ...               -inf   \n37  {'transform_y__regressor__estimator__max_depth...  ...               -inf   \n38  {'transform_y__regressor__estimator__max_depth...  ...               -inf   \n39  {'transform_y__regressor__estimator__max_depth...  ...               -inf   \n40  {'transform_y__regressor__estimator__max_depth...  ...               -inf   \n41  {'transform_y__regressor__estimator__max_depth...  ...               -inf   \n42  {'transform_y__regressor__estimator__max_depth...  ...               -inf   \n43  {'transform_y__regressor__estimator__max_depth...  ...               -inf   \n44  {'transform_y__regressor__estimator__max_depth...  ...               -inf   \n45  {'transform_y__regressor__estimator__max_depth...  ...               -inf   \n46  {'transform_y__regressor__estimator__max_depth...  ...               -inf   \n47  {'transform_y__regressor__estimator__max_depth...  ...               -inf   \n\n    split2_test_score  mean_test_score  std_test_score  rank_test_score  \\\n0                -inf             -inf             NaN                1   \n1                -inf             -inf             NaN                1   \n2                -inf             -inf             NaN                1   \n3                -inf             -inf             NaN                1   \n4                -inf             -inf             NaN                1   \n5                -inf             -inf             NaN                1   \n6                -inf             -inf             NaN                1   \n7                -inf             -inf             NaN                1   \n8                -inf             -inf             NaN                1   \n9                -inf             -inf             NaN                1   \n10               -inf             -inf             NaN                1   \n11               -inf             -inf             NaN                1   \n12               -inf             -inf             NaN                1   \n13               -inf             -inf             NaN                1   \n14               -inf             -inf             NaN                1   \n15               -inf             -inf             NaN                1   \n16               -inf             -inf             NaN                1   \n17               -inf             -inf             NaN                1   \n18               -inf             -inf             NaN                1   \n19               -inf             -inf             NaN                1   \n20               -inf             -inf             NaN                1   \n21               -inf             -inf             NaN                1   \n22               -inf             -inf             NaN                1   \n23               -inf             -inf             NaN                1   \n24               -inf             -inf             NaN                1   \n25               -inf             -inf             NaN                1   \n26               -inf             -inf             NaN                1   \n27               -inf             -inf             NaN                1   \n28               -inf             -inf             NaN                1   \n29               -inf             -inf             NaN                1   \n30               -inf             -inf             NaN                1   \n31               -inf             -inf             NaN                1   \n32               -inf             -inf             NaN                1   \n33               -inf             -inf             NaN                1   \n34               -inf             -inf             NaN                1   \n35               -inf             -inf             NaN                1   \n36               -inf             -inf             NaN                1   \n37               -inf             -inf             NaN                1   \n38               -inf             -inf             NaN                1   \n39               -inf             -inf             NaN                1   \n40               -inf             -inf             NaN                1   \n41               -inf             -inf             NaN                1   \n42               -inf             -inf             NaN                1   \n43               -inf             -inf             NaN                1   \n44               -inf             -inf             NaN                1   \n45               -inf             -inf             NaN                1   \n46               -inf             -inf             NaN                1   \n47               -inf             -inf             NaN                1   \n\n    split0_train_score  split1_train_score  split2_train_score  \\\n0                 -inf                -inf                -inf   \n1                 -inf                -inf                -inf   \n2                 -inf                -inf                -inf   \n3                 -inf                -inf                -inf   \n4                 -inf                -inf                -inf   \n5                 -inf                -inf                -inf   \n6                 -inf                -inf                -inf   \n7                 -inf                -inf                -inf   \n8                 -inf                -inf                -inf   \n9                 -inf                -inf                -inf   \n10                -inf                -inf                -inf   \n11                -inf                -inf                -inf   \n12                -inf                -inf                -inf   \n13                -inf                -inf                -inf   \n14                -inf                -inf                -inf   \n15                -inf                -inf                -inf   \n16                -inf                -inf                -inf   \n17                -inf                -inf                -inf   \n18                -inf                -inf                -inf   \n19                -inf                -inf                -inf   \n20                -inf                -inf                -inf   \n21                -inf                -inf                -inf   \n22                -inf                -inf                -inf   \n23                -inf                -inf                -inf   \n24                -inf                -inf                -inf   \n25                -inf                -inf                -inf   \n26                -inf                -inf                -inf   \n27                -inf                -inf                -inf   \n28                -inf                -inf                -inf   \n29                -inf                -inf                -inf   \n30                -inf                -inf                -inf   \n31                -inf                -inf                -inf   \n32                -inf                -inf                -inf   \n33                -inf                -inf                -inf   \n34                -inf                -inf                -inf   \n35                -inf                -inf                -inf   \n36                -inf                -inf                -inf   \n37                -inf                -inf                -inf   \n38                -inf                -inf                -inf   \n39                -inf                -inf                -inf   \n40                -inf                -inf                -inf   \n41                -inf                -inf                -inf   \n42                -inf                -inf                -inf   \n43                -inf                -inf                -inf   \n44                -inf                -inf                -inf   \n45                -inf                -inf                -inf   \n46                -inf                -inf                -inf   \n47                -inf                -inf                -inf   \n\n    mean_train_score  std_train_score  \n0               -inf              NaN  \n1               -inf              NaN  \n2               -inf              NaN  \n3               -inf              NaN  \n4               -inf              NaN  \n5               -inf              NaN  \n6               -inf              NaN  \n7               -inf              NaN  \n8               -inf              NaN  \n9               -inf              NaN  \n10              -inf              NaN  \n11              -inf              NaN  \n12              -inf              NaN  \n13              -inf              NaN  \n14              -inf              NaN  \n15              -inf              NaN  \n16              -inf              NaN  \n17              -inf              NaN  \n18              -inf              NaN  \n19              -inf              NaN  \n20              -inf              NaN  \n21              -inf              NaN  \n22              -inf              NaN  \n23              -inf              NaN  \n24              -inf              NaN  \n25              -inf              NaN  \n26              -inf              NaN  \n27              -inf              NaN  \n28              -inf              NaN  \n29              -inf              NaN  \n30              -inf              NaN  \n31              -inf              NaN  \n32              -inf              NaN  \n33              -inf              NaN  \n34              -inf              NaN  \n35              -inf              NaN  \n36              -inf              NaN  \n37              -inf              NaN  \n38              -inf              NaN  \n39              -inf              NaN  \n40              -inf              NaN  \n41              -inf              NaN  \n42              -inf              NaN  \n43              -inf              NaN  \n44              -inf              NaN  \n45              -inf              NaN  \n46              -inf              NaN  \n47              -inf              NaN  \n\n[48 rows x 21 columns]"
     },
     "execution_count": 13,
     "metadata": {},
     "output_type": "execute_result"
    }
   ],
   "source": [
    "pd.DataFrame(gs.cv_results_)"
   ]
  },
  {
   "cell_type": "markdown",
   "metadata": {},
   "source": [
    "* gridsearch (light GMB onnly per TS)\r\n",
    "* modelseach (per TS, baseline seasonal) + direct [singleshot] (treees)\r\n",
    "* wrapper search (for GBM, recursive/direct[multipleshot]/chain)\r\n",
    "* output is 70\r\n",
    "[\r\n",
    "    T-3[S1, S2...],\r\n",
    "    T-2[S1, S2...],\r\n",
    "    T-1[S1, S2...]\r\n",
    "]\r\n",
    "\r\n",
    "[S1, S2...]\r\n",
    "\r\n",
    "* exog (price, holiday, DoW, DoY, WoM, etc)"
   ]
  },
  {
   "cell_type": "code",
   "execution_count": 7,
   "metadata": {},
   "outputs": [],
   "source": [
    "tscv = TimeSeriesSplit(n_splits=3, test_size=28, )\r\n",
    "methods = {\r\n",
    "    \"Seasonal Naive\": {\r\n",
    "        'meta': 'base', \r\n",
    "        'model':BaseFuncModel(snaivef, m=7)},\r\n",
    "    \"SES\": {\r\n",
    "        'meta': 'stat',\r\n",
    "        'model': StatsModelsWrapper(ETSModel, trend=None, seasonal=None)},\r\n",
    "    \"Holt's Linear\": {\r\n",
    "        'meta': 'stat',\r\n",
    "        'model': StatsModelsWrapper(ETSModel, trend='add', seasonal=None)},\r\n",
    "    \"Additive Holt-Winters\": {\r\n",
    "        'meta': 'stat',\r\n",
    "        'model': StatsModelsWrapper(\r\n",
    "            ETSModel, seasonal_periods=7, trend='add', seasonal='add')},\r\n",
    "    \"RecursiveRegressor(LGBMRegressor)\": {\r\n",
    "        'meta': 'ml_recursive',\r\n",
    "        'model': RecursiveRegressor(\r\n",
    "            lgb.LGBMRegressor(random_state=1, w=84, h=28, n_jobs=-1))},\r\n",
    "    \"MultiOutputRegressor(LGBMRegressor)\":{\r\n",
    "        'meta': 'ml_direct',\r\n",
    "        'model': MultiOutputRegressor(\r\n",
    "            lgb.LGBMRegressor(random_state=1, n_jobs=-1),n_jobs=-1)},\r\n",
    "    \"RegressorChain(LGBMRegressor)\": {\r\n",
    "        'meta': 'ml_direct',\r\n",
    "        'model': RegressorChain(\r\n",
    "            lgb.LGBMRegressor(random_state=1, n_jobs=-1))},\r\n",
    "    \"Combo(LGBMRegressor)\": {\r\n",
    "        'meta': 'combo',\r\n",
    "        'model': [\r\n",
    "            RecursiveRegressor(\r\n",
    "                lgb.LGBMRegressor(random_state=1, w=84, h=28, n_jobs=-1)),\r\n",
    "            MultiOutputRegressor(\r\n",
    "                lgb.LGBMRegressor(random_state=1, n_jobs=-1),n_jobs=-1)\r\n",
    "        ]}\r\n",
    "}"
   ]
  },
  {
   "cell_type": "code",
   "execution_count": null,
   "metadata": {},
   "outputs": [],
   "source": [
    "for col in train_df_9:\r\n",
    "    print(col)\r\n",
    "    methods = evaluate_methods(\r\n",
    "        methods,\r\n",
    "        X=train_df_9[col],\r\n",
    "        XOG=trainOG_df_9[col],\r\n",
    "        tscv=tscv,\r\n",
    "        col=col,\r\n",
    "        w=84,\r\n",
    "        h=28)"
   ]
  },
  {
   "cell_type": "code",
   "execution_count": 10,
   "metadata": {},
   "outputs": [
    {
     "data": {
      "text/html": "<div>\n<style scoped>\n    .dataframe tbody tr th:only-of-type {\n        vertical-align: middle;\n    }\n\n    .dataframe tbody tr th {\n        vertical-align: top;\n    }\n\n    .dataframe thead th {\n        text-align: right;\n    }\n</style>\n<table border=\"1\" class=\"dataframe\">\n  <thead>\n    <tr style=\"text-align: right;\">\n      <th></th>\n      <th></th>\n      <th>Seasonal Naive</th>\n      <th>SES</th>\n      <th>Holt's Linear</th>\n      <th>Additive Holt-Winters</th>\n      <th>RecursiveRegressor(LGBMRegressor)</th>\n      <th>MultiOutputRegressor(LGBMRegressor)</th>\n      <th>RegressorChain(LGBMRegressor)</th>\n      <th>Combo(LGBMRegressor)</th>\n    </tr>\n  </thead>\n  <tbody>\n    <tr>\n      <th rowspan=\"5\" valign=\"top\">CA_1</th>\n      <th>HOBBIES_1</th>\n      <td>112.5315</td>\n      <td>102.1342</td>\n      <td>102.2342</td>\n      <td>89.0478</td>\n      <td>88.1818</td>\n      <td>91.9518</td>\n      <td>90.5094</td>\n      <td>89.2338</td>\n    </tr>\n    <tr>\n      <th>HOBBIES_2</th>\n      <td>17.1085</td>\n      <td>13.3313</td>\n      <td>13.4002</td>\n      <td>11.8658</td>\n      <td>13.7598</td>\n      <td>14.0885</td>\n      <td>12.5092</td>\n      <td>13.3713</td>\n    </tr>\n    <tr>\n      <th>HOUSEHOLD_1</th>\n      <td>124.7181</td>\n      <td>182.9850</td>\n      <td>183.3727</td>\n      <td>80.5718</td>\n      <td>77.1174</td>\n      <td>78.3647</td>\n      <td>76.8850</td>\n      <td>76.4375</td>\n    </tr>\n    <tr>\n      <th>HOUSEHOLD_2</th>\n      <td>42.9325</td>\n      <td>54.9331</td>\n      <td>54.7421</td>\n      <td>31.1680</td>\n      <td>32.8088</td>\n      <td>34.2279</td>\n      <td>34.3215</td>\n      <td>33.1396</td>\n    </tr>\n    <tr>\n      <th>FOODS_1</th>\n      <td>96.5581</td>\n      <td>115.3984</td>\n      <td>113.5375</td>\n      <td>92.5809</td>\n      <td>83.4848</td>\n      <td>71.9233</td>\n      <td>74.6178</td>\n      <td>75.9609</td>\n    </tr>\n    <tr>\n      <th>...</th>\n      <th>...</th>\n      <td>...</td>\n      <td>...</td>\n      <td>...</td>\n      <td>...</td>\n      <td>...</td>\n      <td>...</td>\n      <td>...</td>\n      <td>...</td>\n    </tr>\n    <tr>\n      <th rowspan=\"5\" valign=\"top\">WI_3</th>\n      <th>HOUSEHOLD_1</th>\n      <td>119.6917</td>\n      <td>151.5976</td>\n      <td>151.4656</td>\n      <td>100.3098</td>\n      <td>96.1385</td>\n      <td>96.7119</td>\n      <td>95.9121</td>\n      <td>93.5357</td>\n    </tr>\n    <tr>\n      <th>HOUSEHOLD_2</th>\n      <td>28.4814</td>\n      <td>38.4835</td>\n      <td>38.4900</td>\n      <td>27.9321</td>\n      <td>26.6128</td>\n      <td>29.6885</td>\n      <td>27.0664</td>\n      <td>27.0069</td>\n    </tr>\n    <tr>\n      <th>FOODS_1</th>\n      <td>85.1284</td>\n      <td>95.9297</td>\n      <td>96.3109</td>\n      <td>86.2128</td>\n      <td>67.6526</td>\n      <td>65.7408</td>\n      <td>64.0030</td>\n      <td>65.1575</td>\n    </tr>\n    <tr>\n      <th>FOODS_2</th>\n      <td>192.7013</td>\n      <td>167.3461</td>\n      <td>166.0414</td>\n      <td>180.1888</td>\n      <td>109.7245</td>\n      <td>103.9821</td>\n      <td>111.8733</td>\n      <td>104.1259</td>\n    </tr>\n    <tr>\n      <th>FOODS_3</th>\n      <td>401.1326</td>\n      <td>471.3999</td>\n      <td>490.9567</td>\n      <td>307.5882</td>\n      <td>272.5932</td>\n      <td>261.8917</td>\n      <td>259.7017</td>\n      <td>255.9858</td>\n    </tr>\n  </tbody>\n</table>\n<p>70 rows × 8 columns</p>\n</div>",
      "text/plain": "                  Seasonal Naive       SES  Holt's Linear  \\\nCA_1 HOBBIES_1          112.5315  102.1342       102.2342   \n     HOBBIES_2           17.1085   13.3313        13.4002   \n     HOUSEHOLD_1        124.7181  182.9850       183.3727   \n     HOUSEHOLD_2         42.9325   54.9331        54.7421   \n     FOODS_1             96.5581  115.3984       113.5375   \n...                          ...       ...            ...   \nWI_3 HOUSEHOLD_1        119.6917  151.5976       151.4656   \n     HOUSEHOLD_2         28.4814   38.4835        38.4900   \n     FOODS_1             85.1284   95.9297        96.3109   \n     FOODS_2            192.7013  167.3461       166.0414   \n     FOODS_3            401.1326  471.3999       490.9567   \n\n                  Additive Holt-Winters  RecursiveRegressor(LGBMRegressor)  \\\nCA_1 HOBBIES_1                  89.0478                            88.1818   \n     HOBBIES_2                  11.8658                            13.7598   \n     HOUSEHOLD_1                80.5718                            77.1174   \n     HOUSEHOLD_2                31.1680                            32.8088   \n     FOODS_1                    92.5809                            83.4848   \n...                                 ...                                ...   \nWI_3 HOUSEHOLD_1               100.3098                            96.1385   \n     HOUSEHOLD_2                27.9321                            26.6128   \n     FOODS_1                    86.2128                            67.6526   \n     FOODS_2                   180.1888                           109.7245   \n     FOODS_3                   307.5882                           272.5932   \n\n                  MultiOutputRegressor(LGBMRegressor)  \\\nCA_1 HOBBIES_1                                91.9518   \n     HOBBIES_2                                14.0885   \n     HOUSEHOLD_1                              78.3647   \n     HOUSEHOLD_2                              34.2279   \n     FOODS_1                                  71.9233   \n...                                               ...   \nWI_3 HOUSEHOLD_1                              96.7119   \n     HOUSEHOLD_2                              29.6885   \n     FOODS_1                                  65.7408   \n     FOODS_2                                 103.9821   \n     FOODS_3                                 261.8917   \n\n                  RegressorChain(LGBMRegressor)  Combo(LGBMRegressor)  \nCA_1 HOBBIES_1                          90.5094               89.2338  \n     HOBBIES_2                          12.5092               13.3713  \n     HOUSEHOLD_1                        76.8850               76.4375  \n     HOUSEHOLD_2                        34.3215               33.1396  \n     FOODS_1                            74.6178               75.9609  \n...                                         ...                   ...  \nWI_3 HOUSEHOLD_1                        95.9121               93.5357  \n     HOUSEHOLD_2                        27.0664               27.0069  \n     FOODS_1                            64.0030               65.1575  \n     FOODS_2                           111.8733              104.1259  \n     FOODS_3                           259.7017              255.9858  \n\n[70 rows x 8 columns]"
     },
     "execution_count": 10,
     "metadata": {},
     "output_type": "execute_result"
    }
   ],
   "source": [
    "rmse_scores = score_reveal(methods)\r\n",
    "rmse_scores"
   ]
  },
  {
   "cell_type": "code",
   "execution_count": 11,
   "metadata": {},
   "outputs": [
    {
     "data": {
      "text/plain": "CA_1  HOBBIES_1        RecursiveRegressor(LGBMRegressor)\n      HOBBIES_2                    Additive Holt-Winters\n      HOUSEHOLD_1                   Combo(LGBMRegressor)\n      HOUSEHOLD_2                  Additive Holt-Winters\n      FOODS_1        MultiOutputRegressor(LGBMRegressor)\n                                    ...                 \nWI_3  HOUSEHOLD_1                   Combo(LGBMRegressor)\n      HOUSEHOLD_2      RecursiveRegressor(LGBMRegressor)\n      FOODS_1              RegressorChain(LGBMRegressor)\n      FOODS_2        MultiOutputRegressor(LGBMRegressor)\n      FOODS_3                       Combo(LGBMRegressor)\nLength: 70, dtype: object"
     },
     "execution_count": 11,
     "metadata": {},
     "output_type": "execute_result"
    }
   ],
   "source": [
    "best_models = rmse_scores.apply(lambda x: x.idxmin(), axis=1)\r\n",
    "best_models"
   ]
  },
  {
   "cell_type": "code",
   "execution_count": 12,
   "metadata": {},
   "outputs": [
    {
     "data": {
      "text/plain": "Additive Holt-Winters                  27\nCombo(LGBMRegressor)                   10\nRegressorChain(LGBMRegressor)          10\nRecursiveRegressor(LGBMRegressor)      10\nMultiOutputRegressor(LGBMRegressor)     9\nSES                                     3\nHolt's Linear                           1\ndtype: int64"
     },
     "execution_count": 12,
     "metadata": {},
     "output_type": "execute_result"
    }
   ],
   "source": [
    "best_models.value_counts()"
   ]
  },
  {
   "cell_type": "code",
   "execution_count": 15,
   "metadata": {},
   "outputs": [],
   "source": [
    "model = ensemble2(col_assignment=best_models.to_dict(), methods=methods, w=84, h=28)\r\n",
    "model.fit(train_df_9)"
   ]
  },
  {
   "cell_type": "code",
   "execution_count": null,
   "metadata": {},
   "outputs": [
    {
     "data": {
      "text/html": "<div>\n<style scoped>\n    .dataframe tbody tr th:only-of-type {\n        vertical-align: middle;\n    }\n\n    .dataframe tbody tr th {\n        vertical-align: top;\n    }\n\n    .dataframe thead tr th {\n        text-align: left;\n    }\n</style>\n<table border=\"1\" class=\"dataframe\">\n  <thead>\n    <tr>\n      <th></th>\n      <th colspan=\"7\" halign=\"left\">CA_1</th>\n      <th colspan=\"3\" halign=\"left\">CA_2</th>\n      <th>...</th>\n      <th colspan=\"3\" halign=\"left\">WI_2</th>\n      <th colspan=\"7\" halign=\"left\">WI_3</th>\n    </tr>\n    <tr>\n      <th></th>\n      <th>HOBBIES_1</th>\n      <th>HOBBIES_2</th>\n      <th>HOUSEHOLD_1</th>\n      <th>HOUSEHOLD_2</th>\n      <th>FOODS_1</th>\n      <th>FOODS_2</th>\n      <th>FOODS_3</th>\n      <th>HOBBIES_1</th>\n      <th>HOBBIES_2</th>\n      <th>HOUSEHOLD_1</th>\n      <th>...</th>\n      <th>FOODS_1</th>\n      <th>FOODS_2</th>\n      <th>FOODS_3</th>\n      <th>HOBBIES_1</th>\n      <th>HOBBIES_2</th>\n      <th>HOUSEHOLD_1</th>\n      <th>HOUSEHOLD_2</th>\n      <th>FOODS_1</th>\n      <th>FOODS_2</th>\n      <th>FOODS_3</th>\n    </tr>\n  </thead>\n  <tbody>\n    <tr>\n      <th>0</th>\n      <td>437.5033</td>\n      <td>39.0957</td>\n      <td>763.9959</td>\n      <td>207.2370</td>\n      <td>266.7877</td>\n      <td>509.9272</td>\n      <td>1925.1010</td>\n      <td>320.4134</td>\n      <td>39.3100</td>\n      <td>666.1571</td>\n      <td>...</td>\n      <td>320.4731</td>\n      <td>964.3415</td>\n      <td>1868.7333</td>\n      <td>218.7019</td>\n      <td>29.3937</td>\n      <td>527.0088</td>\n      <td>159.2782</td>\n      <td>271.9992</td>\n      <td>436.9822</td>\n      <td>1605.3610</td>\n    </tr>\n    <tr>\n      <th>1</th>\n      <td>392.2056</td>\n      <td>38.7922</td>\n      <td>654.6803</td>\n      <td>189.0628</td>\n      <td>242.2286</td>\n      <td>405.2741</td>\n      <td>1777.0478</td>\n      <td>349.0217</td>\n      <td>34.7580</td>\n      <td>602.7528</td>\n      <td>...</td>\n      <td>333.5456</td>\n      <td>721.1611</td>\n      <td>1640.8760</td>\n      <td>208.3781</td>\n      <td>30.4984</td>\n      <td>537.2347</td>\n      <td>139.6441</td>\n      <td>294.1283</td>\n      <td>382.8208</td>\n      <td>1620.5203</td>\n    </tr>\n    <tr>\n      <th>2</th>\n      <td>423.5902</td>\n      <td>40.4461</td>\n      <td>619.8833</td>\n      <td>189.6468</td>\n      <td>283.8521</td>\n      <td>348.0841</td>\n      <td>1754.3820</td>\n      <td>280.4951</td>\n      <td>41.5079</td>\n      <td>602.8867</td>\n      <td>...</td>\n      <td>343.4532</td>\n      <td>710.5954</td>\n      <td>1680.4127</td>\n      <td>216.6801</td>\n      <td>31.0335</td>\n      <td>509.2187</td>\n      <td>132.3633</td>\n      <td>242.3489</td>\n      <td>359.9844</td>\n      <td>1562.3207</td>\n    </tr>\n    <tr>\n      <th>3</th>\n      <td>406.6826</td>\n      <td>39.1083</td>\n      <td>593.2084</td>\n      <td>197.6096</td>\n      <td>300.6551</td>\n      <td>372.3611</td>\n      <td>1844.6085</td>\n      <td>350.8923</td>\n      <td>37.9551</td>\n      <td>599.6201</td>\n      <td>...</td>\n      <td>339.3687</td>\n      <td>802.8031</td>\n      <td>1688.3539</td>\n      <td>224.5160</td>\n      <td>31.2705</td>\n      <td>552.2354</td>\n      <td>142.5043</td>\n      <td>229.3149</td>\n      <td>354.8844</td>\n      <td>1490.6989</td>\n    </tr>\n    <tr>\n      <th>4</th>\n      <td>453.2403</td>\n      <td>43.9026</td>\n      <td>688.9625</td>\n      <td>226.5993</td>\n      <td>344.9472</td>\n      <td>518.5610</td>\n      <td>2073.3072</td>\n      <td>427.0443</td>\n      <td>41.1714</td>\n      <td>765.0730</td>\n      <td>...</td>\n      <td>380.7957</td>\n      <td>713.4821</td>\n      <td>2152.6675</td>\n      <td>285.1761</td>\n      <td>32.4132</td>\n      <td>661.9132</td>\n      <td>176.8324</td>\n      <td>278.5479</td>\n      <td>468.2096</td>\n      <td>1740.4981</td>\n    </tr>\n    <tr>\n      <th>5</th>\n      <td>580.0852</td>\n      <td>50.3332</td>\n      <td>1028.9997</td>\n      <td>290.3485</td>\n      <td>400.7362</td>\n      <td>592.5850</td>\n      <td>2682.3390</td>\n      <td>467.5930</td>\n      <td>52.6185</td>\n      <td>1077.7876</td>\n      <td>...</td>\n      <td>405.5013</td>\n      <td>835.2595</td>\n      <td>2311.1217</td>\n      <td>314.2479</td>\n      <td>33.0978</td>\n      <td>809.0336</td>\n      <td>206.3580</td>\n      <td>337.2512</td>\n      <td>538.8162</td>\n      <td>2519.8603</td>\n    </tr>\n    <tr>\n      <th>6</th>\n      <td>516.6611</td>\n      <td>52.1988</td>\n      <td>1084.4108</td>\n      <td>280.3655</td>\n      <td>351.8076</td>\n      <td>662.2098</td>\n      <td>2926.0347</td>\n      <td>456.7799</td>\n      <td>48.7608</td>\n      <td>1117.9953</td>\n      <td>...</td>\n      <td>349.6992</td>\n      <td>1033.3559</td>\n      <td>2383.4232</td>\n      <td>244.0840</td>\n      <td>32.2626</td>\n      <td>841.5723</td>\n      <td>206.3033</td>\n      <td>283.7687</td>\n      <td>591.0831</td>\n      <td>2432.8251</td>\n    </tr>\n    <tr>\n      <th>7</th>\n      <td>461.4200</td>\n      <td>39.1899</td>\n      <td>774.8963</td>\n      <td>207.5895</td>\n      <td>266.4044</td>\n      <td>510.1214</td>\n      <td>2140.1317</td>\n      <td>318.7420</td>\n      <td>32.7714</td>\n      <td>667.6338</td>\n      <td>...</td>\n      <td>320.8609</td>\n      <td>1306.3273</td>\n      <td>2591.0659</td>\n      <td>218.8100</td>\n      <td>29.4570</td>\n      <td>625.0542</td>\n      <td>155.6883</td>\n      <td>252.6107</td>\n      <td>579.6351</td>\n      <td>1792.5438</td>\n    </tr>\n    <tr>\n      <th>8</th>\n      <td>406.5608</td>\n      <td>38.8864</td>\n      <td>669.6527</td>\n      <td>189.4153</td>\n      <td>274.1547</td>\n      <td>474.5079</td>\n      <td>1948.6778</td>\n      <td>318.5709</td>\n      <td>37.6144</td>\n      <td>604.2295</td>\n      <td>...</td>\n      <td>333.9334</td>\n      <td>1380.8530</td>\n      <td>2449.1456</td>\n      <td>208.4862</td>\n      <td>30.5617</td>\n      <td>584.6945</td>\n      <td>136.9481</td>\n      <td>278.5121</td>\n      <td>720.1154</td>\n      <td>2050.8738</td>\n    </tr>\n    <tr>\n      <th>9</th>\n      <td>439.8678</td>\n      <td>40.5403</td>\n      <td>642.2546</td>\n      <td>189.9993</td>\n      <td>250.8226</td>\n      <td>491.0791</td>\n      <td>1899.5062</td>\n      <td>319.1154</td>\n      <td>39.6117</td>\n      <td>604.3635</td>\n      <td>...</td>\n      <td>343.8410</td>\n      <td>1586.7742</td>\n      <td>2655.3447</td>\n      <td>216.7883</td>\n      <td>31.0968</td>\n      <td>595.5331</td>\n      <td>141.5213</td>\n      <td>230.4024</td>\n      <td>612.6808</td>\n      <td>1902.4786</td>\n    </tr>\n    <tr>\n      <th>10</th>\n      <td>410.4082</td>\n      <td>39.2025</td>\n      <td>634.9184</td>\n      <td>197.9621</td>\n      <td>300.3507</td>\n      <td>478.0818</td>\n      <td>1845.9984</td>\n      <td>362.4959</td>\n      <td>41.2234</td>\n      <td>601.0968</td>\n      <td>...</td>\n      <td>339.7565</td>\n      <td>1421.9335</td>\n      <td>2664.2943</td>\n      <td>224.6241</td>\n      <td>31.3337</td>\n      <td>637.4726</td>\n      <td>144.3738</td>\n      <td>217.0874</td>\n      <td>532.2141</td>\n      <td>1879.4150</td>\n    </tr>\n    <tr>\n      <th>11</th>\n      <td>504.4875</td>\n      <td>43.9968</td>\n      <td>804.9454</td>\n      <td>226.9518</td>\n      <td>357.3245</td>\n      <td>585.9167</td>\n      <td>2131.2749</td>\n      <td>394.4333</td>\n      <td>51.5402</td>\n      <td>766.5497</td>\n      <td>...</td>\n      <td>381.1835</td>\n      <td>1454.7442</td>\n      <td>2765.1528</td>\n      <td>285.2842</td>\n      <td>32.4765</td>\n      <td>743.2088</td>\n      <td>178.4994</td>\n      <td>253.1619</td>\n      <td>641.6629</td>\n      <td>2155.3431</td>\n    </tr>\n    <tr>\n      <th>12</th>\n      <td>589.0777</td>\n      <td>50.4274</td>\n      <td>1058.8714</td>\n      <td>290.7011</td>\n      <td>457.7425</td>\n      <td>713.5284</td>\n      <td>2625.3539</td>\n      <td>476.4257</td>\n      <td>50.1408</td>\n      <td>1079.2643</td>\n      <td>...</td>\n      <td>405.8891</td>\n      <td>1655.6166</td>\n      <td>2993.4483</td>\n      <td>314.3560</td>\n      <td>33.1611</td>\n      <td>826.6714</td>\n      <td>197.1254</td>\n      <td>309.1335</td>\n      <td>816.7338</td>\n      <td>2797.1571</td>\n    </tr>\n    <tr>\n      <th>13</th>\n      <td>577.3892</td>\n      <td>52.2930</td>\n      <td>927.3517</td>\n      <td>280.7180</td>\n      <td>373.2274</td>\n      <td>710.9126</td>\n      <td>2985.1508</td>\n      <td>457.2294</td>\n      <td>49.7115</td>\n      <td>1119.4720</td>\n      <td>...</td>\n      <td>350.0871</td>\n      <td>1507.0139</td>\n      <td>2782.9057</td>\n      <td>244.1921</td>\n      <td>32.3259</td>\n      <td>813.5846</td>\n      <td>198.6690</td>\n      <td>264.5677</td>\n      <td>814.9714</td>\n      <td>2644.2355</td>\n    </tr>\n    <tr>\n      <th>14</th>\n      <td>464.7283</td>\n      <td>39.2841</td>\n      <td>753.1826</td>\n      <td>207.9420</td>\n      <td>285.9629</td>\n      <td>572.7136</td>\n      <td>2141.5748</td>\n      <td>305.3235</td>\n      <td>33.8597</td>\n      <td>669.1105</td>\n      <td>...</td>\n      <td>321.2488</td>\n      <td>1624.9390</td>\n      <td>2850.7330</td>\n      <td>218.9181</td>\n      <td>29.5203</td>\n      <td>583.5231</td>\n      <td>169.0947</td>\n      <td>227.5847</td>\n      <td>667.2641</td>\n      <td>2161.5545</td>\n    </tr>\n    <tr>\n      <th>15</th>\n      <td>477.6738</td>\n      <td>38.9806</td>\n      <td>651.8784</td>\n      <td>189.7678</td>\n      <td>289.3044</td>\n      <td>485.3668</td>\n      <td>1870.4277</td>\n      <td>292.2392</td>\n      <td>35.7904</td>\n      <td>605.7062</td>\n      <td>...</td>\n      <td>334.3212</td>\n      <td>1710.7301</td>\n      <td>2563.2396</td>\n      <td>208.5944</td>\n      <td>30.6250</td>\n      <td>498.9942</td>\n      <td>143.0937</td>\n      <td>214.0719</td>\n      <td>655.6733</td>\n      <td>1987.1169</td>\n    </tr>\n    <tr>\n      <th>16</th>\n      <td>449.3603</td>\n      <td>40.6345</td>\n      <td>607.0223</td>\n      <td>190.3518</td>\n      <td>340.1288</td>\n      <td>457.0679</td>\n      <td>1842.7475</td>\n      <td>309.3083</td>\n      <td>38.7258</td>\n      <td>605.8402</td>\n      <td>...</td>\n      <td>344.2288</td>\n      <td>1311.4817</td>\n      <td>2396.4343</td>\n      <td>216.8964</td>\n      <td>31.1601</td>\n      <td>479.2624</td>\n      <td>135.6589</td>\n      <td>184.6062</td>\n      <td>590.9947</td>\n      <td>1716.3742</td>\n    </tr>\n    <tr>\n      <th>17</th>\n      <td>408.6097</td>\n      <td>39.2967</td>\n      <td>641.7250</td>\n      <td>198.3146</td>\n      <td>350.8922</td>\n      <td>402.1455</td>\n      <td>1847.9103</td>\n      <td>304.2859</td>\n      <td>35.1682</td>\n      <td>602.5735</td>\n      <td>...</td>\n      <td>340.1444</td>\n      <td>1597.2741</td>\n      <td>2512.8257</td>\n      <td>224.7322</td>\n      <td>31.3970</td>\n      <td>511.1530</td>\n      <td>139.9801</td>\n      <td>219.2014</td>\n      <td>596.0342</td>\n      <td>1998.4985</td>\n    </tr>\n    <tr>\n      <th>18</th>\n      <td>431.7140</td>\n      <td>44.0910</td>\n      <td>717.3441</td>\n      <td>227.3043</td>\n      <td>370.4809</td>\n      <td>458.6446</td>\n      <td>2082.2765</td>\n      <td>362.2918</td>\n      <td>48.0371</td>\n      <td>768.0264</td>\n      <td>...</td>\n      <td>381.5714</td>\n      <td>1642.1615</td>\n      <td>2845.3863</td>\n      <td>285.3924</td>\n      <td>32.5398</td>\n      <td>654.7115</td>\n      <td>186.9437</td>\n      <td>243.5368</td>\n      <td>684.7995</td>\n      <td>2244.1276</td>\n    </tr>\n    <tr>\n      <th>19</th>\n      <td>575.4122</td>\n      <td>50.5216</td>\n      <td>1050.0140</td>\n      <td>291.0536</td>\n      <td>460.1207</td>\n      <td>620.8623</td>\n      <td>2577.9228</td>\n      <td>482.9737</td>\n      <td>48.0719</td>\n      <td>1080.7410</td>\n      <td>...</td>\n      <td>406.2769</td>\n      <td>1347.4423</td>\n      <td>2705.9925</td>\n      <td>314.4641</td>\n      <td>33.2244</td>\n      <td>754.8531</td>\n      <td>212.2526</td>\n      <td>318.0478</td>\n      <td>675.4671</td>\n      <td>2999.7963</td>\n    </tr>\n    <tr>\n      <th>20</th>\n      <td>559.2288</td>\n      <td>52.3872</td>\n      <td>1041.3984</td>\n      <td>281.0705</td>\n      <td>424.8669</td>\n      <td>737.3921</td>\n      <td>2902.4068</td>\n      <td>447.6957</td>\n      <td>50.7547</td>\n      <td>1120.9487</td>\n      <td>...</td>\n      <td>350.4749</td>\n      <td>1522.6719</td>\n      <td>2782.8213</td>\n      <td>244.3003</td>\n      <td>32.3892</td>\n      <td>758.7605</td>\n      <td>197.3749</td>\n      <td>249.8689</td>\n      <td>732.0805</td>\n      <td>2694.9966</td>\n    </tr>\n    <tr>\n      <th>21</th>\n      <td>513.5346</td>\n      <td>39.3783</td>\n      <td>764.7825</td>\n      <td>208.2945</td>\n      <td>343.1479</td>\n      <td>520.1686</td>\n      <td>1932.6558</td>\n      <td>284.5568</td>\n      <td>39.8421</td>\n      <td>670.5872</td>\n      <td>...</td>\n      <td>321.6366</td>\n      <td>1386.7300</td>\n      <td>2315.4674</td>\n      <td>219.0262</td>\n      <td>29.5836</td>\n      <td>570.4549</td>\n      <td>157.2949</td>\n      <td>219.3658</td>\n      <td>515.1770</td>\n      <td>2082.6145</td>\n    </tr>\n    <tr>\n      <th>22</th>\n      <td>412.3940</td>\n      <td>39.0748</td>\n      <td>649.4966</td>\n      <td>190.1204</td>\n      <td>326.5434</td>\n      <td>444.9639</td>\n      <td>1768.1819</td>\n      <td>322.8635</td>\n      <td>36.0866</td>\n      <td>607.1829</td>\n      <td>...</td>\n      <td>334.7091</td>\n      <td>1053.7888</td>\n      <td>2088.8557</td>\n      <td>208.7025</td>\n      <td>30.6883</td>\n      <td>465.0989</td>\n      <td>142.3897</td>\n      <td>221.8785</td>\n      <td>517.4066</td>\n      <td>1836.9092</td>\n    </tr>\n    <tr>\n      <th>23</th>\n      <td>420.7540</td>\n      <td>40.7287</td>\n      <td>629.8517</td>\n      <td>190.7044</td>\n      <td>317.8152</td>\n      <td>427.8329</td>\n      <td>1733.0222</td>\n      <td>324.9148</td>\n      <td>44.0998</td>\n      <td>607.3169</td>\n      <td>...</td>\n      <td>344.6167</td>\n      <td>1011.0699</td>\n      <td>1912.1911</td>\n      <td>217.0045</td>\n      <td>31.2234</td>\n      <td>493.6202</td>\n      <td>131.4269</td>\n      <td>220.8927</td>\n      <td>463.9866</td>\n      <td>1740.6435</td>\n    </tr>\n    <tr>\n      <th>24</th>\n      <td>461.0836</td>\n      <td>39.3909</td>\n      <td>637.7166</td>\n      <td>198.6671</td>\n      <td>315.9579</td>\n      <td>399.3173</td>\n      <td>1841.6854</td>\n      <td>276.5927</td>\n      <td>36.1385</td>\n      <td>604.0502</td>\n      <td>...</td>\n      <td>340.5322</td>\n      <td>1054.5371</td>\n      <td>1939.8015</td>\n      <td>224.8403</td>\n      <td>31.4603</td>\n      <td>520.5877</td>\n      <td>131.9461</td>\n      <td>216.5492</td>\n      <td>497.4900</td>\n      <td>1716.8389</td>\n    </tr>\n    <tr>\n      <th>25</th>\n      <td>450.1613</td>\n      <td>44.1852</td>\n      <td>751.6506</td>\n      <td>227.6569</td>\n      <td>366.6447</td>\n      <td>495.0518</td>\n      <td>2140.8349</td>\n      <td>386.3287</td>\n      <td>49.3624</td>\n      <td>769.5031</td>\n      <td>...</td>\n      <td>381.9592</td>\n      <td>880.2083</td>\n      <td>2131.9451</td>\n      <td>285.5005</td>\n      <td>32.6031</td>\n      <td>662.8528</td>\n      <td>187.9913</td>\n      <td>241.0851</td>\n      <td>505.2561</td>\n      <td>2025.7888</td>\n    </tr>\n    <tr>\n      <th>26</th>\n      <td>577.6936</td>\n      <td>50.6158</td>\n      <td>997.5750</td>\n      <td>291.4061</td>\n      <td>468.6073</td>\n      <td>549.7108</td>\n      <td>2603.9882</td>\n      <td>523.8308</td>\n      <td>55.8692</td>\n      <td>1082.2178</td>\n      <td>...</td>\n      <td>406.6648</td>\n      <td>967.7575</td>\n      <td>2275.2201</td>\n      <td>314.5723</td>\n      <td>33.2877</td>\n      <td>839.8977</td>\n      <td>192.1006</td>\n      <td>330.1365</td>\n      <td>542.2555</td>\n      <td>2418.7706</td>\n    </tr>\n    <tr>\n      <th>27</th>\n      <td>568.9221</td>\n      <td>52.4814</td>\n      <td>1059.0841</td>\n      <td>281.4230</td>\n      <td>380.0597</td>\n      <td>629.6233</td>\n      <td>2887.6528</td>\n      <td>436.3182</td>\n      <td>45.1361</td>\n      <td>1122.4254</td>\n      <td>...</td>\n      <td>350.8627</td>\n      <td>1026.4923</td>\n      <td>2260.7351</td>\n      <td>244.4084</td>\n      <td>32.4525</td>\n      <td>736.9703</td>\n      <td>203.0252</td>\n      <td>263.5786</td>\n      <td>523.8469</td>\n      <td>2177.3086</td>\n    </tr>\n  </tbody>\n</table>\n<p>28 rows × 70 columns</p>\n</div>",
      "text/plain": "        CA_1                                                                   \\\n   HOBBIES_1 HOBBIES_2 HOUSEHOLD_1 HOUSEHOLD_2   FOODS_1   FOODS_2    FOODS_3   \n0   437.5033   39.0957    763.9959    207.2370  266.7877  509.9272  1925.1010   \n1   392.2056   38.7922    654.6803    189.0628  242.2286  405.2741  1777.0478   \n2   423.5902   40.4461    619.8833    189.6468  283.8521  348.0841  1754.3820   \n3   406.6826   39.1083    593.2084    197.6096  300.6551  372.3611  1844.6085   \n4   453.2403   43.9026    688.9625    226.5993  344.9472  518.5610  2073.3072   \n5   580.0852   50.3332   1028.9997    290.3485  400.7362  592.5850  2682.3390   \n6   516.6611   52.1988   1084.4108    280.3655  351.8076  662.2098  2926.0347   \n7   461.4200   39.1899    774.8963    207.5895  266.4044  510.1214  2140.1317   \n8   406.5608   38.8864    669.6527    189.4153  274.1547  474.5079  1948.6778   \n9   439.8678   40.5403    642.2546    189.9993  250.8226  491.0791  1899.5062   \n10  410.4082   39.2025    634.9184    197.9621  300.3507  478.0818  1845.9984   \n11  504.4875   43.9968    804.9454    226.9518  357.3245  585.9167  2131.2749   \n12  589.0777   50.4274   1058.8714    290.7011  457.7425  713.5284  2625.3539   \n13  577.3892   52.2930    927.3517    280.7180  373.2274  710.9126  2985.1508   \n14  464.7283   39.2841    753.1826    207.9420  285.9629  572.7136  2141.5748   \n15  477.6738   38.9806    651.8784    189.7678  289.3044  485.3668  1870.4277   \n16  449.3603   40.6345    607.0223    190.3518  340.1288  457.0679  1842.7475   \n17  408.6097   39.2967    641.7250    198.3146  350.8922  402.1455  1847.9103   \n18  431.7140   44.0910    717.3441    227.3043  370.4809  458.6446  2082.2765   \n19  575.4122   50.5216   1050.0140    291.0536  460.1207  620.8623  2577.9228   \n20  559.2288   52.3872   1041.3984    281.0705  424.8669  737.3921  2902.4068   \n21  513.5346   39.3783    764.7825    208.2945  343.1479  520.1686  1932.6558   \n22  412.3940   39.0748    649.4966    190.1204  326.5434  444.9639  1768.1819   \n23  420.7540   40.7287    629.8517    190.7044  317.8152  427.8329  1733.0222   \n24  461.0836   39.3909    637.7166    198.6671  315.9579  399.3173  1841.6854   \n25  450.1613   44.1852    751.6506    227.6569  366.6447  495.0518  2140.8349   \n26  577.6936   50.6158    997.5750    291.4061  468.6073  549.7108  2603.9882   \n27  568.9221   52.4814   1059.0841    281.4230  380.0597  629.6233  2887.6528   \n\n        CA_2                        ...      WI_2                        \\\n   HOBBIES_1 HOBBIES_2 HOUSEHOLD_1  ...   FOODS_1    FOODS_2    FOODS_3   \n0   320.4134   39.3100    666.1571  ...  320.4731   964.3415  1868.7333   \n1   349.0217   34.7580    602.7528  ...  333.5456   721.1611  1640.8760   \n2   280.4951   41.5079    602.8867  ...  343.4532   710.5954  1680.4127   \n3   350.8923   37.9551    599.6201  ...  339.3687   802.8031  1688.3539   \n4   427.0443   41.1714    765.0730  ...  380.7957   713.4821  2152.6675   \n5   467.5930   52.6185   1077.7876  ...  405.5013   835.2595  2311.1217   \n6   456.7799   48.7608   1117.9953  ...  349.6992  1033.3559  2383.4232   \n7   318.7420   32.7714    667.6338  ...  320.8609  1306.3273  2591.0659   \n8   318.5709   37.6144    604.2295  ...  333.9334  1380.8530  2449.1456   \n9   319.1154   39.6117    604.3635  ...  343.8410  1586.7742  2655.3447   \n10  362.4959   41.2234    601.0968  ...  339.7565  1421.9335  2664.2943   \n11  394.4333   51.5402    766.5497  ...  381.1835  1454.7442  2765.1528   \n12  476.4257   50.1408   1079.2643  ...  405.8891  1655.6166  2993.4483   \n13  457.2294   49.7115   1119.4720  ...  350.0871  1507.0139  2782.9057   \n14  305.3235   33.8597    669.1105  ...  321.2488  1624.9390  2850.7330   \n15  292.2392   35.7904    605.7062  ...  334.3212  1710.7301  2563.2396   \n16  309.3083   38.7258    605.8402  ...  344.2288  1311.4817  2396.4343   \n17  304.2859   35.1682    602.5735  ...  340.1444  1597.2741  2512.8257   \n18  362.2918   48.0371    768.0264  ...  381.5714  1642.1615  2845.3863   \n19  482.9737   48.0719   1080.7410  ...  406.2769  1347.4423  2705.9925   \n20  447.6957   50.7547   1120.9487  ...  350.4749  1522.6719  2782.8213   \n21  284.5568   39.8421    670.5872  ...  321.6366  1386.7300  2315.4674   \n22  322.8635   36.0866    607.1829  ...  334.7091  1053.7888  2088.8557   \n23  324.9148   44.0998    607.3169  ...  344.6167  1011.0699  1912.1911   \n24  276.5927   36.1385    604.0502  ...  340.5322  1054.5371  1939.8015   \n25  386.3287   49.3624    769.5031  ...  381.9592   880.2083  2131.9451   \n26  523.8308   55.8692   1082.2178  ...  406.6648   967.7575  2275.2201   \n27  436.3182   45.1361   1122.4254  ...  350.8627  1026.4923  2260.7351   \n\n        WI_3                                                                   \n   HOBBIES_1 HOBBIES_2 HOUSEHOLD_1 HOUSEHOLD_2   FOODS_1   FOODS_2    FOODS_3  \n0   218.7019   29.3937    527.0088    159.2782  271.9992  436.9822  1605.3610  \n1   208.3781   30.4984    537.2347    139.6441  294.1283  382.8208  1620.5203  \n2   216.6801   31.0335    509.2187    132.3633  242.3489  359.9844  1562.3207  \n3   224.5160   31.2705    552.2354    142.5043  229.3149  354.8844  1490.6989  \n4   285.1761   32.4132    661.9132    176.8324  278.5479  468.2096  1740.4981  \n5   314.2479   33.0978    809.0336    206.3580  337.2512  538.8162  2519.8603  \n6   244.0840   32.2626    841.5723    206.3033  283.7687  591.0831  2432.8251  \n7   218.8100   29.4570    625.0542    155.6883  252.6107  579.6351  1792.5438  \n8   208.4862   30.5617    584.6945    136.9481  278.5121  720.1154  2050.8738  \n9   216.7883   31.0968    595.5331    141.5213  230.4024  612.6808  1902.4786  \n10  224.6241   31.3337    637.4726    144.3738  217.0874  532.2141  1879.4150  \n11  285.2842   32.4765    743.2088    178.4994  253.1619  641.6629  2155.3431  \n12  314.3560   33.1611    826.6714    197.1254  309.1335  816.7338  2797.1571  \n13  244.1921   32.3259    813.5846    198.6690  264.5677  814.9714  2644.2355  \n14  218.9181   29.5203    583.5231    169.0947  227.5847  667.2641  2161.5545  \n15  208.5944   30.6250    498.9942    143.0937  214.0719  655.6733  1987.1169  \n16  216.8964   31.1601    479.2624    135.6589  184.6062  590.9947  1716.3742  \n17  224.7322   31.3970    511.1530    139.9801  219.2014  596.0342  1998.4985  \n18  285.3924   32.5398    654.7115    186.9437  243.5368  684.7995  2244.1276  \n19  314.4641   33.2244    754.8531    212.2526  318.0478  675.4671  2999.7963  \n20  244.3003   32.3892    758.7605    197.3749  249.8689  732.0805  2694.9966  \n21  219.0262   29.5836    570.4549    157.2949  219.3658  515.1770  2082.6145  \n22  208.7025   30.6883    465.0989    142.3897  221.8785  517.4066  1836.9092  \n23  217.0045   31.2234    493.6202    131.4269  220.8927  463.9866  1740.6435  \n24  224.8403   31.4603    520.5877    131.9461  216.5492  497.4900  1716.8389  \n25  285.5005   32.6031    662.8528    187.9913  241.0851  505.2561  2025.7888  \n26  314.5723   33.2877    839.8977    192.1006  330.1365  542.2555  2418.7706  \n27  244.4084   32.4525    736.9703    203.0252  263.5786  523.8469  2177.3086  \n\n[28 rows x 70 columns]"
     },
     "execution_count": 16,
     "metadata": {},
     "output_type": "execute_result"
    }
   ],
   "source": [
    "df_pred_9_ensemble2 = model.predict(trainOG_df_9)\r\n",
    "df_pred_9_ensemble2"
   ]
  },
  {
   "cell_type": "code",
   "execution_count": 17,
   "metadata": {},
   "outputs": [
    {
     "data": {
      "text/plain": "Agg_Level_1  Agg_Level_2\nCA_1         HOBBIES_1      0.7412\n             HOBBIES_2      0.6931\n             HOUSEHOLD_1    0.3584\n             HOUSEHOLD_2    0.5141\n             FOODS_1        0.5867\n                             ...  \nWI_3         HOUSEHOLD_1    0.7166\n             HOUSEHOLD_2    0.7675\n             FOODS_1        1.6214\n             FOODS_2        0.8506\n             FOODS_3        0.4849\nName: RMSSE, Length: 70, dtype: float64"
     },
     "execution_count": 17,
     "metadata": {},
     "output_type": "execute_result"
    }
   ],
   "source": [
    "df_res_9_esemble2 = rateMyForecast(\r\n",
    "    trainOG_df_9, test_df_9, df_pred_9_ensemble2)['RMSSE']\r\n",
    "df_res_9_esemble2.index = pd.MultiIndex.from_tuples(\r\n",
    "    df_res_9_esemble2.index, names=['Agg_Level_1', 'Agg_Level_2'])\r\n",
    "df_res_9_esemble2"
   ]
  },
  {
   "cell_type": "code",
   "execution_count": 18,
   "metadata": {},
   "outputs": [
    {
     "data": {
      "text/plain": "0.7259427322254518"
     },
     "execution_count": 18,
     "metadata": {},
     "output_type": "execute_result"
    }
   ],
   "source": [
    "df_res_9_esemble2.multiply(weights_df_9.squeeze(), axis=0).sum()"
   ]
  }
 ],
 "metadata": {
  "kernelspec": {
   "display_name": "Python 3",
   "language": "python",
   "name": "python3"
  },
  "language_info": {
   "codemirror_mode": {
    "name": "ipython",
    "version": 3
   },
   "file_extension": ".py",
   "mimetype": "text/x-python",
   "name": "python",
   "nbconvert_exporter": "python",
   "pygments_lexer": "ipython3",
   "version": "3.8.5"
  },
  "latex_envs": {
   "LaTeX_envs_menu_present": true,
   "autoclose": false,
   "autocomplete": true,
   "bibliofile": "biblio.bib",
   "cite_by": "apalike",
   "current_citInitial": 1,
   "eqLabelWithNumbers": true,
   "eqNumInitial": 1,
   "hotkeys": {
    "equation": "Ctrl-E",
    "itemize": "Ctrl-I"
   },
   "labels_anchors": false,
   "latex_user_defs": false,
   "report_style_numbering": false,
   "user_envs_cfg": false
  },
  "toc": {
   "base_numbering": 1,
   "nav_menu": {},
   "number_sections": true,
   "sideBar": true,
   "skip_h1_title": false,
   "title_cell": "Table of Contents",
   "title_sidebar": "Contents",
   "toc_cell": false,
   "toc_position": {},
   "toc_section_display": true,
   "toc_window_display": false
  },
  "varInspector": {
   "cols": {
    "lenName": 16,
    "lenType": 16,
    "lenVar": 40
   },
   "kernels_config": {
    "python": {
     "delete_cmd_postfix": "",
     "delete_cmd_prefix": "del ",
     "library": "var_list.py",
     "varRefreshCmd": "print(var_dic_list())"
    },
    "r": {
     "delete_cmd_postfix": ") ",
     "delete_cmd_prefix": "rm(",
     "library": "var_list.r",
     "varRefreshCmd": "cat(var_dic_list()) "
    }
   },
   "types_to_exclude": [
    "module",
    "function",
    "builtin_function_or_method",
    "instance",
    "_Feature"
   ],
   "window_display": false
  }
 },
 "nbformat": 4,
 "nbformat_minor": 4
}