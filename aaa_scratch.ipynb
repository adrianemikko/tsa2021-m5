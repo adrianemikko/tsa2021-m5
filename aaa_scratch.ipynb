{
 "cells": [
  {
   "cell_type": "markdown",
   "metadata": {},
   "source": [
    "# Time Series Analysis: \"The Final Project\"\n",
    "\n",
    "`End? No, the journey doesn't end here. Death is just another path. One that we all must take.\n",
    "-J.R.R. Tolkien, The Return of the King`"
   ]
  },
  {
   "cell_type": "markdown",
   "metadata": {},
   "source": [
    "---\n",
    "\n",
    "## Libraries"
   ]
  },
  {
   "cell_type": "code",
   "execution_count": 1,
   "metadata": {
    "ExecuteTime": {
     "end_time": "2021-04-29T10:32:16.820862Z",
     "start_time": "2021-04-29T10:32:15.178981Z"
    }
   },
   "outputs": [],
   "source": [
    "from statsmodels.tsa.exponential_smoothing.ets import ETSModel\r\n",
    "import statsmodels.api as sm\r\n",
    "import numpy as np\r\n",
    "import pandas as pd\r\n",
    "import seaborn as sns\r\n",
    "import matplotlib.pyplot as plt\r\n",
    "import lightgbm as lgb\r\n",
    "from pandas.plotting import register_matplotlib_converters\r\n",
    "from IPython.display import display\r\n",
    "# from tsa_functions import *\r\n",
    "\r\n",
    "register_matplotlib_converters()\r\n",
    "sns.set_style('darkgrid')\r\n",
    "\r\n",
    "np.set_printoptions(precision=4)\r\n",
    "pd.set_option('precision', 4)\r\n"
   ]
  },
  {
   "cell_type": "code",
   "execution_count": 2,
   "metadata": {
    "ExecuteTime": {
     "end_time": "2021-04-30T06:35:01.283103Z",
     "start_time": "2021-04-30T06:34:57.476083Z"
    }
   },
   "outputs": [
    {
     "ename": "ImportError",
     "evalue": "cannot import name 'TimeseriesGenerator' from partially initialized module 'tsa_tools' (most likely due to a circular import) (c:\\Users\\aamorado\\Documents\\tsa2021-m5\\tsa_tools.py)",
     "output_type": "error",
     "traceback": [
      "\u001b[1;31m---------------------------------------------------------------------------\u001b[0m",
      "\u001b[1;31mImportError\u001b[0m                               Traceback (most recent call last)",
      "\u001b[1;32m<ipython-input-2-c357cd7b529e>\u001b[0m in \u001b[0;36m<module>\u001b[1;34m\u001b[0m\n\u001b[1;32m----> 1\u001b[1;33m \u001b[1;32mfrom\u001b[0m \u001b[0mtsa_tools\u001b[0m \u001b[1;32mimport\u001b[0m \u001b[1;33m*\u001b[0m\u001b[1;33m\u001b[0m\u001b[1;33m\u001b[0m\u001b[0m\n\u001b[0m",
      "\u001b[1;32mc:\\Users\\aamorado\\Documents\\tsa2021-m5\\tsa_tools.py\u001b[0m in \u001b[0;36m<module>\u001b[1;34m\u001b[0m\n\u001b[0;32m     24\u001b[0m \u001b[1;32mfrom\u001b[0m \u001b[0mtsa_benchmarks\u001b[0m \u001b[1;32mimport\u001b[0m \u001b[1;33m*\u001b[0m\u001b[1;33m\u001b[0m\u001b[1;33m\u001b[0m\u001b[0m\n\u001b[0;32m     25\u001b[0m \u001b[1;32mfrom\u001b[0m \u001b[0mtsa_metrics\u001b[0m \u001b[1;32mimport\u001b[0m \u001b[1;33m*\u001b[0m\u001b[1;33m\u001b[0m\u001b[1;33m\u001b[0m\u001b[0m\n\u001b[1;32m---> 26\u001b[1;33m \u001b[1;32mfrom\u001b[0m \u001b[0mtsa_wrappers\u001b[0m \u001b[1;32mimport\u001b[0m \u001b[1;33m*\u001b[0m\u001b[1;33m\u001b[0m\u001b[1;33m\u001b[0m\u001b[0m\n\u001b[0m\u001b[0;32m     27\u001b[0m \u001b[1;32mimport\u001b[0m \u001b[0mlightgbm\u001b[0m \u001b[1;32mas\u001b[0m \u001b[0mlgb\u001b[0m\u001b[1;33m\u001b[0m\u001b[1;33m\u001b[0m\u001b[0m\n\u001b[0;32m     28\u001b[0m \u001b[1;32mimport\u001b[0m \u001b[0mseaborn\u001b[0m \u001b[1;32mas\u001b[0m \u001b[0msns\u001b[0m\u001b[1;33m\u001b[0m\u001b[1;33m\u001b[0m\u001b[0m\n",
      "\u001b[1;32mc:\\Users\\aamorado\\Documents\\tsa2021-m5\\tsa_wrappers.py\u001b[0m in \u001b[0;36m<module>\u001b[1;34m\u001b[0m\n\u001b[0;32m      6\u001b[0m \u001b[1;32mimport\u001b[0m \u001b[0mnumpy\u001b[0m \u001b[1;32mas\u001b[0m \u001b[0mnp\u001b[0m\u001b[1;33m\u001b[0m\u001b[1;33m\u001b[0m\u001b[0m\n\u001b[0;32m      7\u001b[0m \u001b[1;32mfrom\u001b[0m \u001b[0mpandas\u001b[0m\u001b[1;33m.\u001b[0m\u001b[0mcore\u001b[0m\u001b[1;33m.\u001b[0m\u001b[0mseries\u001b[0m \u001b[1;32mimport\u001b[0m \u001b[0mSeries\u001b[0m\u001b[1;33m\u001b[0m\u001b[1;33m\u001b[0m\u001b[0m\n\u001b[1;32m----> 8\u001b[1;33m \u001b[1;32mfrom\u001b[0m \u001b[0mtsa_tools\u001b[0m \u001b[1;32mimport\u001b[0m \u001b[0mTimeseriesGenerator\u001b[0m\u001b[1;33m\u001b[0m\u001b[1;33m\u001b[0m\u001b[0m\n\u001b[0m\u001b[0;32m      9\u001b[0m \u001b[1;33m\u001b[0m\u001b[0m\n\u001b[0;32m     10\u001b[0m \u001b[1;33m\u001b[0m\u001b[0m\n",
      "\u001b[1;31mImportError\u001b[0m: cannot import name 'TimeseriesGenerator' from partially initialized module 'tsa_tools' (most likely due to a circular import) (c:\\Users\\aamorado\\Documents\\tsa2021-m5\\tsa_tools.py)"
     ]
    }
   ],
   "source": [
    "from tsa_tools import *"
   ]
  },
  {
   "cell_type": "markdown",
   "metadata": {},
   "source": [
    "---\n",
    "\n",
    "## M5 Forecasting\n",
    "\n",
    "For this \"final project\", we will be forecasting the <b><u>level 9</b></u> series (unit sales of all products, aggregated for each store and department).\n",
    "\n",
    "Load `sales_train_evaluation.csv` and use observations from `d_1 to d_1913` for training and `d_1914 to d_1941` for testing."
   ]
  },
  {
   "cell_type": "code",
   "execution_count": null,
   "metadata": {
    "ExecuteTime": {
     "end_time": "2021-04-29T10:32:22.526625Z",
     "start_time": "2021-04-29T10:32:16.824918Z"
    }
   },
   "outputs": [],
   "source": [
    "df_calendar = pd.read_csv('../data/m5/calendar.csv')\r\n",
    "df_sales = pd.read_csv('../data/m5/sales_train_evaluation.csv')\r\n",
    "df_weights = pd.read_csv('../data/m5/weights_validation.csv')\r\n",
    "# display(df_calendar, df_sales, df_weights)"
   ]
  },
  {
   "cell_type": "code",
   "execution_count": null,
   "metadata": {},
   "outputs": [],
   "source": [
    "train_df = (df_sales.set_index([*df_sales.columns[5::-1]]).T\r\n",
    "           .set_index(pd.DatetimeIndex(df_calendar.date)[:1941]).iloc[:-28])\r\n",
    "test_df = (df_sales.set_index([*df_sales.columns[5::-1]]).T\r\n",
    "           .set_index(pd.DatetimeIndex(df_calendar.date)[:1941]).iloc[-28:])\r\n",
    "# display(train_df, test_df)"
   ]
  },
  {
   "cell_type": "code",
   "execution_count": null,
   "metadata": {},
   "outputs": [],
   "source": [
    "levels = {\r\n",
    "    1: None,\r\n",
    "    2: \"state_id\",\r\n",
    "    3: \"store_id\",\r\n",
    "    4: \"cat_id\",\r\n",
    "    5: \"dept_id\",\r\n",
    "    6: [\"state_id\", \"cat_id\"],\r\n",
    "    7: [\"state_id\", \"dept_id\"],\r\n",
    "    8: [\"store_id\", \"cat_id\"],\r\n",
    "    9: [\"store_id\", \"dept_id\"],\r\n",
    "    10: \"item_id\",\r\n",
    "    11: [\"state_id\", \"item_id\"],\r\n",
    "    12: [\"store_id\", \"item_id\"]\r\n",
    "}\r\n"
   ]
  },
  {
   "cell_type": "markdown",
   "metadata": {},
   "source": [
    "---\n",
    "\n",
    "## Part 1. Baseline Methods (10 pts.)"
   ]
  },
  {
   "cell_type": "markdown",
   "metadata": {},
   "source": [
    "### Q1. (10 pts.)\n",
    "\n",
    "Extract all level 9 series from the dataset.\n",
    "\n",
    "For each series, generate a 28-step forecast using the methods enumerated below and calculate the `RMSSE` against the test set:\n",
    "\n",
    "1. `Naive`\n",
    "\n",
    "\n",
    "2. `Seasonal Naive`\n",
    "\n",
    "\n",
    "3. `SES`\n",
    "\n",
    "\n",
    "4. `Holt's Linear`\n",
    "\n",
    "\n",
    "5. `Additive Holt-Winters`\n",
    "\n",
    "Summarize the metrics in a dataframe and print it."
   ]
  },
  {
   "cell_type": "code",
   "execution_count": null,
   "metadata": {},
   "outputs": [],
   "source": [
    "methods = {\r\n",
    "    \"Naive\": BaseFuncModel(naivef),\r\n",
    "    \"Seasonal Naive\": BaseFuncModel(snaivef, m=7),\r\n",
    "    \"SES\": StatsModelsWrapper(ETSModel, trend=None, seasonal=None),\r\n",
    "    \"Holt's Linear\": StatsModelsWrapper(ETSModel, trend='add', seasonal=None),\r\n",
    "    \"Additive Holt-Winters\": StatsModelsWrapper(\r\n",
    "        ETSModel, seasonal_periods=7, trend='add', seasonal='add'),\r\n",
    "}\r\n",
    "\r\n",
    "train_df_9 = timeSeriesFiltering(\r\n",
    "    train_df.sum(axis='columns', level=levels[9]), lower=10)\r\n",
    "test_df_9 = test_df.sum(axis='columns', level=levels[9])\r\n",
    "weights_df_9 = (df_weights\r\n",
    "                .loc[df_weights['Level_id'] == 'Level9']\r\n",
    "                .set_index(['Agg_Level_1', 'Agg_Level_2'])[['Weight']])"
   ]
  },
  {
   "cell_type": "code",
   "execution_count": null,
   "metadata": {
    "ExecuteTime": {
     "end_time": "2021-04-28T16:37:30.846487Z",
     "start_time": "2021-04-28T16:37:27.791260Z"
    },
    "scrolled": true
   },
   "outputs": [],
   "source": [
    "res = {}\r\n",
    "for method, model in methods.items():\r\n",
    "    forecast_df_9 = pd.DataFrame(\r\n",
    "        {label: model.fit(content).forecast(28)\r\n",
    "        for label, content in train_df_9.items()}\r\n",
    "        )\r\n",
    "    res[method] = rateMyForecast(train_df_9, test_df_9, forecast_df_9)['RMSSE']"
   ]
  },
  {
   "cell_type": "code",
   "execution_count": null,
   "metadata": {},
   "outputs": [
    {
     "data": {
      "text/html": "<div>\n<style scoped>\n    .dataframe tbody tr th:only-of-type {\n        vertical-align: middle;\n    }\n\n    .dataframe tbody tr th {\n        vertical-align: top;\n    }\n\n    .dataframe thead th {\n        text-align: right;\n    }\n</style>\n<table border=\"1\" class=\"dataframe\">\n  <thead>\n    <tr style=\"text-align: right;\">\n      <th></th>\n      <th></th>\n      <th>Naive</th>\n      <th>Seasonal Naive</th>\n      <th>SES</th>\n      <th>Holt's Linear</th>\n      <th>Additive Holt-Winters</th>\n    </tr>\n  </thead>\n  <tbody>\n    <tr>\n      <th rowspan=\"7\" valign=\"top\">CA_1</th>\n      <th>HOBBIES_1</th>\n      <td>1.4583</td>\n      <td>0.7619</td>\n      <td>0.8819</td>\n      <td>0.8810</td>\n      <td>0.6311</td>\n    </tr>\n    <tr>\n      <th>HOBBIES_2</th>\n      <td>1.9340</td>\n      <td>1.1429</td>\n      <td>0.8831</td>\n      <td>0.8748</td>\n      <td>0.7206</td>\n    </tr>\n    <tr>\n      <th>HOUSEHOLD_1</th>\n      <td>2.1052</td>\n      <td>0.5172</td>\n      <td>1.1514</td>\n      <td>1.1636</td>\n      <td>0.4433</td>\n    </tr>\n    <tr>\n      <th>HOUSEHOLD_2</th>\n      <td>2.2997</td>\n      <td>0.5228</td>\n      <td>1.2208</td>\n      <td>1.1789</td>\n      <td>0.5276</td>\n    </tr>\n    <tr>\n      <th>FOODS_1</th>\n      <td>0.9319</td>\n      <td>0.7312</td>\n      <td>0.9179</td>\n      <td>0.9362</td>\n      <td>0.7301</td>\n    </tr>\n    <tr>\n      <th>FOODS_2</th>\n      <td>2.0535</td>\n      <td>0.8269</td>\n      <td>2.0534</td>\n      <td>2.3136</td>\n      <td>0.5930</td>\n    </tr>\n    <tr>\n      <th>FOODS_3</th>\n      <td>1.7113</td>\n      <td>0.4944</td>\n      <td>1.0825</td>\n      <td>1.0185</td>\n      <td>0.5045</td>\n    </tr>\n    <tr>\n      <th rowspan=\"7\" valign=\"top\">CA_2</th>\n      <th>HOBBIES_1</th>\n      <td>1.2053</td>\n      <td>0.7055</td>\n      <td>1.1179</td>\n      <td>1.1180</td>\n      <td>0.6542</td>\n    </tr>\n    <tr>\n      <th>HOBBIES_2</th>\n      <td>1.3546</td>\n      <td>1.4893</td>\n      <td>1.3887</td>\n      <td>1.3790</td>\n      <td>1.1641</td>\n    </tr>\n    <tr>\n      <th>HOUSEHOLD_1</th>\n      <td>2.0287</td>\n      <td>0.6373</td>\n      <td>1.3960</td>\n      <td>1.3853</td>\n      <td>0.5825</td>\n    </tr>\n    <tr>\n      <th>HOUSEHOLD_2</th>\n      <td>1.9340</td>\n      <td>0.5920</td>\n      <td>1.4625</td>\n      <td>1.4534</td>\n      <td>0.6657</td>\n    </tr>\n    <tr>\n      <th>FOODS_1</th>\n      <td>1.2557</td>\n      <td>1.1311</td>\n      <td>1.3875</td>\n      <td>1.3786</td>\n      <td>0.9718</td>\n    </tr>\n    <tr>\n      <th>FOODS_2</th>\n      <td>4.2936</td>\n      <td>1.4906</td>\n      <td>2.3041</td>\n      <td>2.2415</td>\n      <td>1.2994</td>\n    </tr>\n    <tr>\n      <th>FOODS_3</th>\n      <td>2.5830</td>\n      <td>0.6046</td>\n      <td>1.4502</td>\n      <td>1.4114</td>\n      <td>0.4787</td>\n    </tr>\n    <tr>\n      <th rowspan=\"7\" valign=\"top\">CA_3</th>\n      <th>HOBBIES_1</th>\n      <td>0.9370</td>\n      <td>0.6647</td>\n      <td>0.6999</td>\n      <td>0.7018</td>\n      <td>0.5044</td>\n    </tr>\n    <tr>\n      <th>HOBBIES_2</th>\n      <td>1.1984</td>\n      <td>1.6617</td>\n      <td>1.5530</td>\n      <td>1.5433</td>\n      <td>1.5301</td>\n    </tr>\n    <tr>\n      <th>HOUSEHOLD_1</th>\n      <td>2.6217</td>\n      <td>0.7564</td>\n      <td>1.1273</td>\n      <td>1.1536</td>\n      <td>0.6702</td>\n    </tr>\n    <tr>\n      <th>HOUSEHOLD_2</th>\n      <td>2.1039</td>\n      <td>0.8808</td>\n      <td>1.4258</td>\n      <td>1.4169</td>\n      <td>0.9476</td>\n    </tr>\n    <tr>\n      <th>FOODS_1</th>\n      <td>1.1674</td>\n      <td>1.5874</td>\n      <td>1.3966</td>\n      <td>1.3892</td>\n      <td>1.4614</td>\n    </tr>\n    <tr>\n      <th>FOODS_2</th>\n      <td>1.8816</td>\n      <td>0.7316</td>\n      <td>1.7271</td>\n      <td>1.7429</td>\n      <td>0.5757</td>\n    </tr>\n    <tr>\n      <th>FOODS_3</th>\n      <td>1.5710</td>\n      <td>0.4353</td>\n      <td>0.8908</td>\n      <td>1.5877</td>\n      <td>0.4651</td>\n    </tr>\n    <tr>\n      <th rowspan=\"7\" valign=\"top\">CA_4</th>\n      <th>HOBBIES_1</th>\n      <td>1.4556</td>\n      <td>1.1008</td>\n      <td>0.9956</td>\n      <td>0.9902</td>\n      <td>0.9135</td>\n    </tr>\n    <tr>\n      <th>HOBBIES_2</th>\n      <td>2.1142</td>\n      <td>1.8563</td>\n      <td>1.8756</td>\n      <td>1.8751</td>\n      <td>1.8942</td>\n    </tr>\n    <tr>\n      <th>HOUSEHOLD_1</th>\n      <td>3.4088</td>\n      <td>1.4737</td>\n      <td>1.2447</td>\n      <td>1.2169</td>\n      <td>0.9713</td>\n    </tr>\n    <tr>\n      <th>HOUSEHOLD_2</th>\n      <td>1.3534</td>\n      <td>0.9567</td>\n      <td>1.0520</td>\n      <td>1.0386</td>\n      <td>0.8276</td>\n    </tr>\n    <tr>\n      <th>FOODS_1</th>\n      <td>1.0167</td>\n      <td>1.5664</td>\n      <td>1.3857</td>\n      <td>1.3656</td>\n      <td>1.3407</td>\n    </tr>\n    <tr>\n      <th>FOODS_2</th>\n      <td>1.2989</td>\n      <td>0.7998</td>\n      <td>1.1609</td>\n      <td>1.1533</td>\n      <td>0.7788</td>\n    </tr>\n    <tr>\n      <th>FOODS_3</th>\n      <td>1.4144</td>\n      <td>0.6385</td>\n      <td>0.9469</td>\n      <td>0.9431</td>\n      <td>0.6654</td>\n    </tr>\n    <tr>\n      <th rowspan=\"7\" valign=\"top\">TX_1</th>\n      <th>HOBBIES_1</th>\n      <td>1.6331</td>\n      <td>0.9169</td>\n      <td>0.9061</td>\n      <td>0.9046</td>\n      <td>0.7062</td>\n    </tr>\n    <tr>\n      <th>HOBBIES_2</th>\n      <td>1.8823</td>\n      <td>1.6475</td>\n      <td>1.4296</td>\n      <td>1.4159</td>\n      <td>1.4833</td>\n    </tr>\n    <tr>\n      <th>HOUSEHOLD_1</th>\n      <td>1.8399</td>\n      <td>0.8196</td>\n      <td>1.1676</td>\n      <td>1.1608</td>\n      <td>0.7947</td>\n    </tr>\n    <tr>\n      <th>HOUSEHOLD_2</th>\n      <td>1.2045</td>\n      <td>1.2523</td>\n      <td>1.0488</td>\n      <td>1.0328</td>\n      <td>0.9494</td>\n    </tr>\n    <tr>\n      <th>FOODS_1</th>\n      <td>1.3344</td>\n      <td>1.7189</td>\n      <td>1.5566</td>\n      <td>1.5460</td>\n      <td>1.6203</td>\n    </tr>\n    <tr>\n      <th>FOODS_2</th>\n      <td>1.1906</td>\n      <td>0.9520</td>\n      <td>0.8562</td>\n      <td>0.8561</td>\n      <td>0.7974</td>\n    </tr>\n    <tr>\n      <th>FOODS_3</th>\n      <td>1.1678</td>\n      <td>0.8416</td>\n      <td>0.9161</td>\n      <td>0.8855</td>\n      <td>0.6257</td>\n    </tr>\n    <tr>\n      <th rowspan=\"7\" valign=\"top\">TX_2</th>\n      <th>HOBBIES_1</th>\n      <td>0.7979</td>\n      <td>0.8792</td>\n      <td>0.8789</td>\n      <td>0.8742</td>\n      <td>0.7272</td>\n    </tr>\n    <tr>\n      <th>HOBBIES_2</th>\n      <td>0.7499</td>\n      <td>1.2548</td>\n      <td>0.9735</td>\n      <td>0.9685</td>\n      <td>1.0058</td>\n    </tr>\n    <tr>\n      <th>HOUSEHOLD_1</th>\n      <td>0.8662</td>\n      <td>0.8529</td>\n      <td>0.8683</td>\n      <td>0.8712</td>\n      <td>0.6500</td>\n    </tr>\n    <tr>\n      <th>HOUSEHOLD_2</th>\n      <td>1.3706</td>\n      <td>0.6559</td>\n      <td>0.9314</td>\n      <td>0.9346</td>\n      <td>0.4521</td>\n    </tr>\n    <tr>\n      <th>FOODS_1</th>\n      <td>1.4774</td>\n      <td>1.2816</td>\n      <td>1.2919</td>\n      <td>1.2839</td>\n      <td>1.4472</td>\n    </tr>\n    <tr>\n      <th>FOODS_2</th>\n      <td>0.9424</td>\n      <td>0.6834</td>\n      <td>0.7532</td>\n      <td>0.7719</td>\n      <td>0.6776</td>\n    </tr>\n    <tr>\n      <th>FOODS_3</th>\n      <td>0.8228</td>\n      <td>0.6226</td>\n      <td>0.7499</td>\n      <td>0.7481</td>\n      <td>0.6042</td>\n    </tr>\n    <tr>\n      <th rowspan=\"7\" valign=\"top\">TX_3</th>\n      <th>HOBBIES_1</th>\n      <td>1.5309</td>\n      <td>0.9025</td>\n      <td>0.9404</td>\n      <td>0.9370</td>\n      <td>0.7358</td>\n    </tr>\n    <tr>\n      <th>HOBBIES_2</th>\n      <td>1.4339</td>\n      <td>1.7212</td>\n      <td>1.1186</td>\n      <td>1.1152</td>\n      <td>1.1117</td>\n    </tr>\n    <tr>\n      <th>HOUSEHOLD_1</th>\n      <td>1.0738</td>\n      <td>1.0794</td>\n      <td>1.0248</td>\n      <td>1.0064</td>\n      <td>0.9092</td>\n    </tr>\n    <tr>\n      <th>HOUSEHOLD_2</th>\n      <td>0.8605</td>\n      <td>1.3137</td>\n      <td>1.0128</td>\n      <td>0.9889</td>\n      <td>0.8839</td>\n    </tr>\n    <tr>\n      <th>FOODS_1</th>\n      <td>2.7332</td>\n      <td>2.2206</td>\n      <td>2.1542</td>\n      <td>2.1356</td>\n      <td>2.1921</td>\n    </tr>\n    <tr>\n      <th>FOODS_2</th>\n      <td>1.3682</td>\n      <td>1.4195</td>\n      <td>1.4254</td>\n      <td>1.4277</td>\n      <td>1.5317</td>\n    </tr>\n    <tr>\n      <th>FOODS_3</th>\n      <td>0.9672</td>\n      <td>1.1046</td>\n      <td>1.0692</td>\n      <td>1.0493</td>\n      <td>1.0362</td>\n    </tr>\n    <tr>\n      <th rowspan=\"7\" valign=\"top\">WI_1</th>\n      <th>HOBBIES_1</th>\n      <td>1.3685</td>\n      <td>0.5084</td>\n      <td>0.7533</td>\n      <td>0.7533</td>\n      <td>0.4667</td>\n    </tr>\n    <tr>\n      <th>HOBBIES_2</th>\n      <td>1.2701</td>\n      <td>1.5892</td>\n      <td>1.2413</td>\n      <td>1.2333</td>\n      <td>1.2103</td>\n    </tr>\n    <tr>\n      <th>HOUSEHOLD_1</th>\n      <td>1.7201</td>\n      <td>0.6488</td>\n      <td>1.0982</td>\n      <td>1.0990</td>\n      <td>0.6417</td>\n    </tr>\n    <tr>\n      <th>HOUSEHOLD_2</th>\n      <td>1.7301</td>\n      <td>0.7509</td>\n      <td>1.1014</td>\n      <td>1.0997</td>\n      <td>0.5728</td>\n    </tr>\n    <tr>\n      <th>FOODS_1</th>\n      <td>0.9843</td>\n      <td>0.8454</td>\n      <td>1.0438</td>\n      <td>1.0400</td>\n      <td>0.8368</td>\n    </tr>\n    <tr>\n      <th>FOODS_2</th>\n      <td>2.1064</td>\n      <td>1.2493</td>\n      <td>1.6349</td>\n      <td>1.6291</td>\n      <td>1.3021</td>\n    </tr>\n    <tr>\n      <th>FOODS_3</th>\n      <td>1.6655</td>\n      <td>0.5440</td>\n      <td>1.1554</td>\n      <td>1.1465</td>\n      <td>0.4636</td>\n    </tr>\n    <tr>\n      <th rowspan=\"7\" valign=\"top\">WI_2</th>\n      <th>HOBBIES_1</th>\n      <td>1.3672</td>\n      <td>0.8269</td>\n      <td>0.7654</td>\n      <td>0.7546</td>\n      <td>0.7281</td>\n    </tr>\n    <tr>\n      <th>HOBBIES_2</th>\n      <td>1.1960</td>\n      <td>1.5164</td>\n      <td>1.2308</td>\n      <td>1.2258</td>\n      <td>1.2142</td>\n    </tr>\n    <tr>\n      <th>HOUSEHOLD_1</th>\n      <td>1.3142</td>\n      <td>1.0984</td>\n      <td>1.3773</td>\n      <td>1.3079</td>\n      <td>1.0693</td>\n    </tr>\n    <tr>\n      <th>HOUSEHOLD_2</th>\n      <td>1.4018</td>\n      <td>0.9766</td>\n      <td>0.9592</td>\n      <td>0.9494</td>\n      <td>0.7440</td>\n    </tr>\n    <tr>\n      <th>FOODS_1</th>\n      <td>2.4445</td>\n      <td>2.3635</td>\n      <td>2.2284</td>\n      <td>2.2117</td>\n      <td>2.2762</td>\n    </tr>\n    <tr>\n      <th>FOODS_2</th>\n      <td>2.4210</td>\n      <td>2.4925</td>\n      <td>2.4266</td>\n      <td>2.3733</td>\n      <td>2.4971</td>\n    </tr>\n    <tr>\n      <th>FOODS_3</th>\n      <td>1.3513</td>\n      <td>1.5445</td>\n      <td>1.3989</td>\n      <td>1.3654</td>\n      <td>1.4620</td>\n    </tr>\n    <tr>\n      <th rowspan=\"7\" valign=\"top\">WI_3</th>\n      <th>HOBBIES_1</th>\n      <td>0.9587</td>\n      <td>0.9150</td>\n      <td>0.9285</td>\n      <td>0.9285</td>\n      <td>0.7590</td>\n    </tr>\n    <tr>\n      <th>HOBBIES_2</th>\n      <td>1.5458</td>\n      <td>1.0980</td>\n      <td>0.9523</td>\n      <td>0.9468</td>\n      <td>0.9392</td>\n    </tr>\n    <tr>\n      <th>HOUSEHOLD_1</th>\n      <td>1.4203</td>\n      <td>0.6588</td>\n      <td>1.0787</td>\n      <td>1.0802</td>\n      <td>0.6792</td>\n    </tr>\n    <tr>\n      <th>HOUSEHOLD_2</th>\n      <td>1.9138</td>\n      <td>0.9144</td>\n      <td>1.3265</td>\n      <td>1.3268</td>\n      <td>0.8683</td>\n    </tr>\n    <tr>\n      <th>FOODS_1</th>\n      <td>1.0747</td>\n      <td>1.8678</td>\n      <td>1.3181</td>\n      <td>1.3046</td>\n      <td>1.3642</td>\n    </tr>\n    <tr>\n      <th>FOODS_2</th>\n      <td>1.2681</td>\n      <td>1.5464</td>\n      <td>1.3670</td>\n      <td>1.3453</td>\n      <td>1.6313</td>\n    </tr>\n    <tr>\n      <th>FOODS_3</th>\n      <td>1.0986</td>\n      <td>0.7701</td>\n      <td>1.1102</td>\n      <td>1.1284</td>\n      <td>0.8766</td>\n    </tr>\n  </tbody>\n</table>\n</div>",
      "text/plain": "                   Naive  Seasonal Naive     SES  Holt's Linear  \\\nCA_1 HOBBIES_1    1.4583          0.7619  0.8819         0.8810   \n     HOBBIES_2    1.9340          1.1429  0.8831         0.8748   \n     HOUSEHOLD_1  2.1052          0.5172  1.1514         1.1636   \n     HOUSEHOLD_2  2.2997          0.5228  1.2208         1.1789   \n     FOODS_1      0.9319          0.7312  0.9179         0.9362   \n     FOODS_2      2.0535          0.8269  2.0534         2.3136   \n     FOODS_3      1.7113          0.4944  1.0825         1.0185   \nCA_2 HOBBIES_1    1.2053          0.7055  1.1179         1.1180   \n     HOBBIES_2    1.3546          1.4893  1.3887         1.3790   \n     HOUSEHOLD_1  2.0287          0.6373  1.3960         1.3853   \n     HOUSEHOLD_2  1.9340          0.5920  1.4625         1.4534   \n     FOODS_1      1.2557          1.1311  1.3875         1.3786   \n     FOODS_2      4.2936          1.4906  2.3041         2.2415   \n     FOODS_3      2.5830          0.6046  1.4502         1.4114   \nCA_3 HOBBIES_1    0.9370          0.6647  0.6999         0.7018   \n     HOBBIES_2    1.1984          1.6617  1.5530         1.5433   \n     HOUSEHOLD_1  2.6217          0.7564  1.1273         1.1536   \n     HOUSEHOLD_2  2.1039          0.8808  1.4258         1.4169   \n     FOODS_1      1.1674          1.5874  1.3966         1.3892   \n     FOODS_2      1.8816          0.7316  1.7271         1.7429   \n     FOODS_3      1.5710          0.4353  0.8908         1.5877   \nCA_4 HOBBIES_1    1.4556          1.1008  0.9956         0.9902   \n     HOBBIES_2    2.1142          1.8563  1.8756         1.8751   \n     HOUSEHOLD_1  3.4088          1.4737  1.2447         1.2169   \n     HOUSEHOLD_2  1.3534          0.9567  1.0520         1.0386   \n     FOODS_1      1.0167          1.5664  1.3857         1.3656   \n     FOODS_2      1.2989          0.7998  1.1609         1.1533   \n     FOODS_3      1.4144          0.6385  0.9469         0.9431   \nTX_1 HOBBIES_1    1.6331          0.9169  0.9061         0.9046   \n     HOBBIES_2    1.8823          1.6475  1.4296         1.4159   \n     HOUSEHOLD_1  1.8399          0.8196  1.1676         1.1608   \n     HOUSEHOLD_2  1.2045          1.2523  1.0488         1.0328   \n     FOODS_1      1.3344          1.7189  1.5566         1.5460   \n     FOODS_2      1.1906          0.9520  0.8562         0.8561   \n     FOODS_3      1.1678          0.8416  0.9161         0.8855   \nTX_2 HOBBIES_1    0.7979          0.8792  0.8789         0.8742   \n     HOBBIES_2    0.7499          1.2548  0.9735         0.9685   \n     HOUSEHOLD_1  0.8662          0.8529  0.8683         0.8712   \n     HOUSEHOLD_2  1.3706          0.6559  0.9314         0.9346   \n     FOODS_1      1.4774          1.2816  1.2919         1.2839   \n     FOODS_2      0.9424          0.6834  0.7532         0.7719   \n     FOODS_3      0.8228          0.6226  0.7499         0.7481   \nTX_3 HOBBIES_1    1.5309          0.9025  0.9404         0.9370   \n     HOBBIES_2    1.4339          1.7212  1.1186         1.1152   \n     HOUSEHOLD_1  1.0738          1.0794  1.0248         1.0064   \n     HOUSEHOLD_2  0.8605          1.3137  1.0128         0.9889   \n     FOODS_1      2.7332          2.2206  2.1542         2.1356   \n     FOODS_2      1.3682          1.4195  1.4254         1.4277   \n     FOODS_3      0.9672          1.1046  1.0692         1.0493   \nWI_1 HOBBIES_1    1.3685          0.5084  0.7533         0.7533   \n     HOBBIES_2    1.2701          1.5892  1.2413         1.2333   \n     HOUSEHOLD_1  1.7201          0.6488  1.0982         1.0990   \n     HOUSEHOLD_2  1.7301          0.7509  1.1014         1.0997   \n     FOODS_1      0.9843          0.8454  1.0438         1.0400   \n     FOODS_2      2.1064          1.2493  1.6349         1.6291   \n     FOODS_3      1.6655          0.5440  1.1554         1.1465   \nWI_2 HOBBIES_1    1.3672          0.8269  0.7654         0.7546   \n     HOBBIES_2    1.1960          1.5164  1.2308         1.2258   \n     HOUSEHOLD_1  1.3142          1.0984  1.3773         1.3079   \n     HOUSEHOLD_2  1.4018          0.9766  0.9592         0.9494   \n     FOODS_1      2.4445          2.3635  2.2284         2.2117   \n     FOODS_2      2.4210          2.4925  2.4266         2.3733   \n     FOODS_3      1.3513          1.5445  1.3989         1.3654   \nWI_3 HOBBIES_1    0.9587          0.9150  0.9285         0.9285   \n     HOBBIES_2    1.5458          1.0980  0.9523         0.9468   \n     HOUSEHOLD_1  1.4203          0.6588  1.0787         1.0802   \n     HOUSEHOLD_2  1.9138          0.9144  1.3265         1.3268   \n     FOODS_1      1.0747          1.8678  1.3181         1.3046   \n     FOODS_2      1.2681          1.5464  1.3670         1.3453   \n     FOODS_3      1.0986          0.7701  1.1102         1.1284   \n\n                  Additive Holt-Winters  \nCA_1 HOBBIES_1                   0.6311  \n     HOBBIES_2                   0.7206  \n     HOUSEHOLD_1                 0.4433  \n     HOUSEHOLD_2                 0.5276  \n     FOODS_1                     0.7301  \n     FOODS_2                     0.5930  \n     FOODS_3                     0.5045  \nCA_2 HOBBIES_1                   0.6542  \n     HOBBIES_2                   1.1641  \n     HOUSEHOLD_1                 0.5825  \n     HOUSEHOLD_2                 0.6657  \n     FOODS_1                     0.9718  \n     FOODS_2                     1.2994  \n     FOODS_3                     0.4787  \nCA_3 HOBBIES_1                   0.5044  \n     HOBBIES_2                   1.5301  \n     HOUSEHOLD_1                 0.6702  \n     HOUSEHOLD_2                 0.9476  \n     FOODS_1                     1.4614  \n     FOODS_2                     0.5757  \n     FOODS_3                     0.4651  \nCA_4 HOBBIES_1                   0.9135  \n     HOBBIES_2                   1.8942  \n     HOUSEHOLD_1                 0.9713  \n     HOUSEHOLD_2                 0.8276  \n     FOODS_1                     1.3407  \n     FOODS_2                     0.7788  \n     FOODS_3                     0.6654  \nTX_1 HOBBIES_1                   0.7062  \n     HOBBIES_2                   1.4833  \n     HOUSEHOLD_1                 0.7947  \n     HOUSEHOLD_2                 0.9494  \n     FOODS_1                     1.6203  \n     FOODS_2                     0.7974  \n     FOODS_3                     0.6257  \nTX_2 HOBBIES_1                   0.7272  \n     HOBBIES_2                   1.0058  \n     HOUSEHOLD_1                 0.6500  \n     HOUSEHOLD_2                 0.4521  \n     FOODS_1                     1.4472  \n     FOODS_2                     0.6776  \n     FOODS_3                     0.6042  \nTX_3 HOBBIES_1                   0.7358  \n     HOBBIES_2                   1.1117  \n     HOUSEHOLD_1                 0.9092  \n     HOUSEHOLD_2                 0.8839  \n     FOODS_1                     2.1921  \n     FOODS_2                     1.5317  \n     FOODS_3                     1.0362  \nWI_1 HOBBIES_1                   0.4667  \n     HOBBIES_2                   1.2103  \n     HOUSEHOLD_1                 0.6417  \n     HOUSEHOLD_2                 0.5728  \n     FOODS_1                     0.8368  \n     FOODS_2                     1.3021  \n     FOODS_3                     0.4636  \nWI_2 HOBBIES_1                   0.7281  \n     HOBBIES_2                   1.2142  \n     HOUSEHOLD_1                 1.0693  \n     HOUSEHOLD_2                 0.7440  \n     FOODS_1                     2.2762  \n     FOODS_2                     2.4971  \n     FOODS_3                     1.4620  \nWI_3 HOBBIES_1                   0.7590  \n     HOBBIES_2                   0.9392  \n     HOUSEHOLD_1                 0.6792  \n     HOUSEHOLD_2                 0.8683  \n     FOODS_1                     1.3642  \n     FOODS_2                     1.6313  \n     FOODS_3                     0.8766  "
     },
     "execution_count": 9,
     "metadata": {},
     "output_type": "execute_result"
    }
   ],
   "source": [
    "pd.set_option('display.max_rows', None)\r\n",
    "df_res_9_base = pd.DataFrame(res)\r\n",
    "df_res_9_base.index = pd.MultiIndex.from_tuples(df_res_9_base.index)\r\n",
    "df_res_9_base"
   ]
  },
  {
   "cell_type": "markdown",
   "metadata": {},
   "source": [
    "---\n",
    "\n",
    "## Part 2. LightGBM (30 pts.)"
   ]
  },
  {
   "cell_type": "markdown",
   "metadata": {},
   "source": [
    "### Q2. (10 pts.)\n",
    "\n",
    "For all series, use an un-tuned `LightGBM` with 56-day lookback that uses a one-step recursive forecasting strategy to generate a 28-step forecast.\n",
    "\n",
    "Calculate the `RMSSE` against the test set, then summarize the metrics in a dataframe and print it."
   ]
  },
  {
   "cell_type": "code",
   "execution_count": null,
   "metadata": {},
   "outputs": [
    {
     "ename": "NameError",
     "evalue": "name 'TimeseriesGenerator' is not defined",
     "output_type": "error",
     "traceback": [
      "\u001b[1;31m---------------------------------------------------------------------------\u001b[0m",
      "\u001b[1;31mNameError\u001b[0m                                 Traceback (most recent call last)",
      "\u001b[1;32m<ipython-input-11-65ec7ab259c7>\u001b[0m in \u001b[0;36m<module>\u001b[1;34m\u001b[0m\n\u001b[0;32m      4\u001b[0m \u001b[1;33m\u001b[0m\u001b[0m\n\u001b[0;32m      5\u001b[0m \u001b[1;32mfor\u001b[0m \u001b[0mcol\u001b[0m \u001b[1;32min\u001b[0m \u001b[0mtrain_df_9\u001b[0m\u001b[1;33m:\u001b[0m\u001b[1;33m\u001b[0m\u001b[1;33m\u001b[0m\u001b[0m\n\u001b[1;32m----> 6\u001b[1;33m     \u001b[0mmodel\u001b[0m\u001b[1;33m.\u001b[0m\u001b[0mfit\u001b[0m\u001b[1;33m(\u001b[0m\u001b[1;32mNone\u001b[0m\u001b[1;33m,\u001b[0m \u001b[0mtrain_df_9\u001b[0m\u001b[1;33m[\u001b[0m\u001b[0mcol\u001b[0m\u001b[1;33m]\u001b[0m\u001b[1;33m)\u001b[0m\u001b[1;33m\u001b[0m\u001b[1;33m\u001b[0m\u001b[0m\n\u001b[0m\u001b[0;32m      7\u001b[0m     \u001b[0mpred\u001b[0m\u001b[1;33m[\u001b[0m\u001b[0mcol\u001b[0m\u001b[1;33m]\u001b[0m \u001b[1;33m=\u001b[0m \u001b[0mmodel\u001b[0m\u001b[1;33m.\u001b[0m\u001b[0mpredict\u001b[0m\u001b[1;33m(\u001b[0m\u001b[0mtrain_df_9\u001b[0m\u001b[1;33m[\u001b[0m\u001b[0mcol\u001b[0m\u001b[1;33m]\u001b[0m\u001b[1;33m.\u001b[0m\u001b[0miloc\u001b[0m\u001b[1;33m[\u001b[0m\u001b[1;33m-\u001b[0m\u001b[1;36m56\u001b[0m\u001b[1;33m:\u001b[0m\u001b[1;33m]\u001b[0m\u001b[1;33m)\u001b[0m\u001b[1;33m.\u001b[0m\u001b[0msqueeze\u001b[0m\u001b[1;33m(\u001b[0m\u001b[1;33m)\u001b[0m\u001b[1;33m\u001b[0m\u001b[1;33m\u001b[0m\u001b[0m\n",
      "\u001b[1;32mc:\\Users\\aamorado\\Documents\\tsa2021-m5\\tsa_wrappers.py\u001b[0m in \u001b[0;36mfit\u001b[1;34m(self, X, y)\u001b[0m\n\u001b[0;32m     40\u001b[0m \u001b[1;33m\u001b[0m\u001b[0m\n\u001b[0;32m     41\u001b[0m     \u001b[1;32mdef\u001b[0m \u001b[0mfit\u001b[0m\u001b[1;33m(\u001b[0m\u001b[0mself\u001b[0m\u001b[1;33m,\u001b[0m \u001b[0mX\u001b[0m\u001b[1;33m:\u001b[0m \u001b[0mSeries\u001b[0m\u001b[1;33m,\u001b[0m \u001b[0my\u001b[0m\u001b[1;33m:\u001b[0m \u001b[0mSeries\u001b[0m\u001b[1;33m)\u001b[0m\u001b[1;33m:\u001b[0m\u001b[1;33m\u001b[0m\u001b[1;33m\u001b[0m\u001b[0m\n\u001b[1;32m---> 42\u001b[1;33m         X_train, _, y_train, _ = TimeseriesGenerator(\n\u001b[0m\u001b[0;32m     43\u001b[0m             y, None, self.w, h=1)\n\u001b[0;32m     44\u001b[0m         \u001b[0mself\u001b[0m\u001b[1;33m.\u001b[0m\u001b[0mfitted_model\u001b[0m \u001b[1;33m=\u001b[0m \u001b[0mself\u001b[0m\u001b[1;33m.\u001b[0m\u001b[0mestimator\u001b[0m\u001b[1;33m.\u001b[0m\u001b[0mfit\u001b[0m\u001b[1;33m(\u001b[0m\u001b[0mX_train\u001b[0m\u001b[1;33m,\u001b[0m \u001b[0my_train\u001b[0m\u001b[1;33m)\u001b[0m\u001b[1;33m\u001b[0m\u001b[1;33m\u001b[0m\u001b[0m\n",
      "\u001b[1;31mNameError\u001b[0m: name 'TimeseriesGenerator' is not defined"
     ]
    }
   ],
   "source": [
    "model = RecursiveRegressor(\r\n",
    "    lgb.LGBMRegressor(random_state=1, w=56, h=28))  # Model: recursive-forecasting\r\n",
    "pred = {}\r\n",
    "\r\n",
    "for col in train_df_9:\r\n",
    "    model.fit(None, train_df_9[col])\r\n",
    "    pred[col] = model.predict(train_df_9[col].iloc[-56:]).squeeze()"
   ]
  },
  {
   "cell_type": "code",
   "execution_count": null,
   "metadata": {},
   "outputs": [
    {
     "data": {
      "text/plain": "{'boosting_type': 'gbdt',\n 'class_weight': None,\n 'colsample_bytree': 1.0,\n 'importance_type': 'split',\n 'learning_rate': 0.1,\n 'max_depth': -1,\n 'min_child_samples': 20,\n 'min_child_weight': 0.001,\n 'min_split_gain': 0.0,\n 'n_estimators': 100,\n 'n_jobs': -1,\n 'num_leaves': 31,\n 'objective': None,\n 'random_state': None,\n 'reg_alpha': 0.0,\n 'reg_lambda': 0.0,\n 'silent': True,\n 'subsample': 1.0,\n 'subsample_for_bin': 200000,\n 'subsample_freq': 0,\n 'w': 4}"
     },
     "execution_count": 23,
     "metadata": {},
     "output_type": "execute_result"
    }
   ],
   "source": [
    "lbm = lgb.LGBMRegressor(w=4)\r\n",
    "lbm.get_params()"
   ]
  },
  {
   "cell_type": "markdown",
   "metadata": {},
   "source": [
    "### Q3. (10 pts.)\n",
    "\n",
    "For all series, use an un-tuned `LightGBM` with 56-day lookback that uses a direct forecasting strategy to generate a 28-step forecast.\n",
    "\n",
    "Calculate the `RMSSE` against the test set, then summarize the metrics in a dataframe and print it."
   ]
  },
  {
   "cell_type": "code",
   "execution_count": null,
   "metadata": {},
   "outputs": [],
   "source": [
    "model = MultiOutputRegressor(\r\n",
    "    lgb.LGBMRegressor(random_state=1),\r\n",
    "    n_jobs=1)  # Model: direct-forecasting\r\n",
    "pred = {}\r\n",
    "\r\n",
    "for col in train_df_9:\r\n",
    "    X_train, X_test, y_train, y_test = TimeseriesGenerator(\r\n",
    "        X=train_df_9[col],\r\n",
    "        y=test_df_9[col],\r\n",
    "        w=56,\r\n",
    "        h=28)\r\n",
    "    model.fit(X_train, y_train)\r\n",
    "    pred[col] = model.predict(X_test).squeeze()"
   ]
  },
  {
   "cell_type": "code",
   "execution_count": null,
   "metadata": {},
   "outputs": [
    {
     "data": {
      "text/html": "<div>\n<style scoped>\n    .dataframe tbody tr th:only-of-type {\n        vertical-align: middle;\n    }\n\n    .dataframe tbody tr th {\n        vertical-align: top;\n    }\n\n    .dataframe thead th {\n        text-align: right;\n    }\n</style>\n<table border=\"1\" class=\"dataframe\">\n  <thead>\n    <tr style=\"text-align: right;\">\n      <th></th>\n      <th></th>\n      <th>RMSSE</th>\n    </tr>\n  </thead>\n  <tbody>\n    <tr>\n      <th rowspan=\"7\" valign=\"top\">CA_1</th>\n      <th>HOBBIES_1</th>\n      <td>0.7047</td>\n    </tr>\n    <tr>\n      <th>HOBBIES_2</th>\n      <td>0.7176</td>\n    </tr>\n    <tr>\n      <th>HOUSEHOLD_1</th>\n      <td>0.3733</td>\n    </tr>\n    <tr>\n      <th>HOUSEHOLD_2</th>\n      <td>0.6859</td>\n    </tr>\n    <tr>\n      <th>FOODS_1</th>\n      <td>0.6755</td>\n    </tr>\n    <tr>\n      <th>FOODS_2</th>\n      <td>0.7744</td>\n    </tr>\n    <tr>\n      <th>FOODS_3</th>\n      <td>0.5715</td>\n    </tr>\n    <tr>\n      <th rowspan=\"7\" valign=\"top\">CA_2</th>\n      <th>HOBBIES_1</th>\n      <td>0.6795</td>\n    </tr>\n    <tr>\n      <th>HOBBIES_2</th>\n      <td>1.5369</td>\n    </tr>\n    <tr>\n      <th>HOUSEHOLD_1</th>\n      <td>0.5772</td>\n    </tr>\n    <tr>\n      <th>HOUSEHOLD_2</th>\n      <td>0.8787</td>\n    </tr>\n    <tr>\n      <th>FOODS_1</th>\n      <td>1.2751</td>\n    </tr>\n    <tr>\n      <th>FOODS_2</th>\n      <td>1.6306</td>\n    </tr>\n    <tr>\n      <th>FOODS_3</th>\n      <td>0.7208</td>\n    </tr>\n    <tr>\n      <th rowspan=\"7\" valign=\"top\">CA_3</th>\n      <th>HOBBIES_1</th>\n      <td>0.5596</td>\n    </tr>\n    <tr>\n      <th>HOBBIES_2</th>\n      <td>1.3369</td>\n    </tr>\n    <tr>\n      <th>HOUSEHOLD_1</th>\n      <td>0.5958</td>\n    </tr>\n    <tr>\n      <th>HOUSEHOLD_2</th>\n      <td>1.0737</td>\n    </tr>\n    <tr>\n      <th>FOODS_1</th>\n      <td>1.2296</td>\n    </tr>\n    <tr>\n      <th>FOODS_2</th>\n      <td>0.5397</td>\n    </tr>\n    <tr>\n      <th>FOODS_3</th>\n      <td>0.5109</td>\n    </tr>\n    <tr>\n      <th rowspan=\"7\" valign=\"top\">CA_4</th>\n      <th>HOBBIES_1</th>\n      <td>1.0998</td>\n    </tr>\n    <tr>\n      <th>HOBBIES_2</th>\n      <td>1.5212</td>\n    </tr>\n    <tr>\n      <th>HOUSEHOLD_1</th>\n      <td>1.2565</td>\n    </tr>\n    <tr>\n      <th>HOUSEHOLD_2</th>\n      <td>1.2729</td>\n    </tr>\n    <tr>\n      <th>FOODS_1</th>\n      <td>1.5578</td>\n    </tr>\n    <tr>\n      <th>FOODS_2</th>\n      <td>0.8750</td>\n    </tr>\n    <tr>\n      <th>FOODS_3</th>\n      <td>0.8486</td>\n    </tr>\n    <tr>\n      <th rowspan=\"7\" valign=\"top\">TX_1</th>\n      <th>HOBBIES_1</th>\n      <td>0.7625</td>\n    </tr>\n    <tr>\n      <th>HOBBIES_2</th>\n      <td>1.3809</td>\n    </tr>\n    <tr>\n      <th>HOUSEHOLD_1</th>\n      <td>0.8403</td>\n    </tr>\n    <tr>\n      <th>HOUSEHOLD_2</th>\n      <td>1.2187</td>\n    </tr>\n    <tr>\n      <th>FOODS_1</th>\n      <td>1.4830</td>\n    </tr>\n    <tr>\n      <th>FOODS_2</th>\n      <td>0.6484</td>\n    </tr>\n    <tr>\n      <th>FOODS_3</th>\n      <td>0.7669</td>\n    </tr>\n    <tr>\n      <th rowspan=\"7\" valign=\"top\">TX_2</th>\n      <th>HOBBIES_1</th>\n      <td>0.8344</td>\n    </tr>\n    <tr>\n      <th>HOBBIES_2</th>\n      <td>1.0724</td>\n    </tr>\n    <tr>\n      <th>HOUSEHOLD_1</th>\n      <td>0.7089</td>\n    </tr>\n    <tr>\n      <th>HOUSEHOLD_2</th>\n      <td>0.5160</td>\n    </tr>\n    <tr>\n      <th>FOODS_1</th>\n      <td>1.0602</td>\n    </tr>\n    <tr>\n      <th>FOODS_2</th>\n      <td>0.6406</td>\n    </tr>\n    <tr>\n      <th>FOODS_3</th>\n      <td>0.5537</td>\n    </tr>\n    <tr>\n      <th rowspan=\"7\" valign=\"top\">TX_3</th>\n      <th>HOBBIES_1</th>\n      <td>0.7057</td>\n    </tr>\n    <tr>\n      <th>HOBBIES_2</th>\n      <td>1.3886</td>\n    </tr>\n    <tr>\n      <th>HOUSEHOLD_1</th>\n      <td>0.8919</td>\n    </tr>\n    <tr>\n      <th>HOUSEHOLD_2</th>\n      <td>1.1623</td>\n    </tr>\n    <tr>\n      <th>FOODS_1</th>\n      <td>1.7153</td>\n    </tr>\n    <tr>\n      <th>FOODS_2</th>\n      <td>1.0512</td>\n    </tr>\n    <tr>\n      <th>FOODS_3</th>\n      <td>0.9709</td>\n    </tr>\n    <tr>\n      <th rowspan=\"7\" valign=\"top\">WI_1</th>\n      <th>HOBBIES_1</th>\n      <td>0.4981</td>\n    </tr>\n    <tr>\n      <th>HOBBIES_2</th>\n      <td>1.0785</td>\n    </tr>\n    <tr>\n      <th>HOUSEHOLD_1</th>\n      <td>0.5807</td>\n    </tr>\n    <tr>\n      <th>HOUSEHOLD_2</th>\n      <td>0.7464</td>\n    </tr>\n    <tr>\n      <th>FOODS_1</th>\n      <td>0.9986</td>\n    </tr>\n    <tr>\n      <th>FOODS_2</th>\n      <td>0.9520</td>\n    </tr>\n    <tr>\n      <th>FOODS_3</th>\n      <td>0.7062</td>\n    </tr>\n    <tr>\n      <th rowspan=\"7\" valign=\"top\">WI_2</th>\n      <th>HOBBIES_1</th>\n      <td>0.7246</td>\n    </tr>\n    <tr>\n      <th>HOBBIES_2</th>\n      <td>1.2962</td>\n    </tr>\n    <tr>\n      <th>HOUSEHOLD_1</th>\n      <td>1.0141</td>\n    </tr>\n    <tr>\n      <th>HOUSEHOLD_2</th>\n      <td>0.8986</td>\n    </tr>\n    <tr>\n      <th>FOODS_1</th>\n      <td>2.5739</td>\n    </tr>\n    <tr>\n      <th>FOODS_2</th>\n      <td>1.4896</td>\n    </tr>\n    <tr>\n      <th>FOODS_3</th>\n      <td>0.8641</td>\n    </tr>\n    <tr>\n      <th rowspan=\"7\" valign=\"top\">WI_3</th>\n      <th>HOBBIES_1</th>\n      <td>0.8809</td>\n    </tr>\n    <tr>\n      <th>HOBBIES_2</th>\n      <td>1.1314</td>\n    </tr>\n    <tr>\n      <th>HOUSEHOLD_1</th>\n      <td>0.7228</td>\n    </tr>\n    <tr>\n      <th>HOUSEHOLD_2</th>\n      <td>0.8550</td>\n    </tr>\n    <tr>\n      <th>FOODS_1</th>\n      <td>1.6744</td>\n    </tr>\n    <tr>\n      <th>FOODS_2</th>\n      <td>0.8274</td>\n    </tr>\n    <tr>\n      <th>FOODS_3</th>\n      <td>0.5258</td>\n    </tr>\n  </tbody>\n</table>\n</div>",
      "text/plain": "                   RMSSE\nCA_1 HOBBIES_1    0.7047\n     HOBBIES_2    0.7176\n     HOUSEHOLD_1  0.3733\n     HOUSEHOLD_2  0.6859\n     FOODS_1      0.6755\n     FOODS_2      0.7744\n     FOODS_3      0.5715\nCA_2 HOBBIES_1    0.6795\n     HOBBIES_2    1.5369\n     HOUSEHOLD_1  0.5772\n     HOUSEHOLD_2  0.8787\n     FOODS_1      1.2751\n     FOODS_2      1.6306\n     FOODS_3      0.7208\nCA_3 HOBBIES_1    0.5596\n     HOBBIES_2    1.3369\n     HOUSEHOLD_1  0.5958\n     HOUSEHOLD_2  1.0737\n     FOODS_1      1.2296\n     FOODS_2      0.5397\n     FOODS_3      0.5109\nCA_4 HOBBIES_1    1.0998\n     HOBBIES_2    1.5212\n     HOUSEHOLD_1  1.2565\n     HOUSEHOLD_2  1.2729\n     FOODS_1      1.5578\n     FOODS_2      0.8750\n     FOODS_3      0.8486\nTX_1 HOBBIES_1    0.7625\n     HOBBIES_2    1.3809\n     HOUSEHOLD_1  0.8403\n     HOUSEHOLD_2  1.2187\n     FOODS_1      1.4830\n     FOODS_2      0.6484\n     FOODS_3      0.7669\nTX_2 HOBBIES_1    0.8344\n     HOBBIES_2    1.0724\n     HOUSEHOLD_1  0.7089\n     HOUSEHOLD_2  0.5160\n     FOODS_1      1.0602\n     FOODS_2      0.6406\n     FOODS_3      0.5537\nTX_3 HOBBIES_1    0.7057\n     HOBBIES_2    1.3886\n     HOUSEHOLD_1  0.8919\n     HOUSEHOLD_2  1.1623\n     FOODS_1      1.7153\n     FOODS_2      1.0512\n     FOODS_3      0.9709\nWI_1 HOBBIES_1    0.4981\n     HOBBIES_2    1.0785\n     HOUSEHOLD_1  0.5807\n     HOUSEHOLD_2  0.7464\n     FOODS_1      0.9986\n     FOODS_2      0.9520\n     FOODS_3      0.7062\nWI_2 HOBBIES_1    0.7246\n     HOBBIES_2    1.2962\n     HOUSEHOLD_1  1.0141\n     HOUSEHOLD_2  0.8986\n     FOODS_1      2.5739\n     FOODS_2      1.4896\n     FOODS_3      0.8641\nWI_3 HOBBIES_1    0.8809\n     HOBBIES_2    1.1314\n     HOUSEHOLD_1  0.7228\n     HOUSEHOLD_2  0.8550\n     FOODS_1      1.6744\n     FOODS_2      0.8274\n     FOODS_3      0.5258"
     },
     "execution_count": 21,
     "metadata": {},
     "output_type": "execute_result"
    }
   ],
   "source": [
    "df_pred_9_morlgb = pd.DataFrame(pred, index=test_df_9.index)\r\n",
    "\r\n",
    "df_res_9_morlgb = rateMyForecast(\r\n",
    "    train_df_9, test_df_9, df_pred_9_morlgb)['RMSSE']\r\n",
    "res[\"MultiOutputRegressor(LGBMRegressor)\"] = df_res_9_morlgb\r\n",
    "\r\n",
    "df_res_9_morlgb.index = pd.MultiIndex.from_tuples(df_res_9_morlgb.index)\r\n",
    "df_res_9_morlgb.to_frame()"
   ]
  },
  {
   "cell_type": "markdown",
   "metadata": {},
   "source": [
    "### Q4. (10 pts.)\n",
    "\n",
    "For all series, generate a 28-step forecast by combining the forecasts generated by the models in Q2 and Q3 (i.e. simple averaging).\n",
    "\n",
    "Calculate the `RMSSE` against the test set, then summarize the metrics in a dataframe and print it."
   ]
  },
  {
   "cell_type": "code",
   "execution_count": null,
   "metadata": {},
   "outputs": [],
   "source": [
    "# Your code here"
   ]
  },
  {
   "cell_type": "markdown",
   "metadata": {},
   "source": [
    "---\n",
    "\n",
    "## Part 3. WRMSSE (10 pts.)"
   ]
  },
  {
   "cell_type": "markdown",
   "metadata": {},
   "source": [
    "### Q5.  (10 pts.)\n",
    "\n",
    "Calculate the `WRMSSE` for the all the methods described above. The weights can be found in `weights_validation.csv`.\n",
    "\n",
    "For reference, the M5 benchmarks have the following `WRMSSE` scores at level 9:\n",
    "\n",
    "- `Naive` = <b>1.764</b>\n",
    "\n",
    "\n",
    "- `S.Naive` = <b>0.888</b>\n",
    "\n",
    "\n",
    "- `ES_bu` = <b>0.728</b>\n",
    "\n",
    "<i>Note: The M5 benchmarks use a bottom-up method for forecasting, so they will not necessarily be equal to your scores.</i>"
   ]
  },
  {
   "cell_type": "code",
   "execution_count": null,
   "metadata": {},
   "outputs": [
    {
     "data": {
      "text/plain": "Naive                    1.6287\nSeasonal Naive           0.9300\nSES                      1.2075\nHolt's Linear            1.2367\nAdditive Holt-Winters    0.8549\ndtype: float64"
     },
     "execution_count": 14,
     "metadata": {},
     "output_type": "execute_result"
    }
   ],
   "source": [
    "(df_res_9_base.rename_axis(['Agg_Level_1', 'Agg_Level_2'])\r\n",
    " .multiply(weights_df_9.squeeze(), axis=0).sum())"
   ]
  },
  {
   "cell_type": "markdown",
   "metadata": {},
   "source": [
    "---\n",
    "\n",
    "## Part 4. Middle-Out Method (30 pts.)"
   ]
  },
  {
   "cell_type": "markdown",
   "metadata": {},
   "source": [
    "### Q6. Bottom-Up (15 pts.)\n",
    "\n",
    "Using your forecasts from the best performing method in Q5, use the bottom-up method described in [FPP3](https://otexts.com/fpp3/single-level.html) to generate forecasts for levels 1 to 8.\n",
    "\n",
    "Calculate the `WRMSSE` for levels 1 to 8 against the test set, then summarize the metrics in a dataframe and print it.\n",
    "\n",
    "For reference, you can find the benchmark `WRMSSE` scores in the `The M5 Accuracy competition: Results, findings and conclusions` paper.\n",
    "\n",
    "<i>Note: The M5 benchmarks use a bottom-up method for forecasting, so they will not necessarily be equal to your scores.</i>"
   ]
  },
  {
   "cell_type": "code",
   "execution_count": null,
   "metadata": {},
   "outputs": [],
   "source": [
    "# Your code here"
   ]
  },
  {
   "cell_type": "markdown",
   "metadata": {},
   "source": [
    "### Q7. Top-Down  (15 pts.)\n",
    "\n",
    "Using your forecasts from the best performing method in Q5, use the top-down method with `average historical proportions` described in [FPP3](https://otexts.com/fpp3/single-level.html) to generate forecasts for levels 10 to 12.\n",
    "\n",
    "Calculate the `WRMSSE` for levels 10 to 12  against the test set, then summarize the metrics in a dataframe and print it.\n",
    "\n",
    "For reference, you can find the benchmark `WRMSSE` scores in the `The M5 Accuracy competition: Results, findings and conclusions` paper.\n",
    "\n",
    "<i>Note: The M5 benchmarks use a bottom-up method for forecasting, so they will not necessarily be equal to your scores.</i>"
   ]
  },
  {
   "cell_type": "code",
   "execution_count": null,
   "metadata": {},
   "outputs": [],
   "source": [
    "# Your code here"
   ]
  }
 ],
 "metadata": {
  "kernelspec": {
   "display_name": "Python 3.8.5 64-bit ('base': conda)",
   "name": "python385jvsc74a57bd008ae71a2a85a5652d8229c397ba8f5798c36e68d48091d60cb62cd9611e9bf61"
  },
  "language_info": {
   "name": "python",
   "version": ""
  },
  "latex_envs": {
   "LaTeX_envs_menu_present": true,
   "autoclose": false,
   "autocomplete": true,
   "bibliofile": "biblio.bib",
   "cite_by": "apalike",
   "current_citInitial": 1,
   "eqLabelWithNumbers": true,
   "eqNumInitial": 1,
   "hotkeys": {
    "equation": "Ctrl-E",
    "itemize": "Ctrl-I"
   },
   "labels_anchors": false,
   "latex_user_defs": false,
   "report_style_numbering": false,
   "user_envs_cfg": false
  },
  "toc": {
   "base_numbering": 1,
   "nav_menu": {},
   "number_sections": true,
   "sideBar": true,
   "skip_h1_title": false,
   "title_cell": "Table of Contents",
   "title_sidebar": "Contents",
   "toc_cell": false,
   "toc_position": {},
   "toc_section_display": true,
   "toc_window_display": false
  },
  "varInspector": {
   "cols": {
    "lenName": 16,
    "lenType": 16,
    "lenVar": 40
   },
   "kernels_config": {
    "python": {
     "delete_cmd_postfix": "",
     "delete_cmd_prefix": "del ",
     "library": "var_list.py",
     "varRefreshCmd": "print(var_dic_list())"
    },
    "r": {
     "delete_cmd_postfix": ") ",
     "delete_cmd_prefix": "rm(",
     "library": "var_list.r",
     "varRefreshCmd": "cat(var_dic_list()) "
    }
   },
   "types_to_exclude": [
    "module",
    "function",
    "builtin_function_or_method",
    "instance",
    "_Feature"
   ],
   "window_display": false
  }
 },
 "nbformat": 4,
 "nbformat_minor": 4
}